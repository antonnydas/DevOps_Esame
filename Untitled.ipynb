{
 "cells": [
  {
   "cell_type": "code",
   "execution_count": null,
   "id": "702a5bb1",
   "metadata": {},
   "outputs": [],
   "source": [
    "import scipy.sparse\n",
    "from sagemaker import image_uris\n",
    "image_uris.retrieve(framework='tensorflow',region='us-east-1',version='1.12.0',image_scope='inference',instance_type='ml.c5.4xlarge')\n"
   ]
  },
  {
   "cell_type": "code",
   "execution_count": null,
   "id": "58a24116",
   "metadata": {},
   "outputs": [],
   "source": [
    "# login all' elastic container registry"
   ]
  },
  {
   "cell_type": "code",
   "execution_count": null,
   "id": "29432d0a",
   "metadata": {},
   "outputs": [],
   "source": [
    "!aws ecr get-login-password --region us-east-1 | docker login --username AWS --password-stdin 520713654638.dkr.ecr.us-east-1.amazonaws.com"
   ]
  },
  {
   "cell_type": "code",
   "execution_count": null,
   "id": "0f6b4987",
   "metadata": {},
   "outputs": [],
   "source": [
    "!docker pull 520713654638.dkr.ecr.us-east-1.amazonaws.com/sagemaker-tensorflow-serving:1.12.0-cpu"
   ]
  },
  {
   "cell_type": "code",
   "execution_count": null,
   "id": "446e9063",
   "metadata": {},
   "outputs": [],
   "source": [
    "import scipy.sparse\n",
    "from sagemaker import image_uris\n",
    "image_uris.retrieve(framework='tensorflow',region='us-east-1',version='2.12.0',image_scope='training',instance_type='ml.c5.4xlarge')\n"
   ]
  },
  {
   "cell_type": "code",
   "execution_count": null,
   "id": "7a726a67",
   "metadata": {},
   "outputs": [],
   "source": [
    "!aws ecr get-login-password --region us-east-1 | docker login --username AWS --password-stdin  763104351884.dkr.ecr.us-east-1.amazonaws.com"
   ]
  },
  {
   "cell_type": "code",
   "execution_count": null,
   "id": "d604f037",
   "metadata": {},
   "outputs": [],
   "source": [
    "# ottenimento del nostro ID utente"
   ]
  },
  {
   "cell_type": "code",
   "execution_count": null,
   "id": "d0937af2",
   "metadata": {},
   "outputs": [],
   "source": [
    "!aws sts get-caller-identity --query \"Account\" --output text"
   ]
  },
  {
   "cell_type": "code",
   "execution_count": null,
   "id": "53726c47",
   "metadata": {},
   "outputs": [],
   "source": [
    "!docker build -t 975050125079.dkr.ecr.us-east-1.amazonaws.com/tensorflow-training  -f Dockerfile.train .\n"
   ]
  },
  {
   "cell_type": "code",
   "execution_count": null,
   "id": "9bfda629",
   "metadata": {},
   "outputs": [],
   "source": [
    "!docker images\n",
    "\n"
   ]
  },
  {
   "cell_type": "code",
   "execution_count": null,
   "id": "9dca2cbe",
   "metadata": {},
   "outputs": [],
   "source": [
    "# training \n",
    "\n",
    "from sagemaker import get_execution_role\n",
    "from sagemaker.estimator import Estimator\n",
    "import os\n",
    "\n",
    "role = get_execution_role()\n",
    "\n",
    "hyperparameters = {'epochs': 1}\n",
    "\n",
    "estimator = Estimator(\n",
    "    image_uri='975050125079.dkr.ecr.us-east-1.amazonaws.com/tensorflow-training',\n",
    "    role=role,\n",
    "    instance_count=1,\n",
    "    instance_type='local',\n",
    "    hyperparameters=hyperparameters,\n",
    "    output_path=f'file://{os.getcwd()}/data/output'\n",
    ")\n",
    "\n",
    "print('##### ESTIMATOR FIT STARTED')\n",
    "estimator.fit(f'file://{os.getcwd()}/data/input/train.csv')\n",
    "print('##### ESTIMATOR FIT COMPLETED')\n"
   ]
  },
  {
   "cell_type": "code",
   "execution_count": 63,
   "id": "fd0e02c6",
   "metadata": {},
   "outputs": [],
   "source": [
    "# compressione dei file nelle cartelle zippate"
   ]
  },
  {
   "cell_type": "code",
   "execution_count": null,
   "id": "862f8f74",
   "metadata": {},
   "outputs": [],
   "source": [
    "!tar -xzf data/output/output.tar.gz"
   ]
  },
  {
   "cell_type": "code",
   "execution_count": null,
   "id": "cd9054c6",
   "metadata": {},
   "outputs": [],
   "source": [
    "!tar -xzf ./data/output/model.tar.gz"
   ]
  },
  {
   "cell_type": "code",
   "execution_count": null,
   "id": "e048dd40",
   "metadata": {},
   "outputs": [],
   "source": [
    "!pip install tensorflow==2.12.0"
   ]
  },
  {
   "cell_type": "code",
   "execution_count": null,
   "id": "b0c07dd0",
   "metadata": {},
   "outputs": [],
   "source": [
    "os.getcwd()"
   ]
  },
  {
   "cell_type": "code",
   "execution_count": null,
   "id": "7e06755d",
   "metadata": {},
   "outputs": [],
   "source": [
    "%%bash\n",
    "\n",
    "# Script to create an ECR repository for a Docker image\n",
    "\n",
    "# Specify an image name\n",
    "image_name=\"tensorflow-training\"\n",
    "echo \"image_name: ${image_name} ######################\"\n",
    "\n",
    "# Get the AWS account ID\n",
    "account=$(aws sts get-caller-identity --query Account --output text)\n",
    "if [ $? -ne 0 ]; then\n",
    "    echo \"Error getting account ID. Please check your AWS credentials.\"\n",
    "    exit 1\n",
    "fi\n",
    "echo \"account: ${account} ######################\"\n",
    "\n",
    "# Get the region defined in the current configuration (default to us-west-2 if none defined)\n",
    "region=$(aws configure get region)\n",
    "if [ -z \"$region\" ]; then\n",
    "    region=\"us-west-2\"\n",
    "fi\n",
    "echo \"region: ${region} ######################\"\n",
    "\n",
    "fullname=\"${account}.dkr.ecr.${region}.amazonaws.com/${image_name}:latest\"\n",
    "echo \"fullname: ${fullname} ######################\"\n",
    "\n",
    "# Check if the repository exists\n",
    "if aws ecr describe-repositories --repository-names \"${image_name}\" >/dev/null 2>&1; then\n",
    "    echo \"Repository '${image_name}' already exists.\"\n",
    "else\n",
    "    if aws ecr create-repository --repository-name \"${image_name}\"; then\n",
    "        echo \"Repository '${image_name}' created.\"\n",
    "    else\n",
    "        echo \"Failed to create repository '${image_name}'.\"\n",
    "        exit 1\n",
    "    fi\n",
    "fi"
   ]
  },
  {
   "cell_type": "code",
   "execution_count": null,
   "id": "db3b9099",
   "metadata": {},
   "outputs": [],
   "source": [
    "!docker images"
   ]
  },
  {
   "cell_type": "code",
   "execution_count": 64,
   "id": "dd391a97",
   "metadata": {},
   "outputs": [],
   "source": [
    "# Push del container sistemato"
   ]
  },
  {
   "cell_type": "code",
   "execution_count": null,
   "id": "a54988db",
   "metadata": {},
   "outputs": [],
   "source": [
    "!docker push  975050125079.dkr.ecr.us-east-1.amazonaws.com/tensorflow-training:latest"
   ]
  }
 ],
 "metadata": {
  "kernelspec": {
   "display_name": "conda_python3",
   "language": "python",
   "name": "conda_python3"
  },
  "language_info": {
   "codemirror_mode": {
    "name": "ipython",
    "version": 3
   },
   "file_extension": ".py",
   "mimetype": "text/x-python",
   "name": "python",
   "nbconvert_exporter": "python",
   "pygments_lexer": "ipython3",
   "version": "3.10.15"
  }
 },
 "nbformat": 4,
 "nbformat_minor": 5
}
