{
 "cells": [
  {
   "cell_type": "markdown",
   "id": "3ef37367",
   "metadata": {},
   "source": [
    "# caricamento immagine per inferenza"
   ]
  },
  {
   "cell_type": "code",
   "execution_count": 1,
   "id": "3a17b1f0",
   "metadata": {},
   "outputs": [
    {
     "name": "stdout",
     "output_type": "stream",
     "text": [
      "sagemaker.config INFO - Not applying SDK defaults from location: /etc/xdg/sagemaker/config.yaml\n",
      "sagemaker.config INFO - Not applying SDK defaults from location: /home/ec2-user/.config/sagemaker/config.yaml\n"
     ]
    },
    {
     "data": {
      "text/plain": [
       "'520713654638.dkr.ecr.us-east-1.amazonaws.com/sagemaker-tensorflow-serving:1.12.0-cpu'"
      ]
     },
     "execution_count": 1,
     "metadata": {},
     "output_type": "execute_result"
    }
   ],
   "source": [
    "import scipy.sparse\n",
    "from sagemaker import image_uris\n",
    "image_uris.retrieve(framework='tensorflow',region='us-east-1',version='1.12.0',image_scope='inference',instance_type='ml.c5.4xlarge')\n",
    "    "
   ]
  },
  {
   "cell_type": "code",
   "execution_count": null,
   "id": "35370f7c",
   "metadata": {},
   "outputs": [],
   "source": [
    "# login all' elastic container registry con Entrambi i container"
   ]
  },
  {
   "cell_type": "code",
   "execution_count": 89,
   "id": "196f44b4",
   "metadata": {},
   "outputs": [
    {
     "name": "stdout",
     "output_type": "stream",
     "text": [
      "WARNING! Your password will be stored unencrypted in /home/ec2-user/.docker/config.json.\n",
      "Configure a credential helper to remove this warning. See\n",
      "https://docs.docker.com/engine/reference/commandline/login/#credentials-store\n",
      "\n",
      "Login Succeeded\n"
     ]
    }
   ],
   "source": [
    "!aws ecr get-login-password --region us-east-1 | docker login --username AWS --password-stdin 520713654638.dkr.ecr.us-east-1.amazonaws.com/sagemaker-tensorflow-serving:1.12.0-cpu"
   ]
  },
  {
   "cell_type": "code",
   "execution_count": 4,
   "id": "4b4cbb09",
   "metadata": {},
   "outputs": [
    {
     "name": "stdout",
     "output_type": "stream",
     "text": [
      "1.12.0-cpu: Pulling from sagemaker-tensorflow-serving\n",
      "\n",
      "\u001b[1B8f4ce990: Pulling fs layer \n",
      "\u001b[1B282d9c4b: Pulling fs layer \n",
      "\u001b[1B3db6dc03: Pulling fs layer \n",
      "\u001b[1Bc605f3f1: Pulling fs layer \n",
      "\u001b[1B10487652: Pulling fs layer \n",
      "\u001b[1Bdde97789: Pulling fs layer \n",
      "\u001b[1Bb514193e: Pulling fs layer \n",
      "\u001b[1B9f2d3d2a: Pulling fs layer \n",
      "\u001b[1BDigest: sha256:026c2a51a2e9e258481b17c110f9c9640dc010bf71463d4bd31e925ced7c6a49\u001b[2K\u001b[5A\u001b[2K\u001b[9A\u001b[2K\u001b[3A\u001b[2K\u001b[9A\u001b[2K\u001b[3A\u001b[2K\u001b[9A\u001b[2K\u001b[3A\u001b[2K\u001b[9A\u001b[2K\u001b[3A\u001b[2K\u001b[3A\u001b[2K\u001b[9A\u001b[2K\u001b[2A\u001b[2K\u001b[1A\u001b[2K\u001b[9A\u001b[2K\u001b[9A\u001b[2K\u001b[9A\u001b[2K\u001b[9A\u001b[2K\u001b[9A\u001b[2K\u001b[9A\u001b[2K\u001b[9A\u001b[2K\u001b[9A\u001b[2K\u001b[9A\u001b[2K\u001b[9A\u001b[2K\u001b[9A\u001b[2K\u001b[9A\u001b[2K\u001b[9A\u001b[2K\u001b[9A\u001b[2K\u001b[9A\u001b[2K\u001b[9A\u001b[2K\u001b[9A\u001b[2K\u001b[9A\u001b[2K\u001b[9A\u001b[2K\u001b[9A\u001b[2K\u001b[9A\u001b[2K\u001b[8A\u001b[2K\u001b[7A\u001b[2K\u001b[5A\u001b[2K\u001b[5A\u001b[2K\u001b[5A\u001b[2K\u001b[5A\u001b[2K\u001b[5A\u001b[2K\u001b[5A\u001b[2K\u001b[5A\u001b[2K\u001b[5A\u001b[2K\u001b[5A\u001b[2K\u001b[4A\u001b[2K\u001b[4A\u001b[2K\u001b[4A\u001b[2K\u001b[4A\u001b[2K\u001b[4A\u001b[2K\u001b[4A\u001b[2K\u001b[4A\u001b[2K\u001b[4A\u001b[2K\u001b[4A\u001b[2K\u001b[4A\u001b[2K\u001b[4A\u001b[2K\u001b[4A\u001b[2K\u001b[4A\u001b[2K\u001b[4A\u001b[2K\u001b[4A\u001b[2K\u001b[3A\u001b[2K\u001b[3A\u001b[2K\u001b[3A\u001b[2K\u001b[3A\u001b[2K\u001b[3A\u001b[2K\u001b[3A\u001b[2K\u001b[3A\u001b[2K\u001b[3A\u001b[2K\u001b[3A\u001b[2K\u001b[3A\u001b[2K\u001b[3A\u001b[2K\u001b[3A\u001b[2K\u001b[3A\u001b[2K\u001b[1A\u001b[2K\n",
      "Status: Downloaded newer image for 520713654638.dkr.ecr.us-east-1.amazonaws.com/sagemaker-tensorflow-serving:1.12.0-cpu\n",
      "520713654638.dkr.ecr.us-east-1.amazonaws.com/sagemaker-tensorflow-serving:1.12.0-cpu\n"
     ]
    }
   ],
   "source": [
    "!docker pull 520713654638.dkr.ecr.us-east-1.amazonaws.com/sagemaker-tensorflow-serving:1.12.0-cpu"
   ]
  },
  {
   "cell_type": "markdown",
   "id": "04615fe6",
   "metadata": {},
   "source": [
    "# caricamento immagine per il training"
   ]
  },
  {
   "cell_type": "code",
   "execution_count": 15,
   "id": "9e8f52f4",
   "metadata": {},
   "outputs": [
    {
     "data": {
      "text/plain": [
       "'763104351884.dkr.ecr.us-east-1.amazonaws.com/tensorflow-training:2.12.0-cpu-py310'"
      ]
     },
     "execution_count": 15,
     "metadata": {},
     "output_type": "execute_result"
    }
   ],
   "source": [
    "import scipy.sparse\n",
    "from sagemaker import image_uris\n",
    "image_uris.retrieve(framework='tensorflow',region='us-east-1',version='2.12.0',image_scope='training',instance_type='ml.c5.4xlarge')\n"
   ]
  },
  {
   "cell_type": "code",
   "execution_count": 18,
   "id": "9b7fd857",
   "metadata": {},
   "outputs": [
    {
     "name": "stdout",
     "output_type": "stream",
     "text": [
      "WARNING! Your password will be stored unencrypted in /home/ec2-user/.docker/config.json.\n",
      "Configure a credential helper to remove this warning. See\n",
      "https://docs.docker.com/engine/reference/commandline/login/#credentials-store\n",
      "\n",
      "Login Succeeded\n"
     ]
    }
   ],
   "source": [
    "!aws ecr get-login-password --region us-east-1 | docker login --username AWS --password-stdin  763104351884.dkr.ecr.us-east-1.amazonaws.com/tensorflow-training:2.12.0-cpu-py310"
   ]
  },
  {
   "cell_type": "markdown",
   "id": "d85d8594",
   "metadata": {},
   "source": [
    "# Build dell'immagine training"
   ]
  },
  {
   "cell_type": "code",
   "execution_count": null,
   "id": "f9307695",
   "metadata": {},
   "outputs": [],
   "source": [
    "!docker build -t 719055683367.dkr.ecr.us-east-1.amazonaws.com/tensorflow-training:latest  -f Dockerfile.train . "
   ]
  },
  {
   "cell_type": "code",
   "execution_count": 21,
   "id": "41a86248",
   "metadata": {},
   "outputs": [
    {
     "name": "stdout",
     "output_type": "stream",
     "text": [
      "image_name: tensorflow-training ######################\n",
      "account: 719055683367 ######################\n",
      "region: us-east-1 ######################\n",
      "fullname: 719055683367.dkr.ecr.us-east-1.amazonaws.com/tensorflow-training:latest ######################\n",
      "Repository 'tensorflow-training' already exists.\n"
     ]
    }
   ],
   "source": [
    "%%bash\n",
    "\n",
    "image_name=\"tensorflow-training\"\n",
    "echo \"image_name: ${image_name} ######################\"\n",
    "\n",
    "account=$(aws sts get-caller-identity --query Account --output text)\n",
    "if [ $? -ne 0 ]; then\n",
    "    echo \"Error getting account ID. Please check your AWS credentials.\"\n",
    "    exit 1\n",
    "fi\n",
    "echo \"account: ${account} ######################\"\n",
    "\n",
    "region=$(aws configure get region)\n",
    "if [ -z \"$region\" ]; then\n",
    "    region=\"us-west-2\"\n",
    "fi\n",
    "echo \"region: ${region} ######################\"\n",
    "\n",
    "fullname=\"${account}.dkr.ecr.${region}.amazonaws.com/${image_name}:latest\"\n",
    "echo \"fullname: ${fullname} ######################\"\n",
    "\n",
    "if aws ecr describe-repositories --repository-names \"${image_name}\" >/dev/null 2>&1; then\n",
    "    echo \"Repository '${image_name}' already exists.\"\n",
    "else\n",
    "    if aws ecr create-repository --repository-name \"${image_name}\"; then\n",
    "        echo \"Repository '${image_name}' created.\"\n",
    "    else\n",
    "        echo \"Failed to create repository '${image_name}'.\"\n",
    "        exit 1\n",
    "    fi\n",
    "fi"
   ]
  },
  {
   "cell_type": "code",
   "execution_count": 27,
   "id": "fa280e93",
   "metadata": {},
   "outputs": [
    {
     "name": "stdout",
     "output_type": "stream",
     "text": [
      "WARNING! Your password will be stored unencrypted in /home/ec2-user/.docker/config.json.\n",
      "Configure a credential helper to remove this warning. See\n",
      "https://docs.docker.com/engine/reference/commandline/login/#credentials-store\n",
      "\n",
      "Login Succeeded\n"
     ]
    }
   ],
   "source": [
    "!aws ecr get-login-password --region us-east-1 | docker login --username AWS --password-stdin 719055683367.dkr.ecr.us-east-1.amazonaws.com/tensorflow-training:latest"
   ]
  },
  {
   "cell_type": "code",
   "execution_count": 25,
   "id": "eb3437b9",
   "metadata": {},
   "outputs": [
    {
     "name": "stdout",
     "output_type": "stream",
     "text": [
      "REPOSITORY                                                                  TAG                IMAGE ID       CREATED              SIZE\n",
      "719055683367.dkr.ecr.us-east-1.amazonaws.com/tensorflow-training            latest             d734c53a0901   38 seconds ago       8.73GB\n",
      "763104351884.dkr.ecr.us-east-1.amazonaws.com/tensorflow-training            2.12.0-cpu-py310   372f61a2285a   About a minute ago   8.73GB\n",
      "<none>                                                                      <none>             efc3524cb9cd   5 minutes ago        8.73GB\n",
      "520713654638.dkr.ecr.us-east-1.amazonaws.com/sagemaker-tensorflow-serving   1.12.0-cpu         27aee10a9f6a   5 years ago          377MB\n"
     ]
    }
   ],
   "source": [
    "!docker images"
   ]
  },
  {
   "cell_type": "code",
   "execution_count": 28,
   "id": "f4c81ce6",
   "metadata": {},
   "outputs": [
    {
     "name": "stdout",
     "output_type": "stream",
     "text": [
      "Using default tag: latest\n",
      "The push refers to repository [719055683367.dkr.ecr.us-east-1.amazonaws.com/tensorflow-training]\n",
      "\n",
      "\u001b[1Be6441525: Preparing \n",
      "\u001b[1Bb5e99d14: Preparing \n",
      "\u001b[1B20a535a7: Preparing \n",
      "\u001b[1B7de5b0d3: Preparing \n",
      "\u001b[1B43353cc2: Preparing \n",
      "\u001b[1B6047d5a0: Preparing \n",
      "\u001b[1B3a3697d2: Preparing \n",
      "\u001b[1B5942e276: Preparing \n",
      "\u001b[1Bd67462b4: Preparing \n",
      "\u001b[1B22878ecf: Preparing \n",
      "\u001b[1Bdb4f6696: Preparing \n",
      "\u001b[1Bf529ae49: Preparing \n",
      "\u001b[1B75f13e59: Preparing \n",
      "\u001b[1B0c6c24f9: Preparing \n",
      "\u001b[1Ba1e64371: Preparing \n",
      "\u001b[1B29631b13: Preparing \n",
      "\u001b[1B3f03efd0: Preparing \n",
      "\u001b[1B9b75d5ee: Preparing \n",
      "\u001b[1B370de786: Preparing \n",
      "\u001b[1Ba16f1a7a: Preparing \n",
      "\u001b[1Bfc8740d1: Preparing \n",
      "\u001b[1B292691fc: Preparing \n",
      "\u001b[1B6672bf9d: Preparing \n",
      "\u001b[1B607be3da: Preparing \n",
      "\u001b[1Bafc9b360: Preparing \n",
      "\u001b[21B047d5a0: Waiting g \n",
      "\u001b[11Bf03efd0: Waiting g \n",
      "\u001b[21B942e276: Waiting g \n",
      "\u001b[11B70de786: Waiting g \n",
      "\u001b[10Bc8740d1: Waiting g \n",
      "\u001b[10B92691fc: Waiting g \n",
      "\u001b[8Bafc9b360: Waiting g \n",
      "\u001b[1Becb4bd81: Preparing \n",
      "\u001b[11B07be3da: Waiting g \n",
      "\u001b[10B934e4df: Waiting g \n",
      "\u001b[10B0a2a6eb: Waiting g \n",
      "\u001b[26B529ae49: Waiting g \n",
      "\u001b[10Bd109c54: Waiting g \n",
      "\u001b[20B16f1a7a: Pushed   2.248GB/2.217GB\u001b[37A\u001b[2K\u001b[36A\u001b[2K\u001b[34A\u001b[2K\u001b[33A\u001b[2K\u001b[30A\u001b[2K\u001b[32A\u001b[2K\u001b[34A\u001b[2K\u001b[32A\u001b[2K\u001b[32A\u001b[2K\u001b[30A\u001b[2K\u001b[27A\u001b[2K\u001b[29A\u001b[2K\u001b[26A\u001b[2K\u001b[29A\u001b[2K\u001b[26A\u001b[2K\u001b[29A\u001b[2K\u001b[26A\u001b[2K\u001b[29A\u001b[2K\u001b[26A\u001b[2K\u001b[25A\u001b[2K\u001b[26A\u001b[2K\u001b[24A\u001b[2K\u001b[26A\u001b[2K\u001b[24A\u001b[2K\u001b[32A\u001b[2K\u001b[24A\u001b[2K\u001b[26A\u001b[2K\u001b[25A\u001b[2K\u001b[32A\u001b[2K\u001b[24A\u001b[2K\u001b[32A\u001b[2K\u001b[23A\u001b[2K\u001b[24A\u001b[2K\u001b[23A\u001b[2K\u001b[22A\u001b[2K\u001b[32A\u001b[2K\u001b[23A\u001b[2K\u001b[22A\u001b[2K\u001b[23A\u001b[2K\u001b[32A\u001b[2K\u001b[24A\u001b[2K\u001b[22A\u001b[2K\u001b[24A\u001b[2K\u001b[22A\u001b[2K\u001b[24A\u001b[2K\u001b[22A\u001b[2K\u001b[23A\u001b[2K\u001b[24A\u001b[2K\u001b[23A\u001b[2K\u001b[22A\u001b[2K\u001b[23A\u001b[2K\u001b[24A\u001b[2K\u001b[32A\u001b[2K\u001b[24A\u001b[2K\u001b[32A\u001b[2K\u001b[32A\u001b[2K\u001b[32A\u001b[2K\u001b[32A\u001b[2K\u001b[21A\u001b[2K\u001b[22A\u001b[2K\u001b[22A\u001b[2K\u001b[24A\u001b[2K\u001b[32A\u001b[2K\u001b[24A\u001b[2K\u001b[21A\u001b[2K\u001b[22A\u001b[2K\u001b[23A\u001b[2K\u001b[32A\u001b[2K\u001b[24A\u001b[2K\u001b[32A\u001b[2K\u001b[24A\u001b[2K\u001b[23A\u001b[2K\u001b[22A\u001b[2K\u001b[23A\u001b[2K\u001b[22A\u001b[2K\u001b[21A\u001b[2K\u001b[22A\u001b[2K\u001b[32A\u001b[2K\u001b[23A\u001b[2K\u001b[32A\u001b[2K\u001b[21A\u001b[2K\u001b[23A\u001b[2K\u001b[24A\u001b[2K\u001b[21A\u001b[2K\u001b[24A\u001b[2K\u001b[21A\u001b[2K\u001b[23A\u001b[2K\u001b[32A\u001b[2K\u001b[23A\u001b[2K\u001b[21A\u001b[2K\u001b[32A\u001b[2K\u001b[32A\u001b[2K\u001b[22A\u001b[2K\u001b[32A\u001b[2K\u001b[22A\u001b[2K\u001b[32A\u001b[2K\u001b[22A\u001b[2K\u001b[23A\u001b[2K\u001b[22A\u001b[2K\u001b[24A\u001b[2K\u001b[22A\u001b[2K\u001b[24A\u001b[2K\u001b[32A\u001b[2K\u001b[22A\u001b[2K\u001b[32A\u001b[2K\u001b[22A\u001b[2K\u001b[24A\u001b[2K\u001b[22A\u001b[2K\u001b[21A\u001b[2K\u001b[22A\u001b[2K\u001b[21A\u001b[2K\u001b[23A\u001b[2K\u001b[22A\u001b[2K\u001b[23A\u001b[2K\u001b[24A\u001b[2K\u001b[23A\u001b[2K\u001b[22A\u001b[2K\u001b[32A\u001b[2K\u001b[22A\u001b[2K\u001b[23A\u001b[2K\u001b[23A\u001b[2K\u001b[24A\u001b[2K\u001b[23A\u001b[2K\u001b[22A\u001b[2K\u001b[23A\u001b[2K\u001b[32A\u001b[2K\u001b[23A\u001b[2K\u001b[22A\u001b[2K\u001b[23A\u001b[2K\u001b[22A\u001b[2K\u001b[21A\u001b[2K\u001b[24A\u001b[2K\u001b[21A\u001b[2K\u001b[32A\u001b[2K\u001b[23A\u001b[2K\u001b[32A\u001b[2K\u001b[23A\u001b[2K\u001b[22A\u001b[2K\u001b[32A\u001b[2K\u001b[23A\u001b[2K\u001b[32A\u001b[2K\u001b[22A\u001b[2K\u001b[32A\u001b[2K\u001b[21A\u001b[2K\u001b[22A\u001b[2K\u001b[21A\u001b[2K\u001b[24A\u001b[2K\u001b[21A\u001b[2K\u001b[22A\u001b[2K\u001b[21A\u001b[2K\u001b[32A\u001b[2K\u001b[24A\u001b[2K\u001b[23A\u001b[2K\u001b[24A\u001b[2K\u001b[23A\u001b[2K\u001b[21A\u001b[2K\u001b[24A\u001b[2K\u001b[23A\u001b[2K\u001b[24A\u001b[2K\u001b[23A\u001b[2K\u001b[21A\u001b[2K\u001b[24A\u001b[2K\u001b[21A\u001b[2K\u001b[32A\u001b[2K\u001b[32A\u001b[2K\u001b[32A\u001b[2K\u001b[21A\u001b[2K\u001b[22A\u001b[2K\u001b[32A\u001b[2K\u001b[32A\u001b[2K\u001b[24A\u001b[2K\u001b[32A\u001b[2K\u001b[23A\u001b[2K\u001b[24A\u001b[2K\u001b[23A\u001b[2K\u001b[21A\u001b[2K\u001b[23A\u001b[2K\u001b[24A\u001b[2K\u001b[20A\u001b[2K\u001b[32A\u001b[2K\u001b[24A\u001b[2K\u001b[21A\u001b[2K\u001b[23A\u001b[2K\u001b[21A\u001b[2K\u001b[23A\u001b[2K\u001b[21A\u001b[2K\u001b[20A\u001b[2K\u001b[20A\u001b[2K\u001b[32A\u001b[2K\u001b[23A\u001b[2K\u001b[21A\u001b[2K\u001b[20A\u001b[2K\u001b[21A\u001b[2K\u001b[23A\u001b[2K\u001b[23A\u001b[2K\u001b[32A\u001b[2K\u001b[21A\u001b[2K\u001b[32A\u001b[2K\u001b[21A\u001b[2K\u001b[24A\u001b[2K\u001b[20A\u001b[2K\u001b[23A\u001b[2K\u001b[24A\u001b[2K\u001b[21A\u001b[2K\u001b[24A\u001b[2K\u001b[23A\u001b[2K\u001b[32A\u001b[2K\u001b[20A\u001b[2K\u001b[32A\u001b[2K\u001b[24A\u001b[2K\u001b[32A\u001b[2K\u001b[21A\u001b[2K\u001b[32A\u001b[2K\u001b[24A\u001b[2K\u001b[32A\u001b[2K\u001b[32A\u001b[2K\u001b[32A\u001b[2K\u001b[21A\u001b[2K\u001b[32A\u001b[2K\u001b[21A\u001b[2K\u001b[32A\u001b[2K\u001b[23A\u001b[2K\u001b[20A\u001b[2K\u001b[23A\u001b[2K\u001b[21A\u001b[2K\u001b[23A\u001b[2K\u001b[32A\u001b[2K\u001b[23A\u001b[2K\u001b[32A\u001b[2K\u001b[21A\u001b[2K\u001b[32A\u001b[2K\u001b[21A\u001b[2K\u001b[32A\u001b[2K\u001b[21A\u001b[2K\u001b[32A\u001b[2K\u001b[23A\u001b[2K\u001b[21A\u001b[2K\u001b[23A\u001b[2K\u001b[32A\u001b[2K\u001b[23A\u001b[2K\u001b[32A\u001b[2K\u001b[23A\u001b[2K\u001b[20A\u001b[2K\u001b[23A\u001b[2K\u001b[21A\u001b[2K\u001b[23A\u001b[2K\u001b[21A\u001b[2K\u001b[32A\u001b[2K\u001b[20A\u001b[2K\u001b[32A\u001b[2K\u001b[23A\u001b[2K\u001b[32A\u001b[2K\u001b[32A\u001b[2K\u001b[21A\u001b[2K\u001b[32A\u001b[2K\u001b[20A\u001b[2K\u001b[32A\u001b[2K\u001b[24A\u001b[2K\u001b[21A\u001b[2K\u001b[23A\u001b[2K\u001b[21A\u001b[2K\u001b[20A\u001b[2K\u001b[23A\u001b[2K\u001b[24A\u001b[2K\u001b[23A\u001b[2K\u001b[21A\u001b[2K\u001b[32A\u001b[2K\u001b[23A\u001b[2K\u001b[32A\u001b[2K\u001b[24A\u001b[2K\u001b[32A\u001b[2K\u001b[23A\u001b[2K\u001b[32A\u001b[2K\u001b[24A\u001b[2K\u001b[23A\u001b[2K\u001b[23A\u001b[2K\u001b[24A\u001b[2K\u001b[23A\u001b[2K\u001b[21A\u001b[2K\u001b[23A\u001b[2K\u001b[32A\u001b[2K\u001b[23A\u001b[2K\u001b[21A\u001b[2K\u001b[23A\u001b[2K\u001b[20A\u001b[2K\u001b[32A\u001b[2K\u001b[32A\u001b[2K\u001b[20A\u001b[2K\u001b[32A\u001b[2K\u001b[21A\u001b[2K\u001b[32A\u001b[2K\u001b[23A\u001b[2K\u001b[32A\u001b[2K\u001b[24A\u001b[2K\u001b[20A\u001b[2K\u001b[21A\u001b[2K\u001b[24A\u001b[2K\u001b[21A\u001b[2K\u001b[23A\u001b[2K\u001b[20A\u001b[2K\u001b[23A\u001b[2K\u001b[21A\u001b[2K\u001b[20A\u001b[2K\u001b[24A\u001b[2K\u001b[20A\u001b[2K\u001b[23A\u001b[2K\u001b[21A\u001b[2K\u001b[23A\u001b[2K\u001b[21A\u001b[2K\u001b[23A\u001b[2K\u001b[20A\u001b[2K\u001b[32A\u001b[2K\u001b[21A\u001b[2K\u001b[20A\u001b[2K\u001b[23A\u001b[2K\u001b[21A\u001b[2K\u001b[23A\u001b[2K\u001b[21A\u001b[2K\u001b[20A\u001b[2K\u001b[21A\u001b[2K\u001b[20A\u001b[2K\u001b[24A\u001b[2K\u001b[32A\u001b[2K\u001b[23A\u001b[2K\u001b[32A\u001b[2K\u001b[23A\u001b[2K\u001b[24A\u001b[2K\u001b[32A\u001b[2K\u001b[20A\u001b[2K\u001b[23A\u001b[2K\u001b[20A\u001b[2K\u001b[21A\u001b[2K\u001b[21A\u001b[2K\u001b[20A\u001b[2K\u001b[21A\u001b[2K\u001b[23A\u001b[2K\u001b[32A\u001b[2K\u001b[23A\u001b[2K\u001b[32A\u001b[2K\u001b[21A\u001b[2K\u001b[20A\u001b[2K\u001b[21A\u001b[2K\u001b[20A\u001b[2K\u001b[21A\u001b[2K\u001b[20A\u001b[2K\u001b[23A\u001b[2K\u001b[21A\u001b[2K\u001b[20A\u001b[2K\u001b[21A\u001b[2K\u001b[32A\u001b[2K\u001b[23A\u001b[2K\u001b[32A\u001b[2K\u001b[21A\u001b[2K\u001b[32A\u001b[2K\u001b[32A\u001b[2K\u001b[23A\u001b[2K\u001b[32A\u001b[2K\u001b[21A\u001b[2K\u001b[32A\u001b[2K\u001b[21A\u001b[2K\u001b[23A\u001b[2K\u001b[32A\u001b[2K\u001b[20A\u001b[2K\u001b[32A\u001b[2K\u001b[20A\u001b[2K\u001b[23A\u001b[2K\u001b[20A\u001b[2K\u001b[23A\u001b[2K\u001b[21A\u001b[2K\u001b[21A\u001b[2K\u001b[23A\u001b[2K\u001b[21A\u001b[2K\u001b[32A\u001b[2K\u001b[21A\u001b[2K\u001b[20A\u001b[2K\u001b[21A\u001b[2K\u001b[20A\u001b[2K\u001b[21A\u001b[2K\u001b[20A\u001b[2K\u001b[32A\u001b[2K\u001b[24A\u001b[2K\u001b[32A\u001b[2K\u001b[21A\u001b[2K\u001b[32A\u001b[2K\u001b[23A\u001b[2K\u001b[20A\u001b[2K\u001b[24A\u001b[2K\u001b[20A\u001b[2K\u001b[24A\u001b[2K\u001b[20A\u001b[2K\u001b[23A\u001b[2K\u001b[21A\u001b[2K\u001b[24A\u001b[2K\u001b[21A\u001b[2K\u001b[24A\u001b[2K\u001b[21A\u001b[2K\u001b[20A\u001b[2K\u001b[24A\u001b[2K\u001b[21A\u001b[2K\u001b[20A\u001b[2K\u001b[21A\u001b[2K\u001b[24A\u001b[2K\u001b[21A\u001b[2K\u001b[32A\u001b[2K\u001b[21A\u001b[2K\u001b[32A\u001b[2K\u001b[24A\u001b[2K\u001b[21A\u001b[2K\u001b[20A\u001b[2K\u001b[24A\u001b[2K\u001b[21A\u001b[2K\u001b[32A\u001b[2K\u001b[21A\u001b[2K\u001b[20A\u001b[2K\u001b[21A\u001b[2K\u001b[24A\u001b[2K\u001b[32A\u001b[2K\u001b[20A\u001b[2K\u001b[21A\u001b[2K\u001b[20A\u001b[2K\u001b[24A\u001b[2K\u001b[21A\u001b[2K\u001b[24A\u001b[2K\u001b[32A\u001b[2K\u001b[20A\u001b[2K\u001b[24A\u001b[2K\u001b[23A\u001b[2K\u001b[21A\u001b[2K\u001b[32A\u001b[2K\u001b[32A\u001b[2K\u001b[24A\u001b[2K\u001b[32A\u001b[2K\u001b[20A\u001b[2K\u001b[24A\u001b[2K\u001b[20A\u001b[2K\u001b[21A\u001b[2K\u001b[20A\u001b[2K\u001b[21A\u001b[2K\u001b[20A\u001b[2K\u001b[32A\u001b[2K\u001b[32A\u001b[2K\u001b[32A\u001b[2K\u001b[20A\u001b[2K\u001b[32A\u001b[2K\u001b[24A\u001b[2K\u001b[32A\u001b[2K\u001b[21A\u001b[2K\u001b[23A\u001b[2K\u001b[20A\u001b[2K\u001b[32A\u001b[2K\u001b[20A\u001b[2K\u001b[24A\u001b[2K\u001b[20A\u001b[2K\u001b[24A\u001b[2K\u001b[32A\u001b[2K\u001b[20A\u001b[2K\u001b[32A\u001b[2K\u001b[20A\u001b[2K\u001b[24A\u001b[2K\u001b[20A\u001b[2K\u001b[21A\u001b[2K\u001b[24A\u001b[2K\u001b[32A\u001b[2K\u001b[24A\u001b[2K\u001b[20A\u001b[2K\u001b[21A\u001b[2K\u001b[24A\u001b[2K\u001b[21A\u001b[2K\u001b[32A\u001b[2K\u001b[24A\u001b[2K\u001b[32A\u001b[2K\u001b[32A\u001b[2K\u001b[20A\u001b[2K\u001b[32A\u001b[2K\u001b[21A\u001b[2K\u001b[20A\u001b[2K\u001b[23A\u001b[2K\u001b[20A\u001b[2K\u001b[24A\u001b[2K\u001b[32A\u001b[2K\u001b[21A\u001b[2K\u001b[24A\u001b[2K\u001b[21A\u001b[2K\u001b[24A\u001b[2K\u001b[20A\u001b[2K\u001b[32A\u001b[2K\u001b[32A\u001b[2K\u001b[20A\u001b[2K\u001b[32A\u001b[2K\u001b[21A\u001b[2K\u001b[32A\u001b[2K\u001b[24A\u001b[2K\u001b[21A\u001b[2K\u001b[21A\u001b[2K\u001b[32A\u001b[2K\u001b[20A\u001b[2K\u001b[32A\u001b[2K\u001b[23A\u001b[2K\u001b[24A\u001b[2K\u001b[32A\u001b[2K\u001b[24A\u001b[2K\u001b[32A\u001b[2K\u001b[24A\u001b[2K\u001b[32A\u001b[2K\u001b[24A\u001b[2K\u001b[32A\u001b[2K\u001b[32A\u001b[2K\u001b[32A\u001b[2K\u001b[21A\u001b[2K\u001b[32A\u001b[2K\u001b[24A\u001b[2K\u001b[32A\u001b[2K\u001b[24A\u001b[2K\u001b[32A\u001b[2K\u001b[24A\u001b[2K\u001b[20A\u001b[2K\u001b[24A\u001b[2K\u001b[20A\u001b[2K\u001b[32A\u001b[2K\u001b[20A\u001b[2K\u001b[32A\u001b[2K\u001b[24A\u001b[2K\u001b[21A\u001b[2K\u001b[20A\u001b[2K\u001b[24A\u001b[2K\u001b[20A\u001b[2K\u001b[24A\u001b[2K\u001b[20A\u001b[2K\u001b[23A\u001b[2K\u001b[32A\u001b[2K\u001b[20A\u001b[2K\u001b[32A\u001b[2K\u001b[21A\u001b[2K\u001b[32A\u001b[2K\u001b[24A\u001b[2K\u001b[32A\u001b[2K\u001b[24A\u001b[2K\u001b[21A\u001b[2K\u001b[23A\u001b[2K\u001b[24A\u001b[2K\u001b[21A\u001b[2K\u001b[24A\u001b[2K\u001b[23A\u001b[2K\u001b[24A\u001b[2K\u001b[20A\u001b[2K\u001b[20A\u001b[2K\u001b[32A\u001b[2K\u001b[20A\u001b[2K\u001b[32A\u001b[2K\u001b[20A\u001b[2K\u001b[32A\u001b[2K\u001b[20A\u001b[2K\u001b[32A\u001b[2K\u001b[21A\u001b[2K\u001b[24A\u001b[2K\u001b[32A\u001b[2K\u001b[21A\u001b[2K\u001b[32A\u001b[2K\u001b[20A\u001b[2K\u001b[32A\u001b[2K\u001b[24A\u001b[2K\u001b[20A\u001b[2K\u001b[21A\u001b[2K\u001b[24A\u001b[2K\u001b[21A\u001b[2K\u001b[24A\u001b[2K\u001b[21A\u001b[2K\u001b[20A\u001b[2K\u001b[21A\u001b[2K\u001b[32A\u001b[2K\u001b[21A\u001b[2K\u001b[24A\u001b[2K\u001b[21A\u001b[2K\u001b[20A\u001b[2K\u001b[23A\u001b[2K\u001b[20A\u001b[2K\u001b[24A\u001b[2K\u001b[21A\u001b[2K\u001b[32A\u001b[2K\u001b[21A\u001b[2K\u001b[32A\u001b[2K\u001b[21A\u001b[2K\u001b[20A\u001b[2K\u001b[32A\u001b[2K\u001b[24A\u001b[2K\u001b[20A\u001b[2K\u001b[21A\u001b[2K\u001b[20A\u001b[2K\u001b[21A\u001b[2K\u001b[20A\u001b[2K\u001b[20A\u001b[2K\u001b[24A\u001b[2K\u001b[21A\u001b[2K\u001b[32A\u001b[2K\u001b[23A\u001b[2K\u001b[32A\u001b[2K\u001b[24A\u001b[2K\u001b[20A\u001b[2K\u001b[20A\u001b[2K\u001b[23A\u001b[2K\u001b[20A\u001b[2K\u001b[32A\u001b[2K\u001b[20A\u001b[2K\u001b[20A\u001b[2K\u001b[24A\u001b[2K\u001b[32A\u001b[2K\u001b[24A\u001b[2K\u001b[32A\u001b[2K\u001b[24A\u001b[2K\u001b[23A\u001b[2K\u001b[24A\u001b[2K\u001b[24A\u001b[2K\u001b[20A\u001b[2K\u001b[21A\u001b[2K\u001b[20A\u001b[2K\u001b[24A\u001b[2K\u001b[20A\u001b[2K\u001b[32A\u001b[2K\u001b[20A\u001b[2K\u001b[32A\u001b[2K\u001b[21A\u001b[2K\u001b[20A\u001b[2K\u001b[21A\u001b[2K\u001b[24A\u001b[2K\u001b[21A\u001b[2K\u001b[32A\u001b[2K\u001b[20A\u001b[2K\u001b[32A\u001b[2K\u001b[20A\u001b[2K\u001b[32A\u001b[2K\u001b[20A\u001b[2K\u001b[23A\u001b[2K\u001b[20A\u001b[2K\u001b[24A\u001b[2K\u001b[20A\u001b[2K\u001b[21A\u001b[2K\u001b[32A\u001b[2K\u001b[20A\u001b[2K\u001b[32A\u001b[2K\u001b[20A\u001b[2K\u001b[32A\u001b[2K\u001b[24A\u001b[2K\u001b[32A\u001b[2K\u001b[24A\u001b[2K\u001b[21A\u001b[2K\u001b[32A\u001b[2K\u001b[20A\u001b[2K\u001b[21A\u001b[2K\u001b[20A\u001b[2K\u001b[21A\u001b[2K\u001b[24A\u001b[2K\u001b[21A\u001b[2K\u001b[24A\u001b[2K\u001b[21A\u001b[2K\u001b[32A\u001b[2K\u001b[24A\u001b[2K\u001b[20A\u001b[2K\u001b[24A\u001b[2K\u001b[32A\u001b[2K\u001b[24A\u001b[2K\u001b[20A\u001b[2K\u001b[21A\u001b[2K\u001b[24A\u001b[2K\u001b[21A\u001b[2K\u001b[24A\u001b[2K\u001b[32A\u001b[2K\u001b[24A\u001b[2K\u001b[32A\u001b[2K\u001b[20A\u001b[2K\u001b[24A\u001b[2K\u001b[20A\u001b[2K\u001b[24A\u001b[2K\u001b[20A\u001b[2K\u001b[21A\u001b[2K\u001b[20A\u001b[2K\u001b[21A\u001b[2K\u001b[24A\u001b[2K\u001b[21A\u001b[2K\u001b[24A\u001b[2K\u001b[21A\u001b[2K\u001b[32A\u001b[2K\u001b[21A\u001b[2K\u001b[23A\u001b[2K\u001b[24A\u001b[2K\u001b[20A\u001b[2K\u001b[24A\u001b[2K\u001b[21A\u001b[2K\u001b[24A\u001b[2K\u001b[24A\u001b[2K\u001b[21A\u001b[2K\u001b[20A\u001b[2K\u001b[21A\u001b[2K\u001b[20A\u001b[2K\u001b[21A\u001b[2K\u001b[32A\u001b[2K\u001b[20A\u001b[2K\u001b[21A\u001b[2K\u001b[20A\u001b[2K\u001b[32A\u001b[2K\u001b[24A\u001b[2K\u001b[20A\u001b[2K\u001b[24A\u001b[2K\u001b[20A\u001b[2K\u001b[24A\u001b[2K\u001b[32A\u001b[2K\u001b[32A\u001b[2K\u001b[24A\u001b[2K\u001b[32A\u001b[2K\u001b[24A\u001b[2K\u001b[32A\u001b[2K\u001b[20A\u001b[2K\u001b[24A\u001b[2K\u001b[32A\u001b[2K\u001b[24A\u001b[2K\u001b[24A\u001b[2K\u001b[21A\u001b[2K\u001b[24A\u001b[2K\u001b[21A\u001b[2K\u001b[23A\u001b[2K\u001b[32A\u001b[2K\u001b[24A\u001b[2K\u001b[20A\u001b[2K\u001b[24A\u001b[2K\u001b[21A\u001b[2K\u001b[20A\u001b[2K\u001b[32A\u001b[2K\u001b[24A\u001b[2K\u001b[20A\u001b[2K\u001b[24A\u001b[2K\u001b[20A\u001b[2K\u001b[24A\u001b[2K\u001b[21A\u001b[2K\u001b[20A\u001b[2K\u001b[20A\u001b[2K\u001b[20A\u001b[2K\u001b[21A\u001b[2K\u001b[32A\u001b[2K\u001b[21A\u001b[2K\u001b[23A\u001b[2K\u001b[21A\u001b[2K\u001b[24A\u001b[2K\u001b[21A\u001b[2K\u001b[32A\u001b[2K\u001b[21A\u001b[2K\u001b[32A\u001b[2K\u001b[20A\u001b[2K\u001b[32A\u001b[2K\u001b[20A\u001b[2K\u001b[32A\u001b[2K\u001b[20A\u001b[2K\u001b[21A\u001b[2K\u001b[32A\u001b[2K\u001b[21A\u001b[2K\u001b[32A\u001b[2K\u001b[21A\u001b[2K\u001b[23A\u001b[2K\u001b[20A\u001b[2K\u001b[32A\u001b[2K\u001b[20A\u001b[2K\u001b[32A\u001b[2K\u001b[21A\u001b[2K\u001b[32A\u001b[2K\u001b[20A\u001b[2K\u001b[21A\u001b[2K\u001b[20A\u001b[2K\u001b[32A\u001b[2K\u001b[20A\u001b[2K\u001b[32A\u001b[2K\u001b[24A\u001b[2K\u001b[32A\u001b[2K\u001b[24A\u001b[2K\u001b[32A\u001b[2K\u001b[21A\u001b[2K\u001b[23A\u001b[2K\u001b[21A\u001b[2K\u001b[20A\u001b[2K\u001b[32A\u001b[2K\u001b[20A\u001b[2K\u001b[32A\u001b[2K\u001b[20A\u001b[2K\u001b[21A\u001b[2K\u001b[24A\u001b[2K\u001b[21A\u001b[2K\u001b[20A\u001b[2K\u001b[21A\u001b[2K\u001b[24A\u001b[2K\u001b[21A\u001b[2K\u001b[24A\u001b[2K\u001b[21A\u001b[2K\u001b[32A\u001b[2K\u001b[20A\u001b[2K\u001b[32A\u001b[2K\u001b[32A\u001b[2K\u001b[24A\u001b[2K\u001b[32A\u001b[2K\u001b[24A\u001b[2K\u001b[20A\u001b[2K\u001b[32A\u001b[2K\u001b[21A\u001b[2K\u001b[32A\u001b[2K\u001b[24A\u001b[2K\u001b[32A\u001b[2K\u001b[24A\u001b[2K\u001b[32A\u001b[2K\u001b[21A\u001b[2K\u001b[32A\u001b[2K\u001b[21A\u001b[2K\u001b[24A\u001b[2K\u001b[32A\u001b[2K\u001b[20A\u001b[2K\u001b[32A\u001b[2K\u001b[24A\u001b[2K\u001b[32A\u001b[2K\u001b[32A\u001b[2K\u001b[20A\u001b[2K\u001b[23A\u001b[2K\u001b[24A\u001b[2K\u001b[21A\u001b[2K\u001b[32A\u001b[2K\u001b[20A\u001b[2K\u001b[21A\u001b[2K\u001b[20A\u001b[2K\u001b[21A\u001b[2K\u001b[20A\u001b[2K\u001b[24A\u001b[2K\u001b[32A\u001b[2K\u001b[21A\u001b[2K\u001b[32A\u001b[2K\u001b[20A\u001b[2K\u001b[32A\u001b[2K\u001b[24A\u001b[2K\u001b[32A\u001b[2K\u001b[21A\u001b[2K\u001b[32A\u001b[2K\u001b[24A\u001b[2K\u001b[20A\u001b[2K\u001b[23A\u001b[2K\u001b[21A\u001b[2K\u001b[32A\u001b[2K\u001b[20A\u001b[2K\u001b[32A\u001b[2K\u001b[23A\u001b[2K\u001b[21A\u001b[2K\u001b[20A\u001b[2K\u001b[24A\u001b[2K\u001b[21A\u001b[2K\u001b[20A\u001b[2K\u001b[24A\u001b[2K\u001b[20A\u001b[2K\u001b[21A\u001b[2K\u001b[32A\u001b[2K\u001b[32A\u001b[2K\u001b[20A\u001b[2K\u001b[21A\u001b[2K\u001b[32A\u001b[2K\u001b[20A\u001b[2K\u001b[32A\u001b[2K\u001b[21A\u001b[2K\u001b[23A\u001b[2KPushing  734.4MB/2.593GB\u001b[20A\u001b[2K\u001b[32A\u001b[2K\u001b[24A\u001b[2K\u001b[32A\u001b[2K\u001b[21A\u001b[2K\u001b[24A\u001b[2K\u001b[32A\u001b[2K\u001b[21A\u001b[2K\u001b[24A\u001b[2K\u001b[21A\u001b[2K\u001b[23A\u001b[2K\u001b[32A\u001b[2K\u001b[21A\u001b[2K\u001b[24A\u001b[2K\u001b[20A\u001b[2K\u001b[24A\u001b[2K\u001b[32A\u001b[2K\u001b[23A\u001b[2K\u001b[32A\u001b[2K\u001b[23A\u001b[2K\u001b[32A\u001b[2K\u001b[23A\u001b[2K\u001b[20A\u001b[2K\u001b[32A\u001b[2K\u001b[23A\u001b[2K\u001b[20A\u001b[2K\u001b[32A\u001b[2K\u001b[20A\u001b[2K\u001b[32A\u001b[2K\u001b[20A\u001b[2K\u001b[24A\u001b[2K\u001b[20A\u001b[2K\u001b[23A\u001b[2K\u001b[23A\u001b[2K\u001b[21A\u001b[2K\u001b[32A\u001b[2K\u001b[21A\u001b[2K\u001b[32A\u001b[2K\u001b[21A\u001b[2K\u001b[32A\u001b[2K\u001b[20A\u001b[2K\u001b[21A\u001b[2K\u001b[23A\u001b[2K\u001b[21A\u001b[2K\u001b[23A\u001b[2K\u001b[21A\u001b[2K\u001b[19A\u001b[2K\u001b[20A\u001b[2K\u001b[19A\u001b[2K\u001b[21A\u001b[2K\u001b[19A\u001b[2K\u001b[32A\u001b[2K\u001b[19A\u001b[2K\u001b[21A\u001b[2K\u001b[32A\u001b[2K\u001b[20A\u001b[2K\u001b[21A\u001b[2K\u001b[19A\u001b[2K\u001b[20A\u001b[2K\u001b[20A\u001b[2K\u001b[21A\u001b[2K\u001b[20A\u001b[2K\u001b[18A\u001b[2K\u001b[20A\u001b[2K\u001b[32A\u001b[2K\u001b[20A\u001b[2K\u001b[19A\u001b[2K\u001b[32A\u001b[2K\u001b[21A\u001b[2K\u001b[17A\u001b[2K\u001b[18A\u001b[2K\u001b[32A\u001b[2K\u001b[20A\u001b[2K\u001b[16A\u001b[2K\u001b[32A\u001b[2K\u001b[32A\u001b[2K\u001b[20A\u001b[2K\u001b[32A\u001b[2K\u001b[20A\u001b[2K\u001b[32A\u001b[2K\u001b[21A\u001b[2K\u001b[20A\u001b[2K\u001b[32A\u001b[2K\u001b[20A\u001b[2K\u001b[15A\u001b[2K\u001b[15A\u001b[2K\u001b[32A\u001b[2K\u001b[15A\u001b[2K\u001b[20A\u001b[2K\u001b[21A\u001b[2K\u001b[15A\u001b[2K\u001b[21A\u001b[2K\u001b[15A\u001b[2K\u001b[32A\u001b[2K\u001b[15A\u001b[2K\u001b[21A\u001b[2K\u001b[15A\u001b[2K\u001b[21A\u001b[2K\u001b[20A\u001b[2K\u001b[32A\u001b[2K\u001b[21A\u001b[2K\u001b[32A\u001b[2K\u001b[14A\u001b[2K\u001b[32A\u001b[2K\u001b[14A\u001b[2K\u001b[32A\u001b[2K\u001b[15A\u001b[2K\u001b[21A\u001b[2K\u001b[32A\u001b[2K\u001b[15A\u001b[2K\u001b[32A\u001b[2K\u001b[14A\u001b[2K\u001b[32A\u001b[2K\u001b[20A\u001b[2K\u001b[21A\u001b[2K\u001b[20A\u001b[2K\u001b[21A\u001b[2K\u001b[20A\u001b[2K\u001b[32A\u001b[2K\u001b[14A\u001b[2K\u001b[32A\u001b[2K\u001b[21A\u001b[2K\u001b[20A\u001b[2K\u001b[21A\u001b[2K\u001b[20A\u001b[2K\u001b[21A\u001b[2K\u001b[14A\u001b[2K\u001b[20A\u001b[2K\u001b[14A\u001b[2K\u001b[20A\u001b[2K\u001b[15A\u001b[2K\u001b[32A\u001b[2K\u001b[21A\u001b[2K\u001b[14A\u001b[2K\u001b[32A\u001b[2K\u001b[20A\u001b[2K\u001b[21A\u001b[2K\u001b[32A\u001b[2K\u001b[14A\u001b[2K\u001b[21A\u001b[2K\u001b[20A\u001b[2K\u001b[21A\u001b[2K\u001b[20A\u001b[2K\u001b[14A\u001b[2K\u001b[32A\u001b[2K\u001b[14A\u001b[2K\u001b[20A\u001b[2K\u001b[32A\u001b[2K\u001b[20A\u001b[2K\u001b[32A\u001b[2K\u001b[21A\u001b[2K\u001b[20A\u001b[2K\u001b[14A\u001b[2K\u001b[20A\u001b[2K\u001b[21A\u001b[2K\u001b[32A\u001b[2K\u001b[21A\u001b[2K\u001b[32A\u001b[2K\u001b[20A\u001b[2K\u001b[21A\u001b[2K\u001b[20A\u001b[2K\u001b[21A\u001b[2K\u001b[32A\u001b[2K\u001b[21A\u001b[2K\u001b[14A\u001b[2K\u001b[21A\u001b[2K\u001b[14A\u001b[2K\u001b[32A\u001b[2K\u001b[15A\u001b[2K\u001b[14A\u001b[2K\u001b[20A\u001b[2K\u001b[15A\u001b[2K\u001b[20A\u001b[2K\u001b[15A\u001b[2K\u001b[32A\u001b[2K\u001b[15A\u001b[2K\u001b[21A\u001b[2K\u001b[14A\u001b[2K\u001b[21A\u001b[2K\u001b[14A\u001b[2K\u001b[21A\u001b[2K\u001b[14A\u001b[2K\u001b[20A\u001b[2K\u001b[15A\u001b[2K\u001b[14A\u001b[2K\u001b[20A\u001b[2K\u001b[15A\u001b[2K\u001b[32A\u001b[2K\u001b[21A\u001b[2K\u001b[32A\u001b[2K\u001b[21A\u001b[2K\u001b[32A\u001b[2K\u001b[20A\u001b[2K\u001b[15A\u001b[2K\u001b[14A\u001b[2K\u001b[15A\u001b[2K\u001b[32A\u001b[2K\u001b[21A\u001b[2K\u001b[14A\u001b[2K\u001b[21A\u001b[2K\u001b[14A\u001b[2K\u001b[21A\u001b[2K\u001b[14A\u001b[2K\u001b[32A\u001b[2K\u001b[15A\u001b[2K\u001b[14A\u001b[2K\u001b[32A\u001b[2K\u001b[20A\u001b[2K\u001b[14A\u001b[2K\u001b[32A\u001b[2K\u001b[15A\u001b[2K\u001b[21A\u001b[2K\u001b[32A\u001b[2K\u001b[14A\u001b[2K\u001b[32A\u001b[2K\u001b[15A\u001b[2K\u001b[20A\u001b[2K\u001b[32A\u001b[2K\u001b[21A\u001b[2K\u001b[14A\u001b[2K\u001b[32A\u001b[2K\u001b[20A\u001b[2K\u001b[14A\u001b[2K\u001b[20A\u001b[2K\u001b[14A\u001b[2K\u001b[32A\u001b[2K\u001b[20A\u001b[2K\u001b[14A\u001b[2K\u001b[20A\u001b[2K\u001b[14A\u001b[2K\u001b[32A\u001b[2K\u001b[20A\u001b[2K\u001b[14A\u001b[2K\u001b[32A\u001b[2K\u001b[14A\u001b[2K\u001b[32A\u001b[2K\u001b[20A\u001b[2K\u001b[32A\u001b[2K\u001b[21A\u001b[2K\u001b[20A\u001b[2K\u001b[32A\u001b[2K\u001b[20A\u001b[2K\u001b[14A\u001b[2K\u001b[13A\u001b[2K\u001b[32A\u001b[2K\u001b[20A\u001b[2K\u001b[13A\u001b[2K\u001b[21A\u001b[2K\u001b[13A\u001b[2K\u001b[32A\u001b[2K\u001b[14A\u001b[2K\u001b[32A\u001b[2K\u001b[21A\u001b[2K\u001b[14A\u001b[2K\u001b[32A\u001b[2K\u001b[14A\u001b[2K\u001b[21A\u001b[2K\u001b[14A\u001b[2K\u001b[21A\u001b[2K\u001b[32A\u001b[2K\u001b[14A\u001b[2K\u001b[32A\u001b[2K\u001b[14A\u001b[2K\u001b[21A\u001b[2K\u001b[14A\u001b[2K\u001b[21A\u001b[2K\u001b[14A\u001b[2K\u001b[32A\u001b[2K\u001b[21A\u001b[2K\u001b[13A\u001b[2K\u001b[21A\u001b[2K\u001b[14A\u001b[2K\u001b[32A\u001b[2K\u001b[13A\u001b[2K\u001b[32A\u001b[2K\u001b[13A\u001b[2K\u001b[20A\u001b[2K\u001b[32A\u001b[2K\u001b[13A\u001b[2K\u001b[32A\u001b[2K\u001b[13A\u001b[2K\u001b[32A\u001b[2K\u001b[14A\u001b[2K\u001b[20A\u001b[2K\u001b[14A\u001b[2K\u001b[13A\u001b[2K\u001b[13A\u001b[2K\u001b[21A\u001b[2K\u001b[32A\u001b[2K\u001b[13A\u001b[2K\u001b[20A\u001b[2K\u001b[32A\u001b[2K\u001b[14A\u001b[2K\u001b[32A\u001b[2K\u001b[20A\u001b[2K\u001b[14A\u001b[2K\u001b[32A\u001b[2K\u001b[13A\u001b[2K\u001b[20A\u001b[2K\u001b[13A\u001b[2K\u001b[21A\u001b[2K\u001b[32A\u001b[2K\u001b[21A\u001b[2K\u001b[32A\u001b[2K\u001b[21A\u001b[2K\u001b[14A\u001b[2K\u001b[21A\u001b[2K\u001b[32A\u001b[2K\u001b[13A\u001b[2K\u001b[14A\u001b[2K\u001b[21A\u001b[2K\u001b[13A\u001b[2K\u001b[32A\u001b[2K\u001b[21A\u001b[2K\u001b[13A\u001b[2K\u001b[21A\u001b[2K\u001b[13A\u001b[2K\u001b[21A\u001b[2K\u001b[14A\u001b[2K\u001b[21A\u001b[2K\u001b[32A\u001b[2K\u001b[13A\u001b[2K\u001b[32A\u001b[2K\u001b[14A\u001b[2K\u001b[32A\u001b[2K\u001b[14A\u001b[2K\u001b[13A\u001b[2K\u001b[32A\u001b[2K\u001b[14A\u001b[2K\u001b[14A\u001b[2K\u001b[13A\u001b[2K\u001b[14A\u001b[2K\u001b[32A\u001b[2K\u001b[21A\u001b[2K\u001b[14A\u001b[2K\u001b[13A\u001b[2K\u001b[14A\u001b[2K\u001b[13A\u001b[2K\u001b[14A\u001b[2K\u001b[32A\u001b[2K\u001b[13A\u001b[2K\u001b[32A\u001b[2K\u001b[13A\u001b[2K\u001b[32A\u001b[2K\u001b[21A\u001b[2K\u001b[32A\u001b[2K\u001b[14A\u001b[2K\u001b[32A\u001b[2K\u001b[21A\u001b[2K\u001b[20A\u001b[2K\u001b[32A\u001b[2K\u001b[20A\u001b[2K\u001b[32A\u001b[2K\u001b[20A\u001b[2K\u001b[21A\u001b[2K\u001b[20A\u001b[2K\u001b[32A\u001b[2K\u001b[20A\u001b[2K\u001b[32A\u001b[2K\u001b[14A\u001b[2K\u001b[20A\u001b[2K\u001b[32A\u001b[2K\u001b[21A\u001b[2K\u001b[32A\u001b[2K\u001b[21A\u001b[2K\u001b[20A\u001b[2K\u001b[14A\u001b[2K\u001b[12A\u001b[2K\u001b[14A\u001b[2K\u001b[21A\u001b[2K\u001b[32A\u001b[2K\u001b[14A\u001b[2K\u001b[20A\u001b[2K\u001b[14A\u001b[2K\u001b[32A\u001b[2K\u001b[14A\u001b[2K\u001b[12A\u001b[2K\u001b[14A\u001b[2K\u001b[21A\u001b[2K\u001b[32A\u001b[2K\u001b[21A\u001b[2K\u001b[21A\u001b[2K\u001b[11A\u001b[2K\u001b[21A\u001b[2K\u001b[14A\u001b[2K\u001b[11A\u001b[2K\u001b[21A\u001b[2K\u001b[20A\u001b[2K\u001b[32A\u001b[2K\u001b[14A\u001b[2K\u001b[32A\u001b[2K\u001b[32A\u001b[2K\u001b[11A\u001b[2K\u001b[32A\u001b[2K\u001b[14A\u001b[2K\u001b[21A\u001b[2K\u001b[14A\u001b[2K\u001b[20A\u001b[2K\u001b[32A\u001b[2K\u001b[20A\u001b[2K\u001b[32A\u001b[2K\u001b[21A\u001b[2K\u001b[11A\u001b[2K\u001b[21A\u001b[2K\u001b[32A\u001b[2K\u001b[11A\u001b[2K\u001b[20A\u001b[2K\u001b[11A\u001b[2K\u001b[14A\u001b[2K\u001b[20A\u001b[2K\u001b[14A\u001b[2K\u001b[32A\u001b[2K\u001b[11A\u001b[2K\u001b[21A\u001b[2K\u001b[32A\u001b[2K\u001b[21A\u001b[2K\u001b[32A\u001b[2K\u001b[20A\u001b[2K\u001b[11A\u001b[2K\u001b[20A\u001b[2K\u001b[11A\u001b[2K\u001b[14A\u001b[2K\u001b[20A\u001b[2K\u001b[11A\u001b[2K\u001b[32A\u001b[2K\u001b[11A\u001b[2K\u001b[14A\u001b[2K\u001b[11A\u001b[2K\u001b[21A\u001b[2K\u001b[14A\u001b[2K\u001b[32A\u001b[2K\u001b[21A\u001b[2K\u001b[20A\u001b[2K\u001b[11A\u001b[2K\u001b[21A\u001b[2K\u001b[11A\u001b[2K\u001b[20A\u001b[2K\u001b[14A\u001b[2K\u001b[32A\u001b[2K\u001b[32A\u001b[2K\u001b[32A\u001b[2K\u001b[14A\u001b[2K\u001b[32A\u001b[2K\u001b[21A\u001b[2K\u001b[32A\u001b[2K\u001b[21A\u001b[2K\u001b[14A\u001b[2K\u001b[20A\u001b[2K\u001b[14A\u001b[2K\u001b[32A\u001b[2K\u001b[21A\u001b[2K\u001b[32A\u001b[2K\u001b[20A\u001b[2K\u001b[20A\u001b[2K\u001b[21A\u001b[2K\u001b[10A\u001b[2K\u001b[21A\u001b[2K\u001b[10A\u001b[2K\u001b[32A\u001b[2K\u001b[10A\u001b[2K\u001b[32A\u001b[2K\u001b[21A\u001b[2K\u001b[10A\u001b[2K\u001b[21A\u001b[2K\u001b[32A\u001b[2K\u001b[21A\u001b[2K\u001b[10A\u001b[2K\u001b[21A\u001b[2K\u001b[20A\u001b[2K\u001b[21A\u001b[2K\u001b[10A\u001b[2K\u001b[21A\u001b[2K\u001b[32A\u001b[2K\u001b[21A\u001b[2K\u001b[14A\u001b[2K\u001b[21A\u001b[2K\u001b[20A\u001b[2K\u001b[32A\u001b[2K\u001b[10A\u001b[2K\u001b[20A\u001b[2K\u001b[21A\u001b[2K\u001b[32A\u001b[2K\u001b[10A\u001b[2K\u001b[21A\u001b[2K\u001b[14A\u001b[2K\u001b[21A\u001b[2K\u001b[10A\u001b[2K\u001b[32A\u001b[2K\u001b[20A\u001b[2K\u001b[21A\u001b[2K\u001b[32A\u001b[2K\u001b[21A\u001b[2K\u001b[14A\u001b[2K\u001b[21A\u001b[2K\u001b[20A\u001b[2K\u001b[14A\u001b[2K\u001b[32A\u001b[2K\u001b[20A\u001b[2K\u001b[14A\u001b[2K\u001b[32A\u001b[2K\u001b[21A\u001b[2K\u001b[32A\u001b[2K\u001b[21A\u001b[2K\u001b[14A\u001b[2K\u001b[20A\u001b[2K\u001b[14A\u001b[2K\u001b[20A\u001b[2K\u001b[10A\u001b[2K\u001b[32A\u001b[2K\u001b[32A\u001b[2K\u001b[21A\u001b[2K\u001b[32A\u001b[2K\u001b[21A\u001b[2K\u001b[32A\u001b[2K\u001b[21A\u001b[2K\u001b[14A\u001b[2K\u001b[32A\u001b[2K\u001b[20A\u001b[2K\u001b[32A\u001b[2K\u001b[20A\u001b[2K\u001b[21A\u001b[2K\u001b[10A\u001b[2K\u001b[20A\u001b[2K\u001b[21A\u001b[2K\u001b[14A\u001b[2K\u001b[32A\u001b[2K\u001b[20A\u001b[2K\u001b[10A\u001b[2K\u001b[32A\u001b[2K\u001b[10A\u001b[2K\u001b[32A\u001b[2K\u001b[14A\u001b[2K\u001b[32A\u001b[2K\u001b[20A\u001b[2K\u001b[10A\u001b[2K\u001b[20A\u001b[2K\u001b[10A\u001b[2K\u001b[21A\u001b[2K\u001b[14A\u001b[2K\u001b[21A\u001b[2K\u001b[14A\u001b[2K\u001b[32A\u001b[2K\u001b[32A\u001b[2K\u001b[10A\u001b[2K\u001b[21A\u001b[2K\u001b[32A\u001b[2K\u001b[10A\u001b[2K\u001b[21A\u001b[2K\u001b[32A\u001b[2K\u001b[21A\u001b[2K\u001b[20A\u001b[2K\u001b[14A\u001b[2K\u001b[21A\u001b[2K\u001b[32A\u001b[2K\u001b[14A\u001b[2K\u001b[32A\u001b[2K\u001b[21A\u001b[2K\u001b[10A\u001b[2K\u001b[20A\u001b[2K\u001b[14A\u001b[2K\u001b[32A\u001b[2K\u001b[10A\u001b[2K\u001b[21A\u001b[2K\u001b[32A\u001b[2K\u001b[14A\u001b[2K\u001b[21A\u001b[2K\u001b[14A\u001b[2K\u001b[21A\u001b[2K\u001b[10A\u001b[2K\u001b[14A\u001b[2K\u001b[20A\u001b[2K\u001b[14A\u001b[2K\u001b[10A\u001b[2K\u001b[20A\u001b[2K\u001b[14A\u001b[2K\u001b[32A\u001b[2K\u001b[10A\u001b[2K\u001b[21A\u001b[2K\u001b[14A\u001b[2K\u001b[21A\u001b[2K\u001b[14A\u001b[2K\u001b[32A\u001b[2K\u001b[14A\u001b[2K\u001b[32A\u001b[2K\u001b[21A\u001b[2K\u001b[20A\u001b[2K\u001b[32A\u001b[2K\u001b[14A\u001b[2K\u001b[21A\u001b[2K\u001b[20A\u001b[2K\u001b[21A\u001b[2K\u001b[14A\u001b[2K\u001b[20A\u001b[2K\u001b[14A\u001b[2K\u001b[10A\u001b[2K\u001b[21A\u001b[2K\u001b[14A\u001b[2K\u001b[10A\u001b[2K\u001b[21A\u001b[2K\u001b[20A\u001b[2K\u001b[21A\u001b[2K\u001b[14A\u001b[2K\u001b[21A\u001b[2K\u001b[14A\u001b[2K\u001b[20A\u001b[2K\u001b[21A\u001b[2K\u001b[14A\u001b[2K\u001b[21A\u001b[2K\u001b[32A\u001b[2K\u001b[20A\u001b[2K\u001b[32A\u001b[2K\u001b[14A\u001b[2K\u001b[10A\u001b[2K\u001b[14A\u001b[2K\u001b[10A\u001b[2K\u001b[32A\u001b[2K\u001b[21A\u001b[2K\u001b[14A\u001b[2K\u001b[10A\u001b[2K\u001b[14A\u001b[2K\u001b[21A\u001b[2K\u001b[32A\u001b[2K\u001b[14A\u001b[2K\u001b[20A\u001b[2K\u001b[14A\u001b[2K\u001b[21A\u001b[2K\u001b[20A\u001b[2K\u001b[20A\u001b[2K\u001b[32A\u001b[2K\u001b[20A\u001b[2K\u001b[20A\u001b[2K\u001b[10A\u001b[2K\u001b[20A\u001b[2K\u001b[14A\u001b[2K\u001b[21A\u001b[2K\u001b[20A\u001b[2K\u001b[10A\u001b[2K\u001b[14A\u001b[2K\u001b[20A\u001b[2K\u001b[14A\u001b[2K\u001b[21A\u001b[2K\u001b[20A\u001b[2K\u001b[14A\u001b[2K\u001b[20A\u001b[2K\u001b[10A\u001b[2K\u001b[20A\u001b[2K\u001b[32A\u001b[2K\u001b[21A\u001b[2K\u001b[32A\u001b[2K\u001b[14A\u001b[2K\u001b[10A\u001b[2K\u001b[14A\u001b[2K\u001b[10A\u001b[2K\u001b[32A\u001b[2K\u001b[20A\u001b[2K\u001b[32A\u001b[2K\u001b[20A\u001b[2K\u001b[14A\u001b[2K\u001b[32A\u001b[2K\u001b[10A\u001b[2K\u001b[14A\u001b[2K\u001b[20A\u001b[2K\u001b[14A\u001b[2K\u001b[20A\u001b[2K\u001b[32A\u001b[2K\u001b[20A\u001b[2K\u001b[10A\u001b[2K\u001b[14A\u001b[2K\u001b[20A\u001b[2K\u001b[10A\u001b[2K\u001b[20A\u001b[2K\u001b[32A\u001b[2K\u001b[14A\u001b[2K\u001b[32A\u001b[2K\u001b[14A\u001b[2K\u001b[32A\u001b[2K\u001b[10A\u001b[2K\u001b[9A\u001b[2K\u001b[14A\u001b[2K\u001b[10A\u001b[2K\u001b[14A\u001b[2K\u001b[20A\u001b[2K\u001b[32A\u001b[2K\u001b[10A\u001b[2K\u001b[32A\u001b[2K\u001b[9A\u001b[2K\u001b[10A\u001b[2K\u001b[14A\u001b[2K\u001b[10A\u001b[2K\u001b[32A\u001b[2K\u001b[10A\u001b[2K\u001b[32A\u001b[2K\u001b[14A\u001b[2K\u001b[32A\u001b[2K\u001b[9A\u001b[2K\u001b[14A\u001b[2K\u001b[9A\u001b[2K\u001b[10A\u001b[2K\u001b[9A\u001b[2K\u001b[10A\u001b[2K\u001b[32A\u001b[2K\u001b[9A\u001b[2K\u001b[20A\u001b[2K\u001b[9A\u001b[2K\u001b[10A\u001b[2K\u001b[14A\u001b[2K\u001b[20A\u001b[2K\u001b[9A\u001b[2K\u001b[9A\u001b[2K\u001b[32A\u001b[2K\u001b[32A\u001b[2K\u001b[20A\u001b[2K\u001b[32A\u001b[2K\u001b[10A\u001b[2K\u001b[32A\u001b[2K\u001b[10A\u001b[2K\u001b[14A\u001b[2K\u001b[9A\u001b[2K\u001b[14A\u001b[2K\u001b[9A\u001b[2K\u001b[14A\u001b[2K\u001b[20A\u001b[2K\u001b[9A\u001b[2K\u001b[20A\u001b[2K\u001b[9A\u001b[2K\u001b[10A\u001b[2K\u001b[32A\u001b[2K\u001b[20A\u001b[2K\u001b[20A\u001b[2K\u001b[32A\u001b[2K\u001b[20A\u001b[2K\u001b[9A\u001b[2K\u001b[32A\u001b[2K\u001b[14A\u001b[2K\u001b[32A\u001b[2K\u001b[20A\u001b[2K\u001b[10A\u001b[2K\u001b[20A\u001b[2K\u001b[9A\u001b[2K\u001b[20A\u001b[2K\u001b[32A\u001b[2K\u001b[20A\u001b[2K\u001b[10A\u001b[2K\u001b[9A\u001b[2K\u001b[20A\u001b[2K\u001b[32A\u001b[2K\u001b[9A\u001b[2K\u001b[32A\u001b[2K\u001b[9A\u001b[2K\u001b[10A\u001b[2K\u001b[9A\u001b[2K\u001b[32A\u001b[2K\u001b[14A\u001b[2K\u001b[32A\u001b[2K\u001b[14A\u001b[2K\u001b[32A\u001b[2K\u001b[14A\u001b[2K\u001b[32A\u001b[2K\u001b[9A\u001b[2K\u001b[10A\u001b[2K\u001b[9A\u001b[2K\u001b[20A\u001b[2K\u001b[32A\u001b[2K\u001b[14A\u001b[2K\u001b[10A\u001b[2K\u001b[32A\u001b[2K\u001b[10A\u001b[2K\u001b[32A\u001b[2K\u001b[9A\u001b[2K\u001b[20A\u001b[2K\u001b[10A\u001b[2K\u001b[14A\u001b[2K\u001b[10A\u001b[2K\u001b[9A\u001b[2K\u001b[14A\u001b[2K\u001b[20A\u001b[2K\u001b[9A\u001b[2K\u001b[14A\u001b[2K\u001b[9A\u001b[2K\u001b[14A\u001b[2K\u001b[9A\u001b[2K\u001b[32A\u001b[2K\u001b[20A\u001b[2K\u001b[14A\u001b[2K\u001b[20A\u001b[2K\u001b[14A\u001b[2K\u001b[20A\u001b[2K\u001b[10A\u001b[2K\u001b[32A\u001b[2K\u001b[14A\u001b[2K\u001b[32A\u001b[2K\u001b[32A\u001b[2K\u001b[9A\u001b[2K\u001b[32A\u001b[2K\u001b[20A\u001b[2K\u001b[32A\u001b[2K\u001b[14A\u001b[2K\u001b[32A\u001b[2K\u001b[14A\u001b[2K\u001b[20A\u001b[2K\u001b[32A\u001b[2K\u001b[20A\u001b[2K\u001b[32A\u001b[2K\u001b[20A\u001b[2K\u001b[14A\u001b[2K\u001b[10A\u001b[2K\u001b[32A\u001b[2K\u001b[20A\u001b[2K\u001b[14A\u001b[2K\u001b[9A\u001b[2K\u001b[10A\u001b[2K\u001b[32A\u001b[2K\u001b[20A\u001b[2K\u001b[14A\u001b[2K\u001b[9A\u001b[2K\u001b[14A\u001b[2K\u001b[10A\u001b[2K\u001b[9A\u001b[2K\u001b[32A\u001b[2K\u001b[9A\u001b[2K\u001b[14A\u001b[2K\u001b[20A\u001b[2K\u001b[14A\u001b[2K\u001b[10A\u001b[2K\u001b[10A\u001b[2K\u001b[20A\u001b[2K\u001b[9A\u001b[2K\u001b[14A\u001b[2K\u001b[9A\u001b[2K\u001b[14A\u001b[2K\u001b[9A\u001b[2K\u001b[20A\u001b[2K\u001b[9A\u001b[2K\u001b[20A\u001b[2K\u001b[10A\u001b[2K\u001b[14A\u001b[2K\u001b[9A\u001b[2K\u001b[20A\u001b[2K\u001b[10A\u001b[2K\u001b[14A\u001b[2K\u001b[9A\u001b[2K\u001b[10A\u001b[2K\u001b[9A\u001b[2K\u001b[20A\u001b[2K\u001b[14A\u001b[2K\u001b[20A\u001b[2K\u001b[10A\u001b[2K\u001b[9A\u001b[2K\u001b[32A\u001b[2K\u001b[10A\u001b[2K\u001b[14A\u001b[2K\u001b[9A\u001b[2K\u001b[20A\u001b[2K\u001b[32A\u001b[2K\u001b[10A\u001b[2K\u001b[14A\u001b[2K\u001b[9A\u001b[2K\u001b[20A\u001b[2K\u001b[32A\u001b[2K\u001b[20A\u001b[2K\u001b[32A\u001b[2K\u001b[9A\u001b[2K\u001b[20A\u001b[2K\u001b[9A\u001b[2K\u001b[14A\u001b[2K\u001b[9A\u001b[2K\u001b[14A\u001b[2K\u001b[10A\u001b[2K\u001b[32A\u001b[2K\u001b[14A\u001b[2K\u001b[9A\u001b[2K\u001b[14A\u001b[2K\u001b[32A\u001b[2K\u001b[9A\u001b[2K\u001b[32A\u001b[2K\u001b[20A\u001b[2K\u001b[32A\u001b[2K\u001b[9A\u001b[2K\u001b[14A\u001b[2K\u001b[9A\u001b[2K\u001b[10A\u001b[2K\u001b[9A\u001b[2K\u001b[32A\u001b[2K\u001b[10A\u001b[2K\u001b[20A\u001b[2K\u001b[9A\u001b[2K\u001b[14A\u001b[2K\u001b[32A\u001b[2K\u001b[9A\u001b[2K\u001b[32A\u001b[2K\u001b[10A\u001b[2K\u001b[20A\u001b[2K\u001b[32A\u001b[2K\u001b[20A\u001b[2K\u001b[10A\u001b[2K\u001b[9A\u001b[2K\u001b[14A\u001b[2K\u001b[32A\u001b[2K\u001b[10A\u001b[2K\u001b[14A\u001b[2K\u001b[20A\u001b[2K\u001b[14A\u001b[2K\u001b[10A\u001b[2K\u001b[14A\u001b[2K\u001b[9A\u001b[2K\u001b[14A\u001b[2K\u001b[20A\u001b[2K\u001b[9A\u001b[2K\u001b[32A\u001b[2K\u001b[14A\u001b[2K\u001b[9A\u001b[2K\u001b[10A\u001b[2K\u001b[20A\u001b[2K\u001b[9A\u001b[2K\u001b[32A\u001b[2K\u001b[9A\u001b[2K\u001b[32A\u001b[2K\u001b[14A\u001b[2K\u001b[10A\u001b[2K\u001b[9A\u001b[2K\u001b[20A\u001b[2K\u001b[9A\u001b[2K\u001b[10A\u001b[2K\u001b[9A\u001b[2K\u001b[10A\u001b[2K\u001b[9A\u001b[2K\u001b[32A\u001b[2K\u001b[10A\u001b[2K\u001b[32A\u001b[2K\u001b[14A\u001b[2K\u001b[10A\u001b[2K\u001b[20A\u001b[2K\u001b[10A\u001b[2K\u001b[20A\u001b[2K\u001b[32A\u001b[2K\u001b[10A\u001b[2K\u001b[32A\u001b[2K\u001b[9A\u001b[2K\u001b[20A\u001b[2K\u001b[14A\u001b[2K\u001b[20A\u001b[2K\u001b[32A\u001b[2K\u001b[14A\u001b[2K\u001b[32A\u001b[2K\u001b[10A\u001b[2K\u001b[32A\u001b[2K\u001b[9A\u001b[2K\u001b[32A\u001b[2K\u001b[20A\u001b[2K\u001b[14A\u001b[2K\u001b[32A\u001b[2K\u001b[9A\u001b[2K\u001b[14A\u001b[2K\u001b[32A\u001b[2K\u001b[20A\u001b[2K\u001b[20A\u001b[2K\u001b[32A\u001b[2K\u001b[20A\u001b[2K\u001b[32A\u001b[2K\u001b[14A\u001b[2K\u001b[9A\u001b[2K\u001b[10A\u001b[2K\u001b[20A\u001b[2K\u001b[9A\u001b[2K\u001b[20A\u001b[2K\u001b[14A\u001b[2K\u001b[9A\u001b[2K\u001b[9A\u001b[2K\u001b[20A\u001b[2K\u001b[10A\u001b[2K\u001b[14A\u001b[2K\u001b[10A\u001b[2K\u001b[20A\u001b[2K\u001b[14A\u001b[2K\u001b[20A\u001b[2K\u001b[32A\u001b[2K\u001b[14A\u001b[2K\u001b[20A\u001b[2K\u001b[9A\u001b[2K\u001b[20A\u001b[2K\u001b[10A\u001b[2K\u001b[20A\u001b[2K\u001b[14A\u001b[2K\u001b[20A\u001b[2K\u001b[20A\u001b[2K\u001b[32A\u001b[2K\u001b[20A\u001b[2K\u001b[9A\u001b[2K\u001b[20A\u001b[2K\u001b[10A\u001b[2K\u001b[9A\u001b[2K\u001b[10A\u001b[2K\u001b[9A\u001b[2K\u001b[20A\u001b[2K\u001b[20A\u001b[2K\u001b[10A\u001b[2K\u001b[9A\u001b[2K\u001b[10A\u001b[2K\u001b[20A\u001b[2K\u001b[9A\u001b[2K\u001b[32A\u001b[2K\u001b[9A\u001b[2K\u001b[10A\u001b[2K\u001b[9A\u001b[2K\u001b[8A\u001b[2K\u001b[20A\u001b[2K\u001b[10A\u001b[2K\u001b[20A\u001b[2K\u001b[9A\u001b[2K\u001b[32A\u001b[2K\u001b[20A\u001b[2K\u001b[10A\u001b[2K\u001b[20A\u001b[2K\u001b[10A\u001b[2K\u001b[32A\u001b[2K\u001b[10A\u001b[2K\u001b[20A\u001b[2K\u001b[32A\u001b[2K\u001b[10A\u001b[2K\u001b[32A\u001b[2K\u001b[20A\u001b[2K\u001b[10A\u001b[2K\u001b[20A\u001b[2K\u001b[10A\u001b[2K\u001b[32A\u001b[2K\u001b[20A\u001b[2K\u001b[32A\u001b[2K\u001b[20A\u001b[2K\u001b[9A\u001b[2K\u001b[32A\u001b[2K\u001b[9A\u001b[2K\u001b[32A\u001b[2K\u001b[20A\u001b[2K\u001b[32A\u001b[2K\u001b[20A\u001b[2K\u001b[10A\u001b[2K\u001b[20A\u001b[2K\u001b[32A\u001b[2K\u001b[10A\u001b[2K\u001b[9A\u001b[2K\u001b[10A\u001b[2K\u001b[20A\u001b[2K\u001b[10A\u001b[2K\u001b[10A\u001b[2K\u001b[9A\u001b[2K\u001b[32A\u001b[2K\u001b[20A\u001b[2K\u001b[20A\u001b[2K\u001b[32A\u001b[2K\u001b[9A\u001b[2K\u001b[10A\u001b[2K\u001b[20A\u001b[2K\u001b[9A\u001b[2K\u001b[32A\u001b[2K\u001b[9A\u001b[2K\u001b[20A\u001b[2K\u001b[9A\u001b[2K\u001b[32A\u001b[2K\u001b[9A\u001b[2K\u001b[32A\u001b[2K\u001b[5A\u001b[2K\u001b[32A\u001b[2K\u001b[20A\u001b[2K\u001b[4A\u001b[2K\u001b[20A\u001b[2K\u001b[4A\u001b[2K\u001b[3A\u001b[2K\u001b[32A\u001b[2K\u001b[20A\u001b[2K\u001b[32A\u001b[2K\u001b[20A\u001b[2K\u001b[32A\u001b[2K\u001b[3A\u001b[2K\u001b[32A\u001b[2K\u001b[4A\u001b[2K\u001b[20A\u001b[2K\u001b[4A\u001b[2K\u001b[20A\u001b[2K\u001b[4A\u001b[2K\u001b[3A\u001b[2K\u001b[4A\u001b[2K\u001b[32A\u001b[2K\u001b[3A\u001b[2K\u001b[32A\u001b[2K\u001b[3A\u001b[2K\u001b[32A\u001b[2K\u001b[3A\u001b[2K\u001b[32A\u001b[2K\u001b[2A\u001b[2K\u001b[20A\u001b[2K\u001b[32A\u001b[2K\u001b[20A\u001b[2K\u001b[4A\u001b[2K\u001b[20A\u001b[2K\u001b[3A\u001b[2K\u001b[20A\u001b[2K\u001b[1A\u001b[2K\u001b[32A\u001b[2K\u001b[1A\u001b[2K\u001b[3A\u001b[2K\u001b[32A\u001b[2K\u001b[3A\u001b[2K\u001b[20A\u001b[2K\u001b[1A\u001b[2K\u001b[20A\u001b[2K\u001b[32A\u001b[2K\u001b[3A\u001b[2K\u001b[32A\u001b[2K\u001b[3A\u001b[2K\u001b[1A\u001b[2K\u001b[3A\u001b[2K\u001b[32A\u001b[2K\u001b[20A\u001b[2K\u001b[3A\u001b[2K\u001b[20A\u001b[2K\u001b[32A\u001b[2K\u001b[20A\u001b[2K\u001b[32A\u001b[2K\u001b[20A\u001b[2K\u001b[32A\u001b[2K\u001b[1A\u001b[2K\u001b[20A\u001b[2K\u001b[3A\u001b[2K\u001b[1A\u001b[2K\u001b[32A\u001b[2K\u001b[1A\u001b[2K\u001b[32A\u001b[2K\u001b[3A\u001b[2K\u001b[1A\u001b[2K\u001b[32A\u001b[2K\u001b[1A\u001b[2K\u001b[3A\u001b[2K\u001b[1A\u001b[2K\u001b[3A\u001b[2K\u001b[32A\u001b[2K\u001b[20A\u001b[2K\u001b[1A\u001b[2K\u001b[20A\u001b[2K\u001b[3A\u001b[2K\u001b[32A\u001b[2K\u001b[3A\u001b[2K\u001b[20A\u001b[2K\u001b[3A\u001b[2K\u001b[32A\u001b[2K\u001b[1A\u001b[2K\u001b[20A\u001b[2K\u001b[1A\u001b[2K\u001b[20A\u001b[2K\u001b[3A\u001b[2K\u001b[1A\u001b[2K\u001b[3A\u001b[2K\u001b[32A\u001b[2K\u001b[3A\u001b[2K\u001b[32A\u001b[2K\u001b[1A\u001b[2K\u001b[3A\u001b[2K\u001b[32A\u001b[2K\u001b[1A\u001b[2K\u001b[3A\u001b[2K\u001b[1A\u001b[2K\u001b[20A\u001b[2KPushing  81.62MB/731.1MB\u001b[1A\u001b[2K\u001b[3A\u001b[2K\u001b[20A\u001b[2K\u001b[1A\u001b[2K\u001b[32A\u001b[2K\u001b[20A\u001b[2K\u001b[32A\u001b[2K\u001b[20A\u001b[2K\u001b[32A\u001b[2K\u001b[3A\u001b[2K\u001b[32A\u001b[2K\u001b[3A\u001b[2K\u001b[20A\u001b[2K\u001b[1A\u001b[2K\u001b[3A\u001b[2K\u001b[32A\u001b[2K\u001b[3A\u001b[2K\u001b[20A\u001b[2K\u001b[3A\u001b[2K\u001b[20A\u001b[2K\u001b[20A\u001b[2K\u001b[20A\u001b[2K\u001b[32A\u001b[2K\u001b[32A\u001b[2K\u001b[3A\u001b[2K\u001b[3A\u001b[2K\u001b[32A\u001b[2K\u001b[32A\u001b[2K\u001b[20A\u001b[2K\u001b[20A\u001b[2K\u001b[20A\u001b[2K\u001b[1A\u001b[2K\u001b[3A\u001b[2K\u001b[1A\u001b[2K\u001b[32A\u001b[2K\u001b[1A\u001b[2K\u001b[20A\u001b[2K\u001b[1A\u001b[2K\u001b[20A\u001b[2K\u001b[1A\u001b[2K\u001b[1A\u001b[2K\u001b[32A\u001b[2K\u001b[32A\u001b[2K\u001b[32A\u001b[2K\u001b[20A\u001b[2K\u001b[32A\u001b[2K\u001b[20A\u001b[2K\u001b[32A\u001b[2K\u001b[20A\u001b[2K\u001b[3A\u001b[2K\u001b[20A\u001b[2K\u001b[32A\u001b[2K\u001b[3A\u001b[2K\u001b[20A\u001b[2K\u001b[1A\u001b[2K\u001b[20A\u001b[2K\u001b[3A\u001b[2K\u001b[20A\u001b[2K\u001b[3A\u001b[2K\u001b[20A\u001b[2K\u001b[3A\u001b[2K\u001b[32A\u001b[2K\u001b[20A\u001b[2K\u001b[32A\u001b[2K\u001b[20A\u001b[2K\u001b[3A\u001b[2K\u001b[32A\u001b[2K\u001b[20A\u001b[2K\u001b[32A\u001b[2K\u001b[20A\u001b[2K\u001b[32A\u001b[2K\u001b[20A\u001b[2K\u001b[32A\u001b[2K\u001b[20A\u001b[2K\u001b[20A\u001b[2K\u001b[3A\u001b[2K\u001b[20A\u001b[2K\u001b[3A\u001b[2K\u001b[32A\u001b[2K\u001b[20A\u001b[2K\u001b[3A\u001b[2K\u001b[20A\u001b[2K\u001b[3A\u001b[2K\u001b[20A\u001b[2K\u001b[3A\u001b[2K\u001b[20A\u001b[2K\u001b[32A\u001b[2K\u001b[3A\u001b[2K\u001b[32A\u001b[2K\u001b[32A\u001b[2K\u001b[32A\u001b[2K\u001b[3A\u001b[2K\u001b[32A\u001b[2K\u001b[3A\u001b[2K\u001b[3A\u001b[2K\u001b[20A\u001b[2K\u001b[3A\u001b[2K\u001b[20A\u001b[2K\u001b[3A\u001b[2K\u001b[3A\u001b[2K\u001b[3A\u001b[2K\u001b[20A\u001b[2K\u001b[32A\u001b[2K\u001b[20A\u001b[2K\u001b[32A\u001b[2K\u001b[3A\u001b[2K\u001b[32A\u001b[2K\u001b[3A\u001b[2K\u001b[32A\u001b[2K\u001b[20A\u001b[2K\u001b[32A\u001b[2K\u001b[20A\u001b[2K\u001b[32A\u001b[2K\u001b[3A\u001b[2K\u001b[32A\u001b[2K\u001b[3A\u001b[2K\u001b[32A\u001b[2K\u001b[3A\u001b[2K\u001b[20A\u001b[2K\u001b[3A\u001b[2K\u001b[20A\u001b[2K\u001b[20A\u001b[2K\u001b[20A\u001b[2K\u001b[32A\u001b[2K\u001b[20A\u001b[2K\u001b[32A\u001b[2K\u001b[20A\u001b[2K\u001b[32A\u001b[2K\u001b[20A\u001b[2K\u001b[3A\u001b[2K\u001b[20A\u001b[2K\u001b[3A\u001b[2K\u001b[32A\u001b[2K\u001b[20A\u001b[2K\u001b[3A\u001b[2K\u001b[20A\u001b[2K\u001b[3A\u001b[2K\u001b[20A\u001b[2K\u001b[32A\u001b[2K\u001b[20A\u001b[2K\u001b[32A\u001b[2K\u001b[32A\u001b[2K\u001b[20A\u001b[2K\u001b[3A\u001b[2K\u001b[32A\u001b[2K\u001b[20A\u001b[2K\u001b[3A\u001b[2K\u001b[20A\u001b[2K\u001b[32A\u001b[2K\u001b[20A\u001b[2K\u001b[3A\u001b[2K\u001b[20A\u001b[2K\u001b[32A\u001b[2K\u001b[20A\u001b[2K\u001b[3A\u001b[2K\u001b[20A\u001b[2K\u001b[3A\u001b[2K\u001b[20A\u001b[2K\u001b[3A\u001b[2K\u001b[32A\u001b[2K\u001b[3A\u001b[2K\u001b[32A\u001b[2K\u001b[3A\u001b[2K\u001b[32A\u001b[2K\u001b[3A\u001b[2K\u001b[20A\u001b[2K\u001b[3A\u001b[2K\u001b[32A\u001b[2K\u001b[20A\u001b[2K\u001b[32A\u001b[2K\u001b[20A\u001b[2K\u001b[3A\u001b[2K\u001b[32A\u001b[2K\u001b[3A\u001b[2K\u001b[32A\u001b[2K\u001b[20A\u001b[2K\u001b[32A\u001b[2K\u001b[20A\u001b[2K\u001b[32A\u001b[2K\u001b[20A\u001b[2K\u001b[32A\u001b[2K\u001b[20A\u001b[2K\u001b[3A\u001b[2K\u001b[32A\u001b[2K\u001b[32A\u001b[2K\u001b[32A\u001b[2K\u001b[20A\u001b[2K\u001b[32A\u001b[2K\u001b[3A\u001b[2K\u001b[20A\u001b[2K\u001b[3A\u001b[2K\u001b[32A\u001b[2K\u001b[3A\u001b[2K\u001b[32A\u001b[2K\u001b[3A\u001b[2K\u001b[32A\u001b[2K\u001b[20A\u001b[2K\u001b[32A\u001b[2K\u001b[20A\u001b[2K\u001b[3A\u001b[2K\u001b[32A\u001b[2K\u001b[3A\u001b[2K\u001b[3A\u001b[2K\u001b[3A\u001b[2K\u001b[32A\u001b[2K\u001b[20A\u001b[2K\u001b[20A\u001b[2K\u001b[32A\u001b[2K\u001b[20A\u001b[2K\u001b[3A\u001b[2K\u001b[32A\u001b[2K\u001b[3A\u001b[2K\u001b[20A\u001b[2K\u001b[3A\u001b[2K\u001b[20A\u001b[2K\u001b[3A\u001b[2K\u001b[20A\u001b[2K\u001b[32A\u001b[2K\u001b[3A\u001b[2K\u001b[32A\u001b[2K\u001b[3A\u001b[2K\u001b[20A\u001b[2K\u001b[3A\u001b[2K\u001b[32A\u001b[2K\u001b[20A\u001b[2K\u001b[32A\u001b[2K\u001b[3A\u001b[2K\u001b[20A\u001b[2K\u001b[3A\u001b[2K\u001b[20A\u001b[2K\u001b[3A\u001b[2K\u001b[20A\u001b[2K\u001b[32A\u001b[2K\u001b[20A\u001b[2K\u001b[32A\u001b[2K\u001b[3A\u001b[2K\u001b[32A\u001b[2K\u001b[3A\u001b[2K\u001b[32A\u001b[2K\u001b[20A\u001b[2K\u001b[32A\u001b[2K\u001b[20A\u001b[2K\u001b[3A\u001b[2K\u001b[20A\u001b[2K\u001b[32A\u001b[2K\u001b[32A\u001b[2K\u001b[32A\u001b[2K\u001b[3A\u001b[2K\u001b[32A\u001b[2K\u001b[3A\u001b[2K\u001b[20A\u001b[2K\u001b[32A\u001b[2K\u001b[3A\u001b[2K\u001b[20A\u001b[2K\u001b[3A\u001b[2K\u001b[20A\u001b[2K\u001b[3A\u001b[2K\u001b[20A\u001b[2K\u001b[3A\u001b[2K\u001b[32A\u001b[2K\u001b[3A\u001b[2K\u001b[32A\u001b[2K\u001b[20A\u001b[2K\u001b[3A\u001b[2K\u001b[20A\u001b[2K\u001b[3A\u001b[2K\u001b[32A\u001b[2K\u001b[3A\u001b[2K\u001b[32A\u001b[2K\u001b[3A\u001b[2K\u001b[32A\u001b[2K\u001b[20A\u001b[2K\u001b[3A\u001b[2K\u001b[20A\u001b[2K\u001b[3A\u001b[2K\u001b[32A\u001b[2K\u001b[3A\u001b[2K\u001b[20A\u001b[2K\u001b[32A\u001b[2K\u001b[20A\u001b[2K\u001b[20A\u001b[2K\u001b[20A\u001b[2K\u001b[20A\u001b[2K\u001b[20A\u001b[2K\u001b[3A\u001b[2K\u001b[20A\u001b[2K\u001b[3A\u001b[2K\u001b[20A\u001b[2K\u001b[32A\u001b[2K\u001b[3A\u001b[2K\u001b[32A\u001b[2K\u001b[3A\u001b[2K\u001b[32A\u001b[2K\u001b[3A\u001b[2K\u001b[32A\u001b[2K\u001b[20A\u001b[2K\u001b[3A\u001b[2K\u001b[20A\u001b[2K\u001b[32A\u001b[2K\u001b[20A\u001b[2K\u001b[32A\u001b[2K\u001b[32A\u001b[2K\u001b[20A\u001b[2K\u001b[32A\u001b[2K\u001b[3A\u001b[2K\u001b[32A\u001b[2K\u001b[3A\u001b[2K\u001b[32A\u001b[2K\u001b[20A\u001b[2K\u001b[32A\u001b[2K\u001b[20A\u001b[2K\u001b[3A\u001b[2K\u001b[32A\u001b[2K\u001b[3A\u001b[2K\u001b[32A\u001b[2K\u001b[3A\u001b[2K\u001b[32A\u001b[2K\u001b[20A\u001b[2K\u001b[32A\u001b[2K\u001b[3A\u001b[2K\u001b[32A\u001b[2K\u001b[3A\u001b[2K\u001b[32A\u001b[2K\u001b[32A\u001b[2K\u001b[3A\u001b[2K\u001b[20A\u001b[2K\u001b[3A\u001b[2K\u001b[20A\u001b[2K\u001b[32A\u001b[2K\u001b[3A\u001b[2K\u001b[20A\u001b[2K\u001b[3A\u001b[2K\u001b[32A\u001b[2K\u001b[32A\u001b[2K\u001b[20A\u001b[2K\u001b[3A\u001b[2K\u001b[32A\u001b[2K\u001b[32A\u001b[2K\u001b[32A\u001b[2K\u001b[3A\u001b[2K\u001b[32A\u001b[2K\u001b[3A\u001b[2K\u001b[32A\u001b[2K\u001b[3A\u001b[2K\u001b[32A\u001b[2K\u001b[3A\u001b[2K\u001b[20A\u001b[2K\u001b[32A\u001b[2K\u001b[3A\u001b[2K\u001b[32A\u001b[2K\u001b[3A\u001b[2K\u001b[20A\u001b[2K\u001b[3A\u001b[2K\u001b[20A\u001b[2K\u001b[32A\u001b[2K\u001b[20A\u001b[2K\u001b[32A\u001b[2K\u001b[20A\u001b[2K\u001b[32A\u001b[2K\u001b[3A\u001b[2K\u001b[3A\u001b[2K\u001b[32A\u001b[2K\u001b[20A\u001b[2K\u001b[20A\u001b[2K\u001b[32A\u001b[2K\u001b[20A\u001b[2K\u001b[32A\u001b[2K\u001b[20A\u001b[2K\u001b[32A\u001b[2K\u001b[20A\u001b[2K\u001b[3A\u001b[2K\u001b[20A\u001b[2K\u001b[32A\u001b[2K\u001b[20A\u001b[2K\u001b[3A\u001b[2K\u001b[3A\u001b[2K\u001b[32A\u001b[2K\u001b[3A\u001b[2K\u001b[20A\u001b[2K\u001b[20A\u001b[2K\u001b[20A\u001b[2K\u001b[32A\u001b[2K\u001b[20A\u001b[2K\u001b[20A\u001b[2K\u001b[3A\u001b[2K\u001b[20A\u001b[2K\u001b[3A\u001b[2K\u001b[20A\u001b[2K\u001b[20A\u001b[2K\u001b[32A\u001b[2K\u001b[20A\u001b[2K\u001b[32A\u001b[2K\u001b[20A\u001b[2K\u001b[32A\u001b[2K\u001b[32A\u001b[2K\u001b[20A\u001b[2K\u001b[32A\u001b[2K\u001b[3A\u001b[2K\u001b[32A\u001b[2K\u001b[20A\u001b[2K\u001b[32A\u001b[2K\u001b[3A\u001b[2K\u001b[20A\u001b[2K\u001b[3A\u001b[2K\u001b[32A\u001b[2K\u001b[3A\u001b[2K\u001b[20A\u001b[2K\u001b[3A\u001b[2K\u001b[32A\u001b[2K\u001b[20A\u001b[2K\u001b[32A\u001b[2K\u001b[3A\u001b[2K\u001b[32A\u001b[2K\u001b[20A\u001b[2K\u001b[32A\u001b[2K\u001b[20A\u001b[2K\u001b[3A\u001b[2K\u001b[20A\u001b[2K\u001b[32A\u001b[2K\u001b[3A\u001b[2K\u001b[20A\u001b[2K\u001b[32A\u001b[2K\u001b[3A\u001b[2K\u001b[20A\u001b[2K\u001b[20A\u001b[2K\u001b[3A\u001b[2K\u001b[32A\u001b[2K\u001b[20A\u001b[2K\u001b[32A\u001b[2K\u001b[20A\u001b[2K\u001b[32A\u001b[2K\u001b[32A\u001b[2K\u001b[3A\u001b[2K\u001b[20A\u001b[2K\u001b[20A\u001b[2K\u001b[3A\u001b[2K\u001b[20A\u001b[2K\u001b[32A\u001b[2K\u001b[20A\u001b[2K\u001b[32A\u001b[2K\u001b[32A\u001b[2K\u001b[3A\u001b[2K\u001b[32A\u001b[2K\u001b[20A\u001b[2K\u001b[32A\u001b[2K\u001b[20A\u001b[2K\u001b[20A\u001b[2K\u001b[20A\u001b[2K\u001b[3A\u001b[2K\u001b[20A\u001b[2K\u001b[32A\u001b[2K\u001b[20A\u001b[2K\u001b[32A\u001b[2K\u001b[20A\u001b[2K\u001b[32A\u001b[2K\u001b[20A\u001b[2K\u001b[32A\u001b[2K\u001b[3A\u001b[2K\u001b[20A\u001b[2K\u001b[32A\u001b[2K\u001b[20A\u001b[2K\u001b[3A\u001b[2K\u001b[20A\u001b[2K\u001b[32A\u001b[2K\u001b[20A\u001b[2K\u001b[32A\u001b[2K\u001b[20A\u001b[2K\u001b[32A\u001b[2K\u001b[20A\u001b[2K\u001b[3A\u001b[2K\u001b[20A\u001b[2K\u001b[3A\u001b[2K\u001b[32A\u001b[2K\u001b[32A\u001b[2K\u001b[3A\u001b[2K\u001b[32A\u001b[2K\u001b[20A\u001b[2K\u001b[20A\u001b[2K\u001b[3A\u001b[2K\u001b[32A\u001b[2K\u001b[3A\u001b[2K\u001b[32A\u001b[2K\u001b[20A\u001b[2K\u001b[3A\u001b[2K\u001b[20A\u001b[2K\u001b[3A\u001b[2K\u001b[20A\u001b[2K\u001b[3A\u001b[2K\u001b[32A\u001b[2K\u001b[3A\u001b[2K\u001b[32A\u001b[2K\u001b[3A\u001b[2K\u001b[20A\u001b[2K\u001b[3A\u001b[2K\u001b[20A\u001b[2K\u001b[20A\u001b[2K\u001b[32A\u001b[2K\u001b[20A\u001b[2K\u001b[32A\u001b[2K\u001b[20A\u001b[2K\u001b[3A\u001b[2K\u001b[20A\u001b[2K\u001b[3A\u001b[2K\u001b[20A\u001b[2K\u001b[32A\u001b[2K\u001b[3A\u001b[2K\u001b[32A\u001b[2K\u001b[20A\u001b[2K\u001b[32A\u001b[2K\u001b[20A\u001b[2K\u001b[20A\u001b[2K\u001b[32A\u001b[2K\u001b[20A\u001b[2K\u001b[32A\u001b[2K\u001b[20A\u001b[2K\u001b[3A\u001b[2K\u001b[20A\u001b[2K\u001b[3A\u001b[2K\u001b[32A\u001b[2K\u001b[3A\u001b[2K\u001b[32A\u001b[2K\u001b[3A\u001b[2K\u001b[3A\u001b[2K\u001b[32A\u001b[2K\u001b[3A\u001b[2K\u001b[32A\u001b[2K\u001b[20A\u001b[2K\u001b[3A\u001b[2K\u001b[32A\u001b[2K\u001b[20A\u001b[2K\u001b[32A\u001b[2K\u001b[3A\u001b[2K\u001b[32A\u001b[2K\u001b[3A\u001b[2K\u001b[3A\u001b[2K\u001b[32A\u001b[2K\u001b[3A\u001b[2K\u001b[3A\u001b[2K\u001b[32A\u001b[2K\u001b[3A\u001b[2K\u001b[32A\u001b[2K\u001b[3A\u001b[2K\u001b[32A\u001b[2K\u001b[32A\u001b[2K\u001b[32A\u001b[2K\u001b[20A\u001b[2K\u001b[32A\u001b[2K\u001b[3A\u001b[2K\u001b[32A\u001b[2K\u001b[32A\u001b[2K\u001b[32A\u001b[2K\u001b[3A\u001b[2K\u001b[32A\u001b[2K\u001b[3A\u001b[2K\u001b[32A\u001b[2K\u001b[20A\u001b[2K\u001b[32A\u001b[2K\u001b[20A\u001b[2K\u001b[3A\u001b[2K\u001b[20A\u001b[2K\u001b[32A\u001b[2K\u001b[3A\u001b[2K\u001b[32A\u001b[2K\u001b[20A\u001b[2K\u001b[3A\u001b[2K\u001b[32A\u001b[2K\u001b[3A\u001b[2K\u001b[32A\u001b[2K\u001b[3A\u001b[2K\u001b[32A\u001b[2K\u001b[20A\u001b[2K\u001b[3A\u001b[2K\u001b[20A\u001b[2K\u001b[32A\u001b[2K\u001b[20A\u001b[2K\u001b[32A\u001b[2K\u001b[20A\u001b[2K\u001b[32A\u001b[2K\u001b[3A\u001b[2K\u001b[32A\u001b[2K\u001b[3A\u001b[2K\u001b[32A\u001b[2K\u001b[32A\u001b[2K\u001b[32A\u001b[2K\u001b[32A\u001b[2K\u001b[3A\u001b[2K\u001b[32A\u001b[2K\u001b[20A\u001b[2K\u001b[32A\u001b[2K\u001b[20A\u001b[2K\u001b[3A\u001b[2K\u001b[20A\u001b[2K\u001b[3A\u001b[2K\u001b[32A\u001b[2K\u001b[3A\u001b[2K\u001b[32A\u001b[2K\u001b[32A\u001b[2K\u001b[32A\u001b[2K\u001b[20A\u001b[2K\u001b[32A\u001b[2K\u001b[32A\u001b[2K\u001b[32A\u001b[2K\u001b[3A\u001b[2K\u001b[32A\u001b[2K\u001b[20A\u001b[2K\u001b[3A\u001b[2K\u001b[20A\u001b[2K\u001b[32A\u001b[2K\u001b[3A\u001b[2K\u001b[32A\u001b[2K\u001b[20A\u001b[2K\u001b[3A\u001b[2K\u001b[20A\u001b[2K\u001b[32A\u001b[2K\u001b[3A\u001b[2K\u001b[20A\u001b[2K\u001b[3A\u001b[2K\u001b[20A\u001b[2K\u001b[32A\u001b[2K\u001b[3A\u001b[2K\u001b[32A\u001b[2K\u001b[32A\u001b[2K\u001b[20A\u001b[2K\u001b[32A\u001b[2K\u001b[3A\u001b[2K\u001b[20A\u001b[2K\u001b[32A\u001b[2K\u001b[3A\u001b[2K\u001b[20A\u001b[2K\u001b[3A\u001b[2K\u001b[20A\u001b[2K\u001b[3A\u001b[2K\u001b[3A\u001b[2K\u001b[20A\u001b[2K\u001b[3A\u001b[2K\u001b[20A\u001b[2K\u001b[32A\u001b[2K\u001b[3A\u001b[2K\u001b[20A\u001b[2K\u001b[32A\u001b[2K\u001b[32A\u001b[2K\u001b[3A\u001b[2K\u001b[32A\u001b[2K\u001b[3A\u001b[2K\u001b[20A\u001b[2K\u001b[3A\u001b[2K\u001b[32A\u001b[2K\u001b[3A\u001b[2K\u001b[32A\u001b[2K\u001b[3A\u001b[2K\u001b[32A\u001b[2K\u001b[3A\u001b[2K\u001b[32A\u001b[2K\u001b[3A\u001b[2K\u001b[3A\u001b[2K\u001b[20A\u001b[2K\u001b[3A\u001b[2K\u001b[20A\u001b[2K\u001b[20A\u001b[2K\u001b[20A\u001b[2K\u001b[3A\u001b[2K\u001b[20A\u001b[2K\u001b[3A\u001b[2K\u001b[20A\u001b[2K\u001b[3A\u001b[2K\u001b[20A\u001b[2K\u001b[3A\u001b[2K\u001b[20A\u001b[2K\u001b[20A\u001b[2K\u001b[20A\u001b[2K\u001b[3A\u001b[2K\u001b[20A\u001b[2K\u001b[3A\u001b[2K\u001b[20A\u001b[2K\u001b[3A\u001b[2K\u001b[32A\u001b[2K\u001b[3A\u001b[2K\u001b[32A\u001b[2K\u001b[3A\u001b[2K\u001b[32A\u001b[2K\u001b[20A\u001b[2K\u001b[32A\u001b[2K\u001b[3A\u001b[2K\u001b[32A\u001b[2K\u001b[3A\u001b[2K\u001b[32A\u001b[2K\u001b[32A\u001b[2K\u001b[20A\u001b[2K\u001b[32A\u001b[2K\u001b[3A\u001b[2K\u001b[32A\u001b[2K\u001b[20A\u001b[2K\u001b[32A\u001b[2K\u001b[3A\u001b[2K\u001b[32A\u001b[2K\u001b[3A\u001b[2K\u001b[32A\u001b[2K\u001b[3A\u001b[2K\u001b[32A\u001b[2K\u001b[20A\u001b[2K\u001b[3A\u001b[2K\u001b[20A\u001b[2K\u001b[32A\u001b[2K\u001b[32A\u001b[2K\u001b[3A\u001b[2K\u001b[32A\u001b[2K\u001b[20A\u001b[2K\u001b[32A\u001b[2K\u001b[20A\u001b[2K\u001b[32A\u001b[2K\u001b[20A\u001b[2K\u001b[32A\u001b[2K\u001b[20A\u001b[2K\u001b[32A\u001b[2K\u001b[20A\u001b[2K\u001b[3A\u001b[2K\u001b[32A\u001b[2K\u001b[20A\u001b[2K\u001b[3A\u001b[2K\u001b[20A\u001b[2K\u001b[3A\u001b[2K\u001b[20A\u001b[2K\u001b[20A\u001b[2K\u001b[32A\u001b[2K\u001b[20A\u001b[2K\u001b[3A\u001b[2K\u001b[3A\u001b[2K\u001b[32A\u001b[2K\u001b[3A\u001b[2K\u001b[32A\u001b[2K\u001b[3A\u001b[2K\u001b[32A\u001b[2K\u001b[20A\u001b[2K\u001b[32A\u001b[2K\u001b[20A\u001b[2K\u001b[32A\u001b[2K\u001b[20A\u001b[2K\u001b[32A\u001b[2K\u001b[3A\u001b[2K\u001b[32A\u001b[2K\u001b[20A\u001b[2K\u001b[32A\u001b[2K\u001b[3A\u001b[2K\u001b[32A\u001b[2K\u001b[3A\u001b[2K\u001b[32A\u001b[2K\u001b[20A\u001b[2K\u001b[32A\u001b[2K\u001b[3A\u001b[2K\u001b[20A\u001b[2K\u001b[3A\u001b[2K\u001b[32A\u001b[2K\u001b[3A\u001b[2K\u001b[20A\u001b[2K\u001b[20A\u001b[2K\u001b[32A\u001b[2K\u001b[3A\u001b[2K\u001b[32A\u001b[2K\u001b[3A\u001b[2K\u001b[3A\u001b[2K\u001b[20A\u001b[2K\u001b[3A\u001b[2K\u001b[20A\u001b[2K\u001b[3A\u001b[2K\u001b[32A\u001b[2K\u001b[3A\u001b[2K\u001b[32A\u001b[2K\u001b[3A\u001b[2K\u001b[20A\u001b[2K\u001b[3A\u001b[2K\u001b[20A\u001b[2K\u001b[32A\u001b[2K\u001b[20A\u001b[2K\u001b[3A\u001b[2K\u001b[20A\u001b[2K\u001b[20A\u001b[2K\u001b[20A\u001b[2K\u001b[20A\u001b[2K\u001b[3A\u001b[2K\u001b[20A\u001b[2K\u001b[3A\u001b[2K\u001b[20A\u001b[2K\u001b[32A\u001b[2K\u001b[20A\u001b[2K\u001b[32A\u001b[2K\u001b[20A\u001b[2K\u001b[3A\u001b[2K\u001b[20A\u001b[2K\u001b[3A\u001b[2K\u001b[20A\u001b[2K\u001b[3A\u001b[2K\u001b[20A\u001b[2K\u001b[32A\u001b[2K\u001b[20A\u001b[2K\u001b[32A\u001b[2K\u001b[20A\u001b[2K\u001b[20A\u001b[2K\u001b[20A\u001b[2K\u001b[3A\u001b[2K\u001b[20A\u001b[2K\u001b[20A\u001b[2K\u001b[20A\u001b[2K\u001b[32A\u001b[2K\u001b[20A\u001b[2K\u001b[32A\u001b[2K\u001b[32A\u001b[2K\u001b[20A\u001b[2K\u001b[32A\u001b[2K\u001b[20A\u001b[2K\u001b[32A\u001b[2K\u001b[20A\u001b[2K\u001b[32A\u001b[2K\u001b[20A\u001b[2K\u001b[32A\u001b[2K\u001b[20A\u001b[2K\u001b[32A\u001b[2K\u001b[32A\u001b[2K\u001b[32A\u001b[2K\u001b[20A\u001b[2K\u001b[32A\u001b[2K\u001b[32A\u001b[2K\u001b[20A\u001b[2K\u001b[32A\u001b[2K\u001b[20A\u001b[2K\u001b[32A\u001b[2K\u001b[20A\u001b[2K\u001b[20A\u001b[2K\u001b[20A\u001b[2K\u001b[32A\u001b[2K\u001b[20A\u001b[2K\u001b[32A\u001b[2K\u001b[20A\u001b[2K\u001b[32A\u001b[2K\u001b[20A\u001b[2K\u001b[32A\u001b[2K\u001b[20A\u001b[2K\u001b[32A\u001b[2K\u001b[32A\u001b[2K\u001b[20A\u001b[2K\u001b[32A\u001b[2K\u001b[20A\u001b[2K\u001b[32A\u001b[2K\u001b[20A\u001b[2K\u001b[32A\u001b[2K\u001b[20A\u001b[2K\u001b[32A\u001b[2K\u001b[20A\u001b[2K\u001b[32A\u001b[2K\u001b[20A\u001b[2K\u001b[32A\u001b[2K\u001b[20A\u001b[2K\u001b[20A\u001b[2K\u001b[20A\u001b[2K\u001b[32A\u001b[2K\u001b[20A\u001b[2K\u001b[20A\u001b[2K\u001b[32A\u001b[2K\u001b[20A\u001b[2K\u001b[20A\u001b[2K\u001b[20A\u001b[2K\u001b[20A\u001b[2K\u001b[20A\u001b[2K\u001b[20A\u001b[2K\u001b[20A\u001b[2K\u001b[20A\u001b[2K\u001b[20A\u001b[2K\u001b[20A\u001b[2K\u001b[32A\u001b[2K\u001b[20A\u001b[2K\u001b[20A\u001b[2K\u001b[20A\u001b[2K\u001b[20A\u001b[2K\u001b[20A\u001b[2K\u001b[20A\u001b[2K\u001b[20A\u001b[2K\u001b[20A\u001b[2K\u001b[20A\u001b[2K\u001b[20A\u001b[2K\u001b[20A\u001b[2K\u001b[20A\u001b[2K\u001b[20A\u001b[2K\u001b[20A\u001b[2K\u001b[20A\u001b[2K\u001b[20A\u001b[2K\u001b[20A\u001b[2K\u001b[20A\u001b[2K\u001b[20A\u001b[2K\u001b[20A\u001b[2K\u001b[20A\u001b[2K\u001b[20A\u001b[2K\u001b[20A\u001b[2K\u001b[20A\u001b[2K\u001b[20A\u001b[2K\u001b[20A\u001b[2K\u001b[20A\u001b[2K\u001b[20A\u001b[2K\u001b[20A\u001b[2K\u001b[20A\u001b[2K\u001b[20A\u001b[2K\u001b[20A\u001b[2K\u001b[20A\u001b[2K\u001b[20A\u001b[2K\u001b[20A\u001b[2K\u001b[20A\u001b[2K\u001b[20A\u001b[2K\u001b[20A\u001b[2K\u001b[20A\u001b[2K\u001b[20A\u001b[2K\u001b[20A\u001b[2K\u001b[20A\u001b[2K\u001b[20A\u001b[2K\u001b[20A\u001b[2K\u001b[20A\u001b[2K\u001b[20A\u001b[2K\u001b[20A\u001b[2K\u001b[20A\u001b[2K\u001b[20A\u001b[2K\u001b[20A\u001b[2K\u001b[20A\u001b[2K\u001b[20A\u001b[2K\u001b[20A\u001b[2K\u001b[20A\u001b[2K\u001b[20A\u001b[2K\u001b[20A\u001b[2K\u001b[20A\u001b[2K\u001b[20A\u001b[2K\u001b[20A\u001b[2K\u001b[20A\u001b[2K\u001b[20A\u001b[2K\u001b[20A\u001b[2K\u001b[20A\u001b[2K\u001b[20A\u001b[2K\u001b[20A\u001b[2K\u001b[20A\u001b[2K\u001b[20A\u001b[2K\u001b[20A\u001b[2K\u001b[20A\u001b[2K\u001b[20A\u001b[2K\u001b[20A\u001b[2K\u001b[20A\u001b[2K\u001b[20A\u001b[2K\u001b[20A\u001b[2K\u001b[20A\u001b[2K\u001b[20A\u001b[2K\u001b[20A\u001b[2K\u001b[20A\u001b[2K\u001b[20A\u001b[2K\u001b[20A\u001b[2Klatest: digest: sha256:c170fe16e4dee4c80b5db1d6f60d5780f3a4858faa2f06755969ed2862d0c635 size: 8495\n"
     ]
    }
   ],
   "source": [
    "!docker push 719055683367.dkr.ecr.us-east-1.amazonaws.com/tensorflow-training"
   ]
  },
  {
   "cell_type": "code",
   "execution_count": null,
   "id": "81739064",
   "metadata": {},
   "outputs": [],
   "source": [
    "bucket = \"bucket-prova33\""
   ]
  },
  {
   "cell_type": "code",
   "execution_count": null,
   "id": "477ab30b",
   "metadata": {},
   "outputs": [],
   "source": [
    "# training \n",
    "\n",
    "from sagemaker import get_execution_role\n",
    "from sagemaker.estimator import Estimator\n",
    "import os\n",
    "\n",
    "role = get_execution_role()\n",
    "\n",
    "hyperparameters = {'epochs': 1}\n",
    "\n",
    "estimator = Estimator(\n",
    "    image_uri= '719055683367.dkr.ecr.us-east-1.amazonaws.com/tensorflow-training:latest',\n",
    "    role=role,\n",
    "    instance_count=1,\n",
    "    #instance_type = 'local'\n",
    "    instance_type='ml.m5.large',\n",
    "    hyperparameters=hyperparameters,\n",
    "    output_path=f's3://bucket-prova33/output'\n",
    "    #output_path='file://{}/data/output'.format(os.getcwd())\n",
    ")\n",
    "\n",
    "print('##### ESTIMATOR FIT STARTED')\n",
    "#estimator.fit('file://{}/data/input/train.csv'.format(os.getcwd()))\n",
    "estimator.fit(f's3://bucket-prova33/Input/train.csv')\n",
    "print('##### ESTIMATOR FIT COMPLETED')\n"
   ]
  },
  {
   "cell_type": "markdown",
   "id": "c23755be",
   "metadata": {},
   "source": [
    "# caricamento e inferenza"
   ]
  },
  {
   "cell_type": "code",
   "execution_count": null,
   "id": "cad80faa",
   "metadata": {},
   "outputs": [],
   "source": [
    "!pip install keras tensorflow"
   ]
  },
  {
   "cell_type": "code",
   "execution_count": 31,
   "id": "279c69ce",
   "metadata": {},
   "outputs": [
    {
     "name": "stderr",
     "output_type": "stream",
     "text": [
      "2024-11-05 13:24:52.229967: E external/local_xla/xla/stream_executor/cuda/cuda_fft.cc:477] Unable to register cuFFT factory: Attempting to register factory for plugin cuFFT when one has already been registered\n",
      "WARNING: All log messages before absl::InitializeLog() is called are written to STDERR\n",
      "E0000 00:00:1730813092.252921   16006 cuda_dnn.cc:8310] Unable to register cuDNN factory: Attempting to register factory for plugin cuDNN when one has already been registered\n",
      "E0000 00:00:1730813092.260011   16006 cuda_blas.cc:1418] Unable to register cuBLAS factory: Attempting to register factory for plugin cuBLAS when one has already been registered\n",
      "2024-11-05 13:24:52.284331: I tensorflow/core/platform/cpu_feature_guard.cc:210] This TensorFlow binary is optimized to use available CPU instructions in performance-critical operations.\n",
      "To enable the following instructions: AVX2 FMA, in other operations, rebuild TensorFlow with the appropriate compiler flags.\n"
     ]
    }
   ],
   "source": [
    "from keras.models import load_model"
   ]
  },
  {
   "cell_type": "code",
   "execution_count": 32,
   "id": "9099342a",
   "metadata": {},
   "outputs": [
    {
     "name": "stdout",
     "output_type": "stream",
     "text": [
      "tar: Ignoring unknown extended header keyword `LIBARCHIVE.creationtime'\n"
     ]
    }
   ],
   "source": [
    "!tar -xzf model.tar.gz"
   ]
  },
  {
   "cell_type": "code",
   "execution_count": 33,
   "id": "5f8d2288",
   "metadata": {},
   "outputs": [
    {
     "name": "stderr",
     "output_type": "stream",
     "text": [
      "2024-11-05 13:25:08.807623: E external/local_xla/xla/stream_executor/cuda/cuda_driver.cc:152] failed call to cuInit: INTERNAL: CUDA error: Failed call to cuInit: CUDA_ERROR_NO_DEVICE: no CUDA-capable device is detected\n",
      "WARNING:absl:Compiled the loaded model, but the compiled metrics have yet to be built. `model.compile_metrics` will be empty until you train or evaluate the model.\n"
     ]
    },
    {
     "data": {
      "text/plain": [
       "keras.src.models.sequential.Sequential"
      ]
     },
     "execution_count": 33,
     "metadata": {},
     "output_type": "execute_result"
    }
   ],
   "source": [
    "model = load_model(\"Titanic_2_la_vendetta.h5\")\n",
    "\n",
    "type(model)\n"
   ]
  },
  {
   "cell_type": "code",
   "execution_count": 81,
   "id": "b6a4ec03",
   "metadata": {},
   "outputs": [],
   "source": [
    "import numpy as np\n",
    "import pandas as pd\n",
    "from sklearn.preprocessing import LabelEncoder, StandardScaler\n",
    "\n",
    "predict_input = np.array([\n",
    "    [0.475,0.37,0.125,0.5095,0.2165,0.1125,0.165,9]\n",
    "s])"
   ]
  },
  {
   "cell_type": "code",
   "execution_count": 82,
   "id": "dc1fbccb",
   "metadata": {},
   "outputs": [
    {
     "name": "stdout",
     "output_type": "stream",
     "text": [
      "\u001b[1m1/1\u001b[0m \u001b[32m━━━━━━━━━━━━━━━━━━━━\u001b[0m\u001b[37m\u001b[0m \u001b[1m0s\u001b[0m 62ms/step\n"
     ]
    }
   ],
   "source": [
    "predict_result = model.predict(predict_input)"
   ]
  },
  {
   "cell_type": "code",
   "execution_count": 84,
   "id": "5edf6b5b",
   "metadata": {},
   "outputs": [
    {
     "data": {
      "text/plain": [
       "'{\"predict_result\": [[0.0004175565263722092]]}'"
      ]
     },
     "execution_count": 84,
     "metadata": {},
     "output_type": "execute_result"
    }
   ],
   "source": [
    "import json \n",
    "json.dumps({\"predict_result\": predict_result.tolist()})\n"
   ]
  },
  {
   "cell_type": "markdown",
   "id": "a2a3a7d6",
   "metadata": {},
   "source": [
    "# creazione della directory per l'inferenza "
   ]
  },
  {
   "cell_type": "code",
   "execution_count": 85,
   "id": "9b7d824a",
   "metadata": {},
   "outputs": [
    {
     "name": "stdout",
     "output_type": "stream",
     "text": [
      "image_name: tensorflow-inference ######################\n",
      "account: 719055683367 ######################\n",
      "region: us-east-1 ######################\n",
      "fullname: 719055683367.dkr.ecr.us-east-1.amazonaws.com/tensorflow-inference:2.12.0-cpu-py310-pluto-2 ######################\n"
     ]
    },
    {
     "name": "stderr",
     "output_type": "stream",
     "text": [
      "\n",
      "An error occurred (RepositoryNotFoundException) when calling the DescribeRepositories operation: The repository with name 'tensorflow-inference' does not exist in the registry with id '719055683367'\n"
     ]
    },
    {
     "name": "stdout",
     "output_type": "stream",
     "text": [
      "{\n",
      "    \"repository\": {\n",
      "        \"repositoryArn\": \"arn:aws:ecr:us-east-1:719055683367:repository/tensorflow-inference\",\n",
      "        \"registryId\": \"719055683367\",\n",
      "        \"repositoryName\": \"tensorflow-inference\",\n",
      "        \"repositoryUri\": \"719055683367.dkr.ecr.us-east-1.amazonaws.com/tensorflow-inference\",\n",
      "        \"createdAt\": 1730815817.277,\n",
      "        \"imageTagMutability\": \"MUTABLE\",\n",
      "        \"imageScanningConfiguration\": {\n",
      "            \"scanOnPush\": false\n",
      "        },\n",
      "        \"encryptionConfiguration\": {\n",
      "            \"encryptionType\": \"AES256\"\n",
      "        }\n",
      "    }\n",
      "}\n"
     ]
    }
   ],
   "source": [
    "%%sh\n",
    "# Specify an image name\n",
    "image_name=tensorflow-inference\n",
    "echo \"image_name: ${image_name} ######################\"\n",
    "\n",
    "account=$(aws sts get-caller-identity --query Account --output text)\n",
    "echo \"account: ${account} ######################\"\n",
    "\n",
    "# Get the region defined in the current configuration (default to us-west-2 if none defined)\n",
    "region=$(aws configure get region)\n",
    "echo \"region: ${region} ######################\"\n",
    "\n",
    "fullname=\"${account}.dkr.ecr.${region}.amazonaws.com/${image_name}:2.12.0-cpu-py310-pluto-2\"\n",
    "echo \"fullname: ${fullname} ######################\"\n",
    "\n",
    "aws ecr describe-repositories --repository-names \"${image_name}\"\n",
    "if [ $? -ne 0 ]\n",
    "then\n",
    "aws ecr create-repository --repository-name \"${image_name}\"\n",
    "fi"
   ]
  },
  {
   "cell_type": "code",
   "execution_count": 95,
   "id": "32b9d14b",
   "metadata": {},
   "outputs": [
    {
     "name": "stdout",
     "output_type": "stream",
     "text": [
      "WARNING! Your password will be stored unencrypted in /home/ec2-user/.docker/config.json.\n",
      "Configure a credential helper to remove this warning. See\n",
      "https://docs.docker.com/engine/reference/commandline/login/#credentials-store\n",
      "\n",
      "Login Succeeded\n"
     ]
    }
   ],
   "source": [
    "!aws ecr get-login-password --region us-east-1 | docker login --username AWS --password-stdin 520713654638.dkr.ecr.us-east-1.amazonaws.com"
   ]
  },
  {
   "cell_type": "code",
   "execution_count": 118,
   "id": "9a7fe360",
   "metadata": {},
   "outputs": [
    {
     "name": "stdout",
     "output_type": "stream",
     "text": [
      "\u001b[1A\u001b[1B\u001b[0G\u001b[?25l[+] Building 0.0s (0/1)                                          docker:default\n",
      "\u001b[?25h\u001b[1A\u001b[0G\u001b[?25l[+] Building 0.1s (7/7) FINISHED                                 docker:default\n",
      "\u001b[34m => [internal] load build definition from Dockerfile.inference             0.0s\n",
      "\u001b[0m\u001b[34m => => transferring dockerfile: 219B                                       0.0s\n",
      "\u001b[0m\u001b[34m => [internal] load metadata for 520713654638.dkr.ecr.us-east-1.amazonaws  0.0s\n",
      "\u001b[0m\u001b[34m => [internal] load .dockerignore                                          0.0s\n",
      "\u001b[0m\u001b[34m => => transferring context: 2B                                            0.0s\n",
      "\u001b[0m\u001b[34m => [1/2] FROM 520713654638.dkr.ecr.us-east-1.amazonaws.com/sagemaker-ten  0.0s\n",
      "\u001b[0m\u001b[34m => [internal] load build context                                          0.0s\n",
      "\u001b[0m\u001b[34m => => transferring context: 34B                                           0.0s\n",
      "\u001b[0m\u001b[34m => CACHED [2/2] ADD ./inference.py /opt/ml/code/inference.py              0.0s\n",
      "\u001b[0m\u001b[34m => exporting to image                                                     0.0s\n",
      "\u001b[0m\u001b[34m => => exporting layers                                                    0.0s\n",
      "\u001b[0m\u001b[34m => => writing image sha256:cf8ba3d8620175b558688ef307e58126f0cf1a4c8a44a  0.0s\n",
      "\u001b[0m\u001b[34m => => naming to 719055683367.dkr.ecr.us-east-1.amazonaws.com/tensorflow-  0.0s\n",
      "\u001b[0m\u001b[?25h"
     ]
    }
   ],
   "source": [
    "!docker build -t 719055683367.dkr.ecr.us-east-1.amazonaws.com/tensorflow-inference:ELEONORAAGGIUNGILA -f Dockerfile.inference ."
   ]
  },
  {
   "cell_type": "code",
   "execution_count": 120,
   "id": "914a3a6a",
   "metadata": {},
   "outputs": [
    {
     "name": "stdout",
     "output_type": "stream",
     "text": [
      "REPOSITORY                                                                  TAG                            IMAGE ID       CREATED         SIZE\n",
      "719055683367.dkr.ecr.us-east-1.amazonaws.com/tensorflow-inference           ELEONORAAGGIUNGILA             cf8ba3d86201   5 minutes ago   377MB\n",
      "719055683367.dkr.ecr.us-east-1.amazonaws.com/tensorflow-inference           FATTABENE                      cf8ba3d86201   5 minutes ago   377MB\n",
      "719055683367.dkr.ecr.us-east-1.amazonaws.com/tensorflow-inference           ciao2.12.0-cpu-py310-pluto-2   d734c53a0901   2 hours ago     8.73GB\n",
      "719055683367.dkr.ecr.us-east-1.amazonaws.com/tensorflow-training            latest                         d734c53a0901   2 hours ago     8.73GB\n",
      "763104351884.dkr.ecr.us-east-1.amazonaws.com/tensorflow-training            2.12.0-cpu-py310               372f61a2285a   2 hours ago     8.73GB\n",
      "<none>                                                                      <none>                         efc3524cb9cd   2 hours ago     8.73GB\n",
      "719055683367.dkr.ecr.us-east-1.amazonaws.com/tensorflow-inference           2.12.0-cpu-py310-pluto-2       6c4e927c7041   5 years ago     377MB\n",
      "719055683367.dkr.ecr.us-east-1.amazonaws.com/tensorflow-inference           mondo                          6c4e927c7041   5 years ago     377MB\n",
      "520713654638.dkr.ecr.us-east-1.amazonaws.com/sagemaker-tensorflow-serving   1.12.0-cpu                     27aee10a9f6a   5 years ago     377MB\n"
     ]
    }
   ],
   "source": [
    "!docker images"
   ]
  },
  {
   "cell_type": "code",
   "execution_count": 119,
   "id": "e29b5ed0",
   "metadata": {},
   "outputs": [
    {
     "name": "stdout",
     "output_type": "stream",
     "text": [
      "The push refers to repository [719055683367.dkr.ecr.us-east-1.amazonaws.com/tensorflow-inference]\n",
      "\n",
      "\u001b[1B31a415ff: Preparing \n",
      "\u001b[1Bab352ca1: Preparing \n",
      "\u001b[1B1bba5efb: Preparing \n",
      "\u001b[1Bbcb4634f: Preparing \n",
      "\u001b[1Bebf683ff: Preparing \n",
      "\u001b[1B9781a77c: Preparing \n",
      "\u001b[1B13a20bf2: Preparing \n",
      "\u001b[1Bcdf4e497: Preparing \n",
      "\u001b[1B3f9454c0: Preparing \n",
      "\u001b[1B6b5893dc: Layer already exists \u001b[7A\u001b[2K\u001b[1A\u001b[2KELEONORAAGGIUNGILA: digest: sha256:2390b7abaee21d78a459b5c4818786fffac459541151d7405c8ced576097a91c size: 2410\n"
     ]
    }
   ],
   "source": [
    "!docker push 719055683367.dkr.ecr.us-east-1.amazonaws.com/tensorflow-inference:ELEONORAAGGIUNGILA"
   ]
  },
  {
   "cell_type": "code",
   "execution_count": null,
   "id": "2ebaff2d",
   "metadata": {},
   "outputs": [],
   "source": []
  }
 ],
 "metadata": {
  "kernelspec": {
   "display_name": "conda_python3",
   "language": "python",
   "name": "conda_python3"
  },
  "language_info": {
   "codemirror_mode": {
    "name": "ipython",
    "version": 3
   },
   "file_extension": ".py",
   "mimetype": "text/x-python",
   "name": "python",
   "nbconvert_exporter": "python",
   "pygments_lexer": "ipython3",
   "version": "3.10.15"
  }
 },
 "nbformat": 4,
 "nbformat_minor": 5
}
