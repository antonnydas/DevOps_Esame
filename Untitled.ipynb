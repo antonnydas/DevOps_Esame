{
 "cells": [
  {
   "cell_type": "markdown",
   "id": "87e6efe1",
   "metadata": {},
   "source": [
    "# caricamento immagine per inferenza"
   ]
  },
  {
   "cell_type": "code",
   "execution_count": null,
   "id": "c5f487d1",
   "metadata": {},
   "outputs": [],
   "source": [
    "import scipy.sparse\n",
    "from sagemaker import image_uris\n",
    "image_uris.retrieve(framework='tensorflow',region='us-east-1',version='2.12.1',image_scope='inference',instance_type='ml.p2.xlarge')\n",
    "    "
   ]
  },
  {
   "cell_type": "code",
   "execution_count": null,
   "id": "dd75c148",
   "metadata": {},
   "outputs": [],
   "source": [
    "# login all' elastic container registry con Entrambi i containerx"
   ]
  },
  {
   "cell_type": "code",
   "execution_count": null,
   "id": "8d7784f8",
   "metadata": {},
   "outputs": [],
   "source": [
    "!aws ecr get-login-password --region us-east-1 | docker login --username AWS --password-stdin 763104351884.dkr.ecr.us-east-1.amazonaws.com/tensorflow-inference:2.12.1-cpu"
   ]
  },
  {
   "cell_type": "code",
   "execution_count": null,
   "id": "a66e453f",
   "metadata": {},
   "outputs": [],
   "source": [
    "!docker pull 763104351884.dkr.ecr.us-east-1.amazonaws.com/tensorflow-inference:2.12.1-cpu"
   ]
  },
  {
   "cell_type": "markdown",
   "id": "24f7810d",
   "metadata": {},
   "source": [
    "# caricamento immagine per il training"
   ]
  },
  {
   "cell_type": "code",
   "execution_count": null,
   "id": "f8d1a919",
   "metadata": {},
   "outputs": [],
   "source": [
    "import scipy.sparse\n",
    "from sagemaker import image_uris\n",
    "image_uris.retrieve(framework='tensorflow',region='us-east-1',version='2.12.0',image_scope='training',instance_type='ml.c5.4xlarge')\n"
   ]
  },
  {
   "cell_type": "code",
   "execution_count": null,
   "id": "ff6728ed",
   "metadata": {},
   "outputs": [],
   "source": [
    "!aws ecr get-login-password --region us-east-1 | docker login --username AWS --password-stdin  763104351884.dkr.ecr.us-east-1.amazonaws.com/tensorflow-training:2.12.0-cpu-py310"
   ]
  },
  {
   "cell_type": "markdown",
   "id": "e3d41df4",
   "metadata": {},
   "source": [
    "# Build dell'immagine training\n",
    "#### ricorda di mettere l'ID utente "
   ]
  },
  {
   "cell_type": "code",
   "execution_count": null,
   "id": "3698b1d2",
   "metadata": {},
   "outputs": [],
   "source": [
    "!docker build -t 975050125079.dkr.ecr.us-east-1.amazonaws.com/tensorflow-training:2.12.0-cpu-py310  -f Dockerfile.train . "
   ]
  },
  {
   "cell_type": "code",
   "execution_count": null,
   "id": "f5fb4dcf",
   "metadata": {},
   "outputs": [],
   "source": [
    "%%bash\n",
    "\n",
    "image_name=\"tensorflow-training\"\n",
    "echo \"image_name: ${image_name} ######################\"\n",
    "\n",
    "account=$(aws sts get-caller-identity --query Account --output text)\n",
    "if [ $? -ne 0 ]; then\n",
    "    echo \"Error getting account ID. Please check your AWS credentials.\"\n",
    "    exit 1\n",
    "fi\n",
    "echo \"account: ${account} ######################\"\n",
    "\n",
    "region=$(aws configure get region)\n",
    "if [ -z \"$region\" ]; then\n",
    "    region=\"us-west-2\"\n",
    "fi\n",
    "echo \"region: ${region} ######################\"\n",
    "\n",
    "fullname=\"${account}.dkr.ecr.${region}.amazonaws.com/${image_name}:latest\"\n",
    "echo \"fullname: ${fullname} ######################\"\n",
    "\n",
    "if aws ecr describe-repositories --repository-names \"${image_name}\" >/dev/null 2>&1; then\n",
    "    echo \"Repository '${image_name}' already exists.\"\n",
    "else\n",
    "    if aws ecr create-repository --repository-name \"${image_name}\"; then\n",
    "        echo \"Repository '${image_name}' created.\"\n",
    "    else\n",
    "        echo \"Failed to create repository '${image_name}'.\"\n",
    "        exit 1\n",
    "    fi\n",
    "fi"
   ]
  },
  {
   "cell_type": "code",
   "execution_count": null,
   "id": "5fb5865c",
   "metadata": {},
   "outputs": [],
   "source": [
    "!aws ecr get-login-password --region us-east-1 | docker login --username AWS --password-stdin 975050125079.dkr.ecr.us-east-1.amazonaws.com/tensorflow-training:latest"
   ]
  },
  {
   "cell_type": "code",
   "execution_count": null,
   "id": "24f763da",
   "metadata": {},
   "outputs": [],
   "source": [
    "!docker images"
   ]
  },
  {
   "cell_type": "code",
   "execution_count": null,
   "id": "30a74fdc",
   "metadata": {},
   "outputs": [],
   "source": [
    "!docker push 975050125079.dkr.ecr.us-east-1.amazonaws.com/tensorflow-training "
   ]
  },
  {
   "cell_type": "code",
   "execution_count": null,
   "id": "97913d7a",
   "metadata": {},
   "outputs": [],
   "source": [
    "bucket = \"bucket-prova333\""
   ]
  },
  {
   "cell_type": "code",
   "execution_count": null,
   "id": "e03a2329",
   "metadata": {},
   "outputs": [],
   "source": [
    "# training \n",
    "\n",
    "from sagemaker import get_execution_role\n",
    "from sagemaker.estimator import Estimator\n",
    "import os\n",
    "\n",
    "role = get_execution_role()\n",
    "\n",
    "hyperparameters = {'epochs': 1}\n",
    "\n",
    "estimator = Estimator(\n",
    "    image_uri= '975050125079.dkr.ecr.us-east-1.amazonaws.com/tensorflow-training',\n",
    "    role=role,\n",
    "    instance_count=1,\n",
    "    #instance_type = 'local'\n",
    "    instance_type='ml.m5.large',\n",
    "    hyperparameters=hyperparameters,\n",
    "    output_path=f's3://bucket-prova333/output/'\n",
    "    #output_path='file://{}/data/output'.format(os.getcwd())\n",
    ")\n",
    "\n",
    "print('##### ESTIMATOR FIT STARTED')\n",
    "#estimator.fit('file://{}/data/input/train.csv'.format(os.getcwd()))\n",
    "estimator.fit(f's3://bucket-prova333/Input/train.csv')\n",
    "print('##### ESTIMATOR FIT COMPLETED')\n"
   ]
  },
  {
   "cell_type": "markdown",
   "id": "e8be6568",
   "metadata": {},
   "source": [
    "# caricamento e inferenza"
   ]
  },
  {
   "cell_type": "code",
   "execution_count": null,
   "id": "7880faac",
   "metadata": {},
   "outputs": [],
   "source": [
    "!pip install keras tensorflow"
   ]
  },
  {
   "cell_type": "code",
   "execution_count": null,
   "id": "3294c9bd",
   "metadata": {},
   "outputs": [],
   "source": [
    "from keras.models import load_model"
   ]
  },
  {
   "cell_type": "code",
   "execution_count": null,
   "id": "d3a02284",
   "metadata": {},
   "outputs": [],
   "source": [
    "!tar -xzf model.tar.gz"
   ]
  },
  {
   "cell_type": "code",
   "execution_count": null,
   "id": "8121b2b7",
   "metadata": {},
   "outputs": [],
   "source": [
    "model = load_model(\"titanic_2_la_vendetta.h5\")\n",
    "\n",
    "type(model)\n"
   ]
  },
  {
   "cell_type": "code",
   "execution_count": null,
   "id": "a6dab377",
   "metadata": {},
   "outputs": [],
   "source": [
    "import numpy as np\n",
    "import pandas as pd\n",
    "from sklearn.preprocessing import LabelEncoder, StandardScaler\n",
    "\n",
    "predict_input = np.array([\n",
    "    [0.475,0.37,0.125,0.5095,0.2165,0.1125,0.165,9]])"
   ]
  },
  {
   "cell_type": "code",
   "execution_count": null,
   "id": "ab38e624",
   "metadata": {},
   "outputs": [],
   "source": [
    "predict_result = model.predict(predict_input)"
   ]
  },
  {
   "cell_type": "code",
   "execution_count": null,
   "id": "bc91029e",
   "metadata": {},
   "outputs": [],
   "source": [
    "import json \n",
    "json.dumps({\"predict_result\": predict_result.tolist()})\n"
   ]
  },
  {
   "cell_type": "markdown",
   "id": "2fa971b7",
   "metadata": {},
   "source": [
    "# creazione della directory per l'inferenza "
   ]
  },
  {
   "cell_type": "code",
   "execution_count": null,
   "id": "ab31b345",
   "metadata": {},
   "outputs": [],
   "source": [
    "%%sh\n",
    "# Specify an image name\n",
    "image_name=tensorflow-inference\n",
    "echo \"image_name: ${image_name} ######################\"\n",
    "\n",
    "account=$(aws sts get-caller-identity --query Account --output text)\n",
    "echo \"account: ${account} ######################\"\n",
    "\n",
    "# Get the region defined in the current configuration (default to us-west-2 if none defined)\n",
    "region=$(aws configure get region)\n",
    "echo \"region: ${region} ######################\"\n",
    "\n",
    "fullname=\"${account}.dkr.ecr.${region}.amazonaws.com/${image_name}:2.12.0-cpu-py310-pluto-2\"\n",
    "echo \"fullname: ${fullname} ######################\"\n",
    "\n",
    "aws ecr describe-repositories --repository-names \"${image_name}\"\n",
    "if [ $? -ne 0 ]\n",
    "then\n",
    "aws ecr create-repository --repository-name \"${image_name}\"\n",
    "fi"
   ]
  },
  {
   "cell_type": "code",
   "execution_count": null,
   "id": "3dd8dc15",
   "metadata": {},
   "outputs": [],
   "source": [
    "!aws ecr get-login-password --region us-east-1 | docker login --username AWS --password-stdin 975050125079.dkr.ecr.us-east-1.amazonaws.com/tensorflow-inferenc"
   ]
  },
  {
   "cell_type": "code",
   "execution_count": null,
   "id": "b579892e",
   "metadata": {},
   "outputs": [],
   "source": [
    "!docker build -t 975050125079.dkr.ecr.us-east-1.amazonaws.com/tensorflow-inference  -f Dockerfile.inference . "
   ]
  },
  {
   "cell_type": "code",
   "execution_count": null,
   "id": "630c5a8d",
   "metadata": {},
   "outputs": [],
   "source": [
    "!docker images"
   ]
  },
  {
   "cell_type": "code",
   "execution_count": null,
   "id": "a4b4ff7d",
   "metadata": {},
   "outputs": [],
   "source": [
    "!docker push 975050125079.dkr.ecr.us-east-1.amazonaws.com/tensorflow-inference"
   ]
  },
  {
   "cell_type": "code",
   "execution_count": null,
   "id": "7c0d022a",
   "metadata": {},
   "outputs": [],
   "source": [
    "#scrivi nel terminale il seguente comando: \n",
    "docker run -ti --rm <IDPROFILO>.dkr.ecr.us-east-1.amazonaws.com/tensorflow-inference:<TAG>\n",
    "    \n",
    "#comando corretto\n",
    "docker run -ti --rm 975050125079.dkr.ecr.us-east-1.amazonaws.com/tensorflow-inference:2.12.0-cpu-py310-pluto-2\n",
    "#mi raccomando, togli i < > \n",
    "\n",
    "curl --silent 'http://172.17.0.2:8080/ping?Pclass=0.5&Sex=0.3'"
   ]
  },
  {
   "cell_type": "code",
   "execution_count": null,
   "id": "6515a6bb",
   "metadata": {},
   "outputs": [],
   "source": [
    "## non runnare\n",
    "\n",
    "from sagemaker import get_execution_role\n",
    "import boto3\n",
    "import datetime\n",
    "from time import gmtime, strftime\n",
    "\n",
    "# https://docs.aws.amazon.com/sagemaker/latest/dg/realtime-endpoints-deployment.html\n",
    "\n",
    "my_session = boto3.session.Session()\n",
    "aws_region = my_session.region_name\n",
    "\n",
    "sagemaker_client = boto3.client('sagemaker', region_name=aws_region)\n",
    "\n",
    "sagemaker_role = get_execution_role()\n",
    "\n",
    "model_name = 'amoreodio'\n",
    "\n",
    "# Create model\n",
    "create_model_response = sagemaker_client.create_model(\n",
    "    ModelName = model_name,\n",
    "    ExecutionRoleArn = sagemaker_role,\n",
    "    PrimaryContainer = {\n",
    "        'Image': '975050125079.dkr.ecr.us-east-1.amazonaws.com/tensorflow-inference:2.12.0-cpu-py310-pluto-2',\n",
    "        'ModelDataUrl': 's3://bucket-prova333/output/tensorflow-training-2024-11-21-16-04-55-448/output/model.tar.gz',\n",
    "    })\n",
    "\n"
   ]
  },
  {
   "cell_type": "markdown",
   "id": "3c8e1b45",
   "metadata": {},
   "source": [
    "#### l'output del modello da ricreare è il seguente: s3://bucket-prova333/output/tensorflow-training-2024-11-21-16-04-55-448/output/model.tar.gz\n",
    "\n",
    "#### l'instance type qui sotto può essere: ml.p2.xlarge oppure 'ml.t2.medium'"
   ]
  },
  {
   "cell_type": "code",
   "execution_count": null,
   "id": "2a2ea2af",
   "metadata": {},
   "outputs": [],
   "source": [
    "## NON RUNNARE\n",
    "\n",
    "\n",
    "# Create an endpoint config name. Here we create one based on the date  \n",
    "# so it we can search endpoints based on creation time.\n",
    "endpoint_config_name = 'amoreodio-config'\n",
    "\n",
    "instance_type = 'ml.t2.medium'\n",
    "\n",
    "endpoint_config_response = sagemaker_client.create_endpoint_config(\n",
    "    EndpointConfigName=endpoint_config_name,\n",
    "    # You will specify this name in a CreateEndpoint request.\n",
    "    # List of ProductionVariant objects, one for each model that you want to host at this endpoint.\n",
    "    ProductionVariants=[\n",
    "        {\n",
    "            \"VariantName\": \"variant1\", # The name of the production variant.\n",
    "            \"ModelName\": model_name,\n",
    "            \"InstanceType\": instance_type, # Specify the compute instance type.\n",
    "            \"InitialInstanceCount\": 1 # Numero di istanze da aggiungere come minimo .\n",
    "        }\n",
    "    ]\n",
    ")\n",
    "\n",
    "print(f\"Created EndpointConfig: {endpoint_config_response['EndpointConfigArn']}\")\n",
    "\n",
    "# The name of the endpoint. The name must be unique within an AWS Region in your AWS account.\n",
    "endpoint_name = 'amoreodio'\n",
    "\n",
    "create_endpoint_response = sagemaker_client.create_endpoint(\n",
    "                                            EndpointName=endpoint_name, \n",
    "                                            EndpointConfigName=endpoint_config_name)\n",
    "create_endpoint_response = sagemaker_client.create_endpoint(\n",
    "    EndpointName=endpoint_name, \n",
    "    EndpointConfigName=endpoint_config_name\n",
    ")"
   ]
  },
  {
   "cell_type": "code",
   "execution_count": null,
   "id": "3cc634a0",
   "metadata": {},
   "outputs": [],
   "source": [
    "\n",
    "from sagemaker import get_execution_role\n",
    "import boto3\n",
    "\n",
    "# Initialize session and clients\n",
    "my_session = boto3.session.Session()\n",
    "aws_region = my_session.region_name\n",
    "sagemaker_client = boto3.client('sagemaker', region_name=aws_region)\n",
    "\n",
    "# Define the SageMaker execution role\n",
    "sagemaker_role = get_execution_role()\n",
    "\n",
    "# Model details\n",
    "model_name = 'blucorallo'\n",
    "\n",
    "# Create the model\n",
    "create_model_response = sagemaker_client.create_model(\n",
    "    ModelName=model_name,\n",
    "    ExecutionRoleArn=sagemaker_role,\n",
    "    PrimaryContainer={\n",
    "        \n",
    "        ### correggi la Image e la ModelDataUrl\n",
    "        'Image': '975050125079.dkr.ecr.us-east-1.amazonaws.com/tensorflow-inference:2.12.0-cpu-py310-pluto-2',\n",
    "        'ModelDataUrl': 's3://bucket-prova333/output/tensorflow-training-2024-11-21-16-04-55-448/output/model.tar.gz',\n",
    "    }\n",
    ")\n",
    "\n",
    "# Create endpoint config\n",
    "endpoint_config_name = 'blucorallo-config'\n",
    "instance_type = 'ml.m5.large'\n",
    "\n",
    "endpoint_config_response = sagemaker_client.create_endpoint_config(\n",
    "    EndpointConfigName=endpoint_config_name,\n",
    "    ProductionVariants=[\n",
    "        {\n",
    "            \"VariantName\": \"variant1\",\n",
    "            \"ModelName\": model_name,\n",
    "            \"InstanceType\": instance_type,\n",
    "            \"InitialInstanceCount\": 1\n",
    "        }\n",
    "    ]\n",
    ")\n",
    "print(f\"Created EndpointConfig: {endpoint_config_response['EndpointConfigArn']}\")\n",
    "\n",
    "# Create the endpoint\n",
    "endpoint_name = 'blucorallo'\n",
    "create_endpoint_response = sagemaker_client.create_endpoint(\n",
    "    EndpointName=endpoint_name, \n",
    "    EndpointConfigName=endpoint_config_name\n",
    ")\n",
    "\n",
    "# Print status\n",
    "print(f\"Creating Endpoint: {create_endpoint_response['EndpointArn']}\")\n"
   ]
  },
  {
   "cell_type": "code",
   "execution_count": null,
   "id": "868607b7",
   "metadata": {},
   "outputs": [],
   "source": [
    "create_endpoint_response = sagemaker_client.create_endpoint(\n",
    "    EndpointName=endpoint_name, \n",
    "    EndpointConfigName=endpoint_config_name\n",
    ")\n"
   ]
  },
  {
   "cell_type": "code",
   "execution_count": null,
   "id": "063b9e07",
   "metadata": {},
   "outputs": [],
   "source": [
    "print(create_endpoint_response)"
   ]
  },
  {
   "cell_type": "code",
   "execution_count": null,
   "id": "8c11ebb1",
   "metadata": {},
   "outputs": [],
   "source": [
    "describe_response = sagemaker_client.describe_endpoint(EndpointName='azzurropesto')\n",
    "print(describe_response['EndpointStatus'])\n"
   ]
  },
  {
   "cell_type": "code",
   "execution_count": null,
   "id": "868bbde5",
   "metadata": {},
   "outputs": [],
   "source": [
    "response = sagemaker_client.describe_endpoint(EndpointName='azzurropesto')\n",
    "print(response['EndpointStatus'])\n",
    "print(response['FailureReason'])  # This should show why the endpoint creation failed.\n"
   ]
  },
  {
   "cell_type": "code",
   "execution_count": null,
   "id": "632c30eb",
   "metadata": {},
   "outputs": [],
   "source": []
  }
 ],
 "metadata": {
  "kernelspec": {
   "display_name": "conda_python3",
   "language": "python",
   "name": "conda_python3"
  },
  "language_info": {
   "codemirror_mode": {
    "name": "ipython",
    "version": 3
   },
   "file_extension": ".py",
   "mimetype": "text/x-python",
   "name": "python",
   "nbconvert_exporter": "python",
   "pygments_lexer": "ipython3",
   "version": "3.10.15"
  }
 },
 "nbformat": 4,
 "nbformat_minor": 5
}
