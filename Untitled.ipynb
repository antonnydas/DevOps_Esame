{
 "cells": [
  {
   "cell_type": "code",
   "execution_count": 61,
   "id": "35661a8d",
   "metadata": {},
   "outputs": [
    {
     "data": {
      "text/plain": [
       "'520713654638.dkr.ecr.us-east-1.amazonaws.com/sagemaker-tensorflow-serving:1.12.0-cpu'"
      ]
     },
     "execution_count": 61,
     "metadata": {},
     "output_type": "execute_result"
    }
   ],
   "source": [
    "import scipy.sparse\n",
    "from sagemaker import image_uris\n",
    "image_uris.retrieve(framework='tensorflow',region='us-east-1',version='1.12.0',image_scope='inference',instance_type='ml.c5.4xlarge')\n"
   ]
  },
  {
   "cell_type": "code",
   "execution_count": 62,
   "id": "ac00683e",
   "metadata": {},
   "outputs": [],
   "source": [
    "# login all' elastic container registry"
   ]
  },
  {
   "cell_type": "code",
   "execution_count": 63,
   "id": "86a53f4a",
   "metadata": {},
   "outputs": [
    {
     "name": "stdout",
     "output_type": "stream",
     "text": [
      "WARNING! Your password will be stored unencrypted in /home/ec2-user/.docker/config.json.\n",
      "Configure a credential helper to remove this warning. See\n",
      "https://docs.docker.com/engine/reference/commandline/login/#credentials-store\n",
      "\n",
      "Login Succeeded\n"
     ]
    }
   ],
   "source": [
    "!aws ecr get-login-password --region us-east-1 | docker login --username AWS --password-stdin 520713654638.dkr.ecr.us-east-1.amazonaws.com/sagemaker-tensorflow-serving:1.12.0-cpu"
   ]
  },
  {
   "cell_type": "code",
   "execution_count": 64,
   "id": "460ad48a",
   "metadata": {},
   "outputs": [
    {
     "name": "stdout",
     "output_type": "stream",
     "text": [
      "1.12.0-cpu: Pulling from sagemaker-tensorflow-serving\n",
      "Digest: sha256:026c2a51a2e9e258481b17c110f9c9640dc010bf71463d4bd31e925ced7c6a49\n",
      "Status: Downloaded newer image for 520713654638.dkr.ecr.us-east-1.amazonaws.com/sagemaker-tensorflow-serving:1.12.0-cpu\n",
      "520713654638.dkr.ecr.us-east-1.amazonaws.com/sagemaker-tensorflow-serving:1.12.0-cpu\n"
     ]
    }
   ],
   "source": [
    "!docker pull 520713654638.dkr.ecr.us-east-1.amazonaws.com/sagemaker-tensorflow-serving:1.12.0-cpu"
   ]
  },
  {
   "cell_type": "code",
   "execution_count": 65,
   "id": "6395fbde",
   "metadata": {},
   "outputs": [
    {
     "name": "stderr",
     "output_type": "stream",
     "text": [
      "INFO:sagemaker.image_uris:Defaulting to only available Python version: py310\n"
     ]
    },
    {
     "data": {
      "text/plain": [
       "'763104351884.dkr.ecr.us-east-1.amazonaws.com/tensorflow-training:2.12.0-cpu-py310'"
      ]
     },
     "execution_count": 65,
     "metadata": {},
     "output_type": "execute_result"
    }
   ],
   "source": [
    "import scipy.sparse\n",
    "from sagemaker import image_uris\n",
    "image_uris.retrieve(framework='tensorflow',region='us-east-1',version='2.12.0',image_scope='training',instance_type='ml.c5.4xlarge')\n"
   ]
  },
  {
   "cell_type": "code",
   "execution_count": 67,
   "id": "de1b0da2",
   "metadata": {},
   "outputs": [
    {
     "name": "stdout",
     "output_type": "stream",
     "text": [
      "WARNING! Your password will be stored unencrypted in /home/ec2-user/.docker/config.json.\n",
      "Configure a credential helper to remove this warning. See\n",
      "https://docs.docker.com/engine/reference/commandline/login/#credentials-store\n",
      "\n",
      "Login Succeeded\n"
     ]
    }
   ],
   "source": [
    "!aws ecr get-login-password --region us-east-1 | docker login --username AWS --password-stdin  520713654638.dkr.ecr.us-east-1.amazonaws.com/sagemaker-tensorflow-serving:1.12.0-cpu"
   ]
  },
  {
   "cell_type": "code",
   "execution_count": 68,
   "id": "5af9d657",
   "metadata": {},
   "outputs": [],
   "source": [
    "# ottenimento del nostro ID utente"
   ]
  },
  {
   "cell_type": "code",
   "execution_count": 75,
   "id": "da66821d",
   "metadata": {},
   "outputs": [
    {
     "name": "stdout",
     "output_type": "stream",
     "text": [
      "719055683367\n"
     ]
    }
   ],
   "source": [
    "!aws sts get-caller-identity --query \"Account\" --output text"
   ]
  },
  {
   "cell_type": "code",
   "execution_count": 76,
   "id": "a34ada9a",
   "metadata": {},
   "outputs": [
    {
     "name": "stdout",
     "output_type": "stream",
     "text": [
      "\u001b[1A\u001b[1B\u001b[0G\u001b[?25l[+] Building 0.0s (0/1)                                          docker:default\n",
      "\u001b[?25h\u001b[1A\u001b[0G\u001b[?25l[+] Building 0.1s (9/9) FINISHED                                 docker:default\n",
      "\u001b[34m => [internal] load build definition from Dockerfile.train                 0.0s\n",
      "\u001b[0m\u001b[34m => => transferring dockerfile: 362B                                       0.0s\n",
      "\u001b[0m\u001b[34m => [internal] load metadata for 763104351884.dkr.ecr.us-east-1.amazonaws  0.0s\n",
      "\u001b[0m\u001b[34m => [internal] load .dockerignore                                          0.0s\n",
      "\u001b[0m\u001b[34m => => transferring context: 2B                                            0.0s\n",
      "\u001b[0m\u001b[34m => [1/4] FROM 763104351884.dkr.ecr.us-east-1.amazonaws.com/tensorflow-tr  0.0s\n",
      "\u001b[0m\u001b[34m => [internal] load build context                                          0.0s\n",
      "\u001b[0m\u001b[34m => => transferring context: 64B                                           0.0s\n",
      "\u001b[0m\u001b[34m => CACHED [2/4] ADD ./requirements.txt /opt/ml/code/requirements.txt      0.0s\n",
      "\u001b[0m\u001b[34m => CACHED [3/4] RUN pip install -r /opt/ml/code/requirements.txt          0.0s\n",
      "\u001b[0m\u001b[34m => CACHED [4/4] ADD ./main.py /opt/ml/code/main.py                        0.0s\n",
      "\u001b[0m\u001b[34m => exporting to image                                                     0.0s\n",
      "\u001b[0m\u001b[34m => => exporting layers                                                    0.0s\n",
      "\u001b[0m\u001b[34m => => writing image sha256:ece0ee947623e0b9f35990b8e42eeed0c0d4b25c43d38  0.0s\n",
      "\u001b[0m\u001b[34m => => naming to 520713654638.dkr.ecr.us-east-1.amazonaws.com/sagemaker-t  0.0s\n",
      "\u001b[0m\u001b[?25h"
     ]
    }
   ],
   "source": [
    "!docker build -t 520713654638.dkr.ecr.us-east-1.amazonaws.com/sagemaker-tensorflow-serving:1.12.0-cpu  -f Dockerfile.train . "
   ]
  },
  {
   "cell_type": "code",
   "execution_count": 73,
   "id": "064a0a60",
   "metadata": {},
   "outputs": [
    {
     "name": "stdout",
     "output_type": "stream",
     "text": [
      "image_name: tensorflow-training ######################\n",
      "account: 719055683367 ######################\n",
      "region: us-east-1 ######################\n",
      "fullname: 719055683367.dkr.ecr.us-east-1.amazonaws.com/tensorflow-training:latest ######################\n",
      "{\n",
      "    \"repository\": {\n",
      "        \"repositoryArn\": \"arn:aws:ecr:us-east-1:719055683367:repository/tensorflow-training\",\n",
      "        \"registryId\": \"719055683367\",\n",
      "        \"repositoryName\": \"tensorflow-training\",\n",
      "        \"repositoryUri\": \"719055683367.dkr.ecr.us-east-1.amazonaws.com/tensorflow-training\",\n",
      "        \"createdAt\": 1730733770.528,\n",
      "        \"imageTagMutability\": \"MUTABLE\",\n",
      "        \"imageScanningConfiguration\": {\n",
      "            \"scanOnPush\": false\n",
      "        },\n",
      "        \"encryptionConfiguration\": {\n",
      "            \"encryptionType\": \"AES256\"\n",
      "        }\n",
      "    }\n",
      "}\n",
      "Repository 'tensorflow-training' created.\n"
     ]
    }
   ],
   "source": [
    "%%bash\n",
    "\n",
    "image_name=\"tensorflow-training\"\n",
    "echo \"image_name: ${image_name} ######################\"\n",
    "\n",
    "account=$(aws sts get-caller-identity --query Account --output text)\n",
    "if [ $? -ne 0 ]; then\n",
    "    echo \"Error getting account ID. Please check your AWS credentials.\"\n",
    "    exit 1\n",
    "fi\n",
    "echo \"account: ${account} ######################\"\n",
    "\n",
    "region=$(aws configure get region)\n",
    "if [ -z \"$region\" ]; then\n",
    "    region=\"us-west-2\"\n",
    "fi\n",
    "echo \"region: ${region} ######################\"\n",
    "\n",
    "fullname=\"${account}.dkr.ecr.${region}.amazonaws.com/${image_name}:latest\"\n",
    "echo \"fullname: ${fullname} ######################\"\n",
    "\n",
    "if aws ecr describe-repositories --repository-names \"${image_name}\" >/dev/null 2>&1; then\n",
    "    echo \"Repository '${image_name}' already exists.\"\n",
    "else\n",
    "    if aws ecr create-repository --repository-name \"${image_name}\"; then\n",
    "        echo \"Repository '${image_name}' created.\"\n",
    "    else\n",
    "        echo \"Failed to create repository '${image_name}'.\"\n",
    "        exit 1\n",
    "    fi\n",
    "fi"
   ]
  },
  {
   "cell_type": "code",
   "execution_count": 85,
   "id": "133c94f4",
   "metadata": {},
   "outputs": [
    {
     "name": "stdout",
     "output_type": "stream",
     "text": [
      "The push refers to repository [719055683367.dkr.ecr.us-east-1.amazonaws.com/tensorflow-training]\n",
      "\n",
      "\u001b[1B98875585: Preparing \n",
      "\u001b[1B554b43e7: Preparing \n",
      "\u001b[1B9f2c6878: Preparing \n",
      "\u001b[1B22878ecf: Preparing \n",
      "\u001b[1Bdb4f6696: Preparing \n",
      "\u001b[1Bf529ae49: Preparing \n",
      "\u001b[1B75f13e59: Preparing \n",
      "\u001b[1B0c6c24f9: Preparing \n",
      "\u001b[1Ba1e64371: Preparing \n",
      "\u001b[1B29631b13: Preparing \n",
      "\u001b[1B3f03efd0: Preparing \n",
      "\u001b[1B9b75d5ee: Preparing \n",
      "\u001b[1B370de786: Preparing \n",
      "\u001b[1Ba16f1a7a: Preparing \n",
      "\u001b[1Bfc8740d1: Preparing \n",
      "\u001b[1B292691fc: Preparing \n",
      "\u001b[1B6672bf9d: Preparing \n",
      "\u001b[1B607be3da: Preparing \n",
      "\u001b[1Bafc9b360: Preparing \n",
      "\u001b[1Bf934e4df: Preparing \n",
      "\u001b[1B80a2a6eb: Preparing \n",
      "\u001b[1Ba0538fa4: Preparing \n",
      "\u001b[1B6d109c54: Preparing \n",
      "\u001b[1Bf0a068df: Preparing \n",
      "\u001b[1B443b7673: Preparing \n",
      "\u001b[1B37a36861: Preparing \n",
      "\u001b[1Becb4bd81: Preparing \n",
      "\u001b[1B34b60c81: Preparing \n",
      "\u001b[1B07d5d0ab: Preparing \n",
      "\u001b[1Be6c8e003: Preparing \n",
      "\u001b[1Bab822c1c: Preparing \n",
      "\u001b[1B3609315f: Preparing \n",
      "\u001b[32B54b43e7: Pushed   2.616GB/2.593GB\u001b[30A\u001b[2K\u001b[32A\u001b[2K\u001b[32A\u001b[2K\u001b[33A\u001b[2K\u001b[30A\u001b[2K\u001b[29A\u001b[2K\u001b[28A\u001b[2K\u001b[26A\u001b[2K\u001b[26A\u001b[2K\u001b[32A\u001b[2K\u001b[28A\u001b[2K\u001b[32A\u001b[2K\u001b[25A\u001b[2K\u001b[24A\u001b[2K\u001b[25A\u001b[2K\u001b[29A\u001b[2K\u001b[32A\u001b[2K\u001b[26A\u001b[2K\u001b[23A\u001b[2K\u001b[24A\u001b[2K\u001b[23A\u001b[2K\u001b[24A\u001b[2K\u001b[22A\u001b[2K\u001b[32A\u001b[2K\u001b[22A\u001b[2K\u001b[32A\u001b[2K\u001b[22A\u001b[2K\u001b[23A\u001b[2K\u001b[32A\u001b[2K\u001b[24A\u001b[2K\u001b[32A\u001b[2K\u001b[24A\u001b[2K\u001b[32A\u001b[2K\u001b[22A\u001b[2K\u001b[24A\u001b[2K\u001b[23A\u001b[2K\u001b[32A\u001b[2K\u001b[22A\u001b[2K\u001b[32A\u001b[2K\u001b[22A\u001b[2K\u001b[32A\u001b[2K\u001b[24A\u001b[2K\u001b[32A\u001b[2K\u001b[21A\u001b[2K\u001b[24A\u001b[2K\u001b[32A\u001b[2K\u001b[21A\u001b[2K\u001b[32A\u001b[2K\u001b[22A\u001b[2K\u001b[23A\u001b[2K\u001b[22A\u001b[2K\u001b[21A\u001b[2K\u001b[23A\u001b[2K\u001b[22A\u001b[2K\u001b[23A\u001b[2K\u001b[22A\u001b[2K\u001b[21A\u001b[2K\u001b[21A\u001b[2K\u001b[23A\u001b[2K\u001b[22A\u001b[2K\u001b[23A\u001b[2K\u001b[32A\u001b[2K\u001b[24A\u001b[2K\u001b[23A\u001b[2K\u001b[21A\u001b[2K\u001b[24A\u001b[2K\u001b[23A\u001b[2K\u001b[22A\u001b[2K\u001b[21A\u001b[2K\u001b[32A\u001b[2K\u001b[22A\u001b[2K\u001b[23A\u001b[2K\u001b[22A\u001b[2K\u001b[21A\u001b[2K\u001b[24A\u001b[2K\u001b[22A\u001b[2K\u001b[21A\u001b[2K\u001b[22A\u001b[2K\u001b[23A\u001b[2K\u001b[22A\u001b[2K\u001b[23A\u001b[2K\u001b[32A\u001b[2K\u001b[22A\u001b[2K\u001b[24A\u001b[2K\u001b[32A\u001b[2K\u001b[23A\u001b[2K\u001b[32A\u001b[2K\u001b[23A\u001b[2K\u001b[21A\u001b[2K\u001b[22A\u001b[2K\u001b[24A\u001b[2K\u001b[22A\u001b[2K\u001b[23A\u001b[2K\u001b[21A\u001b[2K\u001b[32A\u001b[2K\u001b[24A\u001b[2K\u001b[32A\u001b[2K\u001b[24A\u001b[2K\u001b[22A\u001b[2K\u001b[24A\u001b[2K\u001b[23A\u001b[2K\u001b[24A\u001b[2K\u001b[22A\u001b[2K\u001b[24A\u001b[2K\u001b[24A\u001b[2K\u001b[32A\u001b[2K\u001b[24A\u001b[2K\u001b[22A\u001b[2K\u001b[32A\u001b[2K\u001b[23A\u001b[2K\u001b[32A\u001b[2K\u001b[22A\u001b[2K\u001b[32A\u001b[2KPushing  44.33MB/443.1MB\u001b[21A\u001b[2K\u001b[24A\u001b[2K\u001b[23A\u001b[2K\u001b[23A\u001b[2K\u001b[24A\u001b[2K\u001b[23A\u001b[2K\u001b[24A\u001b[2K\u001b[23A\u001b[2K\u001b[24A\u001b[2K\u001b[22A\u001b[2K\u001b[24A\u001b[2K\u001b[22A\u001b[2K\u001b[24A\u001b[2K\u001b[21A\u001b[2K\u001b[21A\u001b[2K\u001b[24A\u001b[2K\u001b[21A\u001b[2K\u001b[32A\u001b[2K\u001b[21A\u001b[2K\u001b[32A\u001b[2K\u001b[21A\u001b[2K\u001b[21A\u001b[2K\u001b[23A\u001b[2K\u001b[21A\u001b[2K\u001b[32A\u001b[2K\u001b[21A\u001b[2K\u001b[24A\u001b[2K\u001b[32A\u001b[2K\u001b[24A\u001b[2K\u001b[32A\u001b[2K\u001b[24A\u001b[2K\u001b[32A\u001b[2K\u001b[21A\u001b[2K\u001b[20A\u001b[2K\u001b[21A\u001b[2K\u001b[32A\u001b[2K\u001b[21A\u001b[2K\u001b[32A\u001b[2K\u001b[23A\u001b[2K\u001b[32A\u001b[2K\u001b[20A\u001b[2K\u001b[32A\u001b[2K\u001b[21A\u001b[2K\u001b[20A\u001b[2K\u001b[21A\u001b[2K\u001b[20A\u001b[2K\u001b[32A\u001b[2K\u001b[24A\u001b[2K\u001b[32A\u001b[2K\u001b[23A\u001b[2K\u001b[20A\u001b[2K\u001b[23A\u001b[2K\u001b[20A\u001b[2K\u001b[23A\u001b[2K\u001b[20A\u001b[2K\u001b[21A\u001b[2K\u001b[23A\u001b[2K\u001b[24A\u001b[2K\u001b[23A\u001b[2K\u001b[23A\u001b[2K\u001b[21A\u001b[2K\u001b[23A\u001b[2K\u001b[20A\u001b[2K\u001b[24A\u001b[2K\u001b[23A\u001b[2K\u001b[32A\u001b[2K\u001b[23A\u001b[2K\u001b[21A\u001b[2K\u001b[23A\u001b[2K\u001b[21A\u001b[2K\u001b[32A\u001b[2K\u001b[24A\u001b[2K\u001b[21A\u001b[2K\u001b[32A\u001b[2K\u001b[21A\u001b[2K\u001b[32A\u001b[2K\u001b[21A\u001b[2K\u001b[32A\u001b[2K\u001b[20A\u001b[2K\u001b[32A\u001b[2K\u001b[21A\u001b[2K\u001b[24A\u001b[2K\u001b[21A\u001b[2K\u001b[32A\u001b[2K\u001b[21A\u001b[2K\u001b[20A\u001b[2K\u001b[32A\u001b[2K\u001b[21A\u001b[2K\u001b[20A\u001b[2K\u001b[21A\u001b[2K\u001b[20A\u001b[2K\u001b[24A\u001b[2K\u001b[21A\u001b[2K\u001b[23A\u001b[2K\u001b[20A\u001b[2K\u001b[23A\u001b[2K\u001b[20A\u001b[2K\u001b[21A\u001b[2K\u001b[32A\u001b[2K\u001b[24A\u001b[2K\u001b[23A\u001b[2K\u001b[32A\u001b[2K\u001b[23A\u001b[2K\u001b[32A\u001b[2K\u001b[24A\u001b[2K\u001b[32A\u001b[2K\u001b[23A\u001b[2K\u001b[21A\u001b[2K\u001b[23A\u001b[2K\u001b[21A\u001b[2K\u001b[24A\u001b[2K\u001b[20A\u001b[2K\u001b[21A\u001b[2K\u001b[23A\u001b[2K\u001b[20A\u001b[2K\u001b[21A\u001b[2K\u001b[24A\u001b[2K\u001b[32A\u001b[2K\u001b[23A\u001b[2K\u001b[21A\u001b[2K\u001b[32A\u001b[2K\u001b[23A\u001b[2K\u001b[23A\u001b[2K\u001b[21A\u001b[2K\u001b[23A\u001b[2K\u001b[24A\u001b[2K\u001b[21A\u001b[2K\u001b[24A\u001b[2K\u001b[20A\u001b[2K\u001b[32A\u001b[2K\u001b[21A\u001b[2K\u001b[24A\u001b[2K\u001b[32A\u001b[2K\u001b[24A\u001b[2K\u001b[23A\u001b[2K\u001b[20A\u001b[2K\u001b[24A\u001b[2K\u001b[20A\u001b[2K\u001b[32A\u001b[2K\u001b[23A\u001b[2K\u001b[20A\u001b[2K\u001b[23A\u001b[2K\u001b[20A\u001b[2K\u001b[32A\u001b[2K\u001b[23A\u001b[2K\u001b[32A\u001b[2K\u001b[23A\u001b[2K\u001b[24A\u001b[2K\u001b[23A\u001b[2K\u001b[24A\u001b[2K\u001b[32A\u001b[2K\u001b[20A\u001b[2K\u001b[32A\u001b[2K\u001b[23A\u001b[2K\u001b[24A\u001b[2K\u001b[32A\u001b[2K\u001b[20A\u001b[2K\u001b[32A\u001b[2K\u001b[23A\u001b[2K\u001b[32A\u001b[2K\u001b[20A\u001b[2K\u001b[21A\u001b[2K\u001b[23A\u001b[2K\u001b[32A\u001b[2K\u001b[20A\u001b[2K\u001b[32A\u001b[2K\u001b[23A\u001b[2K\u001b[32A\u001b[2K\u001b[24A\u001b[2K\u001b[20A\u001b[2K\u001b[32A\u001b[2K\u001b[20A\u001b[2K\u001b[32A\u001b[2K\u001b[21A\u001b[2K\u001b[24A\u001b[2K\u001b[32A\u001b[2K\u001b[23A\u001b[2K\u001b[24A\u001b[2K\u001b[32A\u001b[2K\u001b[20A\u001b[2K\u001b[23A\u001b[2K\u001b[20A\u001b[2K\u001b[24A\u001b[2K\u001b[32A\u001b[2K\u001b[24A\u001b[2K\u001b[23A\u001b[2K\u001b[20A\u001b[2K\u001b[23A\u001b[2K\u001b[32A\u001b[2K\u001b[20A\u001b[2K\u001b[32A\u001b[2K\u001b[24A\u001b[2K\u001b[32A\u001b[2K\u001b[24A\u001b[2K\u001b[20A\u001b[2K\u001b[24A\u001b[2K\u001b[23A\u001b[2K\u001b[24A\u001b[2K\u001b[32A\u001b[2K\u001b[21A\u001b[2K\u001b[23A\u001b[2K\u001b[32A\u001b[2K\u001b[21A\u001b[2K\u001b[20A\u001b[2K\u001b[21A\u001b[2K\u001b[23A\u001b[2K\u001b[24A\u001b[2K\u001b[21A\u001b[2K\u001b[20A\u001b[2K\u001b[23A\u001b[2K\u001b[21A\u001b[2K\u001b[24A\u001b[2K\u001b[21A\u001b[2K\u001b[23A\u001b[2K\u001b[24A\u001b[2K\u001b[32A\u001b[2K\u001b[24A\u001b[2K\u001b[32A\u001b[2K\u001b[23A\u001b[2K\u001b[20A\u001b[2K\u001b[23A\u001b[2K\u001b[20A\u001b[2K\u001b[24A\u001b[2K\u001b[20A\u001b[2K\u001b[24A\u001b[2K\u001b[23A\u001b[2K\u001b[32A\u001b[2K\u001b[21A\u001b[2K\u001b[32A\u001b[2K\u001b[21A\u001b[2K\u001b[32A\u001b[2K\u001b[23A\u001b[2K\u001b[32A\u001b[2K\u001b[20A\u001b[2K\u001b[32A\u001b[2K\u001b[20A\u001b[2K\u001b[24A\u001b[2K\u001b[20A\u001b[2K\u001b[21A\u001b[2K\u001b[20A\u001b[2K\u001b[24A\u001b[2K\u001b[20A\u001b[2K\u001b[23A\u001b[2K\u001b[20A\u001b[2K\u001b[21A\u001b[2K\u001b[24A\u001b[2K\u001b[20A\u001b[2K\u001b[32A\u001b[2K\u001b[23A\u001b[2K\u001b[32A\u001b[2K\u001b[21A\u001b[2K\u001b[23A\u001b[2K\u001b[21A\u001b[2K\u001b[32A\u001b[2K\u001b[23A\u001b[2K\u001b[32A\u001b[2K\u001b[20A\u001b[2K\u001b[21A\u001b[2K\u001b[20A\u001b[2K\u001b[23A\u001b[2K\u001b[32A\u001b[2K\u001b[23A\u001b[2K\u001b[32A\u001b[2K\u001b[24A\u001b[2K\u001b[21A\u001b[2K\u001b[23A\u001b[2K\u001b[21A\u001b[2K\u001b[23A\u001b[2K\u001b[21A\u001b[2K\u001b[32A\u001b[2K\u001b[23A\u001b[2K\u001b[32A\u001b[2K\u001b[23A\u001b[2K\u001b[21A\u001b[2K\u001b[20A\u001b[2K\u001b[21A\u001b[2K\u001b[20A\u001b[2K\u001b[32A\u001b[2K\u001b[24A\u001b[2K\u001b[20A\u001b[2K\u001b[21A\u001b[2K\u001b[20A\u001b[2K\u001b[24A\u001b[2K\u001b[32A\u001b[2K\u001b[23A\u001b[2K\u001b[24A\u001b[2K\u001b[23A\u001b[2K\u001b[32A\u001b[2K\u001b[21A\u001b[2K\u001b[32A\u001b[2K\u001b[21A\u001b[2K\u001b[24A\u001b[2K\u001b[21A\u001b[2K\u001b[32A\u001b[2K\u001b[21A\u001b[2K\u001b[24A\u001b[2K\u001b[21A\u001b[2K\u001b[20A\u001b[2K\u001b[21A\u001b[2K\u001b[20A\u001b[2K\u001b[24A\u001b[2K\u001b[21A\u001b[2K\u001b[24A\u001b[2K\u001b[21A\u001b[2K\u001b[32A\u001b[2KPushing  208.5MB/443.1MB\u001b[20A\u001b[2K\u001b[24A\u001b[2K\u001b[20A\u001b[2K\u001b[24A\u001b[2K\u001b[32A\u001b[2K\u001b[32A\u001b[2K\u001b[32A\u001b[2K\u001b[21A\u001b[2K\u001b[32A\u001b[2K\u001b[24A\u001b[2K\u001b[20A\u001b[2K\u001b[24A\u001b[2K\u001b[20A\u001b[2K\u001b[24A\u001b[2K\u001b[20A\u001b[2K\u001b[24A\u001b[2K\u001b[32A\u001b[2K\u001b[23A\u001b[2K\u001b[32A\u001b[2K\u001b[20A\u001b[2K\u001b[32A\u001b[2K\u001b[20A\u001b[2K\u001b[32A\u001b[2K\u001b[20A\u001b[2K\u001b[23A\u001b[2K\u001b[24A\u001b[2K\u001b[32A\u001b[2K\u001b[24A\u001b[2K\u001b[21A\u001b[2K\u001b[24A\u001b[2K\u001b[32A\u001b[2K\u001b[21A\u001b[2K\u001b[32A\u001b[2K\u001b[20A\u001b[2K\u001b[32A\u001b[2K\u001b[21A\u001b[2K\u001b[24A\u001b[2K\u001b[21A\u001b[2K\u001b[24A\u001b[2K\u001b[21A\u001b[2K\u001b[24A\u001b[2K\u001b[23A\u001b[2K\u001b[32A\u001b[2K\u001b[24A\u001b[2K\u001b[32A\u001b[2K\u001b[20A\u001b[2K\u001b[21A\u001b[2K\u001b[20A\u001b[2K\u001b[32A\u001b[2K\u001b[20A\u001b[2K\u001b[21A\u001b[2K\u001b[20A\u001b[2K\u001b[24A\u001b[2K\u001b[21A\u001b[2K\u001b[24A\u001b[2K\u001b[21A\u001b[2K\u001b[24A\u001b[2K\u001b[21A\u001b[2K\u001b[24A\u001b[2K\u001b[20A\u001b[2K\u001b[24A\u001b[2K\u001b[20A\u001b[2K\u001b[24A\u001b[2K\u001b[20A\u001b[2K\u001b[20A\u001b[2K\u001b[24A\u001b[2K\u001b[20A\u001b[2K\u001b[24A\u001b[2K\u001b[32A\u001b[2K\u001b[21A\u001b[2K\u001b[32A\u001b[2K\u001b[23A\u001b[2K\u001b[32A\u001b[2K\u001b[21A\u001b[2K\u001b[20A\u001b[2K\u001b[32A\u001b[2K\u001b[24A\u001b[2K\u001b[32A\u001b[2K\u001b[24A\u001b[2K\u001b[20A\u001b[2K\u001b[21A\u001b[2K\u001b[32A\u001b[2K\u001b[21A\u001b[2K\u001b[32A\u001b[2K\u001b[32A\u001b[2K\u001b[23A\u001b[2K\u001b[32A\u001b[2K\u001b[24A\u001b[2K\u001b[32A\u001b[2K\u001b[21A\u001b[2K\u001b[32A\u001b[2K\u001b[21A\u001b[2K\u001b[32A\u001b[2K\u001b[21A\u001b[2K\u001b[32A\u001b[2K\u001b[20A\u001b[2K\u001b[21A\u001b[2K\u001b[20A\u001b[2K\u001b[23A\u001b[2K\u001b[32A\u001b[2K\u001b[23A\u001b[2K\u001b[24A\u001b[2K\u001b[20A\u001b[2K\u001b[23A\u001b[2K\u001b[20A\u001b[2K\u001b[23A\u001b[2K\u001b[32A\u001b[2K\u001b[20A\u001b[2K\u001b[32A\u001b[2K\u001b[20A\u001b[2K\u001b[21A\u001b[2K\u001b[24A\u001b[2K\u001b[20A\u001b[2K\u001b[21A\u001b[2K\u001b[32A\u001b[2K\u001b[23A\u001b[2K\u001b[32A\u001b[2K\u001b[20A\u001b[2K\u001b[24A\u001b[2K\u001b[32A\u001b[2K\u001b[21A\u001b[2K\u001b[24A\u001b[2K\u001b[32A\u001b[2K\u001b[21A\u001b[2K\u001b[32A\u001b[2K\u001b[23A\u001b[2K\u001b[20A\u001b[2K\u001b[21A\u001b[2K\u001b[23A\u001b[2K\u001b[20A\u001b[2K\u001b[23A\u001b[2K\u001b[20A\u001b[2K\u001b[23A\u001b[2K\u001b[21A\u001b[2K\u001b[20A\u001b[2K\u001b[23A\u001b[2K\u001b[21A\u001b[2K\u001b[20A\u001b[2K\u001b[24A\u001b[2K\u001b[32A\u001b[2K\u001b[32A\u001b[2K\u001b[24A\u001b[2K\u001b[20A\u001b[2K\u001b[24A\u001b[2K\u001b[20A\u001b[2K\u001b[23A\u001b[2KPushing  280.7MB/443.1MB\u001b[24A\u001b[2K\u001b[21A\u001b[2K\u001b[20A\u001b[2K\u001b[24A\u001b[2K\u001b[32A\u001b[2K\u001b[20A\u001b[2K\u001b[32A\u001b[2K\u001b[21A\u001b[2K\u001b[32A\u001b[2K\u001b[24A\u001b[2K\u001b[20A\u001b[2K\u001b[21A\u001b[2K\u001b[24A\u001b[2K\u001b[32A\u001b[2K\u001b[24A\u001b[2K\u001b[32A\u001b[2K\u001b[21A\u001b[2K\u001b[20A\u001b[2K\u001b[21A\u001b[2K\u001b[20A\u001b[2K\u001b[24A\u001b[2K\u001b[20A\u001b[2K\u001b[23A\u001b[2K\u001b[32A\u001b[2K\u001b[20A\u001b[2K\u001b[24A\u001b[2K\u001b[21A\u001b[2K\u001b[23A\u001b[2K\u001b[32A\u001b[2K\u001b[24A\u001b[2K\u001b[32A\u001b[2K\u001b[21A\u001b[2K\u001b[23A\u001b[2K\u001b[32A\u001b[2K\u001b[23A\u001b[2K\u001b[21A\u001b[2K\u001b[23A\u001b[2K\u001b[32A\u001b[2K\u001b[23A\u001b[2K\u001b[20A\u001b[2K\u001b[23A\u001b[2K\u001b[24A\u001b[2K\u001b[21A\u001b[2K\u001b[20A\u001b[2K\u001b[24A\u001b[2K\u001b[23A\u001b[2K\u001b[20A\u001b[2K\u001b[21A\u001b[2K\u001b[32A\u001b[2K\u001b[24A\u001b[2K\u001b[23A\u001b[2K\u001b[24A\u001b[2K\u001b[21A\u001b[2K\u001b[24A\u001b[2K\u001b[21A\u001b[2K\u001b[23A\u001b[2K\u001b[21A\u001b[2K\u001b[32A\u001b[2K\u001b[24A\u001b[2K\u001b[32A\u001b[2K\u001b[24A\u001b[2K\u001b[24A\u001b[2K\u001b[20A\u001b[2K\u001b[21A\u001b[2K\u001b[32A\u001b[2K\u001b[21A\u001b[2K\u001b[24A\u001b[2K\u001b[20A\u001b[2K\u001b[24A\u001b[2K\u001b[20A\u001b[2K\u001b[21A\u001b[2K\u001b[23A\u001b[2K\u001b[32A\u001b[2K\u001b[24A\u001b[2K\u001b[32A\u001b[2K\u001b[24A\u001b[2K\u001b[20A\u001b[2K\u001b[24A\u001b[2K\u001b[21A\u001b[2K\u001b[24A\u001b[2K\u001b[20A\u001b[2K\u001b[24A\u001b[2K\u001b[32A\u001b[2K\u001b[24A\u001b[2K\u001b[32A\u001b[2K\u001b[19A\u001b[2K\u001b[32A\u001b[2K\u001b[20A\u001b[2K\u001b[24A\u001b[2K\u001b[20A\u001b[2K\u001b[24A\u001b[2K\u001b[32A\u001b[2K\u001b[21A\u001b[2K\u001b[21A\u001b[2K\u001b[19A\u001b[2K\u001b[21A\u001b[2K\u001b[24A\u001b[2K\u001b[19A\u001b[2K\u001b[21A\u001b[2K\u001b[19A\u001b[2K\u001b[20A\u001b[2K\u001b[32A\u001b[2K\u001b[21A\u001b[2K\u001b[20A\u001b[2K\u001b[19A\u001b[2K\u001b[20A\u001b[2K\u001b[19A\u001b[2K\u001b[32A\u001b[2K\u001b[19A\u001b[2K\u001b[21A\u001b[2K\u001b[32A\u001b[2K\u001b[19A\u001b[2K\u001b[21A\u001b[2K\u001b[32A\u001b[2K\u001b[21A\u001b[2K\u001b[32A\u001b[2K\u001b[24A\u001b[2K\u001b[20A\u001b[2K\u001b[19A\u001b[2K\u001b[20A\u001b[2K\u001b[19A\u001b[2K\u001b[24A\u001b[2K\u001b[19A\u001b[2K\u001b[24A\u001b[2K\u001b[19A\u001b[2K\u001b[32A\u001b[2K\u001b[21A\u001b[2K\u001b[32A\u001b[2K\u001b[24A\u001b[2K\u001b[19A\u001b[2K\u001b[20A\u001b[2K\u001b[32A\u001b[2K\u001b[20A\u001b[2K\u001b[32A\u001b[2K\u001b[20A\u001b[2K\u001b[32A\u001b[2K\u001b[21A\u001b[2K\u001b[20A\u001b[2K\u001b[32A\u001b[2K\u001b[20A\u001b[2K\u001b[24A\u001b[2K\u001b[21A\u001b[2K\u001b[24A\u001b[2K\u001b[32A\u001b[2K\u001b[21A\u001b[2K\u001b[24A\u001b[2K\u001b[20A\u001b[2K\u001b[24A\u001b[2K\u001b[32A\u001b[2K\u001b[20A\u001b[2K\u001b[24A\u001b[2K\u001b[32A\u001b[2K\u001b[24A\u001b[2K\u001b[32A\u001b[2K\u001b[20A\u001b[2K\u001b[24A\u001b[2K\u001b[32A\u001b[2K\u001b[24A\u001b[2K\u001b[18A\u001b[2K\u001b[24A\u001b[2K\u001b[21A\u001b[2K\u001b[24A\u001b[2K\u001b[21A\u001b[2K\u001b[24A\u001b[2K\u001b[20A\u001b[2K\u001b[24A\u001b[2K\u001b[21A\u001b[2K\u001b[21A\u001b[2K\u001b[32A\u001b[2K\u001b[20A\u001b[2K\u001b[24A\u001b[2K\u001b[21A\u001b[2K\u001b[24A\u001b[2K\u001b[20A\u001b[2K\u001b[20A\u001b[2K\u001b[17A\u001b[2K\u001b[20A\u001b[2K\u001b[21A\u001b[2K\u001b[24A\u001b[2K\u001b[20A\u001b[2K\u001b[24A\u001b[2K\u001b[20A\u001b[2K\u001b[32A\u001b[2K\u001b[20A\u001b[2K\u001b[21A\u001b[2K\u001b[24A\u001b[2K\u001b[21A\u001b[2K\u001b[24A\u001b[2K\u001b[32A\u001b[2K\u001b[24A\u001b[2K\u001b[17A\u001b[2K\u001b[24A\u001b[2K\u001b[21A\u001b[2K\u001b[24A\u001b[2K\u001b[32A\u001b[2K\u001b[16A\u001b[2K\u001b[20A\u001b[2K\u001b[20A\u001b[2K\u001b[20A\u001b[2K\u001b[21A\u001b[2K\u001b[32A\u001b[2K\u001b[24A\u001b[2K\u001b[32A\u001b[2K\u001b[20A\u001b[2K\u001b[32A\u001b[2K\u001b[16A\u001b[2K\u001b[24A\u001b[2K\u001b[24A\u001b[2K\u001b[21A\u001b[2K\u001b[32A\u001b[2K\u001b[21A\u001b[2K\u001b[20A\u001b[2K\u001b[24A\u001b[2K\u001b[32A\u001b[2K\u001b[20A\u001b[2K\u001b[24A\u001b[2K\u001b[20A\u001b[2K\u001b[24A\u001b[2K\u001b[15A\u001b[2K\u001b[20A\u001b[2K\u001b[32A\u001b[2K\u001b[20A\u001b[2K\u001b[15A\u001b[2K\u001b[20A\u001b[2K\u001b[15A\u001b[2K\u001b[20A\u001b[2K\u001b[24A\u001b[2K\u001b[21A\u001b[2K\u001b[32A\u001b[2K\u001b[24A\u001b[2K\u001b[20A\u001b[2K\u001b[24A\u001b[2K\u001b[20A\u001b[2K\u001b[32A\u001b[2K\u001b[24A\u001b[2K\u001b[15A\u001b[2K\u001b[24A\u001b[2K\u001b[21A\u001b[2K\u001b[15A\u001b[2K\u001b[24A\u001b[2K\u001b[15A\u001b[2K\u001b[21A\u001b[2K\u001b[20A\u001b[2K\u001b[15A\u001b[2K\u001b[20A\u001b[2K\u001b[15A\u001b[2K\u001b[32A\u001b[2K\u001b[20A\u001b[2K\u001b[21A\u001b[2K\u001b[20A\u001b[2K\u001b[24A\u001b[2K\u001b[21A\u001b[2K\u001b[20A\u001b[2K\u001b[21A\u001b[2K\u001b[20A\u001b[2K\u001b[21A\u001b[2K\u001b[20A\u001b[2K\u001b[21A\u001b[2K\u001b[32A\u001b[2K\u001b[15A\u001b[2K\u001b[32A\u001b[2K\u001b[21A\u001b[2K\u001b[32A\u001b[2K\u001b[20A\u001b[2K\u001b[21A\u001b[2K\u001b[32A\u001b[2K\u001b[15A\u001b[2K\u001b[32A\u001b[2K\u001b[20A\u001b[2K\u001b[21A\u001b[2K\u001b[32A\u001b[2K\u001b[21A\u001b[2K\u001b[15A\u001b[2K\u001b[20A\u001b[2K\u001b[24A\u001b[2K\u001b[32A\u001b[2K\u001b[21A\u001b[2K\u001b[15A\u001b[2K\u001b[21A\u001b[2K\u001b[15A\u001b[2K\u001b[32A\u001b[2K\u001b[21A\u001b[2K\u001b[14A\u001b[2K\u001b[21A\u001b[2K\u001b[15A\u001b[2K\u001b[14A\u001b[2K\u001b[21A\u001b[2K\u001b[20A\u001b[2K\u001b[15A\u001b[2K\u001b[20A\u001b[2K\u001b[15A\u001b[2K\u001b[32A\u001b[2K\u001b[15A\u001b[2K\u001b[32A\u001b[2K\u001b[15A\u001b[2K\u001b[21A\u001b[2K\u001b[15A\u001b[2K\u001b[14A\u001b[2K\u001b[15A\u001b[2K\u001b[32A\u001b[2K\u001b[20A\u001b[2K\u001b[32A\u001b[2K\u001b[20A\u001b[2K\u001b[32A\u001b[2K\u001b[21A\u001b[2K\u001b[20A\u001b[2K\u001b[21A\u001b[2K\u001b[20A\u001b[2K\u001b[15A\u001b[2K\u001b[32A\u001b[2K\u001b[20A\u001b[2K\u001b[15A\u001b[2K\u001b[20A\u001b[2K\u001b[15A\u001b[2K\u001b[21A\u001b[2K\u001b[20A\u001b[2K\u001b[32A\u001b[2K\u001b[15A\u001b[2K\u001b[14A\u001b[2K\u001b[32A\u001b[2K\u001b[20A\u001b[2K\u001b[32A\u001b[2K\u001b[20A\u001b[2K\u001b[32A\u001b[2K\u001b[15A\u001b[2K\u001b[32A\u001b[2K\u001b[21A\u001b[2K\u001b[14A\u001b[2K\u001b[21A\u001b[2K\u001b[32A\u001b[2K\u001b[21A\u001b[2K\u001b[20A\u001b[2K\u001b[21A\u001b[2K\u001b[14A\u001b[2K\u001b[32A\u001b[2K\u001b[14A\u001b[2K\u001b[32A\u001b[2K\u001b[14A\u001b[2K\u001b[32A\u001b[2K\u001b[14A\u001b[2K\u001b[21A\u001b[2K\u001b[15A\u001b[2K\u001b[20A\u001b[2K\u001b[21A\u001b[2K\u001b[14A\u001b[2K\u001b[21A\u001b[2K\u001b[20A\u001b[2K\u001b[21A\u001b[2K\u001b[32A\u001b[2K\u001b[20A\u001b[2K\u001b[32A\u001b[2K\u001b[14A\u001b[2K\u001b[32A\u001b[2K\u001b[13A\u001b[2K\u001b[20A\u001b[2K\u001b[21A\u001b[2K\u001b[13A\u001b[2K\u001b[20A\u001b[2K\u001b[14A\u001b[2K\u001b[20A\u001b[2K\u001b[13A\u001b[2K\u001b[14A\u001b[2K\u001b[13A\u001b[2K\u001b[14A\u001b[2K\u001b[20A\u001b[2K\u001b[14A\u001b[2K\u001b[21A\u001b[2K\u001b[13A\u001b[2K\u001b[14A\u001b[2K\u001b[20A\u001b[2K\u001b[13A\u001b[2K\u001b[2K\u001b[20A\u001b[2K\u001b[32A\u001b[2K\u001b[14A\u001b[2K\u001b[13A\u001b[2K\u001b[14A\u001b[2K\u001b[20A\u001b[2K\u001b[21A\u001b[2K\u001b[20A\u001b[2K\u001b[21A\u001b[2K\u001b[13A\u001b[2K\u001b[14A\u001b[2K\u001b[20A\u001b[2K\u001b[14A\u001b[2K\u001b[13A\u001b[2K\u001b[21A\u001b[2K\u001b[14A\u001b[2K\u001b[14A\u001b[2K\u001b[13A\u001b[2K\u001b[21A\u001b[2K\u001b[14A\u001b[2K\u001b[20A\u001b[2K\u001b[20A\u001b[2K\u001b[14A\u001b[2K\u001b[32A\u001b[2K\u001b[13A\u001b[2K\u001b[20A\u001b[2K\u001b[32A\u001b[2K\u001b[14A\u001b[2K\u001b[32A\u001b[2K\u001b[14A\u001b[2K\u001b[20A\u001b[2K\u001b[32A\u001b[2K\u001b[21A\u001b[2K\u001b[14A\u001b[2K\u001b[20A\u001b[2K\u001b[21A\u001b[2K\u001b[32A\u001b[2K\u001b[13A\u001b[2K\u001b[21A\u001b[2K\u001b[14A\u001b[2K\u001b[20A\u001b[2K\u001b[13A\u001b[2K\u001b[14A\u001b[2K\u001b[13A\u001b[2K\u001b[32A\u001b[2K\u001b[20A\u001b[2K\u001b[32A\u001b[2K\u001b[14A\u001b[2K\u001b[20A\u001b[2K\u001b[21A\u001b[2K\u001b[14A\u001b[2K\u001b[20A\u001b[2K\u001b[14A\u001b[2K\u001b[32A\u001b[2K\u001b[13A\u001b[2K\u001b[32A\u001b[2K\u001b[14A\u001b[2K\u001b[21A\u001b[2K\u001b[13A\u001b[2K\u001b[21A\u001b[2K\u001b[20A\u001b[2K\u001b[13A\u001b[2K\u001b[21A\u001b[2K\u001b[32A\u001b[2K\u001b[13A\u001b[2K\u001b[14A\u001b[2K\u001b[32A\u001b[2K\u001b[14A\u001b[2K\u001b[13A\u001b[2K\u001b[14A\u001b[2K\u001b[13A\u001b[2K\u001b[14A\u001b[2K\u001b[32A\u001b[2K\u001b[14A\u001b[2K\u001b[21A\u001b[2K\u001b[13A\u001b[2K\u001b[21A\u001b[2K\u001b[20A\u001b[2K\u001b[13A\u001b[2K\u001b[14A\u001b[2K\u001b[21A\u001b[2K\u001b[14A\u001b[2K\u001b[21A\u001b[2K\u001b[13A\u001b[2K\u001b[32A\u001b[2K\u001b[20A\u001b[2K\u001b[13A\u001b[2K\u001b[32A\u001b[2K\u001b[20A\u001b[2K\u001b[13A\u001b[2K\u001b[20A\u001b[2K\u001b[14A\u001b[2K\u001b[20A\u001b[2K\u001b[14A\u001b[2K\u001b[13A\u001b[2K\u001b[20A\u001b[2K\u001b[32A\u001b[2K\u001b[13A\u001b[2K\u001b[14A\u001b[2K\u001b[21A\u001b[2K\u001b[13A\u001b[2K\u001b[21A\u001b[2K\u001b[20A\u001b[2K\u001b[32A\u001b[2K\u001b[13A\u001b[2K\u001b[21A\u001b[2K\u001b[32A\u001b[2K\u001b[13A\u001b[2K\u001b[32A\u001b[2K\u001b[20A\u001b[2K\u001b[13A\u001b[2K\u001b[21A\u001b[2K\u001b[14A\u001b[2K\u001b[13A\u001b[2K\u001b[21A\u001b[2K\u001b[13A\u001b[2K\u001b[32A\u001b[2K\u001b[14A\u001b[2K\u001b[21A\u001b[2K\u001b[13A\u001b[2K\u001b[20A\u001b[2K\u001b[14A\u001b[2K\u001b[20A\u001b[2K\u001b[32A\u001b[2K\u001b[14A\u001b[2K\u001b[20A\u001b[2K\u001b[21A\u001b[2K\u001b[14A\u001b[2K\u001b[20A\u001b[2K\u001b[14A\u001b[2K\u001b[20A\u001b[2K\u001b[32A\u001b[2K\u001b[14A\u001b[2K\u001b[20A\u001b[2K\u001b[14A\u001b[2K\u001b[21A\u001b[2K\u001b[32A\u001b[2K\u001b[14A\u001b[2K\u001b[20A\u001b[2K\u001b[14A\u001b[2K\u001b[32A\u001b[2K\u001b[14A\u001b[2K\u001b[20A\u001b[2K\u001b[14A\u001b[2K\u001b[20A\u001b[2K\u001b[14A\u001b[2K\u001b[21A\u001b[2K\u001b[20A\u001b[2K\u001b[14A\u001b[2K\u001b[32A\u001b[2K\u001b[14A\u001b[2K\u001b[32A\u001b[2K\u001b[20A\u001b[2K\u001b[14A\u001b[2K\u001b[21A\u001b[2K\u001b[20A\u001b[2K\u001b[21A\u001b[2K\u001b[32A\u001b[2K\u001b[21A\u001b[2K\u001b[32A\u001b[2K\u001b[20A\u001b[2K\u001b[32A\u001b[2K\u001b[21A\u001b[2K\u001b[14A\u001b[2K\u001b[21A\u001b[2K\u001b[11A\u001b[2K\u001b[21A\u001b[2K\u001b[11A\u001b[2K\u001b[14A\u001b[2K\u001b[11A\u001b[2K\u001b[14A\u001b[2K\u001b[11A\u001b[2K\u001b[32A\u001b[2K\u001b[11A\u001b[2K\u001b[32A\u001b[2K\u001b[11A\u001b[2K\u001b[14A\u001b[2K\u001b[20A\u001b[2K\u001b[14A\u001b[2K\u001b[32A\u001b[2K\u001b[14A\u001b[2K\u001b[21A\u001b[2K\u001b[14A\u001b[2K\u001b[21A\u001b[2K\u001b[32A\u001b[2K\u001b[21A\u001b[2K\u001b[11A\u001b[2K\u001b[32A\u001b[2K\u001b[11A\u001b[2K\u001b[14A\u001b[2K\u001b[11A\u001b[2K\u001b[14A\u001b[2K\u001b[32A\u001b[2K\u001b[14A\u001b[2K\u001b[32A\u001b[2K\u001b[21A\u001b[2K\u001b[11A\u001b[2K\u001b[32A\u001b[2K\u001b[11A\u001b[2K\u001b[14A\u001b[2K\u001b[20A\u001b[2K\u001b[32A\u001b[2K\u001b[20A\u001b[2K\u001b[21A\u001b[2K\u001b[20A\u001b[2K\u001b[14A\u001b[2K\u001b[21A\u001b[2K\u001b[32A\u001b[2K\u001b[21A\u001b[2K\u001b[14A\u001b[2K\u001b[21A\u001b[2K\u001b[20A\u001b[2K\u001b[32A\u001b[2K\u001b[20A\u001b[2K\u001b[14A\u001b[2K\u001b[32A\u001b[2K\u001b[14A\u001b[2K\u001b[32A\u001b[2K\u001b[14A\u001b[2K\u001b[21A\u001b[2K\u001b[20A\u001b[2K\u001b[14A\u001b[2K\u001b[20A\u001b[2K\u001b[32A\u001b[2K\u001b[20A\u001b[2K\u001b[32A\u001b[2K\u001b[20A\u001b[2K\u001b[14A\u001b[2K\u001b[10A\u001b[2K\u001b[14A\u001b[2K\u001b[21A\u001b[2K\u001b[10A\u001b[2K\u001b[14A\u001b[2K\u001b[21A\u001b[2K\u001b[14A\u001b[2K\u001b[21A\u001b[2K\u001b[32A\u001b[2K\u001b[21A\u001b[2K\u001b[32A\u001b[2K\u001b[21A\u001b[2K\u001b[20A\u001b[2K\u001b[10A\u001b[2K\u001b[21A\u001b[2K\u001b[32A\u001b[2K\u001b[21A\u001b[2K\u001b[20A\u001b[2K\u001b[21A\u001b[2K\u001b[20A\u001b[2K\u001b[14A\u001b[2K\u001b[20A\u001b[2K\u001b[21A\u001b[2K\u001b[32A\u001b[2K\u001b[20A\u001b[2K\u001b[21A\u001b[2K\u001b[20A\u001b[2K\u001b[10A\u001b[2K\u001b[32A\u001b[2K\u001b[21A\u001b[2K\u001b[20A\u001b[2K\u001b[32A\u001b[2K\u001b[20A\u001b[2K\u001b[14A\u001b[2K\u001b[21A\u001b[2K\u001b[20A\u001b[2K\u001b[21A\u001b[2K\u001b[32A\u001b[2K\u001b[10A\u001b[2K\u001b[14A\u001b[2K\u001b[10A\u001b[2K\u001b[20A\u001b[2K\u001b[20A\u001b[2K\u001b[32A\u001b[2K\u001b[21A\u001b[2K\u001b[10A\u001b[2K\u001b[32A\u001b[2K\u001b[20A\u001b[2K\u001b[32A\u001b[2K\u001b[10A\u001b[2K\u001b[20A\u001b[2K\u001b[14A\u001b[2K\u001b[20A\u001b[2K\u001b[10A\u001b[2K\u001b[20A\u001b[2K\u001b[14A\u001b[2K\u001b[10A\u001b[2K\u001b[21A\u001b[2K\u001b[32A\u001b[2K\u001b[14A\u001b[2K\u001b[20A\u001b[2K\u001b[10A\u001b[2K\u001b[32A\u001b[2K\u001b[10A\u001b[2K\u001b[14A\u001b[2K\u001b[20A\u001b[2K\u001b[14A\u001b[2K\u001b[10A\u001b[2K\u001b[20A\u001b[2K\u001b[10A\u001b[2K\u001b[14A\u001b[2K\u001b[20A\u001b[2K\u001b[10A\u001b[2K\u001b[14A\u001b[2K\u001b[10A\u001b[2K\u001b[14A\u001b[2K\u001b[10A\u001b[2K\u001b[14A\u001b[2K\u001b[10A\u001b[2K\u001b[21A\u001b[2K\u001b[14A\u001b[2K\u001b[10A\u001b[2K\u001b[20A\u001b[2K\u001b[10A\u001b[2K\u001b[21A\u001b[2K\u001b[10A\u001b[2K\u001b[21A\u001b[2K\u001b[14A\u001b[2K\u001b[21A\u001b[2K\u001b[14A\u001b[2K\u001b[20A\u001b[2K\u001b[10A\u001b[2K\u001b[14A\u001b[2K\u001b[21A\u001b[2K\u001b[14A\u001b[2K\u001b[20A\u001b[2K\u001b[10A\u001b[2K\u001b[21A\u001b[2K\u001b[10A\u001b[2K\u001b[32A\u001b[2K\u001b[10A\u001b[2K\u001b[14A\u001b[2K\u001b[21A\u001b[2K\u001b[10A\u001b[2K\u001b[21A\u001b[2K\u001b[32A\u001b[2K\u001b[21A\u001b[2K\u001b[14A\u001b[2K\u001b[10A\u001b[2K\u001b[14A\u001b[2K\u001b[32A\u001b[2K\u001b[21A\u001b[2K\u001b[10A\u001b[2K\u001b[20A\u001b[2K\u001b[10A\u001b[2K\u001b[10A\u001b[2K\u001b[20A\u001b[2K\u001b[32A\u001b[2K\u001b[21A\u001b[2K\u001b[32A\u001b[2K\u001b[10A\u001b[2K\u001b[21A\u001b[2K\u001b[10A\u001b[2K\u001b[32A\u001b[2K\u001b[10A\u001b[2K\u001b[21A\u001b[2K\u001b[10A\u001b[2K\u001b[14A\u001b[2K\u001b[21A\u001b[2K\u001b[10A\u001b[2K\u001b[21A\u001b[2K\u001b[32A\u001b[2K\u001b[10A\u001b[2K\u001b[32A\u001b[2K\u001b[10A\u001b[2K\u001b[14A\u001b[2K\u001b[32A\u001b[2K\u001b[20A\u001b[2K\u001b[21A\u001b[2K\u001b[14A\u001b[2K\u001b[21A\u001b[2K\u001b[14A\u001b[2K\u001b[21A\u001b[2K\u001b[14A\u001b[2K\u001b[20A\u001b[2K\u001b[14A\u001b[2K\u001b[10A\u001b[2K\u001b[14A\u001b[2K\u001b[10A\u001b[2K\u001b[14A\u001b[2K\u001b[10A\u001b[2K\u001b[14A\u001b[2K\u001b[21A\u001b[2K\u001b[20A\u001b[2K\u001b[10A\u001b[2K\u001b[21A\u001b[2K\u001b[32A\u001b[2K\u001b[10A\u001b[2K\u001b[32A\u001b[2K\u001b[14A\u001b[2K\u001b[10A\u001b[2K\u001b[14A\u001b[2K\u001b[32A\u001b[2K\u001b[14A\u001b[2K\u001b[21A\u001b[2K\u001b[14A\u001b[2K\u001b[21A\u001b[2K\u001b[21A\u001b[2K\u001b[32A\u001b[2K\u001b[10A\u001b[2K\u001b[32A\u001b[2K\u001b[10A\u001b[2K\u001b[20A\u001b[2K\u001b[32A\u001b[2K\u001b[14A\u001b[2K\u001b[21A\u001b[2K\u001b[10A\u001b[2K\u001b[21A\u001b[2K\u001b[10A\u001b[2K\u001b[32A\u001b[2K\u001b[14A\u001b[2K\u001b[21A\u001b[2K\u001b[14A\u001b[2K\u001b[21A\u001b[2K\u001b[10A\u001b[2K\u001b[21A\u001b[2K\u001b[10A\u001b[2K\u001b[32A\u001b[2K\u001b[10A\u001b[2K\u001b[32A\u001b[2K\u001b[20A\u001b[2K\u001b[21A\u001b[2K\u001b[20A\u001b[2K\u001b[32A\u001b[2K\u001b[20A\u001b[2K\u001b[21A\u001b[2K\u001b[14A\u001b[2K\u001b[21A\u001b[2K\u001b[10A\u001b[2K\u001b[21A\u001b[2K\u001b[20A\u001b[2K\u001b[21A\u001b[2K\u001b[32A\u001b[2K\u001b[10A\u001b[2K\u001b[21A\u001b[2K\u001b[10A\u001b[2K\u001b[21A\u001b[2K\u001b[10A\u001b[2K\u001b[21A\u001b[2K\u001b[20A\u001b[2K\u001b[14A\u001b[2K\u001b[32A\u001b[2K\u001b[10A\u001b[2K\u001b[32A\u001b[2K\u001b[14A\u001b[2K\u001b[21A\u001b[2K\u001b[14A\u001b[2K\u001b[21A\u001b[2K\u001b[32A\u001b[2K\u001b[20A\u001b[2K\u001b[10A\u001b[2K\u001b[10A\u001b[2K\u001b[14A\u001b[2K\u001b[14A\u001b[2K\u001b[32A\u001b[2K\u001b[10A\u001b[2K\u001b[21A\u001b[2K\u001b[32A\u001b[2K\u001b[21A\u001b[2K\u001b[14A\u001b[2K\u001b[10A\u001b[2K\u001b[14A\u001b[2K\u001b[10A\u001b[2K\u001b[10A\u001b[2K\u001b[20A\u001b[2K\u001b[10A\u001b[2K\u001b[32A\u001b[2K\u001b[10A\u001b[2K\u001b[32A\u001b[2K\u001b[20A\u001b[2K\u001b[32A\u001b[2K\u001b[21A\u001b[2K\u001b[32A\u001b[2K\u001b[14A\u001b[2K\u001b[20A\u001b[2K\u001b[14A\u001b[2K\u001b[21A\u001b[2K\u001b[14A\u001b[2K\u001b[10A\u001b[2K\u001b[14A\u001b[2K\u001b[32A\u001b[2K\u001b[14A\u001b[2K\u001b[21A\u001b[2K\u001b[32A\u001b[2K\u001b[14A\u001b[2K\u001b[32A\u001b[2K\u001b[14A\u001b[2K\u001b[20A\u001b[2K\u001b[14A\u001b[2K\u001b[20A\u001b[2K\u001b[21A\u001b[2K\u001b[20A\u001b[2K\u001b[21A\u001b[2K\u001b[32A\u001b[2K\u001b[10A\u001b[2K\u001b[32A\u001b[2K\u001b[20A\u001b[2K\u001b[21A\u001b[2K\u001b[32A\u001b[2K\u001b[20A\u001b[2K\u001b[14A\u001b[2K\u001b[20A\u001b[2K\u001b[21A\u001b[2K\u001b[32A\u001b[2K\u001b[14A\u001b[2K\u001b[21A\u001b[2K\u001b[10A\u001b[2K\u001b[14A\u001b[2K\u001b[21A\u001b[2K\u001b[14A\u001b[2K\u001b[32A\u001b[2K\u001b[20A\u001b[2K\u001b[32A\u001b[2K\u001b[20A\u001b[2K\u001b[32A\u001b[2K\u001b[20A\u001b[2K\u001b[14A\u001b[2K\u001b[20A\u001b[2K\u001b[21A\u001b[2K\u001b[32A\u001b[2K\u001b[21A\u001b[2K\u001b[32A\u001b[2K\u001b[14A\u001b[2K\u001b[20A\u001b[2K\u001b[10A\u001b[2K\u001b[20A\u001b[2K\u001b[14A\u001b[2K\u001b[20A\u001b[2K\u001b[14A\u001b[2K\u001b[32A\u001b[2K\u001b[14A\u001b[2K\u001b[21A\u001b[2K\u001b[32A\u001b[2K\u001b[20A\u001b[2K\u001b[32A\u001b[2K\u001b[10A\u001b[2K\u001b[21A\u001b[2K\u001b[20A\u001b[2K\u001b[10A\u001b[2K\u001b[14A\u001b[2K\u001b[10A\u001b[2K\u001b[21A\u001b[2K\u001b[10A\u001b[2K\u001b[32A\u001b[2K\u001b[10A\u001b[2K\u001b[20A\u001b[2K\u001b[10A\u001b[2K\u001b[21A\u001b[2K\u001b[20A\u001b[2K\u001b[10A\u001b[2K\u001b[14A\u001b[2K\u001b[20A\u001b[2K\u001b[32A\u001b[2K\u001b[21A\u001b[2K\u001b[32A\u001b[2K\u001b[21A\u001b[2K\u001b[32A\u001b[2K\u001b[21A\u001b[2K\u001b[20A\u001b[2K\u001b[10A\u001b[2K\u001b[20A\u001b[2K\u001b[14A\u001b[2K\u001b[21A\u001b[2K\u001b[32A\u001b[2K\u001b[14A\u001b[2K\u001b[32A\u001b[2K\u001b[21A\u001b[2K\u001b[20A\u001b[2K\u001b[32A\u001b[2K\u001b[20A\u001b[2K\u001b[32A\u001b[2K\u001b[10A\u001b[2K\u001b[32A\u001b[2K\u001b[14A\u001b[2K\u001b[20A\u001b[2K\u001b[10A\u001b[2K\u001b[20A\u001b[2K\u001b[21A\u001b[2K\u001b[10A\u001b[2K\u001b[32A\u001b[2K\u001b[10A\u001b[2K\u001b[20A\u001b[2K\u001b[10A\u001b[2K\u001b[20A\u001b[2K\u001b[21A\u001b[2K\u001b[14A\u001b[2K\u001b[21A\u001b[2K\u001b[10A\u001b[2K\u001b[32A\u001b[2K\u001b[14A\u001b[2K\u001b[32A\u001b[2K\u001b[21A\u001b[2K\u001b[10A\u001b[2K\u001b[20A\u001b[2K\u001b[14A\u001b[2K\u001b[10A\u001b[2K\u001b[21A\u001b[2K\u001b[14A\u001b[2K\u001b[21A\u001b[2K\u001b[14A\u001b[2K\u001b[21A\u001b[2K\u001b[32A\u001b[2K\u001b[20A\u001b[2K\u001b[10A\u001b[2K\u001b[32A\u001b[2K\u001b[21A\u001b[2K\u001b[20A\u001b[2K\u001b[10A\u001b[2K\u001b[20A\u001b[2K\u001b[14A\u001b[2K\u001b[21A\u001b[2K\u001b[10A\u001b[2K\u001b[20A\u001b[2K\u001b[14A\u001b[2K\u001b[21A\u001b[2KPushing  1.002GB/2.593GB\u001b[10A\u001b[2K\u001b[21A\u001b[2K\u001b[32A\u001b[2K\u001b[10A\u001b[2K\u001b[20A\u001b[2K\u001b[10A\u001b[2K\u001b[21A\u001b[2K\u001b[32A\u001b[2K\u001b[14A\u001b[2K\u001b[21A\u001b[2K\u001b[32A\u001b[2K\u001b[20A\u001b[2K\u001b[14A\u001b[2K\u001b[10A\u001b[2K\u001b[14A\u001b[2K\u001b[10A\u001b[2K\u001b[21A\u001b[2K\u001b[32A\u001b[2K\u001b[21A\u001b[2K\u001b[14A\u001b[2K\u001b[20A\u001b[2K\u001b[14A\u001b[2K\u001b[32A\u001b[2K\u001b[10A\u001b[2K\u001b[21A\u001b[2K\u001b[10A\u001b[2K\u001b[14A\u001b[2K\u001b[10A\u001b[2K\u001b[20A\u001b[2K\u001b[32A\u001b[2K\u001b[14A\u001b[2K\u001b[21A\u001b[2K\u001b[14A\u001b[2K\u001b[21A\u001b[2K\u001b[20A\u001b[2K\u001b[21A\u001b[2K\u001b[20A\u001b[2K\u001b[32A\u001b[2K\u001b[20A\u001b[2K\u001b[32A\u001b[2K\u001b[21A\u001b[2K\u001b[20A\u001b[2K\u001b[21A\u001b[2K\u001b[20A\u001b[2K\u001b[10A\u001b[2K\u001b[32A\u001b[2K\u001b[21A\u001b[2K\u001b[14A\u001b[2K\u001b[32A\u001b[2K\u001b[20A\u001b[2K\u001b[32A\u001b[2K\u001b[21A\u001b[2K\u001b[14A\u001b[2K\u001b[32A\u001b[2K\u001b[14A\u001b[2K\u001b[32A\u001b[2K\u001b[14A\u001b[2K\u001b[10A\u001b[2K\u001b[20A\u001b[2K\u001b[14A\u001b[2K\u001b[20A\u001b[2K\u001b[10A\u001b[2K\u001b[20A\u001b[2K\u001b[32A\u001b[2K\u001b[14A\u001b[2K\u001b[10A\u001b[2K\u001b[21A\u001b[2K\u001b[14A\u001b[2K\u001b[21A\u001b[2K\u001b[14A\u001b[2K\u001b[32A\u001b[2K\u001b[14A\u001b[2K\u001b[32A\u001b[2K\u001b[14A\u001b[2K\u001b[32A\u001b[2K\u001b[21A\u001b[2K\u001b[32A\u001b[2K\u001b[14A\u001b[2K\u001b[20A\u001b[2K\u001b[10A\u001b[2K\u001b[20A\u001b[2K\u001b[14A\u001b[2K\u001b[21A\u001b[2K\u001b[14A\u001b[2K\u001b[21A\u001b[2K\u001b[14A\u001b[2K\u001b[10A\u001b[2K\u001b[32A\u001b[2K\u001b[14A\u001b[2K\u001b[21A\u001b[2K\u001b[14A\u001b[2K\u001b[20A\u001b[2K\u001b[32A\u001b[2K\u001b[20A\u001b[2K\u001b[21A\u001b[2K\u001b[20A\u001b[2K\u001b[21A\u001b[2K\u001b[32A\u001b[2K\u001b[20A\u001b[2K\u001b[32A\u001b[2K\u001b[10A\u001b[2K\u001b[14A\u001b[2K\u001b[32A\u001b[2K\u001b[14A\u001b[2K\u001b[32A\u001b[2K\u001b[10A\u001b[2K\u001b[32A\u001b[2K\u001b[21A\u001b[2K\u001b[21A\u001b[2K\u001b[20A\u001b[2K\u001b[32A\u001b[2K\u001b[21A\u001b[2K\u001b[10A\u001b[2K\u001b[21A\u001b[2K\u001b[14A\u001b[2K\u001b[32A\u001b[2K\u001b[21A\u001b[2K\u001b[32A\u001b[2K\u001b[10A\u001b[2K\u001b[14A\u001b[2K\u001b[21A\u001b[2K\u001b[32A\u001b[2K\u001b[21A\u001b[2K\u001b[32A\u001b[2K\u001b[10A\u001b[2K\u001b[21A\u001b[2K\u001b[32A\u001b[2K\u001b[10A\u001b[2K\u001b[14A\u001b[2K\u001b[32A\u001b[2K\u001b[20A\u001b[2K\u001b[10A\u001b[2K\u001b[21A\u001b[2K\u001b[10A\u001b[2K\u001b[21A\u001b[2K\u001b[10A\u001b[2K\u001b[20A\u001b[2K\u001b[32A\u001b[2K\u001b[20A\u001b[2K\u001b[14A\u001b[2K\u001b[32A\u001b[2K\u001b[21A\u001b[2K\u001b[14A\u001b[2K\u001b[21A\u001b[2K\u001b[32A\u001b[2K\u001b[10A\u001b[2K\u001b[14A\u001b[2K\u001b[20A\u001b[2K\u001b[32A\u001b[2K\u001b[10A\u001b[2K\u001b[21A\u001b[2K\u001b[10A\u001b[2K\u001b[32A\u001b[2K\u001b[14A\u001b[2K\u001b[10A\u001b[2K\u001b[32A\u001b[2K\u001b[10A\u001b[2K\u001b[21A\u001b[2K\u001b[20A\u001b[2K\u001b[21A\u001b[2K\u001b[32A\u001b[2K\u001b[10A\u001b[2K\u001b[21A\u001b[2K\u001b[10A\u001b[2K\u001b[20A\u001b[2K\u001b[10A\u001b[2K\u001b[20A\u001b[2K\u001b[14A\u001b[2K\u001b[32A\u001b[2K\u001b[14A\u001b[2K\u001b[10A\u001b[2K\u001b[20A\u001b[2K\u001b[10A\u001b[2K\u001b[20A\u001b[2K\u001b[10A\u001b[2K\u001b[32A\u001b[2K\u001b[21A\u001b[2K\u001b[32A\u001b[2K\u001b[14A\u001b[2K\u001b[32A\u001b[2K\u001b[20A\u001b[2K\u001b[9A\u001b[2K\u001b[8A\u001b[2K\u001b[20A\u001b[2K\u001b[20A\u001b[2K\u001b[9A\u001b[2K\u001b[20A\u001b[2K\u001b[9A\u001b[2K\u001b[10A\u001b[2K\u001b[32A\u001b[2K\u001b[9A\u001b[2K\u001b[10A\u001b[2K\u001b[9A\u001b[2K\u001b[32A\u001b[2K\u001b[20A\u001b[2K\u001b[9A\u001b[2K\u001b[20A\u001b[2K\u001b[9A\u001b[2K\u001b[20A\u001b[2K\u001b[32A\u001b[2K\u001b[9A\u001b[2K\u001b[20A\u001b[2K\u001b[7A\u001b[2K\u001b[20A\u001b[2K\u001b[32A\u001b[2K\u001b[6A\u001b[2K\u001b[32A\u001b[2K\u001b[20A\u001b[2K\u001b[32A\u001b[2K\u001b[20A\u001b[2K\u001b[32A\u001b[2K\u001b[9A\u001b[2K\u001b[20A\u001b[2K\u001b[9A\u001b[2K\u001b[4A\u001b[2K\u001b[9A\u001b[2K\u001b[20A\u001b[2K\u001b[9A\u001b[2K\u001b[20A\u001b[2K\u001b[9A\u001b[2K\u001b[32A\u001b[2K\u001b[9A\u001b[2K\u001b[32A\u001b[2K\u001b[9A\u001b[2K\u001b[4A\u001b[2K\u001b[9A\u001b[2K\u001b[4A\u001b[2K\u001b[32A\u001b[2K\u001b[4A\u001b[2K\u001b[20A\u001b[2K\u001b[4A\u001b[2K\u001b[20A\u001b[2K\u001b[4A\u001b[2K\u001b[9A\u001b[2K\u001b[4A\u001b[2K\u001b[20A\u001b[2K\u001b[9A\u001b[2K\u001b[3A\u001b[2K\u001b[20A\u001b[2K\u001b[32A\u001b[2K\u001b[9A\u001b[2K\u001b[32A\u001b[2K\u001b[9A\u001b[2K\u001b[3A\u001b[2K\u001b[32A\u001b[2K\u001b[32A\u001b[2K\u001b[9A\u001b[2K\u001b[32A\u001b[2K\u001b[9A\u001b[2K\u001b[32A\u001b[2K\u001b[20A\u001b[2K\u001b[32A\u001b[2K\u001b[3A\u001b[2K\u001b[32A\u001b[2K\u001b[2A\u001b[2K\u001b[3A\u001b[2K\u001b[3A\u001b[2K\u001b[32A\u001b[2K\u001b[9A\u001b[2K\u001b[20A\u001b[2K\u001b[3A\u001b[2K\u001b[20A\u001b[2K\u001b[3A\u001b[2K\u001b[20A\u001b[2K\u001b[3A\u001b[2K\u001b[9A\u001b[2K\u001b[3A\u001b[2K\u001b[9A\u001b[2K\u001b[32A\u001b[2K\u001b[32A\u001b[2K\u001b[3A\u001b[2K\u001b[32A\u001b[2K\u001b[20A\u001b[2K\u001b[3A\u001b[2K\u001b[20A\u001b[2K\u001b[3A\u001b[2K\u001b[1A\u001b[2K\u001b[20A\u001b[2K\u001b[3A\u001b[2K\u001b[32A\u001b[2K\u001b[3A\u001b[2K\u001b[20A\u001b[2K\u001b[1A\u001b[2K\u001b[20A\u001b[2K\u001b[1A\u001b[2K\u001b[9A\u001b[2K\u001b[1A\u001b[2K\u001b[1A\u001b[2K\u001b[1A\u001b[2K\u001b[20A\u001b[2K\u001b[32A\u001b[2K\u001b[1A\u001b[2K\u001b[3A\u001b[2K\u001b[1A\u001b[2K\u001b[3A\u001b[2K\u001b[9A\u001b[2K\u001b[20A\u001b[2K\u001b[9A\u001b[2K\u001b[20A\u001b[2K\u001b[32A\u001b[2K\u001b[20A\u001b[2K\u001b[1A\u001b[2K\u001b[3A\u001b[2K\u001b[9A\u001b[2K\u001b[32A\u001b[2K\u001b[9A\u001b[2K\u001b[32A\u001b[2K\u001b[1A\u001b[2K\u001b[3A\u001b[2K\u001b[9A\u001b[2K\u001b[1A\u001b[2K\u001b[3A\u001b[2K\u001b[20A\u001b[2K\u001b[3A\u001b[2K\u001b[20A\u001b[2K\u001b[1A\u001b[2K\u001b[20A\u001b[2K\u001b[32A\u001b[2K\u001b[1A\u001b[2K\u001b[3A\u001b[2K\u001b[32A\u001b[2K\u001b[20A\u001b[2K\u001b[9A\u001b[2K\u001b[32A\u001b[2K\u001b[9A\u001b[2K\u001b[20A\u001b[2K\u001b[32A\u001b[2K\u001b[20A\u001b[2K\u001b[9A\u001b[2K\u001b[20A\u001b[2K\u001b[3A\u001b[2K\u001b[9A\u001b[2K\u001b[3A\u001b[2K\u001b[20A\u001b[2K\u001b[3A\u001b[2K\u001b[20A\u001b[2K\u001b[1A\u001b[2K\u001b[3A\u001b[2K\u001b[32A\u001b[2K\u001b[3A\u001b[2K\u001b[1A\u001b[2K\u001b[9A\u001b[2K\u001b[3A\u001b[2K\u001b[20A\u001b[2K\u001b[32A\u001b[2K\u001b[3A\u001b[2K\u001b[32A\u001b[2K\u001b[9A\u001b[2K\u001b[20A\u001b[2K\u001b[3A\u001b[2K\u001b[1A\u001b[2K\u001b[3A\u001b[2K\u001b[1A\u001b[2K\u001b[20A\u001b[2K\u001b[1A\u001b[2K\u001b[32A\u001b[2K\u001b[3A\u001b[2K\u001b[20A\u001b[2K\u001b[9A\u001b[2K\u001b[20A\u001b[2K\u001b[9A\u001b[2K\u001b[1A\u001b[2K\u001b[9A\u001b[2K\u001b[1A\u001b[2K\u001b[3A\u001b[2K\u001b[9A\u001b[2K\u001b[3A\u001b[2K\u001b[9A\u001b[2K\u001b[32A\u001b[2K\u001b[3A\u001b[2K\u001b[9A\u001b[2K\u001b[1A\u001b[2K\u001b[9A\u001b[2K\u001b[1A\u001b[2K\u001b[9A\u001b[2K\u001b[20A\u001b[2K\u001b[9A\u001b[2K\u001b[20A\u001b[2K\u001b[1A\u001b[2K\u001b[20A\u001b[2K\u001b[1A\u001b[2K\u001b[9A\u001b[2K\u001b[1A\u001b[2K\u001b[9A\u001b[2K\u001b[3A\u001b[2K\u001b[9A\u001b[2K\u001b[3A\u001b[2K\u001b[3A\u001b[2K\u001b[20A\u001b[2K\u001b[32A\u001b[2K\u001b[3A\u001b[2K\u001b[32A\u001b[2K\u001b[9A\u001b[2K\u001b[20A\u001b[2K\u001b[1A\u001b[2K\u001b[20A\u001b[2K\u001b[3A\u001b[2K\u001b[1A\u001b[2K\u001b[20A\u001b[2K\u001b[3A\u001b[2K\u001b[32A\u001b[2K\u001b[20A\u001b[2K\u001b[32A\u001b[2K\u001b[20A\u001b[2K\u001b[9A\u001b[2K\u001b[20A\u001b[2K\u001b[3A\u001b[2K\u001b[20A\u001b[2K\u001b[9A\u001b[2K\u001b[32A\u001b[2K\u001b[3A\u001b[2K\u001b[32A\u001b[2K\u001b[1A\u001b[2K\u001b[9A\u001b[2K\u001b[20A\u001b[2K\u001b[9A\u001b[2K\u001b[32A\u001b[2K\u001b[9A\u001b[2K\u001b[32A\u001b[2K\u001b[20A\u001b[2K\u001b[32A\u001b[2K\u001b[20A\u001b[2K\u001b[32A\u001b[2K\u001b[9A\u001b[2K\u001b[3A\u001b[2K\u001b[32A\u001b[2K\u001b[3A\u001b[2K\u001b[20A\u001b[2K\u001b[3A\u001b[2K\u001b[32A\u001b[2K\u001b[32A\u001b[2K\u001b[20A\u001b[2K\u001b[3A\u001b[2K\u001b[20A\u001b[2K\u001b[3A\u001b[2K\u001b[1A\u001b[2K\u001b[9A\u001b[2K\u001b[3A\u001b[2K\u001b[20A\u001b[2K\u001b[3A\u001b[2K\u001b[20A\u001b[2K\u001b[9A\u001b[2K\u001b[32A\u001b[2K\u001b[9A\u001b[2K\u001b[3A\u001b[2K\u001b[32A\u001b[2K\u001b[9A\u001b[2K\u001b[32A\u001b[2K\u001b[3A\u001b[2K\u001b[9A\u001b[2K\u001b[20A\u001b[2K\u001b[3A\u001b[2K\u001b[20A\u001b[2K\u001b[32A\u001b[2K\u001b[9A\u001b[2K\u001b[32A\u001b[2K\u001b[9A\u001b[2K\u001b[1A\u001b[2K\u001b[9A\u001b[2K\u001b[20A\u001b[2K\u001b[9A\u001b[2K\u001b[20A\u001b[2K\u001b[3A\u001b[2K\u001b[9A\u001b[2K\u001b[3A\u001b[2K\u001b[9A\u001b[2K\u001b[3A\u001b[2K\u001b[20A\u001b[2K\u001b[3A\u001b[2K\u001b[32A\u001b[2K\u001b[9A\u001b[2K\u001b[3A\u001b[2K\u001b[9A\u001b[2K\u001b[3A\u001b[2K\u001b[20A\u001b[2K\u001b[3A\u001b[2K\u001b[9A\u001b[2K\u001b[20A\u001b[2K\u001b[9A\u001b[2K\u001b[20A\u001b[2K\u001b[9A\u001b[2K\u001b[20A\u001b[2K\u001b[32A\u001b[2K\u001b[20A\u001b[2K\u001b[32A\u001b[2K\u001b[20A\u001b[2K\u001b[3A\u001b[2K\u001b[32A\u001b[2K\u001b[20A\u001b[2K\u001b[32A\u001b[2K\u001b[20A\u001b[2K\u001b[3A\u001b[2K\u001b[32A\u001b[2K\u001b[3A\u001b[2K\u001b[1A\u001b[2K\u001b[3A\u001b[2K\u001b[20A\u001b[2K\u001b[9A\u001b[2K\u001b[20A\u001b[2K\u001b[1A\u001b[2K\u001b[20A\u001b[2K\u001b[32A\u001b[2K\u001b[20A\u001b[2K\u001b[32A\u001b[2K\u001b[3A\u001b[2K\u001b[9A\u001b[2K\u001b[32A\u001b[2K\u001b[9A\u001b[2K\u001b[20A\u001b[2K\u001b[9A\u001b[2K\u001b[3A\u001b[2K\u001b[1A\u001b[2K\u001b[9A\u001b[2K\u001b[20A\u001b[2K\u001b[9A\u001b[2K\u001b[3A\u001b[2K\u001b[9A\u001b[2K\u001b[20A\u001b[2K\u001b[9A\u001b[2K\u001b[32A\u001b[2K\u001b[20A\u001b[2K\u001b[9A\u001b[2K\u001b[20A\u001b[2K\u001b[9A\u001b[2K\u001b[20A\u001b[2K\u001b[3A\u001b[2K\u001b[20A\u001b[2K\u001b[9A\u001b[2K\u001b[20A\u001b[2K\u001b[9A\u001b[2K\u001b[20A\u001b[2K\u001b[9A\u001b[2K\u001b[32A\u001b[2K\u001b[20A\u001b[2K\u001b[32A\u001b[2K\u001b[20A\u001b[2K\u001b[32A\u001b[2K\u001b[20A\u001b[2K\u001b[32A\u001b[2K\u001b[9A\u001b[2K\u001b[20A\u001b[2K\u001b[9A\u001b[2K\u001b[20A\u001b[2K\u001b[32A\u001b[2K\u001b[9A\u001b[2K\u001b[3A\u001b[2K\u001b[9A\u001b[2K\u001b[20A\u001b[2K\u001b[9A\u001b[2K\u001b[32A\u001b[2K\u001b[3A\u001b[2K\u001b[9A\u001b[2K\u001b[3A\u001b[2K\u001b[9A\u001b[2K\u001b[3A\u001b[2K\u001b[9A\u001b[2K\u001b[3A\u001b[2K\u001b[9A\u001b[2K\u001b[3A\u001b[2K\u001b[9A\u001b[2K\u001b[32A\u001b[2K\u001b[3A\u001b[2K\u001b[20A\u001b[2K\u001b[9A\u001b[2K\u001b[32A\u001b[2K\u001b[9A\u001b[2K\u001b[32A\u001b[2K\u001b[9A\u001b[2K\u001b[3A\u001b[2K\u001b[20A\u001b[2K\u001b[32A\u001b[2K\u001b[20A\u001b[2K\u001b[9A\u001b[2K\u001b[20A\u001b[2K\u001b[32A\u001b[2K\u001b[20A\u001b[2K\u001b[32A\u001b[2K\u001b[3A\u001b[2K\u001b[9A\u001b[2K\u001b[20A\u001b[2K\u001b[32A\u001b[2K\u001b[32A\u001b[2K\u001b[20A\u001b[2K\u001b[32A\u001b[2K\u001b[20A\u001b[2K\u001b[32A\u001b[2K\u001b[20A\u001b[2K\u001b[3A\u001b[2K\u001b[32A\u001b[2K\u001b[20A\u001b[2K\u001b[32A\u001b[2K\u001b[20A\u001b[2K\u001b[32A\u001b[2K\u001b[20A\u001b[2K\u001b[32A\u001b[2K\u001b[3A\u001b[2K\u001b[32A\u001b[2K\u001b[9A\u001b[2K\u001b[32A\u001b[2K\u001b[3A\u001b[2K\u001b[32A\u001b[2K\u001b[20A\u001b[2K\u001b[32A\u001b[2K\u001b[20A\u001b[2K\u001b[3A\u001b[2K\u001b[20A\u001b[2K\u001b[3A\u001b[2K\u001b[32A\u001b[2K\u001b[3A\u001b[2K\u001b[32A\u001b[2K\u001b[3A\u001b[2K\u001b[20A\u001b[2K\u001b[3A\u001b[2K\u001b[32A\u001b[2K\u001b[3A\u001b[2K\u001b[32A\u001b[2K\u001b[32A\u001b[2K\u001b[32A\u001b[2K\u001b[20A\u001b[2K\u001b[32A\u001b[2K\u001b[3A\u001b[2K\u001b[32A\u001b[2K\u001b[32A\u001b[2K\u001b[32A\u001b[2KPushing  1.321GB/2.217GB\u001b[32A\u001b[2K\u001b[20A\u001b[2K\u001b[3A\u001b[2K\u001b[20A\u001b[2K\u001b[3A\u001b[2K\u001b[20A\u001b[2K\u001b[3A\u001b[2K\u001b[32A\u001b[2K\u001b[32A\u001b[2K\u001b[3A\u001b[2K\u001b[32A\u001b[2K\u001b[3A\u001b[2K\u001b[32A\u001b[2K\u001b[20A\u001b[2K\u001b[32A\u001b[2K\u001b[3A\u001b[2K\u001b[32A\u001b[2K\u001b[3A\u001b[2K\u001b[32A\u001b[2K\u001b[20A\u001b[2K\u001b[32A\u001b[2K\u001b[20A\u001b[2K\u001b[3A\u001b[2K\u001b[20A\u001b[2K\u001b[3A\u001b[2K\u001b[20A\u001b[2K\u001b[20A\u001b[2K\u001b[3A\u001b[2K\u001b[20A\u001b[2K\u001b[32A\u001b[2K\u001b[3A\u001b[2K\u001b[32A\u001b[2K\u001b[3A\u001b[2K\u001b[32A\u001b[2K\u001b[3A\u001b[2K\u001b[20A\u001b[2K\u001b[20A\u001b[2K\u001b[20A\u001b[2K\u001b[20A\u001b[2K\u001b[20A\u001b[2K\u001b[32A\u001b[2K\u001b[20A\u001b[2K\u001b[32A\u001b[2K\u001b[3A\u001b[2K\u001b[20A\u001b[2K\u001b[3A\u001b[2K\u001b[20A\u001b[2K\u001b[3A\u001b[2K\u001b[20A\u001b[2K\u001b[3A\u001b[2K\u001b[20A\u001b[2K\u001b[20A\u001b[2K\u001b[3A\u001b[2K\u001b[20A\u001b[2K\u001b[3A\u001b[2K\u001b[20A\u001b[2K\u001b[20A\u001b[2K\u001b[3A\u001b[2K\u001b[20A\u001b[2K\u001b[3A\u001b[2K\u001b[20A\u001b[2K\u001b[32A\u001b[2K\u001b[3A\u001b[2K\u001b[32A\u001b[2K\u001b[3A\u001b[2K\u001b[20A\u001b[2K\u001b[3A\u001b[2K\u001b[20A\u001b[2K\u001b[3A\u001b[2K\u001b[20A\u001b[2K\u001b[20A\u001b[2K\u001b[32A\u001b[2K\u001b[20A\u001b[2K\u001b[32A\u001b[2K\u001b[20A\u001b[2K\u001b[3A\u001b[2K\u001b[20A\u001b[2K\u001b[3A\u001b[2K\u001b[32A\u001b[2K\u001b[3A\u001b[2K\u001b[20A\u001b[2K\u001b[3A\u001b[2K\u001b[3A\u001b[2K\u001b[3A\u001b[2K\u001b[20A\u001b[2K\u001b[32A\u001b[2K\u001b[32A\u001b[2K\u001b[32A\u001b[2K\u001b[32A\u001b[2K\u001b[3A\u001b[2K\u001b[20A\u001b[2K\u001b[3A\u001b[2K\u001b[32A\u001b[2K\u001b[3A\u001b[2K\u001b[32A\u001b[2K\u001b[3A\u001b[2K\u001b[32A\u001b[2K\u001b[20A\u001b[2K\u001b[32A\u001b[2K\u001b[20A\u001b[2K\u001b[3A\u001b[2K\u001b[32A\u001b[2K\u001b[3A\u001b[2K\u001b[32A\u001b[2K\u001b[3A\u001b[2K\u001b[3A\u001b[2K\u001b[20A\u001b[2K\u001b[3A\u001b[2K\u001b[20A\u001b[2K\u001b[32A\u001b[2K\u001b[3A\u001b[2K\u001b[32A\u001b[2K\u001b[32A\u001b[2K\u001b[32A\u001b[2K\u001b[32A\u001b[2K\u001b[3A\u001b[2K\u001b[32A\u001b[2K\u001b[3A\u001b[2K\u001b[32A\u001b[2K\u001b[32A\u001b[2K\u001b[3A\u001b[2K\u001b[32A\u001b[2K\u001b[20A\u001b[2K\u001b[32A\u001b[2K\u001b[20A\u001b[2K\u001b[32A\u001b[2K\u001b[20A\u001b[2K\u001b[32A\u001b[2K\u001b[20A\u001b[2K\u001b[3A\u001b[2K\u001b[20A\u001b[2K\u001b[3A\u001b[2K\u001b[20A\u001b[2K\u001b[20A\u001b[2K\u001b[20A\u001b[2K\u001b[32A\u001b[2K\u001b[20A\u001b[2K\u001b[32A\u001b[2K\u001b[20A\u001b[2K\u001b[3A\u001b[2K\u001b[20A\u001b[2K\u001b[20A\u001b[2K\u001b[32A\u001b[2K\u001b[20A\u001b[2K\u001b[32A\u001b[2K\u001b[20A\u001b[2K\u001b[3A\u001b[2K\u001b[20A\u001b[2K\u001b[3A\u001b[2K\u001b[32A\u001b[2K\u001b[20A\u001b[2K\u001b[20A\u001b[2K\u001b[3A\u001b[2K\u001b[32A\u001b[2K\u001b[3A\u001b[2K\u001b[20A\u001b[2K\u001b[32A\u001b[2K\u001b[20A\u001b[2K\u001b[3A\u001b[2K\u001b[20A\u001b[2K\u001b[3A\u001b[2K\u001b[20A\u001b[2K\u001b[32A\u001b[2K\u001b[20A\u001b[2K\u001b[32A\u001b[2K\u001b[3A\u001b[2K\u001b[32A\u001b[2K\u001b[3A\u001b[2K\u001b[3A\u001b[2K\u001b[20A\u001b[2K\u001b[3A\u001b[2K\u001b[32A\u001b[2K\u001b[20A\u001b[2K\u001b[3A\u001b[2K\u001b[20A\u001b[2K\u001b[32A\u001b[2K\u001b[20A\u001b[2K\u001b[32A\u001b[2K\u001b[20A\u001b[2K\u001b[3A\u001b[2K\u001b[20A\u001b[2K\u001b[3A\u001b[2K\u001b[20A\u001b[2K\u001b[32A\u001b[2K\u001b[20A\u001b[2K\u001b[3A\u001b[2K\u001b[20A\u001b[2K\u001b[32A\u001b[2K\u001b[20A\u001b[2K\u001b[32A\u001b[2K\u001b[20A\u001b[2K\u001b[3A\u001b[2K\u001b[20A\u001b[2K\u001b[3A\u001b[2K\u001b[20A\u001b[2K\u001b[3A\u001b[2K\u001b[20A\u001b[2K\u001b[20A\u001b[2K\u001b[32A\u001b[2K\u001b[20A\u001b[2K\u001b[32A\u001b[2K\u001b[20A\u001b[2K\u001b[20A\u001b[2K\u001b[3A\u001b[2K\u001b[20A\u001b[2K\u001b[3A\u001b[2K\u001b[20A\u001b[2K\u001b[32A\u001b[2K\u001b[20A\u001b[2K\u001b[32A\u001b[2K\u001b[3A\u001b[2K\u001b[32A\u001b[2K\u001b[3A\u001b[2K\u001b[32A\u001b[2K\u001b[3A\u001b[2K\u001b[32A\u001b[2K\u001b[20A\u001b[2K\u001b[32A\u001b[2K\u001b[20A\u001b[2K\u001b[32A\u001b[2K\u001b[20A\u001b[2K\u001b[32A\u001b[2K\u001b[20A\u001b[2K\u001b[32A\u001b[2K\u001b[3A\u001b[2K\u001b[32A\u001b[2K\u001b[20A\u001b[2K\u001b[32A\u001b[2K\u001b[3A\u001b[2K\u001b[32A\u001b[2K\u001b[20A\u001b[2K\u001b[32A\u001b[2K\u001b[20A\u001b[2K\u001b[3A\u001b[2K\u001b[20A\u001b[2K\u001b[3A\u001b[2K\u001b[20A\u001b[2K\u001b[32A\u001b[2K\u001b[20A\u001b[2K\u001b[32A\u001b[2K\u001b[20A\u001b[2K\u001b[32A\u001b[2K\u001b[20A\u001b[2K\u001b[3A\u001b[2K\u001b[20A\u001b[2K\u001b[3A\u001b[2K\u001b[20A\u001b[2K\u001b[32A\u001b[2K\u001b[20A\u001b[2K\u001b[32A\u001b[2K\u001b[3A\u001b[2K\u001b[32A\u001b[2K\u001b[3A\u001b[2K\u001b[32A\u001b[2K\u001b[20A\u001b[2K\u001b[32A\u001b[2K\u001b[3A\u001b[2K\u001b[32A\u001b[2K\u001b[20A\u001b[2K\u001b[32A\u001b[2K\u001b[3A\u001b[2K\u001b[32A\u001b[2K\u001b[3A\u001b[2K\u001b[32A\u001b[2K\u001b[3A\u001b[2K\u001b[3A\u001b[2K\u001b[20A\u001b[2K\u001b[3A\u001b[2K\u001b[20A\u001b[2K\u001b[3A\u001b[2K\u001b[32A\u001b[2K\u001b[20A\u001b[2K\u001b[32A\u001b[2K\u001b[20A\u001b[2K\u001b[32A\u001b[2K\u001b[20A\u001b[2K\u001b[32A\u001b[2K\u001b[3A\u001b[2K\u001b[32A\u001b[2K\u001b[20A\u001b[2K\u001b[3A\u001b[2K\u001b[32A\u001b[2K\u001b[3A\u001b[2K\u001b[32A\u001b[2K\u001b[20A\u001b[2K\u001b[32A\u001b[2K\u001b[20A\u001b[2K\u001b[3A\u001b[2K\u001b[20A\u001b[2K\u001b[3A\u001b[2K\u001b[20A\u001b[2K\u001b[3A\u001b[2K\u001b[20A\u001b[2K\u001b[3A\u001b[2K\u001b[32A\u001b[2K\u001b[32A\u001b[2K\u001b[20A\u001b[2K\u001b[3A\u001b[2K\u001b[20A\u001b[2K\u001b[3A\u001b[2K\u001b[20A\u001b[2K\u001b[3A\u001b[2K\u001b[20A\u001b[2K\u001b[3A\u001b[2K\u001b[20A\u001b[2K\u001b[3A\u001b[2K\u001b[20A\u001b[2K\u001b[3A\u001b[2K\u001b[20A\u001b[2K\u001b[32A\u001b[2K\u001b[20A\u001b[2K\u001b[3A\u001b[2K\u001b[20A\u001b[2K\u001b[32A\u001b[2K\u001b[20A\u001b[2K\u001b[32A\u001b[2K\u001b[3A\u001b[2K\u001b[32A\u001b[2K\u001b[32A\u001b[2K\u001b[3A\u001b[2K\u001b[32A\u001b[2K\u001b[3A\u001b[2K\u001b[32A\u001b[2K\u001b[3A\u001b[2K\u001b[32A\u001b[2K\u001b[3A\u001b[2K\u001b[32A\u001b[2K\u001b[3A\u001b[2K\u001b[20A\u001b[2K\u001b[32A\u001b[2K\u001b[20A\u001b[2K\u001b[32A\u001b[2K\u001b[20A\u001b[2K\u001b[32A\u001b[2K\u001b[20A\u001b[2K\u001b[3A\u001b[2K\u001b[20A\u001b[2K\u001b[32A\u001b[2K\u001b[32A\u001b[2K\u001b[20A\u001b[2K\u001b[32A\u001b[2K\u001b[20A\u001b[2K\u001b[32A\u001b[2K\u001b[20A\u001b[2K\u001b[32A\u001b[2K\u001b[20A\u001b[2K\u001b[3A\u001b[2K\u001b[20A\u001b[2K\u001b[3A\u001b[2K\u001b[32A\u001b[2K\u001b[3A\u001b[2K\u001b[20A\u001b[2K\u001b[32A\u001b[2K\u001b[20A\u001b[2K\u001b[32A\u001b[2K\u001b[20A\u001b[2K\u001b[32A\u001b[2K\u001b[32A\u001b[2K\u001b[32A\u001b[2K\u001b[3A\u001b[2K\u001b[32A\u001b[2K\u001b[20A\u001b[2K\u001b[20A\u001b[2K\u001b[3A\u001b[2K\u001b[20A\u001b[2K\u001b[32A\u001b[2K\u001b[20A\u001b[2K\u001b[32A\u001b[2K\u001b[20A\u001b[2K\u001b[32A\u001b[2K\u001b[3A\u001b[2K\u001b[32A\u001b[2K\u001b[32A\u001b[2K\u001b[3A\u001b[2K\u001b[32A\u001b[2K\u001b[20A\u001b[2K\u001b[20A\u001b[2K\u001b[32A\u001b[2K\u001b[20A\u001b[2K\u001b[32A\u001b[2K\u001b[20A\u001b[2K\u001b[3A\u001b[2K\u001b[32A\u001b[2K\u001b[20A\u001b[2K\u001b[3A\u001b[2K\u001b[20A\u001b[2K\u001b[32A\u001b[2K\u001b[3A\u001b[2K\u001b[32A\u001b[2K\u001b[20A\u001b[2K\u001b[32A\u001b[2K\u001b[3A\u001b[2K\u001b[32A\u001b[2K\u001b[20A\u001b[2K\u001b[32A\u001b[2K\u001b[20A\u001b[2K\u001b[32A\u001b[2K\u001b[20A\u001b[2K\u001b[3A\u001b[2K\u001b[20A\u001b[2K\u001b[32A\u001b[2K\u001b[20A\u001b[2K\u001b[32A\u001b[2K\u001b[20A\u001b[2K\u001b[32A\u001b[2K\u001b[20A\u001b[2K\u001b[32A\u001b[2K\u001b[3A\u001b[2K\u001b[32A\u001b[2K\u001b[3A\u001b[2K\u001b[20A\u001b[2K\u001b[32A\u001b[2K\u001b[20A\u001b[2K\u001b[32A\u001b[2K\u001b[20A\u001b[2K\u001b[20A\u001b[2K\u001b[3A\u001b[2K\u001b[20A\u001b[2K\u001b[32A\u001b[2K\u001b[20A\u001b[2K\u001b[3A\u001b[2K\u001b[3A\u001b[2K\u001b[20A\u001b[2K\u001b[3A\u001b[2K\u001b[3A\u001b[2K\u001b[20A\u001b[2K\u001b[3A\u001b[2K\u001b[20A\u001b[2K\u001b[20A\u001b[2K\u001b[32A\u001b[2K\u001b[20A\u001b[2K\u001b[3A\u001b[2K\u001b[32A\u001b[2K\u001b[20A\u001b[2K\u001b[32A\u001b[2K\u001b[20A\u001b[2K\u001b[32A\u001b[2K\u001b[3A\u001b[2K\u001b[20A\u001b[2K\u001b[32A\u001b[2K\u001b[20A\u001b[2K\u001b[3A\u001b[2K\u001b[20A\u001b[2K\u001b[20A\u001b[2K\u001b[32A\u001b[2K\u001b[20A\u001b[2K\u001b[32A\u001b[2K\u001b[20A\u001b[2K\u001b[32A\u001b[2K\u001b[20A\u001b[2K\u001b[3A\u001b[2K\u001b[32A\u001b[2K\u001b[3A\u001b[2K\u001b[20A\u001b[2K\u001b[3A\u001b[2K\u001b[20A\u001b[2K\u001b[3A\u001b[2K\u001b[3A\u001b[2K\u001b[32A\u001b[2K\u001b[3A\u001b[2K\u001b[32A\u001b[2K\u001b[3A\u001b[2K\u001b[32A\u001b[2K\u001b[3A\u001b[2K\u001b[3A\u001b[2K\u001b[32A\u001b[2K\u001b[3A\u001b[2K\u001b[32A\u001b[2K\u001b[3A\u001b[2K\u001b[20A\u001b[2K\u001b[20A\u001b[2K\u001b[32A\u001b[2K\u001b[3A\u001b[2K\u001b[32A\u001b[2K\u001b[20A\u001b[2K\u001b[3A\u001b[2K\u001b[32A\u001b[2K\u001b[3A\u001b[2K\u001b[32A\u001b[2K\u001b[20A\u001b[2K\u001b[3A\u001b[2K\u001b[32A\u001b[2K\u001b[20A\u001b[2K\u001b[3A\u001b[2K\u001b[3A\u001b[2K\u001b[3A\u001b[2K\u001b[3A\u001b[2K\u001b[20A\u001b[2K\u001b[3A\u001b[2K\u001b[32A\u001b[2K\u001b[3A\u001b[2K\u001b[32A\u001b[2K\u001b[20A\u001b[2K\u001b[32A\u001b[2K\u001b[32A\u001b[2K\u001b[20A\u001b[2K\u001b[32A\u001b[2K\u001b[20A\u001b[2K\u001b[32A\u001b[2K\u001b[32A\u001b[2K\u001b[20A\u001b[2K\u001b[32A\u001b[2K\u001b[3A\u001b[2K\u001b[20A\u001b[2K\u001b[3A\u001b[2K\u001b[32A\u001b[2K\u001b[20A\u001b[2K\u001b[3A\u001b[2K\u001b[32A\u001b[2K\u001b[3A\u001b[2K\u001b[20A\u001b[2K\u001b[3A\u001b[2K\u001b[20A\u001b[2K\u001b[3A\u001b[2K\u001b[20A\u001b[2K\u001b[3A\u001b[2K\u001b[3A\u001b[2K\u001b[20A\u001b[2K\u001b[3A\u001b[2K\u001b[32A\u001b[2K\u001b[20A\u001b[2K\u001b[3A\u001b[2K\u001b[32A\u001b[2K\u001b[3A\u001b[2K\u001b[32A\u001b[2K\u001b[20A\u001b[2K\u001b[3A\u001b[2K\u001b[20A\u001b[2K\u001b[3A\u001b[2K\u001b[20A\u001b[2K\u001b[20A\u001b[2K\u001b[3A\u001b[2K\u001b[20A\u001b[2K\u001b[32A\u001b[2K\u001b[20A\u001b[2K\u001b[32A\u001b[2K\u001b[3A\u001b[2K\u001b[32A\u001b[2K\u001b[3A\u001b[2K\u001b[20A\u001b[2K\u001b[20A\u001b[2K\u001b[32A\u001b[2K\u001b[20A\u001b[2K\u001b[32A\u001b[2K\u001b[20A\u001b[2K\u001b[3A\u001b[2K\u001b[20A\u001b[2K\u001b[32A\u001b[2K\u001b[3A\u001b[2K\u001b[32A\u001b[2K\u001b[32A\u001b[2K\u001b[3A\u001b[2K\u001b[32A\u001b[2K\u001b[20A\u001b[2K\u001b[32A\u001b[2K\u001b[20A\u001b[2K\u001b[3A\u001b[2K\u001b[32A\u001b[2K\u001b[3A\u001b[2K\u001b[32A\u001b[2K\u001b[20A\u001b[2K\u001b[3A\u001b[2K\u001b[20A\u001b[2K\u001b[32A\u001b[2K\u001b[32A\u001b[2K\u001b[3A\u001b[2K\u001b[32A\u001b[2K\u001b[3A\u001b[2K\u001b[3A\u001b[2K\u001b[32A\u001b[2K\u001b[32A\u001b[2K\u001b[3A\u001b[2K\u001b[32A\u001b[2K\u001b[32A\u001b[2K\u001b[20A\u001b[2K\u001b[32A\u001b[2K\u001b[20A\u001b[2K\u001b[32A\u001b[2K\u001b[3A\u001b[2K\u001b[32A\u001b[2K\u001b[20A\u001b[2K\u001b[32A\u001b[2K\u001b[20A\u001b[2K\u001b[32A\u001b[2K\u001b[32A\u001b[2K\u001b[20A\u001b[2K\u001b[32A\u001b[2K\u001b[20A\u001b[2K\u001b[32A\u001b[2K\u001b[20A\u001b[2K\u001b[32A\u001b[2K\u001b[20A\u001b[2K\u001b[20A\u001b[2K\u001b[32A\u001b[2K\u001b[20A\u001b[2K\u001b[20A\u001b[2K\u001b[20A\u001b[2K\u001b[20A\u001b[2K\u001b[20A\u001b[2K\u001b[32A\u001b[2K\u001b[20A\u001b[2K\u001b[32A\u001b[2K\u001b[20A\u001b[2K\u001b[32A\u001b[2K\u001b[20A\u001b[2K\u001b[32A\u001b[2K\u001b[20A\u001b[2K\u001b[32A\u001b[2K\u001b[20A\u001b[2K\u001b[32A\u001b[2K\u001b[20A\u001b[2K\u001b[32A\u001b[2K\u001b[20A\u001b[2K\u001b[32A\u001b[2K\u001b[20A\u001b[2K\u001b[32A\u001b[2K\u001b[20A\u001b[2K\u001b[32A\u001b[2K\u001b[20A\u001b[2K\u001b[32A\u001b[2K\u001b[20A\u001b[2K\u001b[32A\u001b[2K\u001b[20A\u001b[2K\u001b[20A\u001b[2K\u001b[20A\u001b[2K\u001b[32A\u001b[2K\u001b[20A\u001b[2K\u001b[32A\u001b[2K\u001b[20A\u001b[2K\u001b[20A\u001b[2K\u001b[32A\u001b[2K\u001b[20A\u001b[2K\u001b[32A\u001b[2K\u001b[20A\u001b[2K\u001b[20A\u001b[2K\u001b[20A\u001b[2K\u001b[32A\u001b[2K\u001b[20A\u001b[2K\u001b[20A\u001b[2K\u001b[32A\u001b[2K\u001b[20A\u001b[2K\u001b[32A\u001b[2K\u001b[32A\u001b[2K\u001b[32A\u001b[2K\u001b[20A\u001b[2K\u001b[32A\u001b[2K\u001b[20A\u001b[2K\u001b[32A\u001b[2K\u001b[32A\u001b[2K\u001b[20A\u001b[2K\u001b[32A\u001b[2K\u001b[20A\u001b[2K\u001b[32A\u001b[2K\u001b[20A\u001b[2K\u001b[32A\u001b[2K\u001b[32A\u001b[2K\u001b[32A\u001b[2K\u001b[20A\u001b[2K\u001b[32A\u001b[2K\u001b[32A\u001b[2K\u001b[20A\u001b[2K\u001b[20A\u001b[2K\u001b[20A\u001b[2K\u001b[20A\u001b[2K\u001b[20A\u001b[2K\u001b[20A\u001b[2K\u001b[20A\u001b[2K\u001b[32A\u001b[2K\u001b[32A\u001b[2K\u001b[20A\u001b[2K\u001b[20A\u001b[2K\u001b[20A\u001b[2K\u001b[20A\u001b[2K\u001b[32A\u001b[2K\u001b[20A\u001b[2K\u001b[32A\u001b[2K\u001b[20A\u001b[2K\u001b[20A\u001b[2K\u001b[32A\u001b[2K\u001b[20A\u001b[2K\u001b[32A\u001b[2K\u001b[32A\u001b[2K\u001b[32A\u001b[2K\u001b[32A\u001b[2K\u001b[32A\u001b[2K\u001b[20A\u001b[2K\u001b[32A\u001b[2K\u001b[20A\u001b[2K\u001b[32A\u001b[2K\u001b[32A\u001b[2K\u001b[20A\u001b[2K\u001b[32A\u001b[2K\u001b[32A\u001b[2K\u001b[20A\u001b[2K\u001b[32A\u001b[2K\u001b[32A\u001b[2K\u001b[32A\u001b[2K\u001b[20A\u001b[2K\u001b[32A\u001b[2K\u001b[20A\u001b[2K\u001b[32A\u001b[2K\u001b[20A\u001b[2K\u001b[32A\u001b[2K\u001b[20A\u001b[2K\u001b[32A\u001b[2K\u001b[20A\u001b[2K\u001b[20A\u001b[2K\u001b[20A\u001b[2K\u001b[20A\u001b[2K\u001b[32A\u001b[2K\u001b[20A\u001b[2K\u001b[32A\u001b[2K\u001b[20A\u001b[2K\u001b[32A\u001b[2K\u001b[20A\u001b[2K\u001b[20A\u001b[2K\u001b[32A\u001b[2K\u001b[32A\u001b[2K\u001b[32A\u001b[2K\u001b[20A\u001b[2K\u001b[32A\u001b[2K\u001b[20A\u001b[2K\u001b[32A\u001b[2K\u001b[20A\u001b[2K\u001b[32A\u001b[2K\u001b[20A\u001b[2K\u001b[32A\u001b[2K\u001b[20A\u001b[2K\u001b[32A\u001b[2K\u001b[20A\u001b[2K\u001b[32A\u001b[2K\u001b[20A\u001b[2K\u001b[32A\u001b[2K\u001b[20A\u001b[2K\u001b[32A\u001b[2K\u001b[20A\u001b[2K\u001b[32A\u001b[2K\u001b[32A\u001b[2K\u001b[32A\u001b[2K\u001b[20A\u001b[2K\u001b[32A\u001b[2K\u001b[20A\u001b[2K\u001b[32A\u001b[2K\u001b[20A\u001b[2K\u001b[32A\u001b[2K\u001b[20A\u001b[2K\u001b[32A\u001b[2K\u001b[20A\u001b[2K\u001b[32A\u001b[2K\u001b[20A\u001b[2K\u001b[20A\u001b[2K\u001b[20A\u001b[2K\u001b[32A\u001b[2K\u001b[20A\u001b[2K\u001b[32A\u001b[2K\u001b[20A\u001b[2K\u001b[32A\u001b[2K\u001b[20A\u001b[2K\u001b[32A\u001b[2K\u001b[20A\u001b[2K\u001b[32A\u001b[2K\u001b[20A\u001b[2K\u001b[32A\u001b[2K\u001b[20A\u001b[2K\u001b[32A\u001b[2K\u001b[20A\u001b[2K\u001b[20A\u001b[2K\u001b[32A\u001b[2K\u001b[20A\u001b[2K\u001b[32A\u001b[2K\u001b[20A\u001b[2K\u001b[20A\u001b[2K\u001b[32A\u001b[2K\u001b[20A\u001b[2K\u001b[20A\u001b[2K\u001b[32A\u001b[2K\u001b[20A\u001b[2K\u001b[20A\u001b[2K\u001b[32A\u001b[2K\u001b[20A\u001b[2K\u001b[20A\u001b[2K\u001b[20A\u001b[2K\u001b[20A\u001b[2K\u001b[32A\u001b[2K\u001b[20A\u001b[2K\u001b[20A\u001b[2K\u001b[20A\u001b[2K\u001b[32A\u001b[2K\u001b[20A\u001b[2K\u001b[32A\u001b[2K\u001b[20A\u001b[2K\u001b[32A\u001b[2K\u001b[20A\u001b[2K\u001b[32A\u001b[2K\u001b[20A\u001b[2K\u001b[32A\u001b[2K\u001b[20A\u001b[2K\u001b[20A\u001b[2K\u001b[32A\u001b[2K\u001b[20A\u001b[2K\u001b[20A\u001b[2K\u001b[32A\u001b[2K\u001b[20A\u001b[2K\u001b[32A\u001b[2K\u001b[20A\u001b[2K\u001b[32A\u001b[2K\u001b[20A\u001b[2K\u001b[32A\u001b[2K\u001b[20A\u001b[2K\u001b[32A\u001b[2K\u001b[20A\u001b[2K\u001b[32A\u001b[2K\u001b[20A\u001b[2K\u001b[32A\u001b[2K\u001b[20A\u001b[2K\u001b[20A\u001b[2K\u001b[32A\u001b[2K\u001b[20A\u001b[2K\u001b[32A\u001b[2K\u001b[20A\u001b[2K\u001b[20A\u001b[2K\u001b[32A\u001b[2K\u001b[20A\u001b[2K\u001b[32A\u001b[2K\u001b[20A\u001b[2K\u001b[32A\u001b[2K\u001b[20A\u001b[2K\u001b[32A\u001b[2K\u001b[20A\u001b[2K\u001b[32A\u001b[2K\u001b[32A\u001b[2K\u001b[20A\u001b[2K\u001b[32A\u001b[2K\u001b[32A\u001b[2K\u001b[20A\u001b[2K\u001b[32A\u001b[2K\u001b[20A\u001b[2K\u001b[20A\u001b[2K\u001b[32A\u001b[2K\u001b[20A\u001b[2K\u001b[20A\u001b[2K\u001b[32A\u001b[2K\u001b[20A\u001b[2K\u001b[32A\u001b[2K\u001b[20A\u001b[2K\u001b[32A\u001b[2K\u001b[20A\u001b[2K\u001b[32A\u001b[2K\u001b[20A\u001b[2K\u001b[32A\u001b[2K\u001b[32A\u001b[2K\u001b[20A\u001b[2K\u001b[32A\u001b[2K\u001b[20A\u001b[2K\u001b[32A\u001b[2K\u001b[20A\u001b[2K\u001b[32A\u001b[2K\u001b[20A\u001b[2K\u001b[32A\u001b[2K\u001b[20A\u001b[2K\u001b[32A\u001b[2K\u001b[20A\u001b[2K\u001b[32A\u001b[2K\u001b[20A\u001b[2K\u001b[32A\u001b[2K\u001b[20A\u001b[2K\u001b[32A\u001b[2K\u001b[20A\u001b[2K\u001b[32A\u001b[2K\u001b[20A\u001b[2K\u001b[32A\u001b[2K\u001b[20A\u001b[2K\u001b[32A\u001b[2K\u001b[20A\u001b[2K\u001b[20A\u001b[2K\u001b[20A\u001b[2K\u001b[32A\u001b[2K\u001b[32A\u001b[2K\u001b[32A\u001b[2K\u001b[32A\u001b[2K\u001b[32A\u001b[2K\u001b[32A\u001b[2K\u001b[32A\u001b[2K\u001b[32A\u001b[2K\u001b[32A\u001b[2K\u001b[32A\u001b[2K\u001b[32A\u001b[2K\u001b[32A\u001b[2K\u001b[32A\u001b[2K\u001b[32A\u001b[2K\u001b[32A\u001b[2K\u001b[32A\u001b[2K\u001b[32A\u001b[2K\u001b[32A\u001b[2K\u001b[32A\u001b[2K\u001b[32A\u001b[2K\u001b[32A\u001b[2K\u001b[32A\u001b[2K\u001b[32A\u001b[2K\u001b[32A\u001b[2K\u001b[32A\u001b[2K\u001b[32A\u001b[2K\u001b[32A\u001b[2K\u001b[32A\u001b[2K\u001b[32A\u001b[2K\u001b[32A\u001b[2K\u001b[32A\u001b[2K\u001b[32A\u001b[2K\u001b[32A\u001b[2KPushing  2.549GB/2.593GB\u001b[32A\u001b[2K\u001b[32A\u001b[2K\u001b[32A\u001b[2K\u001b[32A\u001b[2K\u001b[32A\u001b[2K\u001b[32A\u001b[2K\u001b[32A\u001b[2K\u001b[32A\u001b[2K\u001b[32A\u001b[2K\u001b[32A\u001b[2K\u001b[32A\u001b[2K\u001b[32A\u001b[2K\u001b[32A\u001b[2K\u001b[32A\u001b[2K\u001b[32A\u001b[2K\u001b[32A\u001b[2K\u001b[32A\u001b[2K\u001b[32A\u001b[2K\u001b[32A\u001b[2K\u001b[32A\u001b[2K\u001b[32A\u001b[2K\u001b[32A\u001b[2K\u001b[32A\u001b[2K\u001b[32A\u001b[2K\u001b[32A\u001b[2K\u001b[32A\u001b[2K\u001b[32A\u001b[2K\u001b[32A\u001b[2K\u001b[32A\u001b[2Klatest: digest: sha256:5ae12d776de62435451362fd62fb7c1edf7586a7d7b22a97112f6163766e8388 size: 7253\n"
     ]
    }
   ],
   "source": [
    "!docker push  719055683367.dkr.ecr.us-east-1.amazonaws.com/tensorflow-training:latest"
   ]
  },
  {
   "cell_type": "code",
   "execution_count": 77,
   "id": "7fa5e3d4",
   "metadata": {},
   "outputs": [
    {
     "name": "stdout",
     "output_type": "stream",
     "text": [
      "REPOSITORY                                                                  TAG                IMAGE ID       CREATED          SIZE\n",
      "520713654638.dkr.ecr.us-east-1.amazonaws.com/sagemaker-tensorflow-serving   1.12.0-cpu         ece0ee947623   7 minutes ago    8.73GB\n",
      "719055683367.dkr.ecr.us-east-1.amazonaws.com/tensorflow-training            2.12.0-cpu-py310   ece0ee947623   7 minutes ago    8.73GB\n",
      "763104351884.dkr.ecr.us-east-1.amazonaws.com/tensorflow-training            2.12.0-cpu-py310   19cf6de6572c   15 minutes ago   8.73GB\n",
      "719055683367.dkr.ecr.us-east-1.amazonaws.com/tensorflow-training            latest             b4e8669326d7   41 minutes ago   8.73GB\n",
      "520713654638.dkr.ecr.us-east-1.amazonaws.com/sagemaker-tensorflow-serving   <none>             27aee10a9f6a   5 years ago      377MB\n"
     ]
    }
   ],
   "source": [
    "!docker images"
   ]
  },
  {
   "cell_type": "code",
   "execution_count": 37,
   "id": "e6c99320",
   "metadata": {},
   "outputs": [],
   "source": [
    "bucket = \"bucket-prova33\""
   ]
  },
  {
   "cell_type": "code",
   "execution_count": null,
   "id": "b4394413",
   "metadata": {},
   "outputs": [],
   "source": [
    "# training \n",
    "\n",
    "from sagemaker import get_execution_role\n",
    "from sagemaker.estimator import Estimator\n",
    "import os\n",
    "\n",
    "role = get_execution_role()\n",
    "\n",
    "hyperparameters = {'epochs': 1}\n",
    "\n",
    "estimator = Estimator(\n",
    "    image_uri= '719055683367.dkr.ecr.us-east-1.amazonaws.com/tensorflow-training:latest',\n",
    "    role=role,\n",
    "    instance_count=1,\n",
    "    #instance_type = 'local'\n",
    "    instance_type='ml.m5.large',\n",
    "    hyperparameters=hyperparameters,\n",
    "    output_path=f's3://bucket-prova33/output'\n",
    "    #output_path='file://{}/data/output'.format(os.getcwd())\n",
    ")\n",
    "\n",
    "print('##### ESTIMATOR FIT STARTED')\n",
    "#estimator.fit('file://{}/data/input/train.csv'.format(os.getcwd()))\n",
    "estimator.fit(f's3://bucket-prova33/Input/train.csv')\n",
    "print('##### ESTIMATOR FIT COMPLETED')\n"
   ]
  },
  {
   "cell_type": "code",
   "execution_count": null,
   "id": "3ae543a9",
   "metadata": {},
   "outputs": [],
   "source": [
    "# compressione dei file nelle cartelle zippate"
   ]
  },
  {
   "cell_type": "code",
   "execution_count": null,
   "id": "eba83a73",
   "metadata": {},
   "outputs": [],
   "source": [
    "!tar -xzf data/output/output.tar.gz"
   ]
  },
  {
   "cell_type": "code",
   "execution_count": null,
   "id": "522a59fa",
   "metadata": {},
   "outputs": [],
   "source": [
    "!tar -xzf ./data/output/model.tar.gz"
   ]
  },
  {
   "cell_type": "code",
   "execution_count": null,
   "id": "55eb3d7d",
   "metadata": {},
   "outputs": [],
   "source": [
    "os.getcwd()"
   ]
  },
  {
   "cell_type": "code",
   "execution_count": 69,
   "id": "6d3848d1",
   "metadata": {},
   "outputs": [
    {
     "name": "stdout",
     "output_type": "stream",
     "text": [
      "REPOSITORY                                                                  TAG          IMAGE ID       CREATED             SIZE\n",
      "<none>                                                                      <none>       d00c4cc2ae1c   3 minutes ago       8.73GB\n",
      "975050125079.dkr.ecr.us-east-1.amazonaws.com/tensorflow-training            latest       17e3fceab647   3 minutes ago       8.73GB\n",
      "<none>                                                                      <none>       4c7b50f1dad5   11 minutes ago      8.73GB\n",
      "<none>                                                                      <none>       04fdbd8f5812   23 minutes ago      9.16GB\n",
      "975050125079.dkr.ecr.us-east-1.amazonaws.com/tensorflow-training            <none>       d0dd47e10cef   About an hour ago   9.16GB\n",
      "975050125079.dkr.ecr.us-east-1.amazonaws.com/tensorflow-training            <none>       d98b2e3af086   5 hours ago         9.16GB\n",
      "520713654638.dkr.ecr.us-east-1.amazonaws.com/sagemaker-tensorflow-serving   1.12.0-cpu   27aee10a9f6a   5 years ago         377MB\n"
     ]
    }
   ],
   "source": [
    "!docker images"
   ]
  },
  {
   "cell_type": "code",
   "execution_count": 84,
   "id": "2f7e0325",
   "metadata": {},
   "outputs": [
    {
     "name": "stdout",
     "output_type": "stream",
     "text": [
      "WARNING! Your password will be stored unencrypted in /home/ec2-user/.docker/config.json.\n",
      "Configure a credential helper to remove this warning. See\n",
      "https://docs.docker.com/engine/reference/commandline/login/#credentials-store\n",
      "\n",
      "Login Succeeded\n"
     ]
    }
   ],
   "source": [
    "!aws ecr get-login-password --region us-east-1 | docker login --username AWS --password-stdin 719055683367.dkr.ecr.us-east-1.amazonaws.com/tensorflow-training:latest"
   ]
  },
  {
   "cell_type": "code",
   "execution_count": 87,
   "id": "d205e62d",
   "metadata": {},
   "outputs": [],
   "source": [
    "#caricamento e inferenza"
   ]
  },
  {
   "cell_type": "code",
   "execution_count": null,
   "id": "df0c5745",
   "metadata": {},
   "outputs": [],
   "source": [
    "!pip install keras tensorflow"
   ]
  },
  {
   "cell_type": "code",
   "execution_count": 125,
   "id": "c5b98c2f",
   "metadata": {},
   "outputs": [],
   "source": [
    "from keras.models import load_model"
   ]
  },
  {
   "cell_type": "code",
   "execution_count": 126,
   "id": "7ad83ac4",
   "metadata": {},
   "outputs": [
    {
     "name": "stdout",
     "output_type": "stream",
     "text": [
      "tar: Ignoring unknown extended header keyword `LIBARCHIVE.creationtime'\n"
     ]
    }
   ],
   "source": [
    "!tar -xzf ./data/output/model.tar.gz"
   ]
  },
  {
   "cell_type": "code",
   "execution_count": 127,
   "id": "536ee20d",
   "metadata": {},
   "outputs": [
    {
     "name": "stderr",
     "output_type": "stream",
     "text": [
      "WARNING:absl:Compiled the loaded model, but the compiled metrics have yet to be built. `model.compile_metrics` will be empty until you train or evaluate the model.\n"
     ]
    }
   ],
   "source": [
    "model = load_model(\"Titanic_2_la_vendetta.h5\")"
   ]
  },
  {
   "cell_type": "code",
   "execution_count": null,
   "id": "34fcd693",
   "metadata": {},
   "outputs": [],
   "source": []
  },
  {
   "cell_type": "code",
   "execution_count": null,
   "id": "9179d424",
   "metadata": {},
   "outputs": [],
   "source": []
  },
  {
   "cell_type": "code",
   "execution_count": null,
   "id": "e2e5656c",
   "metadata": {},
   "outputs": [],
   "source": []
  }
 ],
 "metadata": {
  "kernelspec": {
   "display_name": "conda_python3",
   "language": "python",
   "name": "conda_python3"
  },
  "language_info": {
   "codemirror_mode": {
    "name": "ipython",
    "version": 3
   },
   "file_extension": ".py",
   "mimetype": "text/x-python",
   "name": "python",
   "nbconvert_exporter": "python",
   "pygments_lexer": "ipython3",
   "version": "3.10.15"
  }
 },
 "nbformat": 4,
 "nbformat_minor": 5
}
