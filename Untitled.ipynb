{
 "cells": [
  {
   "cell_type": "code",
   "execution_count": 1,
   "id": "a3d5c26f",
   "metadata": {},
   "outputs": [
    {
     "name": "stdout",
     "output_type": "stream",
     "text": [
      "sagemaker.config INFO - Not applying SDK defaults from location: /etc/xdg/sagemaker/config.yaml\n",
      "sagemaker.config INFO - Not applying SDK defaults from location: /home/ec2-user/.config/sagemaker/config.yaml\n"
     ]
    },
    {
     "data": {
      "text/plain": [
       "'520713654638.dkr.ecr.us-east-1.amazonaws.com/sagemaker-tensorflow-serving:1.12.0-cpu'"
      ]
     },
     "execution_count": 1,
     "metadata": {},
     "output_type": "execute_result"
    }
   ],
   "source": [
    "import scipy.sparse\n",
    "from sagemaker import image_uris\n",
    "image_uris.retrieve(framework='tensorflow',region='us-east-1',version='1.12.0',image_scope='inference',instance_type='ml.c5.4xlarge')\n"
   ]
  },
  {
   "cell_type": "code",
   "execution_count": 2,
   "id": "4b62b446",
   "metadata": {},
   "outputs": [],
   "source": [
    "# login all' elastic container registry"
   ]
  },
  {
   "cell_type": "code",
   "execution_count": 3,
   "id": "8320ce8c",
   "metadata": {},
   "outputs": [
    {
     "name": "stdout",
     "output_type": "stream",
     "text": [
      "WARNING! Your password will be stored unencrypted in /home/ec2-user/.docker/config.json.\n",
      "Configure a credential helper to remove this warning. See\n",
      "https://docs.docker.com/engine/reference/commandline/login/#credentials-store\n",
      "\n",
      "Login Succeeded\n"
     ]
    }
   ],
   "source": [
    "!aws ecr get-login-password --region us-east-1 | docker login --username AWS --password-stdin 520713654638.dkr.ecr.us-east-1.amazonaws.com"
   ]
  },
  {
   "cell_type": "code",
   "execution_count": 4,
   "id": "206648b6",
   "metadata": {},
   "outputs": [
    {
     "name": "stdout",
     "output_type": "stream",
     "text": [
      "1.12.0-cpu: Pulling from sagemaker-tensorflow-serving\n",
      "\n",
      "\u001b[1B8f4ce990: Pulling fs layer \n",
      "\u001b[1B282d9c4b: Pulling fs layer \n",
      "\u001b[1B3db6dc03: Pulling fs layer \n",
      "\u001b[1Bc605f3f1: Pulling fs layer \n",
      "\u001b[1B10487652: Pulling fs layer \n",
      "\u001b[1Bdde97789: Pulling fs layer \n",
      "\u001b[1Bb514193e: Pulling fs layer \n",
      "\u001b[1B9f2d3d2a: Pulling fs layer \n",
      "\u001b[1Be4419145: Pull complete 874kB/1.874kBBA\u001b[2K\u001b[5A\u001b[2K\u001b[9A\u001b[2K\u001b[5A\u001b[2K\u001b[9A\u001b[2K\u001b[4A\u001b[2K\u001b[4A\u001b[2K\u001b[9A\u001b[2K\u001b[4A\u001b[2KDownloading  22.82MB/39.44MB\u001b[3A\u001b[2K\u001b[4A\u001b[2K\u001b[3A\u001b[2K\u001b[4A\u001b[2K\u001b[3A\u001b[2K\u001b[4A\u001b[2K\u001b[3A\u001b[2K\u001b[9A\u001b[2K\u001b[9A\u001b[2K\u001b[3A\u001b[2K\u001b[9A\u001b[2K\u001b[9A\u001b[2K\u001b[9A\u001b[2K\u001b[9A\u001b[2K\u001b[9A\u001b[2K\u001b[9A\u001b[2K\u001b[9A\u001b[2K\u001b[9A\u001b[2K\u001b[9A\u001b[2K\u001b[9A\u001b[2K\u001b[9A\u001b[2K\u001b[9A\u001b[2K\u001b[9A\u001b[2K\u001b[9A\u001b[2K\u001b[9A\u001b[2K\u001b[9A\u001b[2K\u001b[9A\u001b[2K\u001b[9A\u001b[2K\u001b[9A\u001b[2K\u001b[9A\u001b[2K\u001b[9A\u001b[2K\u001b[7A\u001b[2K\u001b[5A\u001b[2K\u001b[5A\u001b[2K\u001b[5A\u001b[2K\u001b[5A\u001b[2K\u001b[5A\u001b[2K\u001b[5A\u001b[2K\u001b[5A\u001b[2K\u001b[5A\u001b[2K\u001b[5A\u001b[2K\u001b[5A\u001b[2K\u001b[4A\u001b[2K\u001b[4A\u001b[2K\u001b[4A\u001b[2K\u001b[4A\u001b[2K\u001b[4A\u001b[2K\u001b[4A\u001b[2K\u001b[4A\u001b[2K\u001b[4A\u001b[2K\u001b[4A\u001b[2K\u001b[4A\u001b[2K\u001b[4A\u001b[2K\u001b[4A\u001b[2K\u001b[4A\u001b[2K\u001b[4A\u001b[2K\u001b[4A\u001b[2K\u001b[4A\u001b[2K\u001b[3A\u001b[2K\u001b[3A\u001b[2K\u001b[3A\u001b[2K\u001b[3A\u001b[2K\u001b[3A\u001b[2K\u001b[3A\u001b[2K\u001b[3A\u001b[2K\u001b[3A\u001b[2K\u001b[3A\u001b[2K\u001b[3A\u001b[2K\u001b[3A\u001b[2K\u001b[3A\u001b[2K\u001b[3A\u001b[2K\u001b[2A\u001b[2KDigest: sha256:026c2a51a2e9e258481b17c110f9c9640dc010bf71463d4bd31e925ced7c6a49\n",
      "Status: Downloaded newer image for 520713654638.dkr.ecr.us-east-1.amazonaws.com/sagemaker-tensorflow-serving:1.12.0-cpu\n",
      "520713654638.dkr.ecr.us-east-1.amazonaws.com/sagemaker-tensorflow-serving:1.12.0-cpu\n"
     ]
    }
   ],
   "source": [
    "!docker pull 520713654638.dkr.ecr.us-east-1.amazonaws.com/sagemaker-tensorflow-serving:1.12.0-cpu"
   ]
  },
  {
   "cell_type": "code",
   "execution_count": 5,
   "id": "5189cf02",
   "metadata": {},
   "outputs": [
    {
     "data": {
      "text/plain": [
       "'763104351884.dkr.ecr.us-east-1.amazonaws.com/tensorflow-training:2.12.0-cpu-py310'"
      ]
     },
     "execution_count": 5,
     "metadata": {},
     "output_type": "execute_result"
    }
   ],
   "source": [
    "import scipy.sparse\n",
    "from sagemaker import image_uris\n",
    "image_uris.retrieve(framework='tensorflow',region='us-east-1',version='2.12.0',image_scope='training',instance_type='ml.c5.4xlarge')\n"
   ]
  },
  {
   "cell_type": "code",
   "execution_count": 22,
   "id": "4f34c42c",
   "metadata": {},
   "outputs": [
    {
     "name": "stdout",
     "output_type": "stream",
     "text": [
      "WARNING! Your password will be stored unencrypted in /home/ec2-user/.docker/config.json.\n",
      "Configure a credential helper to remove this warning. See\n",
      "https://docs.docker.com/engine/reference/commandline/login/#credentials-store\n",
      "\n",
      "Login Succeeded\n"
     ]
    }
   ],
   "source": [
    "!aws ecr get-login-password --region us-east-1 | docker login --username AWS --password-stdin  763104351884.dkr.ecr.us-east-1.amazonaws.com"
   ]
  },
  {
   "cell_type": "code",
   "execution_count": 7,
   "id": "fe579879",
   "metadata": {},
   "outputs": [],
   "source": [
    "# ottenimento del nostro ID utente"
   ]
  },
  {
   "cell_type": "code",
   "execution_count": 8,
   "id": "3bc9bb07",
   "metadata": {},
   "outputs": [
    {
     "name": "stdout",
     "output_type": "stream",
     "text": [
      "975050125079\n"
     ]
    }
   ],
   "source": [
    "!aws sts get-caller-identity --query \"Account\" --output text"
   ]
  },
  {
   "cell_type": "code",
   "execution_count": null,
   "id": "8f60678b",
   "metadata": {},
   "outputs": [],
   "source": [
    "!docker build -t 975050125079.dkr.ecr.us-east-1.amazonaws.com/tensorflow-training  -f Dockerfile.train . "
   ]
  },
  {
   "cell_type": "code",
   "execution_count": 10,
   "id": "2abdbf44",
   "metadata": {},
   "outputs": [
    {
     "name": "stdout",
     "output_type": "stream",
     "text": [
      "REPOSITORY                                                                  TAG          IMAGE ID       CREATED         SIZE\n",
      "975050125079.dkr.ecr.us-east-1.amazonaws.com/tensorflow-training            latest       d98b2e3af086   5 minutes ago   9.16GB\n",
      "520713654638.dkr.ecr.us-east-1.amazonaws.com/sagemaker-tensorflow-serving   1.12.0-cpu   27aee10a9f6a   5 years ago     377MB\n"
     ]
    }
   ],
   "source": [
    "!docker images\n",
    "\n"
   ]
  },
  {
   "cell_type": "code",
   "execution_count": null,
   "id": "9c532500",
   "metadata": {},
   "outputs": [],
   "source": [
    "# training \n",
    "\n",
    "from sagemaker import get_execution_role\n",
    "from sagemaker.estimator import Estimator\n",
    "import os\n",
    "\n",
    "role = get_execution_role()\n",
    "\n",
    "hyperparameters = {'epochs': 1}\n",
    "\n",
    "estimator = Estimator(\n",
    "    image_uri='975050125079.dkr.ecr.us-east-1.amazonaws.com/tensorflow-training',\n",
    "    role=role,\n",
    "    instance_count=1,\n",
    "    instance_type='local',\n",
    "    hyperparameters=hyperparameters,\n",
    "    output_path=f'file://{os.getcwd()}/data/output'\n",
    ")\n",
    "\n",
    "print('##### ESTIMATOR FIT STARTED')\n",
    "estimator.fit(f'file://{os.getcwd()}/data/input/train.csv')\n",
    "print('##### ESTIMATOR FIT COMPLETED')\n"
   ]
  },
  {
   "cell_type": "code",
   "execution_count": 12,
   "id": "36e97139",
   "metadata": {},
   "outputs": [],
   "source": [
    "# compressione dei file nelle cartelle zippate"
   ]
  },
  {
   "cell_type": "code",
   "execution_count": 13,
   "id": "30a72ea3",
   "metadata": {},
   "outputs": [],
   "source": [
    "!tar -xzf data/output/output.tar.gz"
   ]
  },
  {
   "cell_type": "code",
   "execution_count": 14,
   "id": "f2e11022",
   "metadata": {},
   "outputs": [],
   "source": [
    "!tar -xzf ./data/output/model.tar.gz"
   ]
  },
  {
   "cell_type": "code",
   "execution_count": null,
   "id": "e0cfa140",
   "metadata": {},
   "outputs": [],
   "source": [
    "!pip install tensorflow==2.12.0"
   ]
  },
  {
   "cell_type": "code",
   "execution_count": 16,
   "id": "662a9e9c",
   "metadata": {},
   "outputs": [
    {
     "data": {
      "text/plain": [
       "'/home/ec2-user/SageMaker/DevOps_Esame'"
      ]
     },
     "execution_count": 16,
     "metadata": {},
     "output_type": "execute_result"
    }
   ],
   "source": [
    "os.getcwd()"
   ]
  },
  {
   "cell_type": "code",
   "execution_count": 17,
   "id": "ae8bb25d",
   "metadata": {},
   "outputs": [
    {
     "name": "stdout",
     "output_type": "stream",
     "text": [
      "image_name: tensorflow-training ######################\n",
      "account: 975050125079 ######################\n",
      "region: us-east-1 ######################\n",
      "fullname: 975050125079.dkr.ecr.us-east-1.amazonaws.com/tensorflow-training:latest ######################\n",
      "{\n",
      "    \"repository\": {\n",
      "        \"repositoryArn\": \"arn:aws:ecr:us-east-1:975050125079:repository/tensorflow-training\",\n",
      "        \"registryId\": \"975050125079\",\n",
      "        \"repositoryName\": \"tensorflow-training\",\n",
      "        \"repositoryUri\": \"975050125079.dkr.ecr.us-east-1.amazonaws.com/tensorflow-training\",\n",
      "        \"createdAt\": 1730711308.221,\n",
      "        \"imageTagMutability\": \"MUTABLE\",\n",
      "        \"imageScanningConfiguration\": {\n",
      "            \"scanOnPush\": false\n",
      "        },\n",
      "        \"encryptionConfiguration\": {\n",
      "            \"encryptionType\": \"AES256\"\n",
      "        }\n",
      "    }\n",
      "}\n",
      "Repository 'tensorflow-training' created.\n"
     ]
    }
   ],
   "source": [
    "%%bash\n",
    "\n",
    "# Script to create an ECR repository for a Docker image\n",
    "\n",
    "# Specify an image name\n",
    "image_name=\"tensorflow-training\"\n",
    "echo \"image_name: ${image_name} ######################\"\n",
    "\n",
    "# Get the AWS account ID\n",
    "account=$(aws sts get-caller-identity --query Account --output text)\n",
    "if [ $? -ne 0 ]; then\n",
    "    echo \"Error getting account ID. Please check your AWS credentials.\"\n",
    "    exit 1\n",
    "fi\n",
    "echo \"account: ${account} ######################\"\n",
    "\n",
    "# Get the region defined in the current configuration (default to us-west-2 if none defined)\n",
    "region=$(aws configure get region)\n",
    "if [ -z \"$region\" ]; then\n",
    "    region=\"us-west-2\"\n",
    "fi\n",
    "echo \"region: ${region} ######################\"\n",
    "\n",
    "fullname=\"${account}.dkr.ecr.${region}.amazonaws.com/${image_name}:latest\"\n",
    "echo \"fullname: ${fullname} ######################\"\n",
    "\n",
    "# Check if the repository exists\n",
    "if aws ecr describe-repositories --repository-names \"${image_name}\" >/dev/null 2>&1; then\n",
    "    echo \"Repository '${image_name}' already exists.\"\n",
    "else\n",
    "    if aws ecr create-repository --repository-name \"${image_name}\"; then\n",
    "        echo \"Repository '${image_name}' created.\"\n",
    "    else\n",
    "        echo \"Failed to create repository '${image_name}'.\"\n",
    "        exit 1\n",
    "    fi\n",
    "fi"
   ]
  },
  {
   "cell_type": "code",
   "execution_count": 18,
   "id": "bcebaa53",
   "metadata": {},
   "outputs": [
    {
     "name": "stdout",
     "output_type": "stream",
     "text": [
      "REPOSITORY                                                                  TAG          IMAGE ID       CREATED         SIZE\n",
      "975050125079.dkr.ecr.us-east-1.amazonaws.com/tensorflow-training            latest       d98b2e3af086   7 minutes ago   9.16GB\n",
      "520713654638.dkr.ecr.us-east-1.amazonaws.com/sagemaker-tensorflow-serving   1.12.0-cpu   27aee10a9f6a   5 years ago     377MB\n"
     ]
    }
   ],
   "source": [
    "!docker images"
   ]
  },
  {
   "cell_type": "code",
   "execution_count": 24,
   "id": "62f7d5d8",
   "metadata": {},
   "outputs": [
    {
     "name": "stdout",
     "output_type": "stream",
     "text": [
      "WARNING! Your password will be stored unencrypted in /home/ec2-user/.docker/config.json.\n",
      "Configure a credential helper to remove this warning. See\n",
      "https://docs.docker.com/engine/reference/commandline/login/#credentials-store\n",
      "\n",
      "Login Succeeded\n"
     ]
    }
   ],
   "source": [
    "!aws ecr get-login-password --region us-east-1 | docker login --username AWS --password-stdin 975050125079.dkr.ecr.us-east-1.amazonaws.com"
   ]
  },
  {
   "cell_type": "code",
   "execution_count": 64,
   "id": "2bfad80b",
   "metadata": {},
   "outputs": [],
   "source": [
    "# Push del container sistemato"
   ]
  },
  {
   "cell_type": "code",
   "execution_count": null,
   "id": "787904fd",
   "metadata": {},
   "outputs": [
    {
     "name": "stdout",
     "output_type": "stream",
     "text": [
      "The push refers to repository [975050125079.dkr.ecr.us-east-1.amazonaws.com/tensorflow-training]\n",
      "\n",
      "\u001b[1B11bbe306: Preparing \n",
      "\u001b[1B59e7cc73: Preparing \n",
      "\u001b[1B3b00e8a0: Preparing \n",
      "\u001b[1B22878ecf: Preparing \n",
      "\u001b[1Bdb4f6696: Preparing \n",
      "\u001b[1Bf529ae49: Preparing \n",
      "\u001b[1B75f13e59: Preparing \n",
      "\u001b[1B0c6c24f9: Preparing \n",
      "\u001b[1Ba1e64371: Preparing \n",
      "\u001b[1B29631b13: Preparing \n",
      "\u001b[1B3f03efd0: Preparing \n",
      "\u001b[1B9b75d5ee: Preparing \n",
      "\u001b[1B370de786: Preparing \n",
      "\u001b[1Ba16f1a7a: Preparing \n",
      "\u001b[1Bfc8740d1: Preparing \n",
      "\u001b[1B292691fc: Preparing \n",
      "\u001b[1B6672bf9d: Preparing \n",
      "\u001b[1B607be3da: Preparing \n",
      "\u001b[1Bafc9b360: Preparing \n",
      "\u001b[1Bf934e4df: Preparing \n",
      "\u001b[1B80a2a6eb: Preparing \n",
      "\u001b[1Ba0538fa4: Preparing \n",
      "\u001b[1B6d109c54: Preparing \n",
      "\u001b[1Bf0a068df: Preparing \n",
      "\u001b[1B443b7673: Preparing \n",
      "\u001b[1B37a36861: Preparing \n",
      "\u001b[1Becb4bd81: Preparing \n",
      "\u001b[1B34b60c81: Preparing \n",
      "\u001b[1B07d5d0ab: Preparing \n",
      "\u001b[1Be6c8e003: Preparing \n",
      "\u001b[1Bab822c1c: Preparing \n",
      "\u001b[1B3609315f: Preparing \n",
      "\u001b[3Bab822c1c: Pushing  692.1MB/731.1MB\u001b[33A\u001b[2K\u001b[33A\u001b[2K\u001b[33A\u001b[2K\u001b[30A\u001b[2K\u001b[32A\u001b[2K\u001b[33A\u001b[2K\u001b[29A\u001b[2K\u001b[29A\u001b[2K\u001b[33A\u001b[2K\u001b[30A\u001b[2K\u001b[33A\u001b[2K\u001b[26A\u001b[2K\u001b[33A\u001b[2K\u001b[29A\u001b[2K\u001b[26A\u001b[2K\u001b[26A\u001b[2K\u001b[25A\u001b[2K\u001b[26A\u001b[2K\u001b[23A\u001b[2K\u001b[26A\u001b[2K\u001b[23A\u001b[2K\u001b[24A\u001b[2K\u001b[26A\u001b[2K\u001b[24A\u001b[2K\u001b[26A\u001b[2K\u001b[23A\u001b[2K\u001b[24A\u001b[2K\u001b[33A\u001b[2K\u001b[23A\u001b[2K\u001b[33A\u001b[2K\u001b[25A\u001b[2K\u001b[24A\u001b[2K\u001b[33A\u001b[2K\u001b[22A\u001b[2K\u001b[23A\u001b[2K\u001b[22A\u001b[2K\u001b[33A\u001b[2K\u001b[22A\u001b[2K\u001b[24A\u001b[2K\u001b[33A\u001b[2K\u001b[23A\u001b[2K\u001b[24A\u001b[2K\u001b[23A\u001b[2K\u001b[33A\u001b[2K\u001b[24A\u001b[2K\u001b[33A\u001b[2K\u001b[23A\u001b[2K\u001b[24A\u001b[2K\u001b[33A\u001b[2K\u001b[23A\u001b[2K\u001b[22A\u001b[2K\u001b[23A\u001b[2K\u001b[22A\u001b[2K\u001b[33A\u001b[2K\u001b[22A\u001b[2K\u001b[24A\u001b[2K\u001b[21A\u001b[2K\u001b[24A\u001b[2K\u001b[33A\u001b[2K\u001b[21A\u001b[2K\u001b[23A\u001b[2K\u001b[33A\u001b[2K\u001b[24A\u001b[2K\u001b[33A\u001b[2K\u001b[21A\u001b[2K\u001b[22A\u001b[2K\u001b[21A\u001b[2K\u001b[24A\u001b[2K\u001b[33A\u001b[2K\u001b[24A\u001b[2K\u001b[33A\u001b[2K\u001b[24A\u001b[2K\u001b[22A\u001b[2K\u001b[21A\u001b[2K\u001b[22A\u001b[2K\u001b[33A\u001b[2K\u001b[22A\u001b[2K\u001b[21A\u001b[2K\u001b[22A\u001b[2K\u001b[24A\u001b[2K\u001b[23A\u001b[2K\u001b[24A\u001b[2K\u001b[33A\u001b[2K\u001b[23A\u001b[2K\u001b[22A\u001b[2K\u001b[23A\u001b[2K\u001b[22A\u001b[2K\u001b[24A\u001b[2K\u001b[23A\u001b[2K\u001b[22A\u001b[2K\u001b[23A\u001b[2K\u001b[22A\u001b[2K\u001b[24A\u001b[2K\u001b[24A\u001b[2K\u001b[23A\u001b[2K\u001b[24A\u001b[2K\u001b[22A\u001b[2K\u001b[22A\u001b[2K\u001b[23A\u001b[2K\u001b[22A\u001b[2K\u001b[33A\u001b[2K\u001b[22A\u001b[2K\u001b[33A\u001b[2K\u001b[22A\u001b[2K\u001b[33A\u001b[2K\u001b[24A\u001b[2K\u001b[21A\u001b[2K\u001b[33A\u001b[2K\u001b[22A\u001b[2K\u001b[33A\u001b[2K\u001b[22A\u001b[2K\u001b[23A\u001b[2K\u001b[24A\u001b[2K\u001b[22A\u001b[2K\u001b[24A\u001b[2K\u001b[33A\u001b[2K\u001b[24A\u001b[2K\u001b[33A\u001b[2K\u001b[24A\u001b[2K\u001b[22A\u001b[2K\u001b[24A\u001b[2K\u001b[22A\u001b[2K\u001b[24A\u001b[2K\u001b[22A\u001b[2K\u001b[33A\u001b[2K\u001b[24A\u001b[2K\u001b[23A\u001b[2K\u001b[33A\u001b[2K\u001b[22A\u001b[2K\u001b[33A\u001b[2K\u001b[24A\u001b[2K\u001b[21A\u001b[2K\u001b[22A\u001b[2K\u001b[23A\u001b[2K\u001b[33A\u001b[2K\u001b[22A\u001b[2K\u001b[21A\u001b[2K\u001b[23A\u001b[2K\u001b[21A\u001b[2K\u001b[22A\u001b[2K\u001b[23A\u001b[2K\u001b[33A\u001b[2K\u001b[23A\u001b[2K\u001b[22A\u001b[2K\u001b[24A\u001b[2K\u001b[33A\u001b[2K\u001b[23A\u001b[2K\u001b[22A\u001b[2K\u001b[23A\u001b[2K\u001b[21A\u001b[2K\u001b[23A\u001b[2K\u001b[33A\u001b[2K\u001b[21A\u001b[2K\u001b[33A\u001b[2K\u001b[24A\u001b[2K\u001b[23A\u001b[2K\u001b[24A\u001b[2K\u001b[23A\u001b[2K\u001b[33A\u001b[2K\u001b[21A\u001b[2K\u001b[33A\u001b[2K\u001b[24A\u001b[2K\u001b[23A\u001b[2K\u001b[33A\u001b[2K\u001b[21A\u001b[2K\u001b[33A\u001b[2K\u001b[24A\u001b[2K\u001b[33A\u001b[2K\u001b[22A\u001b[2K\u001b[21A\u001b[2K\u001b[33A\u001b[2K\u001b[24A\u001b[2K\u001b[21A\u001b[2K\u001b[23A\u001b[2K\u001b[21A\u001b[2K\u001b[24A\u001b[2K\u001b[21A\u001b[2K\u001b[33A\u001b[2K\u001b[21A\u001b[2K\u001b[20A\u001b[2K\u001b[21A\u001b[2K\u001b[24A\u001b[2K\u001b[20A\u001b[2K\u001b[21A\u001b[2K\u001b[23A\u001b[2K\u001b[20A\u001b[2K\u001b[23A\u001b[2K\u001b[20A\u001b[2K\u001b[23A\u001b[2K\u001b[33A\u001b[2K\u001b[20A\u001b[2K\u001b[23A\u001b[2K\u001b[21A\u001b[2K\u001b[23A\u001b[2K\u001b[20A\u001b[2K\u001b[23A\u001b[2K\u001b[33A\u001b[2K\u001b[20A\u001b[2K\u001b[23A\u001b[2K\u001b[24A\u001b[2K\u001b[23A\u001b[2K\u001b[20A\u001b[2K\u001b[23A\u001b[2K\u001b[33A\u001b[2K\u001b[20A\u001b[2K\u001b[23A\u001b[2K\u001b[20A\u001b[2K\u001b[23A\u001b[2K\u001b[21A\u001b[2K\u001b[20A\u001b[2K\u001b[33A\u001b[2K\u001b[21A\u001b[2K\u001b[33A\u001b[2K\u001b[23A\u001b[2K\u001b[33A\u001b[2K\u001b[20A\u001b[2K\u001b[21A\u001b[2K\u001b[20A\u001b[2K\u001b[23A\u001b[2K\u001b[24A\u001b[2K\u001b[20A\u001b[2K\u001b[21A\u001b[2K\u001b[33A\u001b[2K\u001b[24A\u001b[2K\u001b[33A\u001b[2K\u001b[23A\u001b[2K\u001b[21A\u001b[2K\u001b[20A\u001b[2K\u001b[21A\u001b[2K\u001b[33A\u001b[2K\u001b[20A\u001b[2K\u001b[33A\u001b[2K\u001b[20A\u001b[2K\u001b[21A\u001b[2K\u001b[20A\u001b[2K\u001b[24A\u001b[2K\u001b[20A\u001b[2K\u001b[21A\u001b[2K\u001b[23A\u001b[2K\u001b[21A\u001b[2K\u001b[23A\u001b[2K\u001b[21A\u001b[2K\u001b[20A\u001b[2K\u001b[23A\u001b[2K\u001b[21A\u001b[2K\u001b[24A\u001b[2K\u001b[33A\u001b[2K\u001b[20A\u001b[2K\u001b[33A\u001b[2K\u001b[23A\u001b[2K\u001b[33A\u001b[2K\u001b[23A\u001b[2K\u001b[33A\u001b[2K\u001b[21A\u001b[2K\u001b[20A\u001b[2K\u001b[21A\u001b[2K\u001b[24A\u001b[2K\u001b[21A\u001b[2K\u001b[23A\u001b[2K\u001b[21A\u001b[2K\u001b[23A\u001b[2K\u001b[21A\u001b[2K\u001b[33A\u001b[2K\u001b[20A\u001b[2K\u001b[21A\u001b[2K\u001b[20A\u001b[2K\u001b[21A\u001b[2K\u001b[23A\u001b[2K\u001b[21A\u001b[2K\u001b[23A\u001b[2K\u001b[21A\u001b[2K\u001b[23A\u001b[2K\u001b[21A\u001b[2K\u001b[23A\u001b[2K\u001b[21A\u001b[2K\u001b[23A\u001b[2K\u001b[21A\u001b[2K\u001b[33A\u001b[2K\u001b[21A\u001b[2K\u001b[33A\u001b[2K\u001b[20A\u001b[2K\u001b[21A\u001b[2K\u001b[23A\u001b[2K\u001b[20A\u001b[2K\u001b[23A\u001b[2K\u001b[21A\u001b[2K\u001b[20A\u001b[2K\u001b[33A\u001b[2K\u001b[23A\u001b[2K\u001b[33A\u001b[2K\u001b[21A\u001b[2K\u001b[33A\u001b[2K\u001b[20A\u001b[2K\u001b[33A\u001b[2K\u001b[33A\u001b[2K\u001b[23A\u001b[2K\u001b[21A\u001b[2K\u001b[23A\u001b[2K\u001b[21A\u001b[2K\u001b[20A\u001b[2K\u001b[23A\u001b[2K\u001b[33A\u001b[2K\u001b[21A\u001b[2K\u001b[23A\u001b[2K\u001b[33A\u001b[2K\u001b[21A\u001b[2K\u001b[33A\u001b[2K\u001b[21A\u001b[2K\u001b[24A\u001b[2K\u001b[20A\u001b[2K\u001b[21A\u001b[2K\u001b[33A\u001b[2K\u001b[23A\u001b[2K\u001b[33A\u001b[2K\u001b[23A\u001b[2K\u001b[20A\u001b[2K\u001b[24A\u001b[2K\u001b[20A\u001b[2K\u001b[21A\u001b[2K\u001b[23A\u001b[2K\u001b[20A\u001b[2K\u001b[24A\u001b[2K\u001b[20A\u001b[2K\u001b[23A\u001b[2K\u001b[24A\u001b[2K\u001b[20A\u001b[2K\u001b[33A\u001b[2K\u001b[21A\u001b[2K\u001b[23A\u001b[2K\u001b[21A\u001b[2K\u001b[33A\u001b[2K\u001b[23A\u001b[2K\u001b[33A\u001b[2K\u001b[24A\u001b[2K\u001b[21A\u001b[2K\u001b[24A\u001b[2K\u001b[23A\u001b[2K\u001b[20A\u001b[2K\u001b[24A\u001b[2K\u001b[33A\u001b[2K\u001b[20A\u001b[2K\u001b[21A\u001b[2K\u001b[20A\u001b[2K\u001b[24A\u001b[2K\u001b[23A\u001b[2K\u001b[20A\u001b[2K\u001b[21A\u001b[2K\u001b[33A\u001b[2K\u001b[21A\u001b[2K\u001b[23A\u001b[2K\u001b[33A\u001b[2K\u001b[33A\u001b[2K\u001b[24A\u001b[2K\u001b[23A\u001b[2K\u001b[23A\u001b[2K\u001b[33A\u001b[2K\u001b[23A\u001b[2K\u001b[20A\u001b[2K\u001b[20A\u001b[2K\u001b[33A\u001b[2K\u001b[20A\u001b[2K\u001b[24A\u001b[2K\u001b[20A\u001b[2K\u001b[33A\u001b[2K\u001b[23A\u001b[2K\u001b[20A\u001b[2K\u001b[24A\u001b[2K\u001b[21A\u001b[2K\u001b[33A\u001b[2K\u001b[24A\u001b[2K\u001b[33A\u001b[2K\u001b[24A\u001b[2K\u001b[21A\u001b[2K\u001b[23A\u001b[2K\u001b[21A\u001b[2K\u001b[20A\u001b[2K\u001b[23A\u001b[2K\u001b[33A\u001b[2K\u001b[24A\u001b[2K\u001b[33A\u001b[2K\u001b[21A\u001b[2K\u001b[33A\u001b[2K\u001b[21A\u001b[2K\u001b[20A\u001b[2K\u001b[33A\u001b[2K\u001b[24A\u001b[2K\u001b[21A\u001b[2K\u001b[24A\u001b[2K\u001b[21A\u001b[2K\u001b[33A\u001b[2K\u001b[24A\u001b[2K\u001b[33A\u001b[2K\u001b[21A\u001b[2K\u001b[23A\u001b[2K\u001b[20A\u001b[2K\u001b[23A\u001b[2K\u001b[33A\u001b[2K\u001b[23A\u001b[2K\u001b[33A\u001b[2K\u001b[20A\u001b[2K\u001b[33A\u001b[2K\u001b[20A\u001b[2K\u001b[21A\u001b[2K\u001b[21A\u001b[2K\u001b[33A\u001b[2K\u001b[21A\u001b[2K\u001b[33A\u001b[2K\u001b[21A\u001b[2K\u001b[20A\u001b[2K\u001b[23A\u001b[2K\u001b[24A\u001b[2K\u001b[23A\u001b[2K\u001b[21A\u001b[2K\u001b[20A\u001b[2K\u001b[23A\u001b[2K\u001b[20A\u001b[2K\u001b[23A\u001b[2K\u001b[33A\u001b[2K\u001b[33A\u001b[2K\u001b[20A\u001b[2K\u001b[33A\u001b[2K\u001b[23A\u001b[2K\u001b[33A\u001b[2K\u001b[23A\u001b[2K\u001b[21A\u001b[2K\u001b[33A\u001b[2K\u001b[20A\u001b[2K\u001b[33A\u001b[2K\u001b[23A\u001b[2K\u001b[33A\u001b[2K\u001b[21A\u001b[2K\u001b[23A\u001b[2K\u001b[20A\u001b[2K\u001b[21A\u001b[2K\u001b[20A\u001b[2K\u001b[23A\u001b[2K\u001b[20A\u001b[2K\u001b[23A\u001b[2K\u001b[21A\u001b[2K\u001b[23A\u001b[2K\u001b[33A\u001b[2K\u001b[21A\u001b[2K\u001b[33A\u001b[2K\u001b[21A\u001b[2K\u001b[33A\u001b[2K\u001b[23A\u001b[2K\u001b[20A\u001b[2K\u001b[23A\u001b[2K\u001b[20A\u001b[2K\u001b[23A\u001b[2K\u001b[20A\u001b[2K\u001b[21A\u001b[2K\u001b[23A\u001b[2K\u001b[21A\u001b[2K\u001b[33A\u001b[2K\u001b[20A\u001b[2K\u001b[21A\u001b[2K\u001b[33A\u001b[2K\u001b[21A\u001b[2K\u001b[23A\u001b[2K\u001b[33A\u001b[2K\u001b[23A\u001b[2K\u001b[21A\u001b[2K\u001b[24A\u001b[2K\u001b[20A\u001b[2K\u001b[23A\u001b[2K\u001b[24A\u001b[2K\u001b[23A\u001b[2K\u001b[33A\u001b[2K\u001b[20A\u001b[2K\u001b[33A\u001b[2K\u001b[20A\u001b[2K\u001b[33A\u001b[2K\u001b[21A\u001b[2K\u001b[23A\u001b[2K\u001b[21A\u001b[2K\u001b[23A\u001b[2K\u001b[24A\u001b[2K\u001b[23A\u001b[2K\u001b[21A\u001b[2K\u001b[24A\u001b[2K\u001b[20A\u001b[2K\u001b[21A\u001b[2K\u001b[20A\u001b[2K\u001b[23A\u001b[2K\u001b[33A\u001b[2K\u001b[23A\u001b[2K\u001b[21A\u001b[2K\u001b[23A\u001b[2K\u001b[33A\u001b[2K\u001b[23A\u001b[2K\u001b[21A\u001b[2K\u001b[23A\u001b[2K\u001b[24A\u001b[2K\u001b[21A\u001b[2K\u001b[23A\u001b[2K\u001b[33A\u001b[2K\u001b[21A\u001b[2K\u001b[33A\u001b[2K\u001b[23A\u001b[2K\u001b[21A\u001b[2K\u001b[20A\u001b[2K\u001b[21A\u001b[2K\u001b[23A\u001b[2K\u001b[21A\u001b[2K\u001b[23A\u001b[2K\u001b[24A\u001b[2K\u001b[20A\u001b[2K\u001b[24A\u001b[2K\u001b[33A\u001b[2K\u001b[21A\u001b[2K\u001b[33A\u001b[2K\u001b[24A\u001b[2K\u001b[23A\u001b[2K\u001b[24A\u001b[2K\u001b[33A\u001b[2K\u001b[21A\u001b[2K\u001b[20A\u001b[2K\u001b[23A\u001b[2K\u001b[24A\u001b[2K\u001b[33A\u001b[2K\u001b[24A\u001b[2K\u001b[21A\u001b[2K\u001b[24A\u001b[2K\u001b[21A\u001b[2K\u001b[33A\u001b[2K\u001b[21A\u001b[2K\u001b[24A\u001b[2K\u001b[21A\u001b[2K\u001b[24A\u001b[2K\u001b[21A\u001b[2K\u001b[33A\u001b[2K\u001b[24A\u001b[2K\u001b[21A\u001b[2K\u001b[24A\u001b[2K\u001b[21A\u001b[2K\u001b[33A\u001b[2K\u001b[20A\u001b[2K\u001b[21A\u001b[2K\u001b[20A\u001b[2K\u001b[24A\u001b[2K\u001b[33A\u001b[2K\u001b[24A\u001b[2K\u001b[33A\u001b[2K\u001b[24A\u001b[2K\u001b[33A\u001b[2K\u001b[21A\u001b[2K\u001b[33A\u001b[2K\u001b[21A\u001b[2K\u001b[24A\u001b[2K\u001b[20A\u001b[2K\u001b[21A\u001b[2K\u001b[20A\u001b[2K\u001b[20A\u001b[2K\u001b[24A\u001b[2K\u001b[20A\u001b[2K\u001b[21A\u001b[2K\u001b[20A\u001b[2K\u001b[24A\u001b[2K\u001b[20A\u001b[2K\u001b[24A\u001b[2K\u001b[20A\u001b[2K\u001b[33A\u001b[2K\u001b[24A\u001b[2K\u001b[33A\u001b[2K\u001b[24A\u001b[2K\u001b[33A\u001b[2K\u001b[24A\u001b[2K\u001b[21A\u001b[2K\u001b[24A\u001b[2K\u001b[20A\u001b[2K\u001b[33A\u001b[2K\u001b[20A\u001b[2K\u001b[33A\u001b[2K\u001b[24A\u001b[2K\u001b[33A\u001b[2K\u001b[24A\u001b[2K\u001b[33A\u001b[2K\u001b[24A\u001b[2K\u001b[20A\u001b[2K\u001b[24A\u001b[2K\u001b[20A\u001b[2K\u001b[24A\u001b[2K\u001b[21A\u001b[2K\u001b[33A\u001b[2K\u001b[24A\u001b[2K\u001b[33A\u001b[2K\u001b[21A\u001b[2K\u001b[20A\u001b[2K\u001b[21A\u001b[2K\u001b[33A\u001b[2K\u001b[24A\u001b[2K\u001b[33A\u001b[2K\u001b[33A\u001b[2K\u001b[20A\u001b[2K\u001b[33A\u001b[2K\u001b[20A\u001b[2K\u001b[24A\u001b[2K\u001b[20A\u001b[2K\u001b[33A\u001b[2K\u001b[24A\u001b[2K\u001b[33A\u001b[2K\u001b[24A\u001b[2K\u001b[21A\u001b[2K\u001b[33A\u001b[2K\u001b[21A\u001b[2K\u001b[24A\u001b[2K\u001b[33A\u001b[2K\u001b[24A\u001b[2K\u001b[33A\u001b[2K\u001b[21A\u001b[2K\u001b[20A\u001b[2K\u001b[23A\u001b[2K\u001b[21A\u001b[2K\u001b[20A\u001b[2K\u001b[33A\u001b[2K\u001b[33A\u001b[2K\u001b[33A\u001b[2K\u001b[21A\u001b[2K\u001b[33A\u001b[2K\u001b[21A\u001b[2K\u001b[24A\u001b[2K\u001b[21A\u001b[2K\u001b[20A\u001b[2K\u001b[21A\u001b[2K\u001b[33A\u001b[2K\u001b[33A\u001b[2K\u001b[24A\u001b[2K\u001b[33A\u001b[2K\u001b[24A\u001b[2K\u001b[20A\u001b[2K\u001b[21A\u001b[2K\u001b[24A\u001b[2K\u001b[20A\u001b[2K\u001b[21A\u001b[2K\u001b[33A\u001b[2K\u001b[21A\u001b[2K\u001b[33A\u001b[2K\u001b[23A\u001b[2K\u001b[21A\u001b[2K\u001b[24A\u001b[2K\u001b[33A\u001b[2K\u001b[24A\u001b[2K\u001b[21A\u001b[2K\u001b[20A\u001b[2K\u001b[21A\u001b[2K\u001b[33A\u001b[2K\u001b[24A\u001b[2K\u001b[21A\u001b[2K\u001b[33A\u001b[2K\u001b[20A\u001b[2K\u001b[24A\u001b[2K\u001b[20A\u001b[2K\u001b[24A\u001b[2K\u001b[20A\u001b[2K\u001b[21A\u001b[2K\u001b[33A\u001b[2K\u001b[24A\u001b[2K\u001b[33A\u001b[2K\u001b[21A\u001b[2K\u001b[33A\u001b[2K\u001b[21A\u001b[2K\u001b[33A\u001b[2K\u001b[23A\u001b[2K\u001b[21A\u001b[2K\u001b[24A\u001b[2K\u001b[21A\u001b[2K\u001b[33A\u001b[2K\u001b[33A\u001b[2K\u001b[24A\u001b[2K\u001b[33A\u001b[2K\u001b[24A\u001b[2K\u001b[33A\u001b[2K\u001b[21A\u001b[2K\u001b[33A\u001b[2K\u001b[21A\u001b[2K\u001b[24A\u001b[2K\u001b[21A\u001b[2K\u001b[24A\u001b[2K\u001b[33A\u001b[2K\u001b[23A\u001b[2K\u001b[21A\u001b[2K\u001b[33A\u001b[2K\u001b[24A\u001b[2K\u001b[21A\u001b[2K\u001b[24A\u001b[2K\u001b[33A\u001b[2K\u001b[24A\u001b[2K\u001b[33A\u001b[2K\u001b[20A\u001b[2K\u001b[21A\u001b[2K\u001b[33A\u001b[2K\u001b[21A\u001b[2K\u001b[24A\u001b[2K\u001b[21A\u001b[2K\u001b[33A\u001b[2K\u001b[21A\u001b[2K\u001b[23A\u001b[2K\u001b[21A\u001b[2K\u001b[20A\u001b[2K\u001b[24A\u001b[2K\u001b[24A\u001b[2K\u001b[21A\u001b[2K\u001b[24A\u001b[2K\u001b[20A\u001b[2K\u001b[24A\u001b[2K\u001b[33A\u001b[2K\u001b[24A\u001b[2K\u001b[21A\u001b[2K\u001b[20A\u001b[2K\u001b[33A\u001b[2K\u001b[20A\u001b[2K\u001b[24A\u001b[2K\u001b[21A\u001b[2K\u001b[20A\u001b[2K\u001b[24A\u001b[2K\u001b[21A\u001b[2K\u001b[33A\u001b[2K\u001b[24A\u001b[2K\u001b[20A\u001b[2K\u001b[33A\u001b[2K\u001b[24A\u001b[2K\u001b[20A\u001b[2K\u001b[24A\u001b[2K\u001b[23A\u001b[2K\u001b[21A\u001b[2K\u001b[33A\u001b[2K\u001b[24A\u001b[2K\u001b[33A\u001b[2K\u001b[24A\u001b[2K\u001b[20A\u001b[2K\u001b[21A\u001b[2K\u001b[20A\u001b[2K\u001b[21A\u001b[2K\u001b[33A\u001b[2K\u001b[21A\u001b[2K\u001b[33A\u001b[2K\u001b[21A\u001b[2K\u001b[33A\u001b[2K\u001b[20A\u001b[2K\u001b[24A\u001b[2K\u001b[33A\u001b[2K\u001b[24A\u001b[2K\u001b[21A\u001b[2K\u001b[24A\u001b[2K\u001b[21A\u001b[2K\u001b[23A\u001b[2K\u001b[20A\u001b[2K\u001b[24A\u001b[2K\u001b[33A\u001b[2K\u001b[24A\u001b[2K\u001b[21A\u001b[2K\u001b[20A\u001b[2K\u001b[21A\u001b[2K\u001b[33A\u001b[2K\u001b[21A\u001b[2K\u001b[20A\u001b[2K\u001b[21A\u001b[2K\u001b[20A\u001b[2K\u001b[21A\u001b[2K\u001b[33A\u001b[2K\u001b[21A\u001b[2K\u001b[33A\u001b[2K\u001b[24A\u001b[2K\u001b[21A\u001b[2K\u001b[20A\u001b[2K\u001b[24A\u001b[2K\u001b[33A\u001b[2K\u001b[24A\u001b[2K\u001b[33A\u001b[2K\u001b[33A\u001b[2K\u001b[20A\u001b[2K\u001b[24A\u001b[2K\u001b[33A\u001b[2K\u001b[24A\u001b[2K\u001b[21A\u001b[2K\u001b[20A\u001b[2K\u001b[24A\u001b[2K\u001b[20A\u001b[2K\u001b[21A\u001b[2K\u001b[33A\u001b[2K\u001b[20A\u001b[2K\u001b[21A\u001b[2K\u001b[20A\u001b[2K\u001b[21A\u001b[2K\u001b[33A\u001b[2K\u001b[24A\u001b[2K\u001b[33A\u001b[2K\u001b[20A\u001b[2K\u001b[21A\u001b[2K\u001b[33A\u001b[2K\u001b[24A\u001b[2K\u001b[33A\u001b[2K\u001b[21A\u001b[2K\u001b[23A\u001b[2K\u001b[20A\u001b[2K\u001b[21A\u001b[2K\u001b[24A\u001b[2K\u001b[33A\u001b[2K\u001b[24A\u001b[2K\u001b[33A\u001b[2K\u001b[21A\u001b[2K\u001b[20A\u001b[2K\u001b[33A\u001b[2K\u001b[24A\u001b[2K\u001b[33A\u001b[2K\u001b[21A\u001b[2K\u001b[20A\u001b[2K\u001b[33A\u001b[2K\u001b[24A\u001b[2K\u001b[33A\u001b[2K\u001b[21A\u001b[2K\u001b[33A\u001b[2K\u001b[20A\u001b[2K\u001b[33A\u001b[2K\u001b[20A\u001b[2K\u001b[21A\u001b[2K\u001b[33A\u001b[2K\u001b[24A\u001b[2K\u001b[21A\u001b[2K\u001b[24A\u001b[2K\u001b[33A\u001b[2K\u001b[23A\u001b[2K\u001b[24A\u001b[2K\u001b[21A\u001b[2K\u001b[20A\u001b[2K\u001b[33A\u001b[2K\u001b[20A\u001b[2K\u001b[33A\u001b[2K\u001b[20A\u001b[2K\u001b[33A\u001b[2K\u001b[21A\u001b[2K\u001b[33A\u001b[2K\u001b[20A\u001b[2K\u001b[33A\u001b[2K\u001b[20A\u001b[2K\u001b[33A\u001b[2K\u001b[24A\u001b[2K\u001b[21A\u001b[2K\u001b[24A\u001b[2K\u001b[20A\u001b[2K\u001b[33A\u001b[2K\u001b[24A\u001b[2K\u001b[33A\u001b[2K\u001b[20A\u001b[2K\u001b[20A\u001b[2K\u001b[33A\u001b[2K\u001b[20A\u001b[2K\u001b[24A\u001b[2K\u001b[21A\u001b[2K\u001b[24A\u001b[2K\u001b[23A\u001b[2K\u001b[20A\u001b[2K\u001b[21A\u001b[2K\u001b[20A\u001b[2K\u001b[33A\u001b[2K\u001b[21A\u001b[2K\u001b[24A\u001b[2K\u001b[21A\u001b[2K\u001b[24A\u001b[2K\u001b[24A\u001b[2K\u001b[33A\u001b[2K\u001b[24A\u001b[2K\u001b[21A\u001b[2K\u001b[24A\u001b[2K\u001b[21A\u001b[2K\u001b[33A\u001b[2K\u001b[21A\u001b[2K\u001b[20A\u001b[2K\u001b[33A\u001b[2K\u001b[21A\u001b[2K\u001b[33A\u001b[2K\u001b[21A\u001b[2K\u001b[24A\u001b[2K\u001b[33A\u001b[2K\u001b[21A\u001b[2K\u001b[33A\u001b[2K\u001b[20A\u001b[2K\u001b[33A\u001b[2K\u001b[23A\u001b[2K\u001b[33A\u001b[2K\u001b[24A\u001b[2K\u001b[33A\u001b[2K\u001b[21A\u001b[2K\u001b[33A\u001b[2K\u001b[24A\u001b[2K\u001b[20A\u001b[2K\u001b[20A\u001b[2K\u001b[20A\u001b[2K\u001b[21A\u001b[2K\u001b[20A\u001b[2K\u001b[33A\u001b[2K\u001b[20A\u001b[2K\u001b[21A\u001b[2K\u001b[20A\u001b[2K\u001b[33A\u001b[2K\u001b[20A\u001b[2K\u001b[24A\u001b[2K\u001b[21A\u001b[2K\u001b[23A\u001b[2K\u001b[21A\u001b[2K\u001b[20A\u001b[2K\u001b[24A\u001b[2K\u001b[20A\u001b[2K\u001b[21A\u001b[2K\u001b[20A\u001b[2K\u001b[21A\u001b[2K\u001b[20A\u001b[2K\u001b[33A\u001b[2K\u001b[21A\u001b[2K\u001b[20A\u001b[2K\u001b[21A\u001b[2K\u001b[33A\u001b[2K\u001b[21A\u001b[2K\u001b[33A\u001b[2K\u001b[23A\u001b[2K\u001b[33A\u001b[2K\u001b[24A\u001b[2K\u001b[33A\u001b[2K\u001b[24A\u001b[2K\u001b[20A\u001b[2K\u001b[24A\u001b[2K\u001b[20A\u001b[2K\u001b[24A\u001b[2K\u001b[33A\u001b[2K\u001b[20A\u001b[2K\u001b[33A\u001b[2K\u001b[24A\u001b[2K\u001b[21A\u001b[2K\u001b[21A\u001b[2K\u001b[33A\u001b[2K\u001b[21A\u001b[2K\u001b[33A\u001b[2K\u001b[20A\u001b[2K\u001b[23A\u001b[2K\u001b[23A\u001b[2K\u001b[21A\u001b[2K\u001b[33A\u001b[2K\u001b[24A\u001b[2K\u001b[20A\u001b[2K\u001b[21A\u001b[2K\u001b[24A\u001b[2K\u001b[33A\u001b[2K\u001b[20A\u001b[2K\u001b[21A\u001b[2K\u001b[20A\u001b[2K\u001b[33A\u001b[2K\u001b[21A\u001b[2K\u001b[20A\u001b[2K\u001b[24A\u001b[2K\u001b[23A\u001b[2K\u001b[24A\u001b[2K\u001b[20A\u001b[2K\u001b[33A\u001b[2K\u001b[21A\u001b[2K\u001b[23A\u001b[2K\u001b[21A\u001b[2K\u001b[23A\u001b[2K\u001b[21A\u001b[2K\u001b[24A\u001b[2K\u001b[20A\u001b[2K\u001b[21A\u001b[2K\u001b[33A\u001b[2K\u001b[21A\u001b[2K\u001b[24A\u001b[2K\u001b[21A\u001b[2K\u001b[23A\u001b[2K\u001b[21A\u001b[2K\u001b[23A\u001b[2K\u001b[24A\u001b[2K\u001b[33A\u001b[2K\u001b[23A\u001b[2K\u001b[33A\u001b[2K\u001b[33A\u001b[2K\u001b[20A\u001b[2K\u001b[33A\u001b[2K\u001b[20A\u001b[2K\u001b[33A\u001b[2K\u001b[21A\u001b[2K\u001b[33A\u001b[2K\u001b[21A\u001b[2K\u001b[24A\u001b[2K\u001b[20A\u001b[2K\u001b[23A\u001b[2K\u001b[19A\u001b[2K\u001b[20A\u001b[2K\u001b[21A\u001b[2K\u001b[18A\u001b[2K\u001b[21A\u001b[2K\u001b[20A\u001b[2K\u001b[33A\u001b[2K\u001b[20A\u001b[2K\u001b[19A\u001b[2K\u001b[33A\u001b[2K\u001b[19A\u001b[2K\u001b[33A\u001b[2K\u001b[21A\u001b[2K\u001b[19A\u001b[2K\u001b[33A\u001b[2K\u001b[19A\u001b[2K\u001b[20A\u001b[2K\u001b[21A\u001b[2K\u001b[33A\u001b[2K\u001b[17A\u001b[2K\u001b[33A\u001b[2K\u001b[20A\u001b[2K\u001b[33A\u001b[2K\u001b[20A\u001b[2K\u001b[33A\u001b[2K\u001b[21A\u001b[2K\u001b[33A\u001b[2K\u001b[21A\u001b[2K\u001b[33A\u001b[2K\u001b[15A\u001b[2K\u001b[21A\u001b[2K\u001b[33A\u001b[2K\u001b[21A\u001b[2K\u001b[15A\u001b[2K\u001b[20A\u001b[2K\u001b[15A\u001b[2K\u001b[20A\u001b[2K\u001b[20A\u001b[2K\u001b[21A\u001b[2K\u001b[20A\u001b[2K\u001b[16A\u001b[2K\u001b[21A\u001b[2K\u001b[15A\u001b[2K\u001b[21A\u001b[2K\u001b[20A\u001b[2K\u001b[33A\u001b[2K\u001b[20A\u001b[2K\u001b[15A\u001b[2K\u001b[20A\u001b[2K\u001b[33A\u001b[2K\u001b[20A\u001b[2K\u001b[14A\u001b[2K\u001b[15A\u001b[2K\u001b[33A\u001b[2K\u001b[14A\u001b[2K\u001b[21A\u001b[2K\u001b[20A\u001b[2K\u001b[21A\u001b[2K\u001b[20A\u001b[2K\u001b[21A\u001b[2K\u001b[14A\u001b[2K\u001b[20A\u001b[2K\u001b[14A\u001b[2K\u001b[21A\u001b[2K\u001b[14A\u001b[2K\u001b[33A\u001b[2K\u001b[20A\u001b[2K\u001b[33A\u001b[2K\u001b[21A\u001b[2K\u001b[21A\u001b[2K\u001b[20A\u001b[2K\u001b[21A\u001b[2K\u001b[20A\u001b[2K\u001b[21A\u001b[2K\u001b[20A\u001b[2K\u001b[21A\u001b[2K\u001b[20A\u001b[2K\u001b[21A\u001b[2K\u001b[14A\u001b[2K\u001b[20A\u001b[2K\u001b[14A\u001b[2K\u001b[20A\u001b[2K\u001b[21A\u001b[2K\u001b[14A\u001b[2K\u001b[21A\u001b[2K\u001b[14A\u001b[2K\u001b[20A\u001b[2K\u001b[33A\u001b[2K\u001b[14A\u001b[2K\u001b[21A\u001b[2K\u001b[33A\u001b[2K\u001b[20A\u001b[2K\u001b[33A\u001b[2K\u001b[21A\u001b[2K\u001b[14A\u001b[2K\u001b[33A\u001b[2K\u001b[15A\u001b[2K\u001b[20A\u001b[2K\u001b[14A\u001b[2K\u001b[14A\u001b[2K\u001b[14A\u001b[2K\u001b[33A\u001b[2K\u001b[14A\u001b[2K\u001b[20A\u001b[2K\u001b[21A\u001b[2K\u001b[20A\u001b[2K\u001b[21A\u001b[2K\u001b[33A\u001b[2K\u001b[15A\u001b[2K\u001b[21A\u001b[2K\u001b[15A\u001b[2K\u001b[14A\u001b[2K\u001b[15A\u001b[2K\u001b[14A\u001b[2K\u001b[15A\u001b[2K\u001b[20A\u001b[2K\u001b[15A\u001b[2K\u001b[33A\u001b[2K\u001b[20A\u001b[2K\u001b[33A\u001b[2K\u001b[14A\u001b[2K\u001b[15A\u001b[2K\u001b[14A\u001b[2K\u001b[15A\u001b[2K\u001b[20A\u001b[2K\u001b[21A\u001b[2K\u001b[15A\u001b[2K\u001b[21A\u001b[2K\u001b[14A\u001b[2K\u001b[21A\u001b[2K\u001b[20A\u001b[2K\u001b[15A\u001b[2K\u001b[14A\u001b[2K\u001b[20A\u001b[2K\u001b[14A\u001b[2K\u001b[15A\u001b[2K\u001b[33A\u001b[2K\u001b[21A\u001b[2K\u001b[15A\u001b[2K\u001b[21A\u001b[2K\u001b[15A\u001b[2K\u001b[14A\u001b[2K\u001b[33A\u001b[2K\u001b[21A\u001b[2K\u001b[33A\u001b[2K\u001b[21A\u001b[2K\u001b[33A\u001b[2K\u001b[15A\u001b[2K\u001b[21A\u001b[2K\u001b[14A\u001b[2K\u001b[20A\u001b[2K\u001b[33A\u001b[2K\u001b[15A\u001b[2K\u001b[20A\u001b[2K\u001b[15A\u001b[2K\u001b[20A\u001b[2K\u001b[33A\u001b[2K\u001b[21A\u001b[2K\u001b[33A\u001b[2K\u001b[15A\u001b[2K\u001b[21A\u001b[2K\u001b[15A\u001b[2K\u001b[14A\u001b[2K\u001b[15A\u001b[2K\u001b[21A\u001b[2K\u001b[14A\u001b[2K\u001b[15A\u001b[2K\u001b[21A\u001b[2K\u001b[20A\u001b[2K\u001b[21A\u001b[2K\u001b[33A\u001b[2K\u001b[21A\u001b[2K\u001b[20A\u001b[2K\u001b[21A\u001b[2K\u001b[14A\u001b[2K\u001b[33A\u001b[2K\u001b[21A\u001b[2K\u001b[33A\u001b[2K\u001b[21A\u001b[2K\u001b[33A\u001b[2K\u001b[15A\u001b[2K\u001b[21A\u001b[2K\u001b[21A\u001b[2K\u001b[33A\u001b[2K\u001b[14A\u001b[2K\u001b[20A\u001b[2K\u001b[21A\u001b[2KPushing  583.5MB/2.217GB\u001b[14A\u001b[2K\u001b[33A\u001b[2K\u001b[13A\u001b[2K\u001b[20A\u001b[2K\u001b[13A\u001b[2K\u001b[33A\u001b[2K\u001b[21A\u001b[2K\u001b[33A\u001b[2K\u001b[21A\u001b[2K\u001b[13A\u001b[2K\u001b[33A\u001b[2K\u001b[13A\u001b[2K\u001b[14A\u001b[2K\u001b[21A\u001b[2K\u001b[13A\u001b[2K\u001b[33A\u001b[2K\u001b[14A\u001b[2K\u001b[13A\u001b[2K\u001b[20A\u001b[2K\u001b[14A\u001b[2K\u001b[13A\u001b[2K\u001b[14A\u001b[2K\u001b[21A\u001b[2K\u001b[20A\u001b[2K\u001b[21A\u001b[2K\u001b[33A\u001b[2K\u001b[21A\u001b[2K\u001b[14A\u001b[2K\u001b[33A\u001b[2K\u001b[14A\u001b[2K\u001b[13A\u001b[2K\u001b[33A\u001b[2K\u001b[14A\u001b[2K\u001b[13A\u001b[2K\u001b[14A\u001b[2K\u001b[13A\u001b[2K\u001b[33A\u001b[2K\u001b[14A\u001b[2K\u001b[33A\u001b[2K\u001b[14A\u001b[2K\u001b[33A\u001b[2K\u001b[13A\u001b[2K\u001b[33A\u001b[2K\u001b[13A\u001b[2K\u001b[14A\u001b[2K\u001b[33A\u001b[2K\u001b[21A\u001b[2K\u001b[14A\u001b[2K\u001b[33A\u001b[2K\u001b[14A\u001b[2K\u001b[33A\u001b[2K\u001b[21A\u001b[2K\u001b[13A\u001b[2K\u001b[21A\u001b[2K\u001b[14A\u001b[2K\u001b[13A\u001b[2K\u001b[14A\u001b[2K\u001b[13A\u001b[2K\u001b[20A\u001b[2K\u001b[21A\u001b[2K\u001b[14A\u001b[2K\u001b[21A\u001b[2K\u001b[33A\u001b[2K\u001b[14A\u001b[2K\u001b[13A\u001b[2K\u001b[21A\u001b[2K\u001b[13A\u001b[2K\u001b[14A\u001b[2K\u001b[21A\u001b[2K\u001b[13A\u001b[2K\u001b[20A\u001b[2K\u001b[14A\u001b[2K\u001b[13A\u001b[2K\u001b[33A\u001b[2K\u001b[14A\u001b[2K\u001b[13A\u001b[2K\u001b[33A\u001b[2K\u001b[14A\u001b[2K\u001b[13A\u001b[2K\u001b[33A\u001b[2K\u001b[13A\u001b[2K\u001b[33A\u001b[2K\u001b[21A\u001b[2K\u001b[33A\u001b[2K\u001b[13A\u001b[2K\u001b[21A\u001b[2K\u001b[14A\u001b[2K\u001b[33A\u001b[2K\u001b[21A\u001b[2K\u001b[13A\u001b[2K\u001b[21A\u001b[2K\u001b[13A\u001b[2K\u001b[13A\u001b[2K\u001b[20A\u001b[2K\u001b[14A\u001b[2K\u001b[14A\u001b[2K\u001b[14A\u001b[2K\u001b[33A\u001b[2K\u001b[14A\u001b[2K\u001b[33A\u001b[2K\u001b[21A\u001b[2K\u001b[33A\u001b[2K\u001b[13A\u001b[2K\u001b[33A\u001b[2K\u001b[13A\u001b[2K\u001b[21A\u001b[2K\u001b[33A\u001b[2K\u001b[20A\u001b[2K\u001b[14A\u001b[2K\u001b[20A\u001b[2K\u001b[14A\u001b[2K\u001b[21A\u001b[2K\u001b[21A\u001b[2K\u001b[33A\u001b[2K\u001b[13A\u001b[2K\u001b[14A\u001b[2K\u001b[33A\u001b[2K\u001b[14A\u001b[2K\u001b[21A\u001b[2K\u001b[13A\u001b[2K\u001b[33A\u001b[2K\u001b[14A\u001b[2K\u001b[21A\u001b[2K\u001b[14A\u001b[2K\u001b[20A\u001b[2K\u001b[14A\u001b[2K\u001b[33A\u001b[2K\u001b[21A\u001b[2K\u001b[20A\u001b[2K\u001b[33A\u001b[2K\u001b[21A\u001b[2K\u001b[33A\u001b[2K\u001b[14A\u001b[2K\u001b[20A\u001b[2K\u001b[14A\u001b[2K\u001b[13A\u001b[2K\u001b[20A\u001b[2K\u001b[14A\u001b[2K\u001b[21A\u001b[2K\u001b[20A\u001b[2K\u001b[14A\u001b[2K\u001b[20A\u001b[2K\u001b[21A\u001b[2K\u001b[12A\u001b[2K\u001b[33A\u001b[2K\u001b[21A\u001b[2K\u001b[33A\u001b[2K\u001b[21A\u001b[2K\u001b[20A\u001b[2K\u001b[33A\u001b[2K\u001b[14A\u001b[2K\u001b[33A\u001b[2K\u001b[14A\u001b[2K\u001b[21A\u001b[2K\u001b[12A\u001b[2K\u001b[21A\u001b[2K\u001b[33A\u001b[2K\u001b[21A\u001b[2K\u001b[33A\u001b[2K\u001b[14A\u001b[2K\u001b[33A\u001b[2K\u001b[21A\u001b[2K\u001b[33A\u001b[2K\u001b[11A\u001b[2K\u001b[21A\u001b[2K\u001b[20A\u001b[2K\u001b[21A\u001b[2K\u001b[14A\u001b[2K\u001b[20A\u001b[2K\u001b[11A\u001b[2K\u001b[14A\u001b[2K\u001b[11A\u001b[2K\u001b[21A\u001b[2K\u001b[11A\u001b[2K\u001b[21A\u001b[2K\u001b[11A\u001b[2K\u001b[14A\u001b[2K\u001b[20A\u001b[2K\u001b[21A\u001b[2K\u001b[11A\u001b[2K\u001b[21A\u001b[2K\u001b[14A\u001b[2K\u001b[21A\u001b[2K\u001b[14A\u001b[2K\u001b[20A\u001b[2K\u001b[21A\u001b[2K\u001b[11A\u001b[2K\u001b[14A\u001b[2K\u001b[20A\u001b[2K\u001b[21A\u001b[2K\u001b[11A\u001b[2K\u001b[20A\u001b[2K\u001b[21A\u001b[2K\u001b[33A\u001b[2K\u001b[11A\u001b[2K\u001b[21A\u001b[2K\u001b[11A\u001b[2K\u001b[11A\u001b[2K\u001b[20A\u001b[2K\u001b[14A\u001b[2K\u001b[21A\u001b[2K\u001b[20A\u001b[2K\u001b[14A\u001b[2K\u001b[20A\u001b[2K\u001b[14A\u001b[2K\u001b[21A\u001b[2K\u001b[14A\u001b[2K\u001b[33A\u001b[2K\u001b[20A\u001b[2K\u001b[14A\u001b[2K\u001b[21A\u001b[2K\u001b[11A\u001b[2K\u001b[21A\u001b[2K\u001b[20A\u001b[2K\u001b[14A\u001b[2K\u001b[20A\u001b[2K\u001b[14A\u001b[2K\u001b[20A\u001b[2K\u001b[33A\u001b[2K\u001b[21A\u001b[2K\u001b[10A\u001b[2K\u001b[14A\u001b[2K\u001b[10A\u001b[2K\u001b[14A\u001b[2K\u001b[10A\u001b[2K\u001b[14A\u001b[2K\u001b[21A\u001b[2K\u001b[20A\u001b[2K\u001b[33A\u001b[2K\u001b[20A\u001b[2K\u001b[33A\u001b[2K\u001b[21A\u001b[2K\u001b[33A\u001b[2K\u001b[21A\u001b[2K\u001b[20A\u001b[2K\u001b[21A\u001b[2K\u001b[33A\u001b[2K\u001b[14A\u001b[2K\u001b[10A\u001b[2K\u001b[20A\u001b[2K\u001b[14A\u001b[2K\u001b[33A\u001b[2K\u001b[10A\u001b[2K\u001b[33A\u001b[2K\u001b[10A\u001b[2K\u001b[33A\u001b[2K\u001b[10A\u001b[2K\u001b[33A\u001b[2K\u001b[20A\u001b[2K\u001b[21A\u001b[2K\u001b[20A\u001b[2K\u001b[10A\u001b[2K\u001b[20A\u001b[2K\u001b[14A\u001b[2K\u001b[20A\u001b[2K\u001b[33A\u001b[2K\u001b[20A\u001b[2K\u001b[10A\u001b[2K\u001b[14A\u001b[2K\u001b[21A\u001b[2K\u001b[10A\u001b[2K\u001b[20A\u001b[2K\u001b[10A\u001b[2K\u001b[14A\u001b[2K\u001b[20A\u001b[2K\u001b[14A\u001b[2K\u001b[20A\u001b[2K\u001b[21A\u001b[2K\u001b[14A\u001b[2K\u001b[21A\u001b[2K\u001b[14A\u001b[2K\u001b[21A\u001b[2K\u001b[20A\u001b[2K\u001b[33A\u001b[2K\u001b[20A\u001b[2K\u001b[14A\u001b[2K\u001b[10A\u001b[2K\u001b[14A\u001b[2K\u001b[20A\u001b[2K\u001b[10A\u001b[2K\u001b[21A\u001b[2K\u001b[10A\u001b[2K\u001b[33A\u001b[2K\u001b[10A\u001b[2K\u001b[14A\u001b[2K\u001b[10A\u001b[2K\u001b[14A\u001b[2K\u001b[21A\u001b[2K\u001b[14A\u001b[2K\u001b[10A\u001b[2K\u001b[21A\u001b[2K\u001b[21A\u001b[2K\u001b[20A\u001b[2K\u001b[21A\u001b[2K\u001b[14A\u001b[2K\u001b[20A\u001b[2K\u001b[21A\u001b[2K\u001b[21A\u001b[2K\u001b[14A\u001b[2K\u001b[21A\u001b[2K\u001b[10A\u001b[2K\u001b[14A\u001b[2K\u001b[21A\u001b[2K\u001b[10A\u001b[2K\u001b[21A\u001b[2K\u001b[10A\u001b[2K\u001b[14A\u001b[2K\u001b[21A\u001b[2K\u001b[33A\u001b[2K\u001b[21A\u001b[2K\u001b[20A\u001b[2K\u001b[14A\u001b[2K\u001b[33A\u001b[2K\u001b[14A\u001b[2K\u001b[10A\u001b[2K\u001b[21A\u001b[2K\u001b[10A\u001b[2K\u001b[21A\u001b[2K\u001b[14A\u001b[2K\u001b[21A\u001b[2K\u001b[33A\u001b[2K\u001b[21A\u001b[2K\u001b[10A\u001b[2K\u001b[14A\u001b[2K\u001b[21A\u001b[2K\u001b[33A\u001b[2K\u001b[10A\u001b[2K\u001b[20A\u001b[2K\u001b[33A\u001b[2K\u001b[21A\u001b[2K\u001b[33A\u001b[2K\u001b[10A\u001b[2K\u001b[21A\u001b[2K\u001b[14A\u001b[2K\u001b[10A\u001b[2K\u001b[33A\u001b[2K\u001b[14A\u001b[2K\u001b[20A\u001b[2K\u001b[21A\u001b[2K\u001b[20A\u001b[2K\u001b[33A\u001b[2K\u001b[14A\u001b[2K\u001b[33A\u001b[2K\u001b[14A\u001b[2K\u001b[10A\u001b[2K\u001b[21A\u001b[2K\u001b[20A\u001b[2K\u001b[10A\u001b[2K\u001b[21A\u001b[2K\u001b[33A\u001b[2K\u001b[20A\u001b[2K\u001b[33A\u001b[2K\u001b[21A\u001b[2K\u001b[20A\u001b[2K\u001b[21A\u001b[2K\u001b[10A\u001b[2K\u001b[20A\u001b[2K\u001b[10A\u001b[2K\u001b[33A\u001b[2K\u001b[14A\u001b[2K\u001b[33A\u001b[2K\u001b[14A\u001b[2K\u001b[20A\u001b[2K\u001b[33A\u001b[2K\u001b[20A\u001b[2K\u001b[21A\u001b[2K\u001b[20A\u001b[2K\u001b[33A\u001b[2K\u001b[10A\u001b[2K\u001b[33A\u001b[2K\u001b[14A\u001b[2K\u001b[33A\u001b[2K\u001b[14A\u001b[2K\u001b[33A\u001b[2K\u001b[14A\u001b[2K\u001b[33A\u001b[2K\u001b[14A\u001b[2K\u001b[21A\u001b[2K\u001b[20A\u001b[2K\u001b[33A\u001b[2K\u001b[14A\u001b[2K\u001b[10A\u001b[2K\u001b[21A\u001b[2K\u001b[14A\u001b[2K\u001b[20A\u001b[2K\u001b[14A\u001b[2K\u001b[10A\u001b[2K\u001b[33A\u001b[2K\u001b[21A\u001b[2K\u001b[33A\u001b[2K\u001b[14A\u001b[2K\u001b[33A\u001b[2K\u001b[20A\u001b[2K\u001b[10A\u001b[2K\u001b[33A\u001b[2K\u001b[21A\u001b[2K\u001b[10A\u001b[2K\u001b[21A\u001b[2K\u001b[20A\u001b[2K\u001b[21A\u001b[2K\u001b[20A\u001b[2K\u001b[21A\u001b[2K\u001b[14A\u001b[2K\u001b[20A\u001b[2K\u001b[33A\u001b[2K\u001b[20A\u001b[2K\u001b[33A\u001b[2K\u001b[14A\u001b[2K\u001b[33A\u001b[2K\u001b[21A\u001b[2K\u001b[33A\u001b[2K\u001b[33A\u001b[2K\u001b[20A\u001b[2K\u001b[21A\u001b[2K\u001b[20A\u001b[2K\u001b[21A\u001b[2K\u001b[33A\u001b[2K\u001b[14A\u001b[2K\u001b[10A\u001b[2K\u001b[20A\u001b[2K\u001b[21A\u001b[2K\u001b[33A\u001b[2K\u001b[21A\u001b[2K\u001b[14A\u001b[2K\u001b[33A\u001b[2K\u001b[14A\u001b[2K\u001b[20A\u001b[2K\u001b[14A\u001b[2K\u001b[20A\u001b[2K\u001b[14A\u001b[2K\u001b[21A\u001b[2K\u001b[14A\u001b[2K\u001b[33A\u001b[2K\u001b[10A\u001b[2K\u001b[33A\u001b[2K\u001b[20A\u001b[2K\u001b[10A\u001b[2K\u001b[33A\u001b[2K\u001b[20A\u001b[2K\u001b[33A\u001b[2K\u001b[20A\u001b[2K\u001b[10A\u001b[2K\u001b[14A\u001b[2K\u001b[10A\u001b[2K\u001b[20A\u001b[2K\u001b[14A\u001b[2K\u001b[10A\u001b[2K\u001b[33A\u001b[2K\u001b[14A\u001b[2K\u001b[20A\u001b[2K\u001b[20A\u001b[2K\u001b[33A\u001b[2K\u001b[20A\u001b[2K\u001b[10A\u001b[2K\u001b[14A\u001b[2K\u001b[20A\u001b[2K\u001b[33A\u001b[2K\u001b[14A\u001b[2K\u001b[10A\u001b[2K\u001b[14A\u001b[2K\u001b[9A\u001b[2K\u001b[10A\u001b[2K\u001b[9A\u001b[2K\u001b[14A\u001b[2K\u001b[33A\u001b[2K\u001b[14A\u001b[2K\u001b[9A\u001b[2K\u001b[14A\u001b[2K\u001b[10A\u001b[2K\u001b[9A\u001b[2K\u001b[10A\u001b[2K\u001b[9A\u001b[2K\u001b[14A\u001b[2K\u001b[9A\u001b[2K\u001b[14A\u001b[2K\u001b[33A\u001b[2K\u001b[9A\u001b[2K\u001b[33A\u001b[2K\u001b[10A\u001b[2K\u001b[33A\u001b[2K\u001b[9A\u001b[2K\u001b[20A\u001b[2K\u001b[9A\u001b[2K\u001b[10A\u001b[2K\u001b[9A\u001b[2K\u001b[14A\u001b[2K\u001b[10A\u001b[2K\u001b[20A\u001b[2K\u001b[10A\u001b[2K\u001b[9A\u001b[2K\u001b[20A\u001b[2K\u001b[33A\u001b[2K\u001b[9A\u001b[2K\u001b[20A\u001b[2K\u001b[33A\u001b[2K\u001b[9A\u001b[2K\u001b[33A\u001b[2K\u001b[9A\u001b[2K\u001b[20A\u001b[2K\u001b[9A\u001b[2K\u001b[20A\u001b[2K\u001b[10A\u001b[2K\u001b[20A\u001b[2K\u001b[10A\u001b[2K\u001b[14A\u001b[2K\u001b[20A\u001b[2K\u001b[9A\u001b[2K\u001b[14A\u001b[2K\u001b[33A\u001b[2K\u001b[9A\u001b[2K\u001b[10A\u001b[2K\u001b[9A\u001b[2K\u001b[10A\u001b[2K\u001b[20A\u001b[2K\u001b[10A\u001b[2K\u001b[33A\u001b[2K\u001b[10A\u001b[2K\u001b[20A\u001b[2K\u001b[10A\u001b[2K\u001b[9A\u001b[2K\u001b[33A\u001b[2K\u001b[14A\u001b[2K\u001b[33A\u001b[2K\u001b[10A\u001b[2K\u001b[20A\u001b[2K\u001b[33A\u001b[2K\u001b[14A\u001b[2K\u001b[20A\u001b[2K\u001b[10A\u001b[2K\u001b[14A\u001b[2K\u001b[10A\u001b[2K\u001b[9A\u001b[2K\u001b[14A\u001b[2K\u001b[20A\u001b[2K\u001b[10A\u001b[2K\u001b[20A\u001b[2K\u001b[14A\u001b[2K\u001b[33A\u001b[2K\u001b[20A\u001b[2K\u001b[14A\u001b[2K\u001b[20A\u001b[2K\u001b[14A\u001b[2K\u001b[33A\u001b[2K\u001b[20A\u001b[2K\u001b[33A\u001b[2K\u001b[9A\u001b[2K\u001b[33A\u001b[2K\u001b[9A\u001b[2K\u001b[33A\u001b[2K\u001b[9A\u001b[2K\u001b[10A\u001b[2K\u001b[9A\u001b[2K\u001b[10A\u001b[2K\u001b[9A\u001b[2K\u001b[33A\u001b[2K\u001b[10A\u001b[2K\u001b[9A\u001b[2K\u001b[14A\u001b[2K\u001b[10A\u001b[2K\u001b[33A\u001b[2K\u001b[9A\u001b[2K\u001b[33A\u001b[2K\u001b[20A\u001b[2K\u001b[9A\u001b[2K\u001b[10A\u001b[2K\u001b[33A\u001b[2K\u001b[10A\u001b[2K\u001b[33A\u001b[2K\u001b[20A\u001b[2K\u001b[9A\u001b[2K\u001b[14A\u001b[2K\u001b[10A\u001b[2K\u001b[9A\u001b[2K\u001b[14A\u001b[2K\u001b[9A\u001b[2K\u001b[33A\u001b[2K\u001b[10A\u001b[2K\u001b[14A\u001b[2K\u001b[9A\u001b[2K\u001b[33A\u001b[2K\u001b[9A\u001b[2K\u001b[14A\u001b[2K\u001b[10A\u001b[2K\u001b[14A\u001b[2K\u001b[9A\u001b[2K\u001b[10A\u001b[2K\u001b[33A\u001b[2K\u001b[20A\u001b[2K\u001b[14A\u001b[2K\u001b[33A\u001b[2K\u001b[20A\u001b[2K\u001b[33A\u001b[2K\u001b[9A\u001b[2K\u001b[33A\u001b[2K\u001b[14A\u001b[2K\u001b[10A\u001b[2K\u001b[20A\u001b[2K\u001b[33A\u001b[2K\u001b[14A\u001b[2K\u001b[20A\u001b[2K\u001b[33A\u001b[2K\u001b[9A\u001b[2K\u001b[10A\u001b[2K\u001b[14A\u001b[2K\u001b[9A\u001b[2K\u001b[10A\u001b[2K\u001b[9A\u001b[2K\u001b[33A\u001b[2K\u001b[10A\u001b[2K\u001b[14A\u001b[2K\u001b[20A\u001b[2K\u001b[20A\u001b[2K\u001b[9A\u001b[2K\u001b[20A\u001b[2K\u001b[33A\u001b[2K\u001b[9A\u001b[2K\u001b[10A\u001b[2K\u001b[9A\u001b[2K\u001b[10A\u001b[2K\u001b[33A\u001b[2K\u001b[20A\u001b[2K\u001b[33A\u001b[2K\u001b[14A\u001b[2K\u001b[20A\u001b[2K\u001b[33A\u001b[2K\u001b[14A\u001b[2K\u001b[20A\u001b[2K\u001b[14A\u001b[2K\u001b[33A\u001b[2K\u001b[20A\u001b[2K\u001b[9A\u001b[2K\u001b[33A\u001b[2K\u001b[9A\u001b[2K\u001b[14A\u001b[2K\u001b[20A\u001b[2K\u001b[14A\u001b[2K\u001b[9A\u001b[2K\u001b[33A\u001b[2K\u001b[20A\u001b[2K\u001b[10A\u001b[2K\u001b[33A\u001b[2K\u001b[20A\u001b[2K\u001b[10A\u001b[2K\u001b[20A\u001b[2K\u001b[33A\u001b[2K\u001b[14A\u001b[2K\u001b[33A\u001b[2K\u001b[14A\u001b[2K\u001b[33A\u001b[2K\u001b[9A\u001b[2K\u001b[10A\u001b[2K\u001b[14A\u001b[2K\u001b[20A\u001b[2K\u001b[14A\u001b[2K\u001b[9A\u001b[2K\u001b[14A\u001b[2K\u001b[10A\u001b[2K\u001b[20A\u001b[2K\u001b[10A\u001b[2K\u001b[20A\u001b[2K\u001b[33A\u001b[2K\u001b[10A\u001b[2K\u001b[20A\u001b[2K\u001b[33A\u001b[2K\u001b[9A\u001b[2K\u001b[20A\u001b[2K\u001b[9A\u001b[2K\u001b[14A\u001b[2K\u001b[10A\u001b[2K\u001b[33A\u001b[2K\u001b[9A\u001b[2K\u001b[33A\u001b[2K\u001b[9A\u001b[2K\u001b[10A\u001b[2K\u001b[20A\u001b[2K\u001b[9A\u001b[2K\u001b[33A\u001b[2K\u001b[9A\u001b[2K\u001b[33A\u001b[2K\u001b[9A\u001b[2K\u001b[20A\u001b[2K\u001b[9A\u001b[2K\u001b[33A\u001b[2K\u001b[14A\u001b[2K\u001b[9A\u001b[2K\u001b[10A\u001b[2K\u001b[20A\u001b[2K\u001b[33A\u001b[2K\u001b[9A\u001b[2K\u001b[10A\u001b[2K\u001b[33A\u001b[2K\u001b[10A\u001b[2K\u001b[9A\u001b[2K\u001b[10A\u001b[2K\u001b[14A\u001b[2K\u001b[33A\u001b[2K\u001b[10A\u001b[2K\u001b[9A\u001b[2K\u001b[9A\u001b[2K\u001b[14A\u001b[2K\u001b[9A\u001b[2K\u001b[14A\u001b[2K\u001b[20A\u001b[2K\u001b[14A\u001b[2K\u001b[33A\u001b[2K\u001b[10A\u001b[2K\u001b[14A\u001b[2K\u001b[33A\u001b[2K\u001b[9A\u001b[2K\u001b[14A\u001b[2K\u001b[9A\u001b[2K\u001b[20A\u001b[2K\u001b[9A\u001b[2K\u001b[10A\u001b[2K\u001b[20A\u001b[2K\u001b[33A\u001b[2K\u001b[10A\u001b[2K\u001b[33A\u001b[2K\u001b[20A\u001b[2K\u001b[9A\u001b[2K\u001b[20A\u001b[2K\u001b[14A\u001b[2K\u001b[9A\u001b[2K\u001b[33A\u001b[2K\u001b[9A\u001b[2K\u001b[10A\u001b[2K\u001b[9A\u001b[2K\u001b[14A\u001b[2K\u001b[33A\u001b[2K\u001b[20A\u001b[2K\u001b[10A\u001b[2K\u001b[9A\u001b[2K\u001b[20A\u001b[2K\u001b[9A\u001b[2K\u001b[20A\u001b[2K\u001b[9A\u001b[2K\u001b[10A\u001b[2K\u001b[9A\u001b[2K\u001b[33A\u001b[2K\u001b[9A\u001b[2K\u001b[20A\u001b[2K\u001b[10A\u001b[2K\u001b[9A\u001b[2K\u001b[10A\u001b[2K\u001b[9A\u001b[2K\u001b[10A\u001b[2K\u001b[20A\u001b[2K\u001b[10A\u001b[2K\u001b[33A\u001b[2K\u001b[9A\u001b[2K\u001b[33A\u001b[2K\u001b[9A\u001b[2K\u001b[20A\u001b[2K\u001b[33A\u001b[2K\u001b[10A\u001b[2K\u001b[33A\u001b[2K\u001b[9A\u001b[2K\u001b[33A\u001b[2K\u001b[33A\u001b[2K\u001b[20A\u001b[2K\u001b[33A\u001b[2K\u001b[10A\u001b[2K\u001b[33A\u001b[2K\u001b[10A\u001b[2K\u001b[20A\u001b[2K\u001b[10A\u001b[2K\u001b[20A\u001b[2K\u001b[10A\u001b[2K\u001b[20A\u001b[2K\u001b[10A\u001b[2K\u001b[20A\u001b[2K\u001b[9A\u001b[2K\u001b[20A\u001b[2K\u001b[10A\u001b[2K\u001b[33A\u001b[2K\u001b[10A\u001b[2K\u001b[9A\u001b[2K\u001b[33A\u001b[2K\u001b[10A\u001b[2K\u001b[9A\u001b[2K\u001b[10A\u001b[2K\u001b[9A\u001b[2K\u001b[10A\u001b[2K\u001b[9A\u001b[2K\u001b[7A\u001b[2K\u001b[10A\u001b[2K\u001b[33A\u001b[2K\u001b[20A\u001b[2K\u001b[33A\u001b[2K\u001b[9A\u001b[2K\u001b[20A\u001b[2K\u001b[33A\u001b[2K\u001b[20A\u001b[2K\u001b[9A\u001b[2K\u001b[20A\u001b[2K\u001b[9A\u001b[2K\u001b[20A\u001b[2K\u001b[9A\u001b[2K\u001b[33A\u001b[2K\u001b[9A\u001b[2K\u001b[33A\u001b[2K\u001b[33A\u001b[2K\u001b[4A\u001b[2K\u001b[33A\u001b[2K\u001b[20A\u001b[2K\u001b[9A\u001b[2K\u001b[33A\u001b[2K\u001b[9A\u001b[2K\u001b[5A\u001b[2K\u001b[9A\u001b[2KPushing  4.022MB/13.08MB\u001b[9A\u001b[2K\u001b[4A\u001b[2K\u001b[4A\u001b[2K\u001b[4A\u001b[2K\u001b[33A\u001b[2K\u001b[4A\u001b[2K\u001b[20A\u001b[2K\u001b[4A\u001b[2K\u001b[20A\u001b[2K\u001b[4A\u001b[2K\u001b[20A\u001b[2K\u001b[9A\u001b[2K\u001b[20A\u001b[2K\u001b[3A\u001b[2K\u001b[9A\u001b[2K\u001b[20A\u001b[2K\u001b[9A\u001b[2K\u001b[20A\u001b[2K\u001b[3A\u001b[2K\u001b[9A\u001b[2K\u001b[3A\u001b[2K\u001b[20A\u001b[2K\u001b[3A\u001b[2K\u001b[33A\u001b[2K\u001b[20A\u001b[2K\u001b[33A\u001b[2K\u001b[20A\u001b[2K\u001b[33A\u001b[2K\u001b[20A\u001b[2K\u001b[33A\u001b[2K\u001b[3A\u001b[2K\u001b[33A\u001b[2K\u001b[3A\u001b[2K\u001b[20A\u001b[2K\u001b[3A\u001b[2K\u001b[9A\u001b[2K\u001b[33A\u001b[2K\u001b[9A\u001b[2K\u001b[20A\u001b[2K\u001b[9A\u001b[2K\u001b[33A\u001b[2K\u001b[2A\u001b[2K\u001b[9A\u001b[2K\u001b[3A\u001b[2K\u001b[20A\u001b[2K\u001b[3A\u001b[2K\u001b[20A\u001b[2K\u001b[3A\u001b[2K\u001b[20A\u001b[2K\u001b[9A\u001b[2K\u001b[20A\u001b[2K\u001b[9A\u001b[2K\u001b[20A\u001b[2K\u001b[9A\u001b[2K\u001b[3A\u001b[2K\u001b[9A\u001b[2K\u001b[20A\u001b[2K\u001b[33A\u001b[2K\u001b[20A\u001b[2K\u001b[33A\u001b[2K\u001b[20A\u001b[2K\u001b[33A\u001b[2K\u001b[9A\u001b[2K\u001b[33A\u001b[2K\u001b[20A\u001b[2K\u001b[3A\u001b[2K\u001b[33A\u001b[2K\u001b[9A\u001b[2K\u001b[33A\u001b[2K\u001b[9A\u001b[2K\u001b[20A\u001b[2K\u001b[20A\u001b[2K\u001b[20A\u001b[2K\u001b[3A\u001b[2K\u001b[20A\u001b[2K\u001b[9A\u001b[2K\u001b[3A\u001b[2K\u001b[9A\u001b[2K\u001b[1A\u001b[2K\u001b[9A\u001b[2K\u001b[20A\u001b[2K\u001b[33A\u001b[2K\u001b[1A\u001b[2K\u001b[3A\u001b[2K\u001b[20A\u001b[2K\u001b[1A\u001b[2K\u001b[33A\u001b[2K\u001b[1A\u001b[2K\u001b[1A\u001b[2K\u001b[1A\u001b[2K\u001b[20A\u001b[2K\u001b[1A\u001b[2K\u001b[20A\u001b[2K\u001b[3A\u001b[2K\u001b[1A\u001b[2K\u001b[20A\u001b[2K\u001b[1A\u001b[2K\u001b[9A\u001b[2K\u001b[1A\u001b[2K\u001b[9A\u001b[2K\u001b[1A\u001b[2K\u001b[20A\u001b[2K\u001b[3A\u001b[2K\u001b[3A\u001b[2K\u001b[20A\u001b[2K\u001b[3A\u001b[2K\u001b[1A\u001b[2K\u001b[3A\u001b[2K\u001b[33A\u001b[2K\u001b[20A\u001b[2K\u001b[3A\u001b[2K\u001b[20A\u001b[2K\u001b[9A\u001b[2K\u001b[20A\u001b[2K\u001b[1A\u001b[2K\u001b[33A\u001b[2K\u001b[3A\u001b[2K\u001b[33A\u001b[2K\u001b[3A\u001b[2K\u001b[20A\u001b[2K\u001b[1A\u001b[2K\u001b[20A\u001b[2K\u001b[33A\u001b[2K\u001b[20A\u001b[2K\u001b[3A\u001b[2K\u001b[20A\u001b[2K\u001b[1A\u001b[2K\u001b[20A\u001b[2K\u001b[1A\u001b[2K\u001b[3A\u001b[2K\u001b[20A\u001b[2K\u001b[1A\u001b[2K\u001b[33A\u001b[2K\u001b[1A\u001b[2K\u001b[3A\u001b[2K\u001b[33A\u001b[2K\u001b[1A\u001b[2K\u001b[33A\u001b[2K\u001b[1A\u001b[2K\u001b[33A\u001b[2K\u001b[1A\u001b[2K\u001b[3A\u001b[2K\u001b[33A\u001b[2K\u001b[1A\u001b[2K\u001b[33A\u001b[2K\u001b[20A\u001b[2K\u001b[20A\u001b[2K\u001b[3A\u001b[2K\u001b[33A\u001b[2K\u001b[3A\u001b[2K\u001b[33A\u001b[2K\u001b[20A\u001b[2K\u001b[33A\u001b[2K\u001b[20A\u001b[2K\u001b[33A\u001b[2K\u001b[20A\u001b[2K\u001b[3A\u001b[2K\u001b[20A\u001b[2K\u001b[33A\u001b[2K\u001b[20A\u001b[2K\u001b[3A\u001b[2K\u001b[33A\u001b[2K\u001b[33A\u001b[2K\u001b[1A\u001b[2K\u001b[33A\u001b[2K\u001b[20A\u001b[2K\u001b[33A\u001b[2K\u001b[20A\u001b[2K\u001b[33A\u001b[2K\u001b[20A\u001b[2K\u001b[33A\u001b[2K\u001b[1A\u001b[2K\u001b[33A\u001b[2K\u001b[1A\u001b[2K\u001b[3A\u001b[2K\u001b[20A\u001b[2K\u001b[3A\u001b[2K\u001b[1A\u001b[2K\u001b[20A\u001b[2K\u001b[3A\u001b[2K\u001b[20A\u001b[2K\u001b[33A\u001b[2K\u001b[1A\u001b[2K\u001b[33A\u001b[2K\u001b[1A\u001b[2K\u001b[20A\u001b[2K\u001b[1A\u001b[2K\u001b[3A\u001b[2K\u001b[33A\u001b[2K\u001b[3A\u001b[2K\u001b[20A\u001b[2K\u001b[3A\u001b[2K\u001b[1A\u001b[2K\u001b[33A\u001b[2K\u001b[33A\u001b[2K\u001b[33A\u001b[2K\u001b[20A\u001b[2K\u001b[33A\u001b[2K\u001b[20A\u001b[2K\u001b[33A\u001b[2K\u001b[20A\u001b[2K\u001b[33A\u001b[2K\u001b[20A\u001b[2K\u001b[33A\u001b[2K\u001b[20A\u001b[2K\u001b[1A\u001b[2K\u001b[20A\u001b[2K\u001b[33A\u001b[2K\u001b[20A\u001b[2K\u001b[33A\u001b[2K\u001b[1A\u001b[2K\u001b[33A\u001b[2K\u001b[20A\u001b[2K\u001b[33A\u001b[2K\u001b[20A\u001b[2K\u001b[1A\u001b[2K\u001b[20A\u001b[2K\u001b[33A\u001b[2K\u001b[3A\u001b[2K\u001b[33A\u001b[2K\u001b[3A\u001b[2K\u001b[20A\u001b[2K\u001b[1A\u001b[2K\u001b[20A\u001b[2K\u001b[33A\u001b[2K\u001b[20A\u001b[2K\u001b[3A\u001b[2K\u001b[20A\u001b[2K\u001b[33A\u001b[2K\u001b[1A\u001b[2K\u001b[20A\u001b[2K\u001b[20A\u001b[2K\u001b[1A\u001b[2K\u001b[20A\u001b[2K\u001b[20A\u001b[2K\u001b[3A\u001b[2K\u001b[33A\u001b[2K\u001b[1A\u001b[2K\u001b[3A\u001b[2K\u001b[20A\u001b[2K\u001b[3A\u001b[2K\u001b[3A\u001b[2K\u001b[20A\u001b[2K\u001b[33A\u001b[2K\u001b[20A\u001b[2K\u001b[33A\u001b[2K\u001b[3A\u001b[2K\u001b[20A\u001b[2K\u001b[3A\u001b[2K\u001b[33A\u001b[2K\u001b[1A\u001b[2K\u001b[33A\u001b[2K\u001b[20A\u001b[2K\u001b[33A\u001b[2K\u001b[20A\u001b[2K\u001b[3A\u001b[2K\u001b[33A\u001b[2K\u001b[20A\u001b[2K\u001b[33A\u001b[2K\u001b[20A\u001b[2K\u001b[33A\u001b[2K\u001b[3A\u001b[2K\u001b[20A\u001b[2K\u001b[3A\u001b[2K\u001b[33A\u001b[2K\u001b[3A\u001b[2K\u001b[33A\u001b[2K\u001b[3A\u001b[2K\u001b[20A\u001b[2K\u001b[3A\u001b[2K\u001b[3A\u001b[2K\u001b[33A\u001b[2K\u001b[20A\u001b[2K\u001b[33A\u001b[2K\u001b[20A\u001b[2K\u001b[3A\u001b[2K\u001b[20A\u001b[2K\u001b[33A\u001b[2K\u001b[20A\u001b[2K\u001b[33A\u001b[2K\u001b[3A\u001b[2K\u001b[20A\u001b[2K\u001b[3A\u001b[2K\u001b[20A\u001b[2K\u001b[33A\u001b[2K\u001b[20A\u001b[2K\u001b[3A\u001b[2K\u001b[20A\u001b[2K\u001b[33A\u001b[2K\u001b[3A\u001b[2K\u001b[33A\u001b[2K\u001b[3A\u001b[2K\u001b[33A\u001b[2K\u001b[20A\u001b[2K\u001b[33A\u001b[2K\u001b[20A\u001b[2K\u001b[3A\u001b[2K\u001b[20A\u001b[2K\u001b[3A\u001b[2K\u001b[20A\u001b[2K\u001b[33A\u001b[2K\u001b[20A\u001b[2K\u001b[33A\u001b[2K\u001b[3A\u001b[2K\u001b[20A\u001b[2K\u001b[3A\u001b[2K\u001b[20A\u001b[2K\u001b[3A\u001b[2K\u001b[20A\u001b[2K\u001b[3A\u001b[2K\u001b[20A\u001b[2K\u001b[3A\u001b[2K\u001b[20A\u001b[2K\u001b[3A\u001b[2K\u001b[20A\u001b[2K\u001b[33A\u001b[2K\u001b[3A\u001b[2K\u001b[20A\u001b[2K\u001b[3A\u001b[2K\u001b[20A\u001b[2K\u001b[33A\u001b[2K\u001b[3A\u001b[2K\u001b[33A\u001b[2K\u001b[3A\u001b[2K\u001b[33A\u001b[2K\u001b[3A\u001b[2K\u001b[20A\u001b[2K\u001b[3A\u001b[2K\u001b[33A\u001b[2K\u001b[3A\u001b[2K\u001b[3A\u001b[2K\u001b[33A\u001b[2K\u001b[3A\u001b[2K\u001b[33A\u001b[2K\u001b[3A\u001b[2K\u001b[3A\u001b[2K\u001b[20A\u001b[2K\u001b[33A\u001b[2K\u001b[20A\u001b[2K\u001b[33A\u001b[2K\u001b[20A\u001b[2K\u001b[33A\u001b[2K\u001b[20A\u001b[2K\u001b[3A\u001b[2K\u001b[33A\u001b[2K\u001b[20A\u001b[2K\u001b[33A\u001b[2K\u001b[20A\u001b[2K\u001b[33A\u001b[2K\u001b[3A\u001b[2K\u001b[20A\u001b[2K\u001b[33A\u001b[2K\u001b[20A\u001b[2K\u001b[33A\u001b[2K\u001b[20A\u001b[2K\u001b[3A\u001b[2K\u001b[33A\u001b[2K\u001b[3A\u001b[2K\u001b[20A\u001b[2K\u001b[3A\u001b[2K\u001b[20A\u001b[2K\u001b[3A\u001b[2K\u001b[3A\u001b[2K\u001b[3A\u001b[2K\u001b[3A\u001b[2K\u001b[3A\u001b[2K\u001b[3A\u001b[2K\u001b[33A\u001b[2K\u001b[3A\u001b[2K\u001b[3A\u001b[2K\u001b[3A\u001b[2K\u001b[33A\u001b[2K\u001b[3A\u001b[2K\u001b[20A\u001b[2K\u001b[3A\u001b[2K\u001b[20A\u001b[2K\u001b[3A\u001b[2K\u001b[33A\u001b[2K\u001b[3A\u001b[2K\u001b[33A\u001b[2K\u001b[3A\u001b[2K\u001b[20A\u001b[2K\u001b[33A\u001b[2K\u001b[3A\u001b[2K\u001b[33A\u001b[2K\u001b[20A\u001b[2K\u001b[3A\u001b[2K\u001b[20A\u001b[2K\u001b[3A\u001b[2K\u001b[20A\u001b[2K\u001b[3A\u001b[2K\u001b[20A\u001b[2K\u001b[3A\u001b[2K\u001b[20A\u001b[2K\u001b[33A\u001b[2K\u001b[20A\u001b[2K\u001b[33A\u001b[2K\u001b[3A\u001b[2K\u001b[33A\u001b[2K\u001b[3A\u001b[2K\u001b[33A\u001b[2K\u001b[3A\u001b[2K\u001b[33A\u001b[2K\u001b[3A\u001b[2K\u001b[20A\u001b[2K\u001b[33A\u001b[2K\u001b[20A\u001b[2K\u001b[33A\u001b[2K\u001b[20A\u001b[2K\u001b[33A\u001b[2K\u001b[20A\u001b[2K\u001b[33A\u001b[2K\u001b[20A\u001b[2K\u001b[33A\u001b[2K\u001b[3A\u001b[2K\u001b[33A\u001b[2K\u001b[20A\u001b[2K\u001b[33A\u001b[2K\u001b[20A\u001b[2K\u001b[33A\u001b[2K\u001b[33A\u001b[2K\u001b[33A\u001b[2K\u001b[20A\u001b[2K\u001b[33A\u001b[2K\u001b[20A\u001b[2K\u001b[33A\u001b[2K\u001b[33A\u001b[2K\u001b[3A\u001b[2K\u001b[33A\u001b[2K\u001b[33A\u001b[2K\u001b[20A\u001b[2K\u001b[33A\u001b[2K\u001b[20A\u001b[2K\u001b[33A\u001b[2K\u001b[20A\u001b[2K\u001b[33A\u001b[2K\u001b[20A\u001b[2K\u001b[33A\u001b[2K\u001b[20A\u001b[2K\u001b[33A\u001b[2K\u001b[20A\u001b[2K\u001b[20A\u001b[2K\u001b[3A\u001b[2K\u001b[20A\u001b[2K\u001b[33A\u001b[2K\u001b[3A\u001b[2K\u001b[33A\u001b[2K\u001b[3A\u001b[2K\u001b[33A\u001b[2K\u001b[3A\u001b[2K\u001b[33A\u001b[2K\u001b[3A\u001b[2K\u001b[33A\u001b[2K\u001b[20A\u001b[2K\u001b[33A\u001b[2K\u001b[20A\u001b[2K\u001b[3A\u001b[2K\u001b[20A\u001b[2K\u001b[33A\u001b[2K\u001b[20A\u001b[2K\u001b[33A\u001b[2K\u001b[3A\u001b[2K\u001b[33A\u001b[2K\u001b[3A\u001b[2K\u001b[20A\u001b[2K\u001b[33A\u001b[2K\u001b[20A\u001b[2K\u001b[33A\u001b[2K\u001b[20A\u001b[2K\u001b[3A\u001b[2K\u001b[20A\u001b[2K\u001b[33A\u001b[2K\u001b[20A\u001b[2K\u001b[3A\u001b[2K\u001b[20A\u001b[2K\u001b[33A\u001b[2K\u001b[20A\u001b[2K\u001b[33A\u001b[2K\u001b[20A\u001b[2K\u001b[33A\u001b[2K\u001b[33A\u001b[2K\u001b[20A\u001b[2K\u001b[3A\u001b[2K\u001b[20A\u001b[2K\u001b[33A\u001b[2K\u001b[20A\u001b[2K\u001b[33A\u001b[2K\u001b[20A\u001b[2K\u001b[33A\u001b[2K\u001b[20A\u001b[2K\u001b[3A\u001b[2K\u001b[20A\u001b[2K\u001b[20A\u001b[2K\u001b[3A\u001b[2K\u001b[20A\u001b[2K\u001b[3A\u001b[2K\u001b[20A\u001b[2K\u001b[20A\u001b[2K\u001b[3A\u001b[2K\u001b[20A\u001b[2K\u001b[3A\u001b[2K\u001b[20A\u001b[2K\u001b[33A\u001b[2K\u001b[20A\u001b[2K\u001b[33A\u001b[2K\u001b[20A\u001b[2K\u001b[33A\u001b[2K\u001b[20A\u001b[2K\u001b[3A\u001b[2K\u001b[20A\u001b[2K\u001b[3A\u001b[2K\u001b[20A\u001b[2K\u001b[3A\u001b[2K\u001b[33A\u001b[2K\u001b[20A\u001b[2K\u001b[33A\u001b[2K\u001b[20A\u001b[2K\u001b[3A\u001b[2K\u001b[20A\u001b[2K\u001b[33A\u001b[2K\u001b[20A\u001b[2K\u001b[3A\u001b[2K\u001b[20A\u001b[2K\u001b[33A\u001b[2K\u001b[20A\u001b[2K\u001b[33A\u001b[2K\u001b[3A\u001b[2K\u001b[33A\u001b[2K\u001b[20A\u001b[2K\u001b[33A\u001b[2K\u001b[20A\u001b[2K\u001b[33A\u001b[2K\u001b[20A\u001b[2K\u001b[3A\u001b[2K\u001b[33A\u001b[2K\u001b[3A\u001b[2K\u001b[33A\u001b[2K\u001b[20A\u001b[2K\u001b[3A\u001b[2K\u001b[20A\u001b[2K\u001b[3A\u001b[2K\u001b[3A\u001b[2K\u001b[20A\u001b[2K\u001b[33A\u001b[2K\u001b[20A\u001b[2K\u001b[33A\u001b[2K\u001b[20A\u001b[2K\u001b[33A\u001b[2K\u001b[20A\u001b[2K\u001b[3A\u001b[2K\u001b[20A\u001b[2K\u001b[3A\u001b[2K\u001b[20A\u001b[2K\u001b[33A\u001b[2K\u001b[20A\u001b[2K\u001b[33A\u001b[2K\u001b[3A\u001b[2K\u001b[33A\u001b[2K\u001b[3A\u001b[2K\u001b[20A\u001b[2K\u001b[33A\u001b[2K\u001b[3A\u001b[2K\u001b[33A\u001b[2K\u001b[20A\u001b[2K\u001b[33A\u001b[2K\u001b[20A\u001b[2K\u001b[3A\u001b[2K\u001b[33A\u001b[2K\u001b[3A\u001b[2K\u001b[33A\u001b[2K\u001b[20A\u001b[2K\u001b[3A\u001b[2K\u001b[20A\u001b[2K\u001b[33A\u001b[2K\u001b[33A\u001b[2K\u001b[33A\u001b[2K\u001b[33A\u001b[2K\u001b[3A\u001b[2K\u001b[33A\u001b[2K\u001b[20A\u001b[2K\u001b[3A\u001b[2K\u001b[20A\u001b[2K\u001b[3A\u001b[2K\u001b[33A\u001b[2K\u001b[20A\u001b[2K\u001b[33A\u001b[2K\u001b[3A\u001b[2K\u001b[33A\u001b[2K\u001b[20A\u001b[2K\u001b[3A\u001b[2K\u001b[20A\u001b[2K\u001b[3A\u001b[2K\u001b[33A\u001b[2K\u001b[33A\u001b[2K\u001b[33A\u001b[2K\u001b[20A\u001b[2K\u001b[33A\u001b[2K\u001b[20A\u001b[2K\u001b[33A\u001b[2K\u001b[20A\u001b[2K\u001b[33A\u001b[2K\u001b[20A\u001b[2K\u001b[3A\u001b[2K\u001b[20A\u001b[2K\u001b[3A\u001b[2K\u001b[20A\u001b[2K\u001b[3A\u001b[2K\u001b[33A\u001b[2K\u001b[20A\u001b[2K\u001b[33A\u001b[2K\u001b[20A\u001b[2K\u001b[33A\u001b[2K\u001b[3A\u001b[2K\u001b[33A\u001b[2K\u001b[3A\u001b[2K\u001b[33A\u001b[2K\u001b[20A\u001b[2K\u001b[33A\u001b[2K\u001b[20A\u001b[2K\u001b[33A\u001b[2K\u001b[20A\u001b[2K\u001b[33A\u001b[2K\u001b[3A\u001b[2K\u001b[33A\u001b[2K\u001b[20A\u001b[2K\u001b[33A\u001b[2K\u001b[20A\u001b[2K\u001b[33A\u001b[2K\u001b[3A\u001b[2K\u001b[33A\u001b[2K\u001b[20A\u001b[2K\u001b[33A\u001b[2K\u001b[20A\u001b[2K\u001b[33A\u001b[2K\u001b[20A\u001b[2K\u001b[33A\u001b[2K\u001b[33A\u001b[2K\u001b[3A\u001b[2K\u001b[33A\u001b[2K\u001b[3A\u001b[2K\u001b[33A\u001b[2K\u001b[3A\u001b[2K\u001b[33A\u001b[2K\u001b[20A\u001b[2K\u001b[33A\u001b[2K\u001b[20A\u001b[2K\u001b[33A\u001b[2K\u001b[20A\u001b[2K\u001b[33A\u001b[2K\u001b[20A\u001b[2K\u001b[33A\u001b[2K\u001b[20A\u001b[2K\u001b[33A\u001b[2K\u001b[33A\u001b[2K\u001b[3A\u001b[2K\u001b[33A\u001b[2K\u001b[3A\u001b[2K\u001b[33A\u001b[2K\u001b[3A\u001b[2K\u001b[33A\u001b[2K\u001b[20A\u001b[2K\u001b[33A\u001b[2K\u001b[3A\u001b[2K\u001b[33A\u001b[2K\u001b[3A\u001b[2K\u001b[33A\u001b[2K\u001b[3A\u001b[2K\u001b[33A\u001b[2K\u001b[33A\u001b[2K\u001b[33A\u001b[2K\u001b[20A\u001b[2K\u001b[33A\u001b[2K\u001b[3A\u001b[2K\u001b[33A\u001b[2K\u001b[33A\u001b[2K\u001b[20A\u001b[2K\u001b[33A\u001b[2K\u001b[20A\u001b[2K\u001b[33A\u001b[2K\u001b[20A\u001b[2K\u001b[3A\u001b[2K\u001b[33A\u001b[2K\u001b[20A\u001b[2K\u001b[20A\u001b[2K\u001b[3A\u001b[2K\u001b[3A\u001b[2K\u001b[3A\u001b[2K\u001b[33A\u001b[2K\u001b[33A\u001b[2K\u001b[33A\u001b[2K\u001b[3A\u001b[2K\u001b[33A\u001b[2K\u001b[20A\u001b[2K\u001b[33A\u001b[2K\u001b[20A\u001b[2K\u001b[33A\u001b[2K\u001b[20A\u001b[2K\u001b[3A\u001b[2K\u001b[33A\u001b[2K\u001b[20A\u001b[2K\u001b[33A\u001b[2K\u001b[20A\u001b[2K\u001b[3A\u001b[2K\u001b[20A\u001b[2K\u001b[3A\u001b[2K\u001b[33A\u001b[2K\u001b[33A\u001b[2K\u001b[33A\u001b[2K\u001b[3A\u001b[2K\u001b[33A\u001b[2K\u001b[20A\u001b[2K\u001b[33A\u001b[2K\u001b[33A\u001b[2K\u001b[3A\u001b[2K\u001b[33A\u001b[2K\u001b[3A\u001b[2K\u001b[33A\u001b[2K\u001b[20A\u001b[2K\u001b[33A\u001b[2K\u001b[3A\u001b[2K\u001b[33A\u001b[2K\u001b[3A\u001b[2K\u001b[33A\u001b[2K\u001b[3A\u001b[2K\u001b[3A\u001b[2K\u001b[33A\u001b[2K\u001b[3A\u001b[2K\u001b[20A\u001b[2K\u001b[20A\u001b[2K\u001b[33A\u001b[2K\u001b[3A\u001b[2K\u001b[20A\u001b[2K\u001b[3A\u001b[2K\u001b[20A\u001b[2K\u001b[20A\u001b[2K\u001b[33A\u001b[2K\u001b[20A\u001b[2K\u001b[20A\u001b[2K\u001b[3A\u001b[2K\u001b[20A\u001b[2K\u001b[3A\u001b[2K\u001b[20A\u001b[2K\u001b[33A\u001b[2K\u001b[20A\u001b[2K\u001b[3A\u001b[2K\u001b[20A\u001b[2K\u001b[3A\u001b[2K\u001b[20A\u001b[2K\u001b[3A\u001b[2K\u001b[33A\u001b[2K\u001b[33A\u001b[2K\u001b[3A\u001b[2K\u001b[33A\u001b[2K\u001b[3A\u001b[2K\u001b[20A\u001b[2K\u001b[20A\u001b[2K\u001b[33A\u001b[2K\u001b[3A\u001b[2K\u001b[33A\u001b[2K\u001b[20A\u001b[2K\u001b[20A\u001b[2K\u001b[20A\u001b[2K\u001b[3A\u001b[2K\u001b[33A\u001b[2K\u001b[3A\u001b[2K\u001b[3A\u001b[2K\u001b[33A\u001b[2K\u001b[3A\u001b[2K\u001b[33A\u001b[2K\u001b[3A\u001b[2K\u001b[20A\u001b[2K\u001b[3A\u001b[2K\u001b[33A\u001b[2K\u001b[3A\u001b[2K\u001b[33A\u001b[2K\u001b[3A\u001b[2K\u001b[3A\u001b[2K\u001b[3A\u001b[2K\u001b[33A\u001b[2K\u001b[3A\u001b[2K\u001b[20A\u001b[2K\u001b[3A\u001b[2K\u001b[20A\u001b[2K\u001b[3A\u001b[2K\u001b[33A\u001b[2K\u001b[3A\u001b[2K\u001b[33A\u001b[2K\u001b[3A\u001b[2K\u001b[3A\u001b[2K\u001b[3A\u001b[2K\u001b[33A\u001b[2K\u001b[3A\u001b[2K\u001b[33A\u001b[2K\u001b[3A\u001b[2K\u001b[20A\u001b[2K\u001b[3A\u001b[2K\u001b[33A\u001b[2K\u001b[20A\u001b[2K\u001b[33A\u001b[2K\u001b[3A\u001b[2K\u001b[33A\u001b[2K\u001b[3A\u001b[2K\u001b[33A\u001b[2K\u001b[3A\u001b[2K\u001b[20A\u001b[2K\u001b[33A\u001b[2K\u001b[3A\u001b[2K\u001b[33A\u001b[2K\u001b[3A\u001b[2K\u001b[33A\u001b[2K\u001b[20A\u001b[2K\u001b[33A\u001b[2K\u001b[3A\u001b[2K\u001b[20A\u001b[2K\u001b[33A\u001b[2K\u001b[3A\u001b[2K\u001b[33A\u001b[2K\u001b[3A\u001b[2K\u001b[33A\u001b[2K\u001b[20A\u001b[2K\u001b[3A\u001b[2K\u001b[33A\u001b[2K\u001b[20A\u001b[2K\u001b[33A\u001b[2K\u001b[20A\u001b[2K\u001b[3A\u001b[2K\u001b[20A\u001b[2K\u001b[33A\u001b[2K\u001b[33A\u001b[2K\u001b[20A\u001b[2K\u001b[33A\u001b[2K\u001b[3A\u001b[2K\u001b[33A\u001b[2K\u001b[20A\u001b[2K\u001b[3A\u001b[2K\u001b[20A\u001b[2K\u001b[33A\u001b[2K\u001b[3A\u001b[2K\u001b[33A\u001b[2K\u001b[3A\u001b[2K\u001b[20A\u001b[2K\u001b[3A\u001b[2K\u001b[33A\u001b[2K\u001b[3A\u001b[2K\u001b[33A\u001b[2K\u001b[20A\u001b[2K\u001b[3A\u001b[2K\u001b[20A\u001b[2K\u001b[33A\u001b[2K\u001b[3A\u001b[2K\u001b[3A\u001b[2K\u001b[20A\u001b[2K\u001b[33A\u001b[2K\u001b[20A\u001b[2K\u001b[33A\u001b[2K\u001b[3A\u001b[2K\u001b[33A\u001b[2K\u001b[3A\u001b[2K\u001b[20A\u001b[2K\u001b[33A\u001b[2K\u001b[3A\u001b[2K\u001b[33A\u001b[2K\u001b[20A\u001b[2K\u001b[3A\u001b[2K\u001b[33A\u001b[2K\u001b[33A\u001b[2K\u001b[3A\u001b[2K\u001b[20A\u001b[2K\u001b[3A\u001b[2K\u001b[33A\u001b[2K\u001b[3A\u001b[2K\u001b[33A\u001b[2K\u001b[20A\u001b[2K\u001b[20A\u001b[2K\u001b[20A\u001b[2K\u001b[3A\u001b[2K\u001b[20A\u001b[2K\u001b[33A\u001b[2K\u001b[20A\u001b[2K\u001b[33A\u001b[2K\u001b[20A\u001b[2K\u001b[33A\u001b[2K\u001b[20A\u001b[2K\u001b[3A\u001b[2K\u001b[20A\u001b[2K\u001b[3A\u001b[2K\u001b[33A\u001b[2K\u001b[20A\u001b[2K\u001b[33A\u001b[2K\u001b[20A\u001b[2K\u001b[33A\u001b[2K\u001b[3A\u001b[2K\u001b[33A\u001b[2K\u001b[20A\u001b[2K\u001b[33A\u001b[2K\u001b[20A\u001b[2K\u001b[3A\u001b[2K\u001b[20A\u001b[2K\u001b[33A\u001b[2K\u001b[20A\u001b[2K\u001b[3A\u001b[2K\u001b[20A\u001b[2K\u001b[33A\u001b[2K\u001b[20A\u001b[2K\u001b[33A\u001b[2K\u001b[20A\u001b[2K\u001b[3A\u001b[2K\u001b[3A\u001b[2K\u001b[33A\u001b[2K\u001b[20A\u001b[2K\u001b[20A\u001b[2K\u001b[3A\u001b[2K\u001b[20A\u001b[2K\u001b[33A\u001b[2K\u001b[3A\u001b[2K\u001b[20A\u001b[2K\u001b[33A\u001b[2K\u001b[20A\u001b[2K\u001b[33A\u001b[2K\u001b[20A\u001b[2K\u001b[33A\u001b[2K\u001b[20A\u001b[2K\u001b[33A\u001b[2K\u001b[20A\u001b[2K\u001b[33A\u001b[2K\u001b[3A\u001b[2K\u001b[20A\u001b[2K\u001b[3A\u001b[2K\u001b[33A\u001b[2K\u001b[3A\u001b[2K\u001b[20A\u001b[2K\u001b[3A\u001b[2K\u001b[20A\u001b[2K\u001b[3A\u001b[2K\u001b[20A\u001b[2K\u001b[33A\u001b[2K\u001b[3A\u001b[2K\u001b[33A\u001b[2K\u001b[3A\u001b[2K\u001b[33A\u001b[2K\u001b[3A\u001b[2K\u001b[3A\u001b[2K\u001b[33A\u001b[2K\u001b[3A\u001b[2K\u001b[33A\u001b[2K\u001b[3A\u001b[2K\u001b[20A\u001b[2K\u001b[3A\u001b[2K\u001b[20A\u001b[2K\u001b[33A\u001b[2K\u001b[20A\u001b[2K\u001b[33A\u001b[2K\u001b[20A\u001b[2K\u001b[3A\u001b[2K\u001b[20A\u001b[2K\u001b[3A\u001b[2K\u001b[33A\u001b[2K\u001b[3A\u001b[2K\u001b[33A\u001b[2K\u001b[20A\u001b[2K\u001b[3A\u001b[2K\u001b[3A\u001b[2K\u001b[20A\u001b[2K\u001b[33A\u001b[2K\u001b[20A\u001b[2K\u001b[20A\u001b[2K\u001b[33A\u001b[2K\u001b[20A\u001b[2K\u001b[3A\u001b[2K\u001b[20A\u001b[2K\u001b[33A\u001b[2K\u001b[20A\u001b[2K\u001b[33A\u001b[2K\u001b[20A\u001b[2K\u001b[3A\u001b[2K\u001b[20A\u001b[2K\u001b[33A\u001b[2K\u001b[20A\u001b[2K\u001b[3A\u001b[2K\u001b[20A\u001b[2K\u001b[3A\u001b[2K\u001b[20A\u001b[2K\u001b[3A\u001b[2K\u001b[33A\u001b[2K\u001b[20A\u001b[2K\u001b[20A\u001b[2K\u001b[20A\u001b[2K\u001b[3A\u001b[2K\u001b[20A\u001b[2K\u001b[3A\u001b[2K\u001b[33A\u001b[2K\u001b[3A\u001b[2K\u001b[20A\u001b[2K\u001b[3A\u001b[2K\u001b[20A\u001b[2K\u001b[3A\u001b[2K\u001b[33A\u001b[2K\u001b[20A\u001b[2K\u001b[3A\u001b[2K\u001b[20A\u001b[2K\u001b[3A\u001b[2K\u001b[20A\u001b[2K\u001b[33A\u001b[2K\u001b[20A\u001b[2K\u001b[20A\u001b[2K\u001b[3A\u001b[2K\u001b[20A\u001b[2K\u001b[3A\u001b[2K\u001b[33A\u001b[2K\u001b[20A\u001b[2K\u001b[33A\u001b[2K\u001b[20A\u001b[2K"
     ]
    }
   ],
   "source": [
    "!docker push  975050125079.dkr.ecr.us-east-1.amazonaws.com/tensorflow-training:latest"
   ]
  },
  {
   "cell_type": "code",
   "execution_count": null,
   "id": "239e744e",
   "metadata": {},
   "outputs": [],
   "source": []
  }
 ],
 "metadata": {
  "kernelspec": {
   "display_name": "conda_python3",
   "language": "python",
   "name": "conda_python3"
  },
  "language_info": {
   "codemirror_mode": {
    "name": "ipython",
    "version": 3
   },
   "file_extension": ".py",
   "mimetype": "text/x-python",
   "name": "python",
   "nbconvert_exporter": "python",
   "pygments_lexer": "ipython3",
   "version": "3.10.15"
  }
 },
 "nbformat": 4,
 "nbformat_minor": 5
}
