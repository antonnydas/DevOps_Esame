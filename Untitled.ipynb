{
 "cells": [
  {
   "cell_type": "code",
   "execution_count": 56,
   "id": "9192e5bd",
   "metadata": {},
   "outputs": [
    {
     "data": {
      "text/plain": [
       "'520713654638.dkr.ecr.us-east-1.amazonaws.com/sagemaker-tensorflow-serving:1.12.0-cpu'"
      ]
     },
     "execution_count": 56,
     "metadata": {},
     "output_type": "execute_result"
    }
   ],
   "source": [
    "import scipy.sparse\n",
    "from sagemaker import image_uris\n",
    "image_uris.retrieve(framework='tensorflow',region='us-east-1',version='1.12.0',image_scope='inference',instance_type='ml.c5.4xlarge')\n"
   ]
  },
  {
   "cell_type": "code",
   "execution_count": 57,
   "id": "46aa3d3d",
   "metadata": {},
   "outputs": [],
   "source": [
    "# login all' elastic container registry"
   ]
  },
  {
   "cell_type": "code",
   "execution_count": 58,
   "id": "bdd3129a",
   "metadata": {},
   "outputs": [
    {
     "name": "stdout",
     "output_type": "stream",
     "text": [
      "WARNING! Your password will be stored unencrypted in /home/ec2-user/.docker/config.json.\n",
      "Configure a credential helper to remove this warning. See\n",
      "https://docs.docker.com/engine/reference/commandline/login/#credentials-store\n",
      "\n",
      "Login Succeeded\n"
     ]
    }
   ],
   "source": [
    "!aws ecr get-login-password --region us-east-1 | docker login --username AWS --password-stdin 520713654638.dkr.ecr.us-east-1.amazonaws.com"
   ]
  },
  {
   "cell_type": "code",
   "execution_count": 59,
   "id": "6ef8741f",
   "metadata": {},
   "outputs": [
    {
     "name": "stdout",
     "output_type": "stream",
     "text": [
      "1.12.0-cpu: Pulling from sagemaker-tensorflow-serving\n",
      "Digest: sha256:026c2a51a2e9e258481b17c110f9c9640dc010bf71463d4bd31e925ced7c6a49\n",
      "Status: Image is up to date for 520713654638.dkr.ecr.us-east-1.amazonaws.com/sagemaker-tensorflow-serving:1.12.0-cpu\n",
      "520713654638.dkr.ecr.us-east-1.amazonaws.com/sagemaker-tensorflow-serving:1.12.0-cpu\n"
     ]
    }
   ],
   "source": [
    "!docker pull 520713654638.dkr.ecr.us-east-1.amazonaws.com/sagemaker-tensorflow-serving:1.12.0-cpu"
   ]
  },
  {
   "cell_type": "code",
   "execution_count": 60,
   "id": "bebc72a1",
   "metadata": {},
   "outputs": [
    {
     "name": "stderr",
     "output_type": "stream",
     "text": [
      "INFO:sagemaker.image_uris:Defaulting to only available Python version: py310\n"
     ]
    },
    {
     "data": {
      "text/plain": [
       "'763104351884.dkr.ecr.us-east-1.amazonaws.com/tensorflow-training:2.12.0-cpu-py310'"
      ]
     },
     "execution_count": 60,
     "metadata": {},
     "output_type": "execute_result"
    }
   ],
   "source": [
    "import scipy.sparse\n",
    "from sagemaker import image_uris\n",
    "image_uris.retrieve(framework='tensorflow',region='us-east-1',version='2.12.0',image_scope='training',instance_type='ml.c5.4xlarge')\n"
   ]
  },
  {
   "cell_type": "code",
   "execution_count": 61,
   "id": "6f08d10f",
   "metadata": {},
   "outputs": [
    {
     "name": "stdout",
     "output_type": "stream",
     "text": [
      "WARNING! Your password will be stored unencrypted in /home/ec2-user/.docker/config.json.\n",
      "Configure a credential helper to remove this warning. See\n",
      "https://docs.docker.com/engine/reference/commandline/login/#credentials-store\n",
      "\n",
      "Login Succeeded\n"
     ]
    }
   ],
   "source": [
    "!aws ecr get-login-password --region us-east-1 | docker login --username AWS --password-stdin  763104351884.dkr.ecr.us-east-1.amazonaws.com"
   ]
  },
  {
   "cell_type": "code",
   "execution_count": 33,
   "id": "0a96261a",
   "metadata": {},
   "outputs": [],
   "source": [
    "# ottenimento del nostro ID utente"
   ]
  },
  {
   "cell_type": "code",
   "execution_count": 74,
   "id": "2a71af3a",
   "metadata": {},
   "outputs": [
    {
     "name": "stdout",
     "output_type": "stream",
     "text": [
      "975050125079\n"
     ]
    }
   ],
   "source": [
    "!aws sts get-caller-identity --query \"Account\" --output text"
   ]
  },
  {
   "cell_type": "code",
   "execution_count": 75,
   "id": "fdc5c944",
   "metadata": {},
   "outputs": [
    {
     "name": "stdout",
     "output_type": "stream",
     "text": [
      "\u001b[1A\u001b[1B\u001b[0G\u001b[?25l[+] Building 0.0s (0/1)                                          docker:default\n",
      "\u001b[?25h\u001b[1A\u001b[0G\u001b[?25l[+] Building 0.1s (3/3)                                          docker:default\n",
      "\u001b[34m => [internal] load build definition from Dockerfile.train                 0.0s\n",
      "\u001b[0m\u001b[34m => => transferring dockerfile: 362B                                       0.0s\n",
      "\u001b[0m\u001b[34m => [internal] load metadata for 763104351884.dkr.ecr.us-east-1.amazonaws  0.1s\n",
      "\u001b[0m\u001b[34m => [auth] sharing credentials for 763104351884.dkr.ecr.us-east-1.amazona  0.0s\n",
      "\u001b[0m\u001b[?25h\u001b[1A\u001b[1A\u001b[1A\u001b[1A\u001b[1A\u001b[0G\u001b[?25l[+] Building 0.2s (10/10) FINISHED                               docker:default\n",
      "\u001b[34m => [internal] load build definition from Dockerfile.train                 0.0s\n",
      "\u001b[0m\u001b[34m => => transferring dockerfile: 362B                                       0.0s\n",
      "\u001b[0m\u001b[34m => [internal] load metadata for 763104351884.dkr.ecr.us-east-1.amazonaws  0.1s\n",
      "\u001b[0m\u001b[34m => [auth] sharing credentials for 763104351884.dkr.ecr.us-east-1.amazona  0.0s\n",
      "\u001b[0m\u001b[34m => [internal] load .dockerignore                                          0.0s\n",
      "\u001b[0m\u001b[34m => => transferring context: 2B                                            0.0s\n",
      "\u001b[0m\u001b[34m => [1/4] FROM 763104351884.dkr.ecr.us-east-1.amazonaws.com/tensorflow-tr  0.0s\n",
      "\u001b[0m\u001b[34m => [internal] load build context                                          0.0s\n",
      "\u001b[0m\u001b[34m => => transferring context: 64B                                           0.0s\n",
      "\u001b[0m\u001b[34m => CACHED [2/4] ADD ./requirements.txt /opt/ml/code/requirements.txt      0.0s\n",
      "\u001b[0m\u001b[34m => CACHED [3/4] RUN pip install -r /opt/ml/code/requirements.txt          0.0s\n",
      "\u001b[0m\u001b[34m => CACHED [4/4] ADD ./main.py /opt/ml/code/main.py                        0.0s\n",
      "\u001b[0m\u001b[34m => exporting to image                                                     0.0s\n",
      "\u001b[0m\u001b[34m => => exporting layers                                                    0.0s\n",
      "\u001b[0m\u001b[34m => => writing image sha256:17e3fceab6478fb74bad41ff1501cd2629046a7ad0ff7  0.0s\n",
      "\u001b[0m\u001b[34m => => naming to 975050125079.dkr.ecr.us-east-1.amazonaws.com/tensorflow-  0.0s\n",
      "\u001b[0m\u001b[?25h"
     ]
    }
   ],
   "source": [
    "!docker build -t 975050125079.dkr.ecr.us-east-1.amazonaws.com/tensorflow-training  -f Dockerfile.train . "
   ]
  },
  {
   "cell_type": "code",
   "execution_count": 76,
   "id": "01eda69f",
   "metadata": {},
   "outputs": [
    {
     "name": "stdout",
     "output_type": "stream",
     "text": [
      "REPOSITORY                                                                  TAG          IMAGE ID       CREATED             SIZE\n",
      "<none>                                                                      <none>       d00c4cc2ae1c   10 minutes ago      8.73GB\n",
      "975050125079.dkr.ecr.us-east-1.amazonaws.com/tensorflow-training            latest       17e3fceab647   10 minutes ago      8.73GB\n",
      "<none>                                                                      <none>       4c7b50f1dad5   18 minutes ago      8.73GB\n",
      "<none>                                                                      <none>       04fdbd8f5812   30 minutes ago      9.16GB\n",
      "975050125079.dkr.ecr.us-east-1.amazonaws.com/tensorflow-training            <none>       d0dd47e10cef   About an hour ago   9.16GB\n",
      "975050125079.dkr.ecr.us-east-1.amazonaws.com/tensorflow-training            <none>       d98b2e3af086   5 hours ago         9.16GB\n",
      "520713654638.dkr.ecr.us-east-1.amazonaws.com/sagemaker-tensorflow-serving   1.12.0-cpu   27aee10a9f6a   5 years ago         377MB\n"
     ]
    }
   ],
   "source": [
    "!docker images"
   ]
  },
  {
   "cell_type": "code",
   "execution_count": 37,
   "id": "5c28d891",
   "metadata": {},
   "outputs": [],
   "source": [
    "bucket = \"bucket-prova3\""
   ]
  },
  {
   "cell_type": "code",
   "execution_count": 50,
   "id": "51c8d737",
   "metadata": {},
   "outputs": [
    {
     "data": {
      "text/plain": [
       "'/home/ec2-user/SageMaker/DevOps_Esame'"
      ]
     },
     "execution_count": 50,
     "metadata": {},
     "output_type": "execute_result"
    }
   ],
   "source": []
  },
  {
   "cell_type": "code",
   "execution_count": 77,
   "id": "4509aa22",
   "metadata": {},
   "outputs": [
    {
     "name": "stderr",
     "output_type": "stream",
     "text": [
      "INFO:botocore.credentials:Found credentials from IAM Role: BaseNotebookInstanceEc2InstanceRole\n",
      "INFO:sagemaker:Creating training-job with name: tensorflow-training-2024-11-04-14-20-12-335\n",
      "INFO:sagemaker.telemetry.telemetry_logging:SageMaker Python SDK will collect telemetry to help us better understand our user's needs, diagnose issues, and deliver additional features.\n",
      "To opt out of telemetry, please disable via TelemetryOptOut parameter in SDK defaults config. For more information, refer to https://sagemaker.readthedocs.io/en/stable/overview.html#configuring-and-using-defaults-with-the-sagemaker-python-sdk.\n",
      "INFO:sagemaker.local.image:'Docker Compose' is not installed. Proceeding to check for 'docker-compose' CLI.\n",
      "INFO:sagemaker.local.image:'Docker Compose' found using Docker Compose CLI.\n",
      "INFO:sagemaker.local.local_session:Starting training job\n",
      "INFO:botocore.credentials:Found credentials from IAM Role: BaseNotebookInstanceEc2InstanceRole\n",
      "INFO:sagemaker.local.image:No AWS credentials found in session but credentials from EC2 Metadata Service are available.\n",
      "INFO:sagemaker.local.image:docker compose file: \n",
      "networks:\n",
      "  sagemaker-local:\n",
      "    name: sagemaker-local\n",
      "services:\n",
      "  algo-1-788gd:\n",
      "    command: train\n",
      "    container_name: x3otgeyixs-algo-1-788gd\n",
      "    environment:\n",
      "    - '[Masked]'\n",
      "    - '[Masked]'\n",
      "    - '[Masked]'\n",
      "    image: 975050125079.dkr.ecr.us-east-1.amazonaws.com/tensorflow-training\n",
      "    networks:\n",
      "      sagemaker-local:\n",
      "        aliases:\n",
      "        - algo-1-788gd\n",
      "    stdin_open: true\n",
      "    tty: true\n",
      "    volumes:\n",
      "    - /tmp/tmpy2ljk78k/algo-1-788gd/input:/opt/ml/input\n",
      "    - /tmp/tmpy2ljk78k/algo-1-788gd/output:/opt/ml/output\n",
      "    - /tmp/tmpy2ljk78k/algo-1-788gd/output/data:/opt/ml/output/data\n",
      "    - /tmp/tmpy2ljk78k/model:/opt/ml/model\n",
      "    - /opt/ml/metadata:/opt/ml/metadata\n",
      "    - /tmp/tmpdfke8qxz:/opt/ml/input/data/training\n",
      "version: '2.3'\n",
      "\n",
      "INFO:sagemaker.local.image:docker command: docker-compose -f /tmp/tmpy2ljk78k/docker-compose.yaml up --build --abort-on-container-exit\n"
     ]
    },
    {
     "name": "stdout",
     "output_type": "stream",
     "text": [
      "##### ESTIMATOR FIT STARTED\n",
      " Container x3otgeyixs-algo-1-788gd  Creating\n",
      " Container x3otgeyixs-algo-1-788gd  Created\n",
      "Attaching to x3otgeyixs-algo-1-788gd\n",
      "x3otgeyixs-algo-1-788gd  | 2024-11-04 14:20:13.585946: I external/local_xla/xla/tsl/cuda/cudart_stub.cc:32] Could not find cuda drivers on your machine, GPU will not be used.\n",
      "x3otgeyixs-algo-1-788gd  | 2024-11-04 14:20:13.590303: I external/local_xla/xla/tsl/cuda/cudart_stub.cc:32] Could not find cuda drivers on your machine, GPU will not be used.\n",
      "x3otgeyixs-algo-1-788gd  | 2024-11-04 14:20:13.602403: E external/local_xla/xla/stream_executor/cuda/cuda_fft.cc:477] Unable to register cuFFT factory: Attempting to register factory for plugin cuFFT when one has already been registered\n",
      "x3otgeyixs-algo-1-788gd  | WARNING: All log messages before absl::InitializeLog() is called are written to STDERR\n",
      "x3otgeyixs-algo-1-788gd  | E0000 00:00:1730730013.622360       1 cuda_dnn.cc:8310] Unable to register cuDNN factory: Attempting to register factory for plugin cuDNN when one has already been registered\n",
      "x3otgeyixs-algo-1-788gd  | E0000 00:00:1730730013.628556       1 cuda_blas.cc:1418] Unable to register cuBLAS factory: Attempting to register factory for plugin cuBLAS when one has already been registered\n",
      "x3otgeyixs-algo-1-788gd  | 2024-11-04 14:20:13.649939: I tensorflow/core/platform/cpu_feature_guard.cc:210] This TensorFlow binary is optimized to use available CPU instructions in performance-critical operations.\n",
      "x3otgeyixs-algo-1-788gd  | To enable the following instructions: AVX2 FMA, in other operations, rebuild TensorFlow with the appropriate compiler flags.\n",
      "x3otgeyixs-algo-1-788gd  | 2024-11-04 14:20:16,724 sagemaker-training-toolkit INFO     Imported framework sagemaker_tensorflow_container.training\n",
      "x3otgeyixs-algo-1-788gd  | 2024-11-04 14:20:16,725 sagemaker-training-toolkit INFO     No GPUs detected (normal if no gpus installed)\n",
      "x3otgeyixs-algo-1-788gd  | 2024-11-04 14:20:16,726 sagemaker-training-toolkit INFO     No Neurons detected (normal if no neurons installed)\n",
      "x3otgeyixs-algo-1-788gd  | 2024-11-04 14:20:16,738 sagemaker-training-toolkit INFO     instance_groups entry not present in resource_config\n",
      "x3otgeyixs-algo-1-788gd  | 2024-11-04 14:20:16,741 sagemaker-training-toolkit INFO     Installing dependencies from requirements.txt:\n",
      "x3otgeyixs-algo-1-788gd  | /usr/local/bin/python3.10 -m pip install -r requirements.txt\n",
      "x3otgeyixs-algo-1-788gd  | Requirement already satisfied: tensorflow==2.18.0 in /usr/local/lib/python3.10/site-packages (from -r requirements.txt (line 1)) (2.18.0)\n",
      "x3otgeyixs-algo-1-788gd  | Requirement already satisfied: pandas==2.2.3 in /usr/local/lib/python3.10/site-packages (from -r requirements.txt (line 2)) (2.2.3)\n",
      "x3otgeyixs-algo-1-788gd  | Requirement already satisfied: scikit-learn==1.5.2 in /usr/local/lib/python3.10/site-packages (from -r requirements.txt (line 3)) (1.5.2)\n",
      "x3otgeyixs-algo-1-788gd  | Requirement already satisfied: absl-py>=1.0.0 in /usr/local/lib/python3.10/site-packages (from tensorflow==2.18.0->-r requirements.txt (line 1)) (1.4.0)\n",
      "x3otgeyixs-algo-1-788gd  | Requirement already satisfied: astunparse>=1.6.0 in /usr/local/lib/python3.10/site-packages (from tensorflow==2.18.0->-r requirements.txt (line 1)) (1.6.3)\n",
      "x3otgeyixs-algo-1-788gd  | Requirement already satisfied: flatbuffers>=24.3.25 in /usr/local/lib/python3.10/site-packages (from tensorflow==2.18.0->-r requirements.txt (line 1)) (24.3.25)\n",
      "x3otgeyixs-algo-1-788gd  | Requirement already satisfied: gast!=0.5.0,!=0.5.1,!=0.5.2,>=0.2.1 in /usr/local/lib/python3.10/site-packages (from tensorflow==2.18.0->-r requirements.txt (line 1)) (0.4.0)\n",
      "x3otgeyixs-algo-1-788gd  | Requirement already satisfied: google-pasta>=0.1.1 in /usr/local/lib/python3.10/site-packages (from tensorflow==2.18.0->-r requirements.txt (line 1)) (0.2.0)\n",
      "x3otgeyixs-algo-1-788gd  | Requirement already satisfied: libclang>=13.0.0 in /usr/local/lib/python3.10/site-packages (from tensorflow==2.18.0->-r requirements.txt (line 1)) (16.0.6)\n",
      "x3otgeyixs-algo-1-788gd  | Requirement already satisfied: opt-einsum>=2.3.2 in /usr/local/lib/python3.10/site-packages (from tensorflow==2.18.0->-r requirements.txt (line 1)) (3.3.0)\n",
      "x3otgeyixs-algo-1-788gd  | Requirement already satisfied: packaging in /usr/local/lib/python3.10/site-packages (from tensorflow==2.18.0->-r requirements.txt (line 1)) (23.2)\n",
      "x3otgeyixs-algo-1-788gd  | Requirement already satisfied: protobuf!=4.21.0,!=4.21.1,!=4.21.2,!=4.21.3,!=4.21.4,!=4.21.5,<6.0.0dev,>=3.20.3 in /usr/local/lib/python3.10/site-packages (from tensorflow==2.18.0->-r requirements.txt (line 1)) (3.20.3)\n",
      "x3otgeyixs-algo-1-788gd  | Requirement already satisfied: requests<3,>=2.21.0 in /usr/local/lib/python3.10/site-packages (from tensorflow==2.18.0->-r requirements.txt (line 1)) (2.31.0)\n",
      "x3otgeyixs-algo-1-788gd  | Requirement already satisfied: setuptools in /usr/local/lib/python3.10/site-packages (from tensorflow==2.18.0->-r requirements.txt (line 1)) (69.0.3)\n",
      "x3otgeyixs-algo-1-788gd  | Requirement already satisfied: six>=1.12.0 in /usr/local/lib/python3.10/site-packages (from tensorflow==2.18.0->-r requirements.txt (line 1)) (1.16.0)\n",
      "x3otgeyixs-algo-1-788gd  | Requirement already satisfied: termcolor>=1.1.0 in /usr/local/lib/python3.10/site-packages (from tensorflow==2.18.0->-r requirements.txt (line 1)) (2.4.0)\n",
      "x3otgeyixs-algo-1-788gd  | Requirement already satisfied: typing-extensions>=3.6.6 in /usr/local/lib/python3.10/site-packages (from tensorflow==2.18.0->-r requirements.txt (line 1)) (4.5.0)\n",
      "x3otgeyixs-algo-1-788gd  | Requirement already satisfied: wrapt>=1.11.0 in /usr/local/lib/python3.10/site-packages (from tensorflow==2.18.0->-r requirements.txt (line 1)) (1.14.1)\n",
      "x3otgeyixs-algo-1-788gd  | Requirement already satisfied: grpcio<2.0,>=1.24.3 in /usr/local/lib/python3.10/site-packages (from tensorflow==2.18.0->-r requirements.txt (line 1)) (1.60.1)\n",
      "x3otgeyixs-algo-1-788gd  | Requirement already satisfied: tensorboard<2.19,>=2.18 in /usr/local/lib/python3.10/site-packages (from tensorflow==2.18.0->-r requirements.txt (line 1)) (2.18.0)\n",
      "x3otgeyixs-algo-1-788gd  | Requirement already satisfied: keras>=3.5.0 in /usr/local/lib/python3.10/site-packages (from tensorflow==2.18.0->-r requirements.txt (line 1)) (3.6.0)\n",
      "x3otgeyixs-algo-1-788gd  | Requirement already satisfied: numpy<2.1.0,>=1.26.0 in /usr/local/lib/python3.10/site-packages (from tensorflow==2.18.0->-r requirements.txt (line 1)) (1.26.4)\n",
      "x3otgeyixs-algo-1-788gd  | Requirement already satisfied: h5py>=3.11.0 in /usr/local/lib/python3.10/site-packages (from tensorflow==2.18.0->-r requirements.txt (line 1)) (3.12.1)\n",
      "x3otgeyixs-algo-1-788gd  | Requirement already satisfied: ml-dtypes<0.5.0,>=0.4.0 in /usr/local/lib/python3.10/site-packages (from tensorflow==2.18.0->-r requirements.txt (line 1)) (0.4.1)\n",
      "x3otgeyixs-algo-1-788gd  | Requirement already satisfied: tensorflow-io-gcs-filesystem>=0.23.1 in /usr/local/lib/python3.10/site-packages (from tensorflow==2.18.0->-r requirements.txt (line 1)) (0.33.0)\n",
      "x3otgeyixs-algo-1-788gd  | Requirement already satisfied: python-dateutil>=2.8.2 in /usr/local/lib/python3.10/site-packages (from pandas==2.2.3->-r requirements.txt (line 2)) (2.8.2)\n",
      "x3otgeyixs-algo-1-788gd  | Requirement already satisfied: pytz>=2020.1 in /usr/local/lib/python3.10/site-packages (from pandas==2.2.3->-r requirements.txt (line 2)) (2024.1)\n",
      "x3otgeyixs-algo-1-788gd  | Requirement already satisfied: tzdata>=2022.7 in /usr/local/lib/python3.10/site-packages (from pandas==2.2.3->-r requirements.txt (line 2)) (2023.4)\n",
      "x3otgeyixs-algo-1-788gd  | Requirement already satisfied: scipy>=1.6.0 in /usr/local/lib/python3.10/site-packages (from scikit-learn==1.5.2->-r requirements.txt (line 3)) (1.12.0)\n",
      "x3otgeyixs-algo-1-788gd  | Requirement already satisfied: joblib>=1.2.0 in /usr/local/lib/python3.10/site-packages (from scikit-learn==1.5.2->-r requirements.txt (line 3)) (1.3.2)\n",
      "x3otgeyixs-algo-1-788gd  | Requirement already satisfied: threadpoolctl>=3.1.0 in /usr/local/lib/python3.10/site-packages (from scikit-learn==1.5.2->-r requirements.txt (line 3)) (3.2.0)\n",
      "x3otgeyixs-algo-1-788gd  | Requirement already satisfied: wheel<1.0,>=0.23.0 in /usr/local/lib/python3.10/site-packages (from astunparse>=1.6.0->tensorflow==2.18.0->-r requirements.txt (line 1)) (0.42.0)\n",
      "x3otgeyixs-algo-1-788gd  | Requirement already satisfied: rich in /usr/local/lib/python3.10/site-packages (from keras>=3.5.0->tensorflow==2.18.0->-r requirements.txt (line 1)) (13.9.4)\n",
      "x3otgeyixs-algo-1-788gd  | Requirement already satisfied: namex in /usr/local/lib/python3.10/site-packages (from keras>=3.5.0->tensorflow==2.18.0->-r requirements.txt (line 1)) (0.0.8)\n",
      "x3otgeyixs-algo-1-788gd  | Requirement already satisfied: optree in /usr/local/lib/python3.10/site-packages (from keras>=3.5.0->tensorflow==2.18.0->-r requirements.txt (line 1)) (0.13.0)\n",
      "x3otgeyixs-algo-1-788gd  | Requirement already satisfied: charset-normalizer<4,>=2 in /usr/local/lib/python3.10/site-packages (from requests<3,>=2.21.0->tensorflow==2.18.0->-r requirements.txt (line 1)) (3.3.2)\n",
      "x3otgeyixs-algo-1-788gd  | Requirement already satisfied: idna<4,>=2.5 in /usr/local/lib/python3.10/site-packages (from requests<3,>=2.21.0->tensorflow==2.18.0->-r requirements.txt (line 1)) (3.6)\n",
      "x3otgeyixs-algo-1-788gd  | Requirement already satisfied: urllib3<3,>=1.21.1 in /usr/local/lib/python3.10/site-packages (from requests<3,>=2.21.0->tensorflow==2.18.0->-r requirements.txt (line 1)) (1.26.18)\n",
      "x3otgeyixs-algo-1-788gd  | Requirement already satisfied: certifi>=2017.4.17 in /usr/local/lib/python3.10/site-packages (from requests<3,>=2.21.0->tensorflow==2.18.0->-r requirements.txt (line 1)) (2024.2.2)\n",
      "x3otgeyixs-algo-1-788gd  | Requirement already satisfied: markdown>=2.6.8 in /usr/local/lib/python3.10/site-packages (from tensorboard<2.19,>=2.18->tensorflow==2.18.0->-r requirements.txt (line 1)) (3.5.2)\n",
      "x3otgeyixs-algo-1-788gd  | Requirement already satisfied: tensorboard-data-server<0.8.0,>=0.7.0 in /usr/local/lib/python3.10/site-packages (from tensorboard<2.19,>=2.18->tensorflow==2.18.0->-r requirements.txt (line 1)) (0.7.2)\n",
      "x3otgeyixs-algo-1-788gd  | Requirement already satisfied: werkzeug>=1.0.1 in /usr/local/lib/python3.10/site-packages (from tensorboard<2.19,>=2.18->tensorflow==2.18.0->-r requirements.txt (line 1)) (3.0.1)\n",
      "x3otgeyixs-algo-1-788gd  | Requirement already satisfied: MarkupSafe>=2.1.1 in /usr/local/lib/python3.10/site-packages (from werkzeug>=1.0.1->tensorboard<2.19,>=2.18->tensorflow==2.18.0->-r requirements.txt (line 1)) (2.1.5)\n",
      "x3otgeyixs-algo-1-788gd  | Requirement already satisfied: markdown-it-py>=2.2.0 in /usr/local/lib/python3.10/site-packages (from rich->keras>=3.5.0->tensorflow==2.18.0->-r requirements.txt (line 1)) (3.0.0)\n",
      "x3otgeyixs-algo-1-788gd  | Requirement already satisfied: pygments<3.0.0,>=2.13.0 in /usr/local/lib/python3.10/site-packages (from rich->keras>=3.5.0->tensorflow==2.18.0->-r requirements.txt (line 1)) (2.17.2)\n",
      "x3otgeyixs-algo-1-788gd  | Requirement already satisfied: mdurl~=0.1 in /usr/local/lib/python3.10/site-packages (from markdown-it-py>=2.2.0->rich->keras>=3.5.0->tensorflow==2.18.0->-r requirements.txt (line 1)) (0.1.2)\n",
      "x3otgeyixs-algo-1-788gd  | WARNING: Running pip as the 'root' user can result in broken permissions and conflicting behaviour with the system package manager. It is recommended to use a virtual environment instead: https://pip.pypa.io/warnings/venv\n",
      "x3otgeyixs-algo-1-788gd  | [notice] A new release of pip is available: 23.3.2 -> 24.3.1\n",
      "x3otgeyixs-algo-1-788gd  | [notice] To update, run: pip install --upgrade pip\n",
      "x3otgeyixs-algo-1-788gd  | 2024-11-04 14:20:20,341 sagemaker-training-toolkit INFO     Waiting for the process to finish and give a return code.\n",
      "x3otgeyixs-algo-1-788gd  | 2024-11-04 14:20:20,341 sagemaker-training-toolkit INFO     Done waiting for a return code. Received 0 from exiting process.\n",
      "x3otgeyixs-algo-1-788gd  | 2024-11-04 14:20:20,343 sagemaker-training-toolkit INFO     No GPUs detected (normal if no gpus installed)\n",
      "x3otgeyixs-algo-1-788gd  | 2024-11-04 14:20:20,344 sagemaker-training-toolkit INFO     No Neurons detected (normal if no neurons installed)\n",
      "x3otgeyixs-algo-1-788gd  | 2024-11-04 14:20:20,357 sagemaker-training-toolkit INFO     instance_groups entry not present in resource_config\n",
      "x3otgeyixs-algo-1-788gd  | 2024-11-04 14:20:20,361 sagemaker-training-toolkit INFO     No GPUs detected (normal if no gpus installed)\n",
      "x3otgeyixs-algo-1-788gd  | 2024-11-04 14:20:20,362 sagemaker-training-toolkit INFO     No Neurons detected (normal if no neurons installed)\n",
      "x3otgeyixs-algo-1-788gd  | 2024-11-04 14:20:20,373 sagemaker-training-toolkit INFO     instance_groups entry not present in resource_config\n",
      "x3otgeyixs-algo-1-788gd  | 2024-11-04 14:20:20,376 sagemaker-training-toolkit INFO     No GPUs detected (normal if no gpus installed)\n",
      "x3otgeyixs-algo-1-788gd  | 2024-11-04 14:20:20,377 sagemaker-training-toolkit INFO     No Neurons detected (normal if no neurons installed)\n",
      "x3otgeyixs-algo-1-788gd  | 2024-11-04 14:20:20,388 sagemaker-training-toolkit INFO     instance_groups entry not present in resource_config\n",
      "x3otgeyixs-algo-1-788gd  | 2024-11-04 14:20:20,391 sagemaker-training-toolkit INFO     Invoking user script\n",
      "x3otgeyixs-algo-1-788gd  | \n",
      "x3otgeyixs-algo-1-788gd  | Training Env:\n",
      "x3otgeyixs-algo-1-788gd  | \n",
      "x3otgeyixs-algo-1-788gd  | {\n",
      "x3otgeyixs-algo-1-788gd  |     \"additional_framework_parameters\": {},\n",
      "x3otgeyixs-algo-1-788gd  |     \"channel_input_dirs\": {\n",
      "x3otgeyixs-algo-1-788gd  |         \"training\": \"/opt/ml/input/data/training\"\n",
      "x3otgeyixs-algo-1-788gd  |     },\n",
      "x3otgeyixs-algo-1-788gd  |     \"current_host\": \"algo-1-788gd\",\n",
      "x3otgeyixs-algo-1-788gd  |     \"current_instance_group\": \"homogeneousCluster\",\n",
      "x3otgeyixs-algo-1-788gd  |     \"current_instance_group_hosts\": [],\n",
      "x3otgeyixs-algo-1-788gd  |     \"current_instance_type\": \"local\",\n",
      "x3otgeyixs-algo-1-788gd  |     \"distribution_hosts\": [\n",
      "x3otgeyixs-algo-1-788gd  |         \"algo-1-788gd\"\n",
      "x3otgeyixs-algo-1-788gd  |     ],\n",
      "x3otgeyixs-algo-1-788gd  |     \"distribution_instance_groups\": [],\n",
      "x3otgeyixs-algo-1-788gd  |     \"framework_module\": \"sagemaker_tensorflow_container.training:main\",\n",
      "x3otgeyixs-algo-1-788gd  |     \"hosts\": [\n",
      "x3otgeyixs-algo-1-788gd  |         \"algo-1-788gd\"\n",
      "x3otgeyixs-algo-1-788gd  |     ],\n",
      "x3otgeyixs-algo-1-788gd  |     \"hyperparameters\": {\n",
      "x3otgeyixs-algo-1-788gd  |         \"epochs\": 1\n",
      "x3otgeyixs-algo-1-788gd  |     },\n",
      "x3otgeyixs-algo-1-788gd  |     \"input_config_dir\": \"/opt/ml/input/config\",\n",
      "x3otgeyixs-algo-1-788gd  |     \"input_data_config\": {\n",
      "x3otgeyixs-algo-1-788gd  |         \"training\": {\n",
      "x3otgeyixs-algo-1-788gd  |             \"TrainingInputMode\": \"File\"\n",
      "x3otgeyixs-algo-1-788gd  |         }\n",
      "x3otgeyixs-algo-1-788gd  |     },\n",
      "x3otgeyixs-algo-1-788gd  |     \"input_dir\": \"/opt/ml/input\",\n",
      "x3otgeyixs-algo-1-788gd  |     \"instance_groups\": [],\n",
      "x3otgeyixs-algo-1-788gd  |     \"instance_groups_dict\": {},\n",
      "x3otgeyixs-algo-1-788gd  |     \"is_hetero\": false,\n",
      "x3otgeyixs-algo-1-788gd  |     \"is_master\": true,\n",
      "x3otgeyixs-algo-1-788gd  |     \"is_modelparallel_enabled\": null,\n",
      "x3otgeyixs-algo-1-788gd  |     \"is_smddpmprun_installed\": false,\n",
      "x3otgeyixs-algo-1-788gd  |     \"is_smddprun_installed\": false,\n",
      "x3otgeyixs-algo-1-788gd  |     \"job_name\": \"tensorflow-training-2024-11-04-14-20-12-335\",\n",
      "x3otgeyixs-algo-1-788gd  |     \"log_level\": 20,\n",
      "x3otgeyixs-algo-1-788gd  |     \"master_hostname\": \"algo-1-788gd\",\n",
      "x3otgeyixs-algo-1-788gd  |     \"model_dir\": \"/opt/ml/model\",\n",
      "x3otgeyixs-algo-1-788gd  |     \"module_dir\": \"/opt/ml/code\",\n",
      "x3otgeyixs-algo-1-788gd  |     \"module_name\": \"main\",\n",
      "x3otgeyixs-algo-1-788gd  |     \"network_interface_name\": \"eth0\",\n",
      "x3otgeyixs-algo-1-788gd  |     \"num_cpus\": 4,\n",
      "x3otgeyixs-algo-1-788gd  |     \"num_gpus\": 0,\n",
      "x3otgeyixs-algo-1-788gd  |     \"num_neurons\": 0,\n",
      "x3otgeyixs-algo-1-788gd  |     \"output_data_dir\": \"/opt/ml/output/data\",\n",
      "x3otgeyixs-algo-1-788gd  |     \"output_dir\": \"/opt/ml/output\",\n",
      "x3otgeyixs-algo-1-788gd  |     \"output_intermediate_dir\": \"/opt/ml/output/intermediate\",\n",
      "x3otgeyixs-algo-1-788gd  |     \"resource_config\": {\n",
      "x3otgeyixs-algo-1-788gd  |         \"current_host\": \"algo-1-788gd\",\n",
      "x3otgeyixs-algo-1-788gd  |         \"hosts\": [\n",
      "x3otgeyixs-algo-1-788gd  |             \"algo-1-788gd\"\n",
      "x3otgeyixs-algo-1-788gd  |         ]\n",
      "x3otgeyixs-algo-1-788gd  |     },\n",
      "x3otgeyixs-algo-1-788gd  |     \"user_entry_point\": \"main.py\"\n",
      "x3otgeyixs-algo-1-788gd  | }\n",
      "x3otgeyixs-algo-1-788gd  | \n",
      "x3otgeyixs-algo-1-788gd  | Environment variables:\n",
      "x3otgeyixs-algo-1-788gd  | \n",
      "x3otgeyixs-algo-1-788gd  | SM_HOSTS=[\"algo-1-788gd\"]\n",
      "x3otgeyixs-algo-1-788gd  | SM_NETWORK_INTERFACE_NAME=eth0\n",
      "x3otgeyixs-algo-1-788gd  | SM_HPS={\"epochs\":1}\n",
      "x3otgeyixs-algo-1-788gd  | SM_USER_ENTRY_POINT=main.py\n",
      "x3otgeyixs-algo-1-788gd  | SM_FRAMEWORK_PARAMS={}\n",
      "x3otgeyixs-algo-1-788gd  | SM_RESOURCE_CONFIG={\"current_host\":\"algo-1-788gd\",\"hosts\":[\"algo-1-788gd\"]}\n",
      "x3otgeyixs-algo-1-788gd  | SM_INPUT_DATA_CONFIG={\"training\":{\"TrainingInputMode\":\"File\"}}\n",
      "x3otgeyixs-algo-1-788gd  | SM_OUTPUT_DATA_DIR=/opt/ml/output/data\n",
      "x3otgeyixs-algo-1-788gd  | SM_CHANNELS=[\"training\"]\n",
      "x3otgeyixs-algo-1-788gd  | SM_CURRENT_HOST=algo-1-788gd\n",
      "x3otgeyixs-algo-1-788gd  | SM_CURRENT_INSTANCE_TYPE=local\n",
      "x3otgeyixs-algo-1-788gd  | SM_CURRENT_INSTANCE_GROUP=homogeneousCluster\n",
      "x3otgeyixs-algo-1-788gd  | SM_CURRENT_INSTANCE_GROUP_HOSTS=[]\n",
      "x3otgeyixs-algo-1-788gd  | SM_INSTANCE_GROUPS=[]\n",
      "x3otgeyixs-algo-1-788gd  | SM_INSTANCE_GROUPS_DICT={}\n",
      "x3otgeyixs-algo-1-788gd  | SM_DISTRIBUTION_INSTANCE_GROUPS=[]\n",
      "x3otgeyixs-algo-1-788gd  | SM_IS_HETERO=false\n",
      "x3otgeyixs-algo-1-788gd  | SM_MODULE_NAME=main\n",
      "x3otgeyixs-algo-1-788gd  | SM_LOG_LEVEL=20\n",
      "x3otgeyixs-algo-1-788gd  | SM_FRAMEWORK_MODULE=sagemaker_tensorflow_container.training:main\n",
      "x3otgeyixs-algo-1-788gd  | SM_INPUT_DIR=/opt/ml/input\n",
      "x3otgeyixs-algo-1-788gd  | SM_INPUT_CONFIG_DIR=/opt/ml/input/config\n",
      "x3otgeyixs-algo-1-788gd  | SM_OUTPUT_DIR=/opt/ml/output\n",
      "x3otgeyixs-algo-1-788gd  | SM_NUM_CPUS=4\n",
      "x3otgeyixs-algo-1-788gd  | SM_NUM_GPUS=0\n",
      "x3otgeyixs-algo-1-788gd  | SM_NUM_NEURONS=0\n",
      "x3otgeyixs-algo-1-788gd  | SM_MODEL_DIR=/opt/ml/model\n",
      "x3otgeyixs-algo-1-788gd  | SM_MODULE_DIR=/opt/ml/code\n",
      "x3otgeyixs-algo-1-788gd  | SM_TRAINING_ENV={\"additional_framework_parameters\":{},\"channel_input_dirs\":{\"training\":\"/opt/ml/input/data/training\"},\"current_host\":\"algo-1-788gd\",\"current_instance_group\":\"homogeneousCluster\",\"current_instance_group_hosts\":[],\"current_instance_type\":\"local\",\"distribution_hosts\":[\"algo-1-788gd\"],\"distribution_instance_groups\":[],\"framework_module\":\"sagemaker_tensorflow_container.training:main\",\"hosts\":[\"algo-1-788gd\"],\"hyperparameters\":{\"epochs\":1},\"input_config_dir\":\"/opt/ml/input/config\",\"input_data_config\":{\"training\":{\"TrainingInputMode\":\"File\"}},\"input_dir\":\"/opt/ml/input\",\"instance_groups\":[],\"instance_groups_dict\":{},\"is_hetero\":false,\"is_master\":true,\"is_modelparallel_enabled\":null,\"is_smddpmprun_installed\":false,\"is_smddprun_installed\":false,\"job_name\":\"tensorflow-training-2024-11-04-14-20-12-335\",\"log_level\":20,\"master_hostname\":\"algo-1-788gd\",\"model_dir\":\"/opt/ml/model\",\"module_dir\":\"/opt/ml/code\",\"module_name\":\"main\",\"network_interface_name\":\"eth0\",\"num_cpus\":4,\"num_gpus\":0,\"num_neurons\":0,\"output_data_dir\":\"/opt/ml/output/data\",\"output_dir\":\"/opt/ml/output\",\"output_intermediate_dir\":\"/opt/ml/output/intermediate\",\"resource_config\":{\"current_host\":\"algo-1-788gd\",\"hosts\":[\"algo-1-788gd\"]},\"user_entry_point\":\"main.py\"}\n",
      "x3otgeyixs-algo-1-788gd  | SM_USER_ARGS=[\"--epochs\",\"1\"]\n",
      "x3otgeyixs-algo-1-788gd  | SM_OUTPUT_INTERMEDIATE_DIR=/opt/ml/output/intermediate\n",
      "x3otgeyixs-algo-1-788gd  | SM_CHANNEL_TRAINING=/opt/ml/input/data/training\n",
      "x3otgeyixs-algo-1-788gd  | SM_HP_EPOCHS=1\n",
      "x3otgeyixs-algo-1-788gd  | PYTHONPATH=/opt/ml/code:/usr/local/bin:/usr/local/lib/python310.zip:/usr/local/lib/python3.10:/usr/local/lib/python3.10/lib-dynload:/usr/local/lib/python3.10/site-packages:/usr/local/lib/python3.10/site-packages/smdebug-1.0.33-py3.10.egg:/usr/local/lib/python3.10/site-packages/pyinstrument-3.4.2-py3.10.egg:/usr/local/lib/python3.10/site-packages/pyinstrument_cext-0.2.4-py3.10-linux-x86_64.egg\n",
      "x3otgeyixs-algo-1-788gd  | \n",
      "x3otgeyixs-algo-1-788gd  | Invoking script with the following command:\n",
      "x3otgeyixs-algo-1-788gd  | \n",
      "x3otgeyixs-algo-1-788gd  | /usr/local/bin/python3.10 main.py --epochs 1\n",
      "x3otgeyixs-algo-1-788gd  | \n",
      "x3otgeyixs-algo-1-788gd  | \n",
      "x3otgeyixs-algo-1-788gd  | Extension horovod.torch has not been built: /usr/local/lib/python3.10/site-packages/horovod/torch/mpi_lib_v2.cpython-310-x86_64-linux-gnu.so not found\n",
      "x3otgeyixs-algo-1-788gd  | If this is not expected, reinstall Horovod with HOROVOD_WITH_PYTORCH=1 to debug the build error.\n",
      "x3otgeyixs-algo-1-788gd  | Warning! MPI libs are missing, but python applications are still available.\n",
      "x3otgeyixs-algo-1-788gd  | 2024-11-04 14:20:21.860811: E external/local_xla/xla/stream_executor/cuda/cuda_fft.cc:477] Unable to register cuFFT factory: Attempting to register factory for plugin cuFFT when one has already been registered\n",
      "x3otgeyixs-algo-1-788gd  | WARNING: All log messages before absl::InitializeLog() is called are written to STDERR\n",
      "x3otgeyixs-algo-1-788gd  | E0000 00:00:1730730021.883577      43 cuda_dnn.cc:8310] Unable to register cuDNN factory: Attempting to register factory for plugin cuDNN when one has already been registered\n",
      "x3otgeyixs-algo-1-788gd  | E0000 00:00:1730730021.890614      43 cuda_blas.cc:1418] Unable to register cuBLAS factory: Attempting to register factory for plugin cuBLAS when one has already been registered\n",
      "x3otgeyixs-algo-1-788gd  | Data loaded successfully.\n",
      "x3otgeyixs-algo-1-788gd  | /usr/local/lib/python3.10/site-packages/keras/src/layers/core/dense.py:87: UserWarning: Do not pass an `input_shape`/`input_dim` argument to a layer. When using Sequential models, prefer using an `Input(shape)` object as the first layer in the model instead.\n",
      "x3otgeyixs-algo-1-788gd  |   super().__init__(activity_regularizer=activity_regularizer, **kwargs)\n",
      "x3otgeyixs-algo-1-788gd  | 2024-11-04 14:20:24.480867: E external/local_xla/xla/stream_executor/cuda/cuda_driver.cc:152] failed call to cuInit: INTERNAL: CUDA error: Failed call to cuInit: UNKNOWN ERROR (303)\n",
      "x3otgeyixs-algo-1-788gd  | Epoch 1/300\n",
      "x3otgeyixs-algo-1-788gd  | \u001b[1m 1/23\u001b[0m \u001b[37m━━━━━━━━━━━━━━━━━━━━\u001b[0m \u001b[1m47s\u001b[0m 2s/step - accuracy: 0.6250 - loss: 0.6951\n",
      "x3otgeyixs-algo-1-788gd  | \u001b[1m 3/23\u001b[0m \u001b[32m━━\u001b[0m\u001b[37m━━━━━━━━━━━━━━━━━━\u001b[0m \u001b[1m0s\u001b[0m 3ms/step - accuracy: 0.6476 - loss: 0.6940\n",
      "x3otgeyixs-algo-1-788gd  | \u001b[1m 2/23\u001b[0m \u001b[32m━\u001b[0m\u001b[37m━━━━━━━━━━━━━━━━━━━\u001b[0m \u001b[1m0s\u001b[0m 4ms/step - accuracy: 0.6484 - loss: 0.6951\n",
      "\u001b[1m23/23\u001b[0m \u001b[32m━━━━━━━━━━━━━━━━━━━━\u001b[0m\u001b[37m\u001b[0m \u001b[1m2s\u001b[0m 12ms/step - accuracy: 0.6414 - loss: 0.6848 - val_accuracy: 0.6760 - val_loss: 0.6691\n",
      "x3otgeyixs-algo-1-788gd  | Epoch 2/300\n",
      "x3otgeyixs-algo-1-788gd  | \u001b[1m 1/23\u001b[0m \u001b[37m━━━━━━━━━━━━━━━━━━━━\u001b[0m \u001b[1m0s\u001b[0m 21ms/step - accuracy: 0.6562 - loss: 0.6803\n",
      "\u001b[1m23/23\u001b[0m \u001b[32m━━━━━━━━━━━━━━━━━━━━\u001b[0m\u001b[37m\u001b[0m \u001b[1m0s\u001b[0m 3ms/step - accuracy: 0.6295 - loss: 0.6762 - val_accuracy: 0.6704 - val_loss: 0.6642\n",
      "x3otgeyixs-algo-1-788gd  | Epoch 3/300\n",
      "x3otgeyixs-algo-1-788gd  | \u001b[1m 1/23\u001b[0m \u001b[37m━━━━━━━━━━━━━━━━━━━━\u001b[0m \u001b[1m0s\u001b[0m 21ms/step - accuracy: 0.6562 - loss: 0.6708\n",
      "x3otgeyixs-algo-1-788gd  | \u001b[1m 2/23\u001b[0m \u001b[32m━\u001b[0m\u001b[37m━━━━━━━━━━━━━━━━━━━\u001b[0m \u001b[1m0s\u001b[0m 2ms/step - accuracy: 0.6406 - loss: 0.6713\n",
      "\u001b[1m23/23\u001b[0m \u001b[32m━━━━━━━━━━━━━━━━━━━━\u001b[0m\u001b[37m\u001b[0m \u001b[1m0s\u001b[0m 3ms/step - accuracy: 0.6287 - loss: 0.6756 - val_accuracy: 0.6983 - val_loss: 0.6594\n",
      "x3otgeyixs-algo-1-788gd  | Epoch 4/300\n",
      "x3otgeyixs-algo-1-788gd  | \u001b[1m 1/23\u001b[0m \u001b[37m━━━━━━━━━━━━━━━━━━━━\u001b[0m \u001b[1m0s\u001b[0m 21ms/step - accuracy: 0.6250 - loss: 0.6661\n",
      "x3otgeyixs-algo-1-788gd  | \u001b[1m 2/23\u001b[0m \u001b[32m━\u001b[0m\u001b[37m━━━━━━━━━━━━━━━━━━━\u001b[0m \u001b[1m0s\u001b[0m 2ms/step - accuracy: 0.6406 - loss: 0.6702\n",
      "\u001b[1m23/23\u001b[0m \u001b[32m━━━━━━━━━━━━━━━━━━━━\u001b[0m\u001b[37m\u001b[0m \u001b[1m0s\u001b[0m 3ms/step - accuracy: 0.6341 - loss: 0.6692 - val_accuracy: 0.6927 - val_loss: 0.6541\n",
      "x3otgeyixs-algo-1-788gd  | Epoch 5/300\n",
      "x3otgeyixs-algo-1-788gd  | \u001b[1m 1/23\u001b[0m \u001b[37m━━━━━━━━━━━━━━━━━━━━\u001b[0m \u001b[1m1s\u001b[0m 73ms/step - accuracy: 0.6875 - loss: 0.6766\n",
      "x3otgeyixs-algo-1-788gd  | \u001b[1m 2/23\u001b[0m \u001b[32m━\u001b[0m\u001b[37m━━━━━━━━━━━━━━━━━━━\u001b[0m \u001b[1m0s\u001b[0m 2ms/step - accuracy: 0.6953 - loss: 0.6732\n",
      "\u001b[1m23/23\u001b[0m \u001b[32m━━━━━━━━━━━━━━━━━━━━\u001b[0m\u001b[37m\u001b[0m \u001b[1m0s\u001b[0m 3ms/step - accuracy: 0.6623 - loss: 0.6705 - val_accuracy: 0.6927 - val_loss: 0.6488\n",
      "x3otgeyixs-algo-1-788gd  | Epoch 6/300\n",
      "x3otgeyixs-algo-1-788gd  | \u001b[1m 1/23\u001b[0m \u001b[37m━━━━━━━━━━━━━━━━━━━━\u001b[0m \u001b[1m0s\u001b[0m 20ms/step - accuracy: 0.5938 - loss: 0.6597\n",
      "\u001b[1m23/23\u001b[0m \u001b[32m━━━━━━━━━━━━━━━━━━━━\u001b[0m\u001b[37m\u001b[0m \u001b[1m0s\u001b[0m 3ms/step - accuracy: 0.6271 - loss: 0.6615 - val_accuracy: 0.7039 - val_loss: 0.6428\n",
      "x3otgeyixs-algo-1-788gd  | Epoch 7/300\n",
      "x3otgeyixs-algo-1-788gd  | \u001b[1m 1/23\u001b[0m \u001b[37m━━━━━━━━━━━━━━━━━━━━\u001b[0m \u001b[1m0s\u001b[0m 20ms/step - accuracy: 0.6250 - loss: 0.6626\n",
      "x3otgeyixs-algo-1-788gd  | \u001b[1m 2/23\u001b[0m \u001b[32m━\u001b[0m\u001b[37m━━━━━━━━━━━━━━━━━━━\u001b[0m \u001b[1m0s\u001b[0m 2ms/step - accuracy: 0.6562 - loss: 0.6641\n",
      "x3otgeyixs-algo-1-788gd  | \u001b[1m 3/23\u001b[0m \u001b[32m━━\u001b[0m\u001b[37m━━━━━━━━━━━━━━━━━━\u001b[0m \u001b[1m0s\u001b[0m 2ms/step - accuracy: 0.6632 - loss: 0.6668\n",
      "\u001b[1m23/23\u001b[0m \u001b[32m━━━━━━━━━━━━━━━━━━━━\u001b[0m\u001b[37m\u001b[0m \u001b[1m0s\u001b[0m 3ms/step - accuracy: 0.6621 - loss: 0.6611 - val_accuracy: 0.7151 - val_loss: 0.6368\n",
      "x3otgeyixs-algo-1-788gd  | Epoch 8/300\n",
      "x3otgeyixs-algo-1-788gd  | \u001b[1m 1/23\u001b[0m \u001b[37m━━━━━━━━━━━━━━━━━━━━\u001b[0m \u001b[1m0s\u001b[0m 22ms/step - accuracy: 0.6250 - loss: 0.6412\n",
      "x3otgeyixs-algo-1-788gd  | \u001b[1m 2/23\u001b[0m \u001b[32m━\u001b[0m\u001b[37m━━━━━━━━━━━━━━━━━━━\u001b[0m \u001b[1m0s\u001b[0m 2ms/step - accuracy: 0.6484 - loss: 0.6352\n",
      "\u001b[1m23/23\u001b[0m \u001b[32m━━━━━━━━━━━━━━━━━━━━\u001b[0m\u001b[37m\u001b[0m \u001b[1m0s\u001b[0m 3ms/step - accuracy: 0.6688 - loss: 0.6386 - val_accuracy: 0.7318 - val_loss: 0.6304\n",
      "x3otgeyixs-algo-1-788gd  | Epoch 9/300\n",
      "x3otgeyixs-algo-1-788gd  | \u001b[1m 1/23\u001b[0m \u001b[37m━━━━━━━━━━━━━━━━━━━━\u001b[0m \u001b[1m0s\u001b[0m 21ms/step - accuracy: 0.6562 - loss: 0.6779\n",
      "x3otgeyixs-algo-1-788gd  | \u001b[1m 2/23\u001b[0m \u001b[32m━\u001b[0m\u001b[37m━━━━━━━━━━━━━━━━━━━\u001b[0m \u001b[1m0s\u001b[0m 2ms/step - accuracy: 0.6641 - loss: 0.6694\n",
      "\u001b[1m23/23\u001b[0m \u001b[32m━━━━━━━━━━━━━━━━━━━━\u001b[0m\u001b[37m\u001b[0m \u001b[1m0s\u001b[0m 3ms/step - accuracy: 0.6667 - loss: 0.6546 - val_accuracy: 0.7486 - val_loss: 0.6240\n",
      "x3otgeyixs-algo-1-788gd  | Epoch 10/300\n",
      "x3otgeyixs-algo-1-788gd  | \u001b[1m 1/23\u001b[0m \u001b[37m━━━━━━━━━━━━━━━━━━━━\u001b[0m \u001b[1m0s\u001b[0m 22ms/step - accuracy: 0.6250 - loss: 0.6726\n",
      "x3otgeyixs-algo-1-788gd  | \u001b[1m 2/23\u001b[0m \u001b[32m━\u001b[0m\u001b[37m━━━━━━━━━━━━━━━━━━━\u001b[0m \u001b[1m0s\u001b[0m 2ms/step - accuracy: 0.6484 - loss: 0.6589\n",
      "\u001b[1m23/23\u001b[0m \u001b[32m━━━━━━━━━━━━━━━━━━━━\u001b[0m\u001b[37m\u001b[0m \u001b[1m0s\u001b[0m 3ms/step - accuracy: 0.6773 - loss: 0.6399 - val_accuracy: 0.7598 - val_loss: 0.6166\n",
      "x3otgeyixs-algo-1-788gd  | Epoch 11/300\n",
      "x3otgeyixs-algo-1-788gd  | \u001b[1m 1/23\u001b[0m \u001b[37m━━━━━━━━━━━━━━━━━━━━\u001b[0m \u001b[1m0s\u001b[0m 21ms/step - accuracy: 0.7188 - loss: 0.6241\n",
      "x3otgeyixs-algo-1-788gd  | \u001b[1m 2/23\u001b[0m \u001b[32m━\u001b[0m\u001b[37m━━━━━━━━━━━━━━━━━━━\u001b[0m \u001b[1m0s\u001b[0m 2ms/step - accuracy: 0.7188 - loss: 0.6225\n",
      "x3otgeyixs-algo-1-788gd  | \u001b[1m 3/23\u001b[0m \u001b[32m━━\u001b[0m\u001b[37m━━━━━━━━━━━━━━━━━━\u001b[0m \u001b[1m0s\u001b[0m 2ms/step - accuracy: 0.6944 - loss: 0.6294\n",
      "x3otgeyixs-algo-1-788gd  | \u001b[1m 4/23\u001b[0m \u001b[32m━━━\u001b[0m\u001b[37m━━━━━━━━━━━━━━━━━\u001b[0m \u001b[1m0s\u001b[0m 2ms/step - accuracy: 0.6790 - loss: 0.6294\n",
      "\u001b[1m23/23\u001b[0m \u001b[32m━━━━━━━━━━━━━━━━━━━━\u001b[0m\u001b[37m\u001b[0m \u001b[1m0s\u001b[0m 3ms/step - accuracy: 0.6702 - loss: 0.6324 - val_accuracy: 0.7877 - val_loss: 0.6093\n",
      "x3otgeyixs-algo-1-788gd  | Epoch 12/300\n",
      "x3otgeyixs-algo-1-788gd  | \u001b[1m 1/23\u001b[0m \u001b[37m━━━━━━━━━━━━━━━━━━━━\u001b[0m \u001b[1m0s\u001b[0m 21ms/step - accuracy: 0.7188 - loss: 0.5982\n",
      "x3otgeyixs-algo-1-788gd  | \u001b[1m 3/23\u001b[0m \u001b[32m━━\u001b[0m\u001b[37m━━━━━━━━━━━━━━━━━━\u001b[0m \u001b[1m0s\u001b[0m 2ms/step - accuracy: 0.7205 - loss: 0.6088\n",
      "x3otgeyixs-algo-1-788gd  | \u001b[1m 2/23\u001b[0m \u001b[32m━\u001b[0m\u001b[37m━━━━━━━━━━━━━━━━━━━\u001b[0m \u001b[1m0s\u001b[0m 2ms/step - accuracy: 0.7266 - loss: 0.6009\n",
      "\u001b[1m23/23\u001b[0m \u001b[32m━━━━━━━━━━━━━━━━━━━━\u001b[0m\u001b[37m\u001b[0m \u001b[1m0s\u001b[0m 3ms/step - accuracy: 0.6911 - loss: 0.6230 - val_accuracy: 0.8045 - val_loss: 0.6018\n",
      "x3otgeyixs-algo-1-788gd  | Epoch 13/300\n",
      "x3otgeyixs-algo-1-788gd  | \u001b[1m 1/23\u001b[0m \u001b[37m━━━━━━━━━━━━━━━━━━━━\u001b[0m \u001b[1m0s\u001b[0m 23ms/step - accuracy: 0.6562 - loss: 0.6765\n",
      "\u001b[1m 3/23\u001b[0m \u001b[32m━━\u001b[0m\u001b[37m━━━━━━━━━━━━━━━━━━\u001b[0m \u001b[1m0s\u001b[0m 2ms/step - accuracy: 0.6788 - loss: 0.6542racy: 0.6797 - loss: 0.6542 \n",
      "\u001b[1m23/23\u001b[0m \u001b[32m━━━━━━━━━━━━━━━━━━━━\u001b[0m\u001b[37m\u001b[0m \u001b[1m0s\u001b[0m 3ms/step - accuracy: 0.6792 - loss: 0.6316 - val_accuracy: 0.7989 - val_loss: 0.5942\n",
      "x3otgeyixs-algo-1-788gd  | Epoch 14/300\n",
      "x3otgeyixs-algo-1-788gd  | \u001b[1m 1/23\u001b[0m \u001b[37m━━━━━━━━━━━━━━━━━━━━\u001b[0m \u001b[1m0s\u001b[0m 22ms/step - accuracy: 0.7500 - loss: 0.6051\n",
      "x3otgeyixs-algo-1-788gd  | \u001b[1m 2/23\u001b[0m \u001b[32m━\u001b[0m\u001b[37m━━━━━━━━━━━━━━━━━━━\u001b[0m \u001b[1m0s\u001b[0m 2ms/step - accuracy: 0.7266 - loss: 0.6103\n",
      "\u001b[1m23/23\u001b[0m \u001b[32m━━━━━━━━━━━━━━━━━━━━\u001b[0m\u001b[37m\u001b[0m \u001b[1m0s\u001b[0m 3ms/step - accuracy: 0.6816 - loss: 0.6279 - val_accuracy: 0.8101 - val_loss: 0.5868\n",
      "x3otgeyixs-algo-1-788gd  | Epoch 15/300\n",
      "x3otgeyixs-algo-1-788gd  | \u001b[1m 1/23\u001b[0m \u001b[37m━━━━━━━━━━━━━━━━━━━━\u001b[0m \u001b[1m0s\u001b[0m 22ms/step - accuracy: 0.6562 - loss: 0.6227\n",
      "x3otgeyixs-algo-1-788gd  | \u001b[1m 2/23\u001b[0m \u001b[32m━\u001b[0m\u001b[37m━━━━━━━━━━━━━━━━━━━\u001b[0m \u001b[1m0s\u001b[0m 2ms/step - accuracy: 0.6719 - loss: 0.6190\n",
      "\u001b[1m23/23\u001b[0m \u001b[32m━━━━━━━━━━━━━━━━━━━━\u001b[0m\u001b[37m\u001b[0m \u001b[1m0s\u001b[0m 3ms/step - accuracy: 0.6941 - loss: 0.6192 - val_accuracy: 0.8156 - val_loss: 0.5789\n",
      "x3otgeyixs-algo-1-788gd  | Epoch 16/300\n",
      "x3otgeyixs-algo-1-788gd  | \u001b[1m 1/23\u001b[0m \u001b[37m━━━━━━━━━━━━━━━━━━━━\u001b[0m \u001b[1m0s\u001b[0m 22ms/step - accuracy: 0.7188 - loss: 0.5853\n",
      "x3otgeyixs-algo-1-788gd  | \u001b[1m 2/23\u001b[0m \u001b[32m━\u001b[0m\u001b[37m━━━━━━━━━━━━━━━━━━━\u001b[0m \u001b[1m0s\u001b[0m 2ms/step - accuracy: 0.7031 - loss: 0.6037\n",
      "\u001b[1m23/23\u001b[0m \u001b[32m━━━━━━━━━━━━━━━━━━━━\u001b[0m\u001b[37m\u001b[0m \u001b[1m0s\u001b[0m 3ms/step - accuracy: 0.6753 - loss: 0.6214 - val_accuracy: 0.8156 - val_loss: 0.5716\n",
      "x3otgeyixs-algo-1-788gd  | Epoch 17/300\n",
      "x3otgeyixs-algo-1-788gd  | \u001b[1m 1/23\u001b[0m \u001b[37m━━━━━━━━━━━━━━━━━━━━\u001b[0m \u001b[1m0s\u001b[0m 22ms/step - accuracy: 0.7188 - loss: 0.5960\n",
      "x3otgeyixs-algo-1-788gd  | \u001b[1m 2/23\u001b[0m \u001b[32m━\u001b[0m\u001b[37m━━━━━━━━━━━━━━━━━━━\u001b[0m \u001b[1m0s\u001b[0m 2ms/step - accuracy: 0.7109 - loss: 0.6022\n",
      "\u001b[1m23/23\u001b[0m \u001b[32m━━━━━━━━━━━━━━━━━━━━\u001b[0m\u001b[37m\u001b[0m \u001b[1m0s\u001b[0m 3ms/step - accuracy: 0.7026 - loss: 0.6011 - val_accuracy: 0.8156 - val_loss: 0.5635\n",
      "x3otgeyixs-algo-1-788gd  | Epoch 18/300\n",
      "x3otgeyixs-algo-1-788gd  | \u001b[1m 1/23\u001b[0m \u001b[37m━━━━━━━━━━━━━━━━━━━━\u001b[0m \u001b[1m0s\u001b[0m 22ms/step - accuracy: 0.6250 - loss: 0.6359\n",
      "x3otgeyixs-algo-1-788gd  | \u001b[1m 2/23\u001b[0m \u001b[32m━\u001b[0m\u001b[37m━━━━━━━━━━━━━━━━━━━\u001b[0m \u001b[1m0s\u001b[0m 2ms/step - accuracy: 0.6562 - loss: 0.6326\n",
      "\u001b[1m23/23\u001b[0m \u001b[32m━━━━━━━━━━━━━━━━━━━━\u001b[0m\u001b[37m\u001b[0m \u001b[1m0s\u001b[0m 3ms/step - accuracy: 0.6920 - loss: 0.6061 - val_accuracy: 0.8212 - val_loss: 0.5561\n",
      "x3otgeyixs-algo-1-788gd  | Epoch 19/300\n",
      "x3otgeyixs-algo-1-788gd  | \u001b[1m 1/23\u001b[0m \u001b[37m━━━━━━━━━━━━━━━━━━━━\u001b[0m \u001b[1m0s\u001b[0m 21ms/step - accuracy: 0.7812 - loss: 0.5825\n",
      "x3otgeyixs-algo-1-788gd  | \u001b[1m 2/23\u001b[0m \u001b[32m━\u001b[0m\u001b[37m━━━━━━━━━━━━━━━━━━━\u001b[0m \u001b[1m0s\u001b[0m 2ms/step - accuracy: 0.7734 - loss: 0.5825\n",
      "x3otgeyixs-algo-1-788gd  | \u001b[1m 3/23\u001b[0m \u001b[32m━━\u001b[0m\u001b[37m━━━━━━━━━━━━━━━━━━\u001b[0m \u001b[1m0s\u001b[0m 2ms/step - accuracy: 0.7448 - loss: 0.5951\n",
      "\u001b[1m23/23\u001b[0m \u001b[32m━━━━━━━━━━━━━━━━━━━━\u001b[0m\u001b[37m\u001b[0m \u001b[1m0s\u001b[0m 3ms/step - accuracy: 0.7213 - loss: 0.5847 - val_accuracy: 0.8156 - val_loss: 0.5485\n",
      "x3otgeyixs-algo-1-788gd  | Epoch 20/300\n",
      "x3otgeyixs-algo-1-788gd  | \u001b[1m 1/23\u001b[0m \u001b[37m━━━━━━━━━━━━━━━━━━━━\u001b[0m \u001b[1m0s\u001b[0m 21ms/step - accuracy: 0.7188 - loss: 0.5865\n",
      "\u001b[1m23/23\u001b[0m \u001b[32m━━━━━━━━━━━━━━━━━━━━\u001b[0m\u001b[37m\u001b[0m \u001b[1m0s\u001b[0m 3ms/step - accuracy: 0.6999 - loss: 0.5996 - val_accuracy: 0.8101 - val_loss: 0.5412\n",
      "x3otgeyixs-algo-1-788gd  | Epoch 21/300\n",
      "x3otgeyixs-algo-1-788gd  | \u001b[1m 1/23\u001b[0m \u001b[37m━━━━━━━━━━━━━━━━━━━━\u001b[0m \u001b[1m0s\u001b[0m 22ms/step - accuracy: 0.7188 - loss: 0.5896\n",
      "x3otgeyixs-algo-1-788gd  | \u001b[1m 3/23\u001b[0m \u001b[32m━━\u001b[0m\u001b[37m━━━━━━━━━━━━━━━━━━\u001b[0m \u001b[1m0s\u001b[0m 2ms/step - accuracy: 0.7326 - loss: 0.5870\n",
      "\u001b[1m 2/23\u001b[0m \u001b[32m━\u001b[0m\u001b[37m━━━━━━━━━━━━━━━━━━━\u001b[0m \u001b[1m0s\u001b[0m 2ms/step - accuracy: 0.7344 - loss: 0.5813racy: 0.7350 - loss: 0.5844 \n",
      "x3otgeyixs-algo-1-788gd  | \u001b[1m 5/23\u001b[0m \u001b[32m━━━━\u001b[0m\u001b[37m━━━━━━━━━━━━━━━━\u001b[0m \u001b[1m0s\u001b[0m 2ms/step - accuracy: 0.7405 - loss: 0.5836\n",
      "\u001b[1m23/23\u001b[0m \u001b[32m━━━━━━━━━━━━━━━━━━━━\u001b[0m\u001b[37m\u001b[0m \u001b[1m0s\u001b[0m 3ms/step - accuracy: 0.7411 - loss: 0.5803 - val_accuracy: 0.8101 - val_loss: 0.5339\n",
      "x3otgeyixs-algo-1-788gd  | Epoch 22/300\n",
      "x3otgeyixs-algo-1-788gd  | \u001b[1m 1/23\u001b[0m \u001b[37m━━━━━━━━━━━━━━━━━━━━\u001b[0m \u001b[1m0s\u001b[0m 20ms/step - accuracy: 0.7188 - loss: 0.5917\n",
      "\u001b[1m 3/23\u001b[0m \u001b[32m━━\u001b[0m\u001b[37m━━━━━━━━━━━━━━━━━━\u001b[0m \u001b[1m0s\u001b[0m 2ms/step - accuracy: 0.7240 - loss: 0.5936racy: 0.7266 - loss: 0.5866 \n",
      "\u001b[1m23/23\u001b[0m \u001b[32m━━━━━━━━━━━━━━━━━━━━\u001b[0m\u001b[37m\u001b[0m \u001b[1m0s\u001b[0m 3ms/step - accuracy: 0.7453 - loss: 0.5775 - val_accuracy: 0.8101 - val_loss: 0.5268\n",
      "x3otgeyixs-algo-1-788gd  | Epoch 23/300\n",
      "x3otgeyixs-algo-1-788gd  | \u001b[1m 1/23\u001b[0m \u001b[37m━━━━━━━━━━━━━━━━━━━━\u001b[0m \u001b[1m0s\u001b[0m 21ms/step - accuracy: 0.8125 - loss: 0.5136\n",
      "x3otgeyixs-algo-1-788gd  | \u001b[1m 2/23\u001b[0m \u001b[32m━\u001b[0m\u001b[37m━━━━━━━━━━━━━━━━━━━\u001b[0m \u001b[1m0s\u001b[0m 2ms/step - accuracy: 0.7734 - loss: 0.5473\n",
      "\u001b[1m23/23\u001b[0m \u001b[32m━━━━━━━━━━━━━━━━━━━━\u001b[0m\u001b[37m\u001b[0m \u001b[1m0s\u001b[0m 3ms/step - accuracy: 0.7218 - loss: 0.5699 - val_accuracy: 0.8101 - val_loss: 0.5203\n",
      "x3otgeyixs-algo-1-788gd  | Epoch 24/300\n",
      "x3otgeyixs-algo-1-788gd  | \u001b[1m 1/23\u001b[0m \u001b[37m━━━━━━━━━━━━━━━━━━━━\u001b[0m \u001b[1m0s\u001b[0m 20ms/step - accuracy: 0.7188 - loss: 0.6160\n",
      "x3otgeyixs-algo-1-788gd  | \u001b[1m 2/23\u001b[0m \u001b[32m━\u001b[0m\u001b[37m━━━━━━━━━━━━━━━━━━━\u001b[0m \u001b[1m0s\u001b[0m 2ms/step - accuracy: 0.7344 - loss: 0.6002\n",
      "\u001b[1m23/23\u001b[0m \u001b[32m━━━━━━━━━━━━━━━━━━━━\u001b[0m\u001b[37m\u001b[0m \u001b[1m0s\u001b[0m 3ms/step - accuracy: 0.7229 - loss: 0.5788 - val_accuracy: 0.8101 - val_loss: 0.5140\n",
      "x3otgeyixs-algo-1-788gd  | Epoch 25/300\n",
      "x3otgeyixs-algo-1-788gd  | \u001b[1m 1/23\u001b[0m \u001b[37m━━━━━━━━━━━━━━━━━━━━\u001b[0m \u001b[1m0s\u001b[0m 20ms/step - accuracy: 0.7188 - loss: 0.6141\n",
      "x3otgeyixs-algo-1-788gd  | \u001b[1m 2/23\u001b[0m \u001b[32m━\u001b[0m\u001b[37m━━━━━━━━━━━━━━━━━━━\u001b[0m \u001b[1m0s\u001b[0m 2ms/step - accuracy: 0.7266 - loss: 0.5994\n",
      "\u001b[1m23/23\u001b[0m \u001b[32m━━━━━━━━━━━━━━━━━━━━\u001b[0m\u001b[37m\u001b[0m \u001b[1m0s\u001b[0m 3ms/step - accuracy: 0.7322 - loss: 0.5743 - val_accuracy: 0.8045 - val_loss: 0.5073\n",
      "x3otgeyixs-algo-1-788gd  | Epoch 26/300\n",
      "x3otgeyixs-algo-1-788gd  | \u001b[1m 1/23\u001b[0m \u001b[37m━━━━━━━━━━━━━━━━━━━━\u001b[0m \u001b[1m0s\u001b[0m 21ms/step - accuracy: 0.7812 - loss: 0.5356\n",
      "x3otgeyixs-algo-1-788gd  | \u001b[1m 2/23\u001b[0m \u001b[32m━\u001b[0m\u001b[37m━━━━━━━━━━━━━━━━━━━\u001b[0m \u001b[1m0s\u001b[0m 2ms/step - accuracy: 0.7656 - loss: 0.5484\n",
      "\u001b[1m23/23\u001b[0m \u001b[32m━━━━━━━━━━━━━━━━━━━━\u001b[0m\u001b[37m\u001b[0m \u001b[1m0s\u001b[0m 3ms/step - accuracy: 0.7347 - loss: 0.5663 - val_accuracy: 0.7933 - val_loss: 0.5017\n",
      "x3otgeyixs-algo-1-788gd  | Epoch 27/300\n",
      "x3otgeyixs-algo-1-788gd  | \u001b[1m 1/23\u001b[0m \u001b[37m━━━━━━━━━━━━━━━━━━━━\u001b[0m \u001b[1m0s\u001b[0m 21ms/step - accuracy: 0.7188 - loss: 0.5611\n",
      "x3otgeyixs-algo-1-788gd  | \u001b[1m 2/23\u001b[0m \u001b[32m━\u001b[0m\u001b[37m━━━━━━━━━━━━━━━━━━━\u001b[0m \u001b[1m0s\u001b[0m 2ms/step - accuracy: 0.7344 - loss: 0.5518\n",
      "\u001b[1m23/23\u001b[0m \u001b[32m━━━━━━━━━━━━━━━━━━━━\u001b[0m\u001b[37m\u001b[0m \u001b[1m0s\u001b[0m 3ms/step - accuracy: 0.7308 - loss: 0.5504 - val_accuracy: 0.7933 - val_loss: 0.4966\n",
      "x3otgeyixs-algo-1-788gd  | Epoch 28/300\n",
      "x3otgeyixs-algo-1-788gd  | \u001b[1m 1/23\u001b[0m \u001b[37m━━━━━━━━━━━━━━━━━━━━\u001b[0m \u001b[1m0s\u001b[0m 21ms/step - accuracy: 0.7188 - loss: 0.5457\n",
      "\u001b[1m23/23\u001b[0m \u001b[32m━━━━━━━━━━━━━━━━━━━━\u001b[0m\u001b[37m\u001b[0m \u001b[1m0s\u001b[0m 3ms/step - accuracy: 0.7499 - loss: 0.5582 - val_accuracy: 0.8045 - val_loss: 0.4919\n",
      "x3otgeyixs-algo-1-788gd  | Epoch 29/300\n",
      "x3otgeyixs-algo-1-788gd  | \u001b[1m 1/23\u001b[0m \u001b[37m━━━━━━━━━━━━━━━━━━━━\u001b[0m \u001b[1m0s\u001b[0m 21ms/step - accuracy: 0.6875 - loss: 0.6210\n",
      "\u001b[1m23/23\u001b[0m \u001b[32m━━━━━━━━━━━━━━━━━━━━\u001b[0m\u001b[37m\u001b[0m \u001b[1m0s\u001b[0m 3ms/step - accuracy: 0.7387 - loss: 0.5610 - val_accuracy: 0.8045 - val_loss: 0.4868\n",
      "x3otgeyixs-algo-1-788gd  | Epoch 30/300\n",
      "x3otgeyixs-algo-1-788gd  | \u001b[1m 1/23\u001b[0m \u001b[37m━━━━━━━━━━━━━━━━━━━━\u001b[0m \u001b[1m0s\u001b[0m 22ms/step - accuracy: 0.6562 - loss: 0.5752\n",
      "\u001b[1m23/23\u001b[0m \u001b[32m━━━━━━━━━━━━━━━━━━━━\u001b[0m\u001b[37m\u001b[0m \u001b[1m0s\u001b[0m 3ms/step - accuracy: 0.7293 - loss: 0.5582 - val_accuracy: 0.8045 - val_loss: 0.4822\n",
      "x3otgeyixs-algo-1-788gd  | Epoch 31/300\n",
      "x3otgeyixs-algo-1-788gd  | \u001b[1m 1/23\u001b[0m \u001b[37m━━━━━━━━━━━━━━━━━━━━\u001b[0m \u001b[1m0s\u001b[0m 20ms/step - accuracy: 0.8125 - loss: 0.5136\n",
      "\u001b[1m23/23\u001b[0m \u001b[32m━━━━━━━━━━━━━━━━━━━━\u001b[0m\u001b[37m\u001b[0m \u001b[1m0s\u001b[0m 3ms/step - accuracy: 0.7809 - loss: 0.5213 - val_accuracy: 0.8045 - val_loss: 0.4769\n",
      "x3otgeyixs-algo-1-788gd  | Epoch 32/300\n",
      "x3otgeyixs-algo-1-788gd  | \u001b[1m 1/23\u001b[0m \u001b[37m━━━━━━━━━━━━━━━━━━━━\u001b[0m \u001b[1m0s\u001b[0m 21ms/step - accuracy: 0.7188 - loss: 0.5973\n",
      "\u001b[1m23/23\u001b[0m \u001b[32m━━━━━━━━━━━━━━━━━━━━\u001b[0m\u001b[37m\u001b[0m \u001b[1m0s\u001b[0m 3ms/step - accuracy: 0.7416 - loss: 0.5441 - val_accuracy: 0.8045 - val_loss: 0.4720\n",
      "x3otgeyixs-algo-1-788gd  | Epoch 33/300\n",
      "x3otgeyixs-algo-1-788gd  | \u001b[1m 1/23\u001b[0m \u001b[37m━━━━━━━━━━━━━━━━━━━━\u001b[0m \u001b[1m0s\u001b[0m 22ms/step - accuracy: 0.6875 - loss: 0.5741\n",
      "x3otgeyixs-algo-1-788gd  | \u001b[1m 2/23\u001b[0m \u001b[32m━\u001b[0m\u001b[37m━━━━━━━━━━━━━━━━━━━\u001b[0m \u001b[1m0s\u001b[0m 2ms/step - accuracy: 0.7188 - loss: 0.5603\n",
      "\u001b[1m23/23\u001b[0m \u001b[32m━━━━━━━━━━━━━━━━━━━━\u001b[0m\u001b[37m\u001b[0m \u001b[1m0s\u001b[0m 3ms/step - accuracy: 0.7479 - loss: 0.5266 - val_accuracy: 0.7989 - val_loss: 0.4670\n",
      "x3otgeyixs-algo-1-788gd  | Epoch 34/300\n",
      "x3otgeyixs-algo-1-788gd  | \u001b[1m 1/23\u001b[0m \u001b[37m━━━━━━━━━━━━━━━━━━━━\u001b[0m \u001b[1m0s\u001b[0m 21ms/step - accuracy: 0.8125 - loss: 0.4996\n",
      "\u001b[1m23/23\u001b[0m \u001b[32m━━━━━━━━━━━━━━━━━━━━\u001b[0m\u001b[37m\u001b[0m \u001b[1m0s\u001b[0m 3ms/step - accuracy: 0.7400 - loss: 0.5371 - val_accuracy: 0.7989 - val_loss: 0.4632\n",
      "x3otgeyixs-algo-1-788gd  | Epoch 35/300\n",
      "x3otgeyixs-algo-1-788gd  | \u001b[1m 1/23\u001b[0m \u001b[37m━━━━━━━━━━━━━━━━━━━━\u001b[0m \u001b[1m0s\u001b[0m 21ms/step - accuracy: 0.8125 - loss: 0.5213\n",
      "x3otgeyixs-algo-1-788gd  | \u001b[1m 2/23\u001b[0m \u001b[32m━\u001b[0m\u001b[37m━━━━━━━━━━━━━━━━━━━\u001b[0m \u001b[1m0s\u001b[0m 2ms/step - accuracy: 0.8125 - loss: 0.5356\n",
      "x3otgeyixs-algo-1-788gd  | \u001b[1m 3/23\u001b[0m \u001b[32m━━\u001b[0m\u001b[37m━━━━━━━━━━━━━━━━━━\u001b[0m \u001b[1m0s\u001b[0m 2ms/step - accuracy: 0.8056 - loss: 0.5356\n",
      "\u001b[1m23/23\u001b[0m \u001b[32m━━━━━━━━━━━━━━━━━━━━\u001b[0m\u001b[37m\u001b[0m \u001b[1m0s\u001b[0m 3ms/step - accuracy: 0.7866 - loss: 0.5250 - val_accuracy: 0.7989 - val_loss: 0.4592\n",
      "x3otgeyixs-algo-1-788gd  | Epoch 36/300\n",
      "x3otgeyixs-algo-1-788gd  | \u001b[1m 1/23\u001b[0m \u001b[37m━━━━━━━━━━━━━━━━━━━━\u001b[0m \u001b[1m0s\u001b[0m 21ms/step - accuracy: 0.7188 - loss: 0.5537\n",
      "x3otgeyixs-algo-1-788gd  | \u001b[1m 2/23\u001b[0m \u001b[32m━\u001b[0m\u001b[37m━━━━━━━━━━━━━━━━━━━\u001b[0m \u001b[1m0s\u001b[0m 2ms/step - accuracy: 0.7109 - loss: 0.5766\n",
      "\u001b[1m23/23\u001b[0m \u001b[32m━━━━━━━━━━━━━━━━━━━━\u001b[0m\u001b[37m\u001b[0m \u001b[1m0s\u001b[0m 3ms/step - accuracy: 0.7228 - loss: 0.5389 - val_accuracy: 0.7989 - val_loss: 0.4563\n",
      "x3otgeyixs-algo-1-788gd  | Epoch 37/300\n",
      "x3otgeyixs-algo-1-788gd  | \u001b[1m 1/23\u001b[0m \u001b[37m━━━━━━━━━━━━━━━━━━━━\u001b[0m \u001b[1m0s\u001b[0m 22ms/step - accuracy: 0.8125 - loss: 0.5200\n",
      "x3otgeyixs-algo-1-788gd  | \u001b[1m 2/23\u001b[0m \u001b[32m━\u001b[0m\u001b[37m━━━━━━━━━━━━━━━━━━━\u001b[0m \u001b[1m0s\u001b[0m 2ms/step - accuracy: 0.7734 - loss: 0.5294\n",
      "\u001b[1m23/23\u001b[0m \u001b[32m━━━━━━━━━━━━━━━━━━━━\u001b[0m\u001b[37m\u001b[0m \u001b[1m0s\u001b[0m 3ms/step - accuracy: 0.7720 - loss: 0.5264 - val_accuracy: 0.7933 - val_loss: 0.4540\n",
      "x3otgeyixs-algo-1-788gd  | Epoch 38/300\n",
      "x3otgeyixs-algo-1-788gd  | \u001b[1m 1/23\u001b[0m \u001b[37m━━━━━━━━━━━━━━━━━━━━\u001b[0m \u001b[1m0s\u001b[0m 21ms/step - accuracy: 0.6875 - loss: 0.5750\n",
      "x3otgeyixs-algo-1-788gd  | \u001b[1m 3/23\u001b[0m \u001b[32m━━\u001b[0m\u001b[37m━━━━━━━━━━━━━━━━━━\u001b[0m \u001b[1m0s\u001b[0m 2ms/step - accuracy: 0.6892 - loss: 0.5510\n",
      "x3otgeyixs-algo-1-788gd  | \u001b[1m 2/23\u001b[0m \u001b[32m━\u001b[0m\u001b[37m━━━━━━━━━━━━━━━━━━━\u001b[0m \u001b[1m0s\u001b[0m 4ms/step - accuracy: 0.6953 - loss: 0.5425\n",
      "\u001b[1m23/23\u001b[0m \u001b[32m━━━━━━━━━━━━━━━━━━━━\u001b[0m\u001b[37m\u001b[0m \u001b[1m0s\u001b[0m 3ms/step - accuracy: 0.7418 - loss: 0.5119 - val_accuracy: 0.7933 - val_loss: 0.4509\n",
      "x3otgeyixs-algo-1-788gd  | Epoch 39/300\n",
      "x3otgeyixs-algo-1-788gd  | \u001b[1m 1/23\u001b[0m \u001b[37m━━━━━━━━━━━━━━━━━━━━\u001b[0m \u001b[1m0s\u001b[0m 22ms/step - accuracy: 0.7812 - loss: 0.5440\n",
      "\u001b[1m23/23\u001b[0m \u001b[32m━━━━━━━━━━━━━━━━━━━━\u001b[0m\u001b[37m\u001b[0m \u001b[1m0s\u001b[0m 3ms/step - accuracy: 0.7653 - loss: 0.5284 - val_accuracy: 0.7989 - val_loss: 0.4487\n",
      "x3otgeyixs-algo-1-788gd  | Epoch 40/300\n",
      "x3otgeyixs-algo-1-788gd  | \u001b[1m 1/23\u001b[0m \u001b[37m━━━━━━━━━━━━━━━━━━━━\u001b[0m \u001b[1m0s\u001b[0m 20ms/step - accuracy: 0.7188 - loss: 0.5807\n",
      "\u001b[1m23/23\u001b[0m \u001b[32m━━━━━━━━━━━━━━━━━━━━\u001b[0m\u001b[37m\u001b[0m \u001b[1m0s\u001b[0m 3ms/step - accuracy: 0.7515 - loss: 0.5359 - val_accuracy: 0.7989 - val_loss: 0.4470\n",
      "x3otgeyixs-algo-1-788gd  | Epoch 41/300\n",
      "x3otgeyixs-algo-1-788gd  | \u001b[1m 1/23\u001b[0m \u001b[37m━━━━━━━━━━━━━━━━━━━━\u001b[0m \u001b[1m0s\u001b[0m 22ms/step - accuracy: 0.6562 - loss: 0.5256\n",
      "x3otgeyixs-algo-1-788gd  | \u001b[1m 2/23\u001b[0m \u001b[32m━\u001b[0m\u001b[37m━━━━━━━━━━━━━━━━━━━\u001b[0m \u001b[1m0s\u001b[0m 2ms/step - accuracy: 0.6719 - loss: 0.5090\n",
      "\u001b[1m23/23\u001b[0m \u001b[32m━━━━━━━━━━━━━━━━━━━━\u001b[0m\u001b[37m\u001b[0m \u001b[1m0s\u001b[0m 3ms/step - accuracy: 0.7414 - loss: 0.5289 - val_accuracy: 0.7989 - val_loss: 0.4458\n",
      "x3otgeyixs-algo-1-788gd  | Epoch 42/300\n",
      "x3otgeyixs-algo-1-788gd  | \u001b[1m 1/23\u001b[0m \u001b[37m━━━━━━━━━━━━━━━━━━━━\u001b[0m \u001b[1m0s\u001b[0m 20ms/step - accuracy: 0.7188 - loss: 0.5449\n",
      "x3otgeyixs-algo-1-788gd  | \u001b[1m 2/23\u001b[0m \u001b[32m━\u001b[0m\u001b[37m━━━━━━━━━━━━━━━━━━━\u001b[0m \u001b[1m0s\u001b[0m 2ms/step - accuracy: 0.7344 - loss: 0.5373\n",
      "\u001b[1m23/23\u001b[0m \u001b[32m━━━━━━━━━━━━━━━━━━━━\u001b[0m\u001b[37m\u001b[0m \u001b[1m0s\u001b[0m 3ms/step - accuracy: 0.7567 - loss: 0.5125 - val_accuracy: 0.7989 - val_loss: 0.4439\n",
      "x3otgeyixs-algo-1-788gd  | Epoch 43/300\n",
      "x3otgeyixs-algo-1-788gd  | \u001b[1m 1/23\u001b[0m \u001b[37m━━━━━━━━━━━━━━━━━━━━\u001b[0m \u001b[1m0s\u001b[0m 21ms/step - accuracy: 0.8125 - loss: 0.5556\n",
      "x3otgeyixs-algo-1-788gd  | \u001b[1m 2/23\u001b[0m \u001b[32m━\u001b[0m\u001b[37m━━━━━━━━━━━━━━━━━━━\u001b[0m \u001b[1m0s\u001b[0m 2ms/step - accuracy: 0.7969 - loss: 0.5410\n",
      "\u001b[1m23/23\u001b[0m \u001b[32m━━━━━━━━━━━━━━━━━━━━\u001b[0m\u001b[37m\u001b[0m \u001b[1m0s\u001b[0m 3ms/step - accuracy: 0.7659 - loss: 0.5201 - val_accuracy: 0.7989 - val_loss: 0.4424\n",
      "x3otgeyixs-algo-1-788gd  | Epoch 44/300\n",
      "x3otgeyixs-algo-1-788gd  | \u001b[1m 1/23\u001b[0m \u001b[37m━━━━━━━━━━━━━━━━━━━━\u001b[0m \u001b[1m0s\u001b[0m 21ms/step - accuracy: 0.8125 - loss: 0.4992\n",
      "\u001b[1m23/23\u001b[0m \u001b[32m━━━━━━━━━━━━━━━━━━━━\u001b[0m\u001b[37m\u001b[0m \u001b[1m0s\u001b[0m 3ms/step - accuracy: 0.7574 - loss: 0.5211 - val_accuracy: 0.7989 - val_loss: 0.4410\n",
      "x3otgeyixs-algo-1-788gd  | Epoch 45/300\n",
      "x3otgeyixs-algo-1-788gd  | \u001b[1m 1/23\u001b[0m \u001b[37m━━━━━━━━━━━━━━━━━━━━\u001b[0m \u001b[1m0s\u001b[0m 21ms/step - accuracy: 0.7812 - loss: 0.4942\n",
      "\u001b[1m23/23\u001b[0m \u001b[32m━━━━━━━━━━━━━━━━━━━━\u001b[0m\u001b[37m\u001b[0m \u001b[1m0s\u001b[0m 3ms/step - accuracy: 0.7739 - loss: 0.5031 - val_accuracy: 0.7989 - val_loss: 0.4393\n",
      "x3otgeyixs-algo-1-788gd  | Epoch 46/300\n",
      "x3otgeyixs-algo-1-788gd  | \u001b[1m 1/23\u001b[0m \u001b[37m━━━━━━━━━━━━━━━━━━━━\u001b[0m \u001b[1m0s\u001b[0m 24ms/step - accuracy: 0.8125 - loss: 0.5004\n",
      "\u001b[1m23/23\u001b[0m \u001b[32m━━━━━━━━━━━━━━━━━━━━\u001b[0m\u001b[37m\u001b[0m \u001b[1m0s\u001b[0m 3ms/step - accuracy: 0.7658 - loss: 0.5157 - val_accuracy: 0.7989 - val_loss: 0.4379\n",
      "x3otgeyixs-algo-1-788gd  | Epoch 47/300\n",
      "x3otgeyixs-algo-1-788gd  | \u001b[1m 2/23\u001b[0m \u001b[32m━\u001b[0m\u001b[37m━━━━━━━━━━━━━━━━━━━\u001b[0m \u001b[1m0s\u001b[0m 2ms/step - accuracy: 0.7969 - loss: 0.4990\n",
      "x3otgeyixs-algo-1-788gd  | \u001b[1m 1/23\u001b[0m \u001b[37m━━━━━━━━━━━━━━━━━━━━\u001b[0m \u001b[1m0s\u001b[0m 21ms/step - accuracy: 0.8125 - loss: 0.4749\n",
      "\u001b[1m23/23\u001b[0m \u001b[32m━━━━━━━━━━━━━━━━━━━━\u001b[0m\u001b[37m\u001b[0m \u001b[1m0s\u001b[0m 3ms/step - accuracy: 0.7713 - loss: 0.5052 - val_accuracy: 0.8045 - val_loss: 0.4365\n",
      "x3otgeyixs-algo-1-788gd  | Epoch 48/300\n",
      "x3otgeyixs-algo-1-788gd  | \u001b[1m 1/23\u001b[0m \u001b[37m━━━━━━━━━━━━━━━━━━━━\u001b[0m \u001b[1m0s\u001b[0m 21ms/step - accuracy: 0.8125 - loss: 0.4506\n",
      "x3otgeyixs-algo-1-788gd  | \u001b[1m 2/23\u001b[0m \u001b[32m━\u001b[0m\u001b[37m━━━━━━━━━━━━━━━━━━━\u001b[0m \u001b[1m0s\u001b[0m 2ms/step - accuracy: 0.7812 - loss: 0.4663\n",
      "\u001b[1m23/23\u001b[0m \u001b[32m━━━━━━━━━━━━━━━━━━━━\u001b[0m\u001b[37m\u001b[0m \u001b[1m0s\u001b[0m 3ms/step - accuracy: 0.7594 - loss: 0.5074 - val_accuracy: 0.8045 - val_loss: 0.4355\n",
      "x3otgeyixs-algo-1-788gd  | Epoch 49/300\n",
      "x3otgeyixs-algo-1-788gd  | \u001b[1m 1/23\u001b[0m \u001b[37m━━━━━━━━━━━━━━━━━━━━\u001b[0m \u001b[1m0s\u001b[0m 21ms/step - accuracy: 0.7812 - loss: 0.5487\n",
      "x3otgeyixs-algo-1-788gd  | \u001b[1m 2/23\u001b[0m \u001b[32m━\u001b[0m\u001b[37m━━━━━━━━━━━━━━━━━━━\u001b[0m \u001b[1m0s\u001b[0m 2ms/step - accuracy: 0.7734 - loss: 0.5465\n",
      "\u001b[1m23/23\u001b[0m \u001b[32m━━━━━━━━━━━━━━━━━━━━\u001b[0m\u001b[37m\u001b[0m \u001b[1m0s\u001b[0m 3ms/step - accuracy: 0.7767 - loss: 0.5127 - val_accuracy: 0.8045 - val_loss: 0.4346\n",
      "x3otgeyixs-algo-1-788gd  | Epoch 50/300\n",
      "x3otgeyixs-algo-1-788gd  | \u001b[1m 1/23\u001b[0m \u001b[37m━━━━━━━━━━━━━━━━━━━━\u001b[0m \u001b[1m0s\u001b[0m 21ms/step - accuracy: 0.6875 - loss: 0.5426\n",
      "x3otgeyixs-algo-1-788gd  | \u001b[1m 2/23\u001b[0m \u001b[32m━\u001b[0m\u001b[37m━━━━━━━━━━━━━━━━━━━\u001b[0m \u001b[1m0s\u001b[0m 2ms/step - accuracy: 0.6953 - loss: 0.5412\n",
      "x3otgeyixs-algo-1-788gd  | \u001b[1m 3/23\u001b[0m \u001b[32m━━\u001b[0m\u001b[37m━━━━━━━━━━━━━━━━━━\u001b[0m \u001b[1m0s\u001b[0m 2ms/step - accuracy: 0.6823 - loss: 0.5655\n",
      "x3otgeyixs-algo-1-788gd  | \u001b[1m 4/23\u001b[0m \u001b[32m━━━\u001b[0m\u001b[37m━━━━━━━━━━━━━━━━━\u001b[0m \u001b[1m0s\u001b[0m 3ms/step - accuracy: 0.6816 - loss: 0.5758\n",
      "\u001b[1m23/23\u001b[0m \u001b[32m━━━━━━━━━━━━━━━━━━━━\u001b[0m\u001b[37m\u001b[0m \u001b[1m0s\u001b[0m 3ms/step - accuracy: 0.7585 - loss: 0.5333 - val_accuracy: 0.8045 - val_loss: 0.4342\n",
      "x3otgeyixs-algo-1-788gd  | Epoch 51/300\n",
      "x3otgeyixs-algo-1-788gd  | \u001b[1m 1/23\u001b[0m \u001b[37m━━━━━━━━━━━━━━━━━━━━\u001b[0m \u001b[1m0s\u001b[0m 21ms/step - accuracy: 0.7188 - loss: 0.5200\n",
      "x3otgeyixs-algo-1-788gd  | \u001b[1m 2/23\u001b[0m \u001b[32m━\u001b[0m\u001b[37m━━━━━━━━━━━━━━━━━━━\u001b[0m \u001b[1m0s\u001b[0m 2ms/step - accuracy: 0.7344 - loss: 0.5161\n",
      "\u001b[1m23/23\u001b[0m \u001b[32m━━━━━━━━━━━━━━━━━━━━\u001b[0m\u001b[37m\u001b[0m \u001b[1m0s\u001b[0m 3ms/step - accuracy: 0.7729 - loss: 0.4945 - val_accuracy: 0.8045 - val_loss: 0.4331\n",
      "x3otgeyixs-algo-1-788gd  | Epoch 52/300\n",
      "x3otgeyixs-algo-1-788gd  | \u001b[1m 1/23\u001b[0m \u001b[37m━━━━━━━━━━━━━━━━━━━━\u001b[0m \u001b[1m0s\u001b[0m 22ms/step - accuracy: 0.7500 - loss: 0.5090\n",
      "x3otgeyixs-algo-1-788gd  | \u001b[1m 2/23\u001b[0m \u001b[32m━\u001b[0m\u001b[37m━━━━━━━━━━━━━━━━━━━\u001b[0m \u001b[1m0s\u001b[0m 2ms/step - accuracy: 0.7812 - loss: 0.4774\n",
      "\u001b[1m23/23\u001b[0m \u001b[32m━━━━━━━━━━━━━━━━━━━━\u001b[0m\u001b[37m\u001b[0m \u001b[1m0s\u001b[0m 3ms/step - accuracy: 0.7841 - loss: 0.4878 - val_accuracy: 0.8045 - val_loss: 0.4322\n",
      "x3otgeyixs-algo-1-788gd  | Epoch 53/300\n",
      "x3otgeyixs-algo-1-788gd  | \u001b[1m 1/23\u001b[0m \u001b[37m━━━━━━━━━━━━━━━━━━━━\u001b[0m \u001b[1m0s\u001b[0m 22ms/step - accuracy: 0.7500 - loss: 0.5256\n",
      "x3otgeyixs-algo-1-788gd  | \u001b[1m 2/23\u001b[0m \u001b[32m━\u001b[0m\u001b[37m━━━━━━━━━━━━━━━━━━━\u001b[0m \u001b[1m0s\u001b[0m 2ms/step - accuracy: 0.7344 - loss: 0.5364\n",
      "x3otgeyixs-algo-1-788gd  | \u001b[1m 3/23\u001b[0m \u001b[32m━━\u001b[0m\u001b[37m━━━━━━━━━━━━━━━━━━\u001b[0m \u001b[1m0s\u001b[0m 2ms/step - accuracy: 0.7292 - loss: 0.5581\n",
      "\u001b[1m23/23\u001b[0m \u001b[32m━━━━━━━━━━━━━━━━━━━━\u001b[0m\u001b[37m\u001b[0m \u001b[1m0s\u001b[0m 3ms/step - accuracy: 0.7762 - loss: 0.5097 - val_accuracy: 0.8045 - val_loss: 0.4317\n",
      "x3otgeyixs-algo-1-788gd  | Epoch 54/300\n",
      "x3otgeyixs-algo-1-788gd  | \u001b[1m 1/23\u001b[0m \u001b[37m━━━━━━━━━━━━━━━━━━━━\u001b[0m \u001b[1m0s\u001b[0m 22ms/step - accuracy: 0.7500 - loss: 0.5919\n",
      "x3otgeyixs-algo-1-788gd  | \u001b[1m 2/23\u001b[0m \u001b[32m━\u001b[0m\u001b[37m━━━━━━━━━━━━━━━━━━━\u001b[0m \u001b[1m0s\u001b[0m 2ms/step - accuracy: 0.7578 - loss: 0.5724\n",
      "\u001b[1m23/23\u001b[0m \u001b[32m━━━━━━━━━━━━━━━━━━━━\u001b[0m\u001b[37m\u001b[0m \u001b[1m0s\u001b[0m 3ms/step - accuracy: 0.7733 - loss: 0.5090 - val_accuracy: 0.8045 - val_loss: 0.4310\n",
      "x3otgeyixs-algo-1-788gd  | Epoch 55/300\n",
      "x3otgeyixs-algo-1-788gd  | \u001b[1m 2/23\u001b[0m \u001b[32m━\u001b[0m\u001b[37m━━━━━━━━━━━━━━━━━━━\u001b[0m \u001b[1m0s\u001b[0m 2ms/step - accuracy: 0.7812 - loss: 0.4535\n",
      "x3otgeyixs-algo-1-788gd  | \u001b[1m 1/23\u001b[0m \u001b[37m━━━━━━━━━━━━━━━━━━━━\u001b[0m \u001b[1m0s\u001b[0m 21ms/step - accuracy: 0.8125 - loss: 0.4255\n",
      "\u001b[1m23/23\u001b[0m \u001b[32m━━━━━━━━━━━━━━━━━━━━\u001b[0m\u001b[37m\u001b[0m \u001b[1m0s\u001b[0m 3ms/step - accuracy: 0.7732 - loss: 0.4873 - val_accuracy: 0.8045 - val_loss: 0.4295\n",
      "x3otgeyixs-algo-1-788gd  | Epoch 56/300\n",
      "x3otgeyixs-algo-1-788gd  | \u001b[1m 2/23\u001b[0m \u001b[32m━\u001b[0m\u001b[37m━━━━━━━━━━━━━━━━━━━\u001b[0m \u001b[1m0s\u001b[0m 2ms/step - accuracy: 0.7422 - loss: 0.5528\n",
      "x3otgeyixs-algo-1-788gd  | \u001b[1m 1/23\u001b[0m \u001b[37m━━━━━━━━━━━━━━━━━━━━\u001b[0m \u001b[1m0s\u001b[0m 21ms/step - accuracy: 0.7500 - loss: 0.5599\n",
      "\u001b[1m23/23\u001b[0m \u001b[32m━━━━━━━━━━━━━━━━━━━━\u001b[0m\u001b[37m\u001b[0m \u001b[1m0s\u001b[0m 3ms/step - accuracy: 0.7670 - loss: 0.5070 - val_accuracy: 0.8045 - val_loss: 0.4280\n",
      "x3otgeyixs-algo-1-788gd  | Epoch 57/300\n",
      "x3otgeyixs-algo-1-788gd  | \u001b[1m 1/23\u001b[0m \u001b[37m━━━━━━━━━━━━━━━━━━━━\u001b[0m \u001b[1m0s\u001b[0m 21ms/step - accuracy: 0.6875 - loss: 0.5941\n",
      "x3otgeyixs-algo-1-788gd  | \u001b[1m 2/23\u001b[0m \u001b[32m━\u001b[0m\u001b[37m━━━━━━━━━━━━━━━━━━━\u001b[0m \u001b[1m0s\u001b[0m 2ms/step - accuracy: 0.7031 - loss: 0.5662\n",
      "\u001b[1m23/23\u001b[0m \u001b[32m━━━━━━━━━━━━━━━━━━━━\u001b[0m\u001b[37m\u001b[0m \u001b[1m0s\u001b[0m 3ms/step - accuracy: 0.7591 - loss: 0.5118 - val_accuracy: 0.8045 - val_loss: 0.4268\n",
      "x3otgeyixs-algo-1-788gd  | Epoch 58/300\n",
      "x3otgeyixs-algo-1-788gd  | \u001b[1m 1/23\u001b[0m \u001b[37m━━━━━━━━━━━━━━━━━━━━\u001b[0m \u001b[1m0s\u001b[0m 21ms/step - accuracy: 0.7188 - loss: 0.5376\n",
      "x3otgeyixs-algo-1-788gd  | \u001b[1m 2/23\u001b[0m \u001b[32m━\u001b[0m\u001b[37m━━━━━━━━━━━━━━━━━━━\u001b[0m \u001b[1m0s\u001b[0m 2ms/step - accuracy: 0.7344 - loss: 0.5233\n",
      "\u001b[1m23/23\u001b[0m \u001b[32m━━━━━━━━━━━━━━━━━━━━\u001b[0m\u001b[37m\u001b[0m \u001b[1m0s\u001b[0m 3ms/step - accuracy: 0.7574 - loss: 0.5149 - val_accuracy: 0.8045 - val_loss: 0.4267\n",
      "x3otgeyixs-algo-1-788gd  | Epoch 59/300\n",
      "x3otgeyixs-algo-1-788gd  | \u001b[1m 1/23\u001b[0m \u001b[37m━━━━━━━━━━━━━━━━━━━━\u001b[0m \u001b[1m0s\u001b[0m 21ms/step - accuracy: 0.7812 - loss: 0.5088\n",
      "\u001b[1m23/23\u001b[0m \u001b[32m━━━━━━━━━━━━━━━━━━━━\u001b[0m\u001b[37m\u001b[0m \u001b[1m0s\u001b[0m 3ms/step - accuracy: 0.7696 - loss: 0.4995 - val_accuracy: 0.8045 - val_loss: 0.4269\n",
      "x3otgeyixs-algo-1-788gd  | Epoch 60/300\n",
      "x3otgeyixs-algo-1-788gd  | \u001b[1m 1/23\u001b[0m \u001b[37m━━━━━━━━━━━━━━━━━━━━\u001b[0m \u001b[1m0s\u001b[0m 23ms/step - accuracy: 0.7500 - loss: 0.5337\n",
      "\u001b[1m23/23\u001b[0m \u001b[32m━━━━━━━━━━━━━━━━━━━━\u001b[0m\u001b[37m\u001b[0m \u001b[1m0s\u001b[0m 4ms/step - accuracy: 0.7642 - loss: 0.5217 - val_accuracy: 0.8045 - val_loss: 0.4273\n",
      "x3otgeyixs-algo-1-788gd  | Epoch 61/300\n",
      "x3otgeyixs-algo-1-788gd  | \u001b[1m 1/23\u001b[0m \u001b[37m━━━━━━━━━━━━━━━━━━━━\u001b[0m \u001b[1m0s\u001b[0m 33ms/step - accuracy: 0.8438 - loss: 0.5268\n",
      "x3otgeyixs-algo-1-788gd  | \u001b[1m 2/23\u001b[0m \u001b[32m━\u001b[0m\u001b[37m━━━━━━━━━━━━━━━━━━━\u001b[0m \u001b[1m0s\u001b[0m 2ms/step - accuracy: 0.8125 - loss: 0.5050\n",
      "\u001b[1m23/23\u001b[0m \u001b[32m━━━━━━━━━━━━━━━━━━━━\u001b[0m\u001b[37m\u001b[0m \u001b[1m0s\u001b[0m 3ms/step - accuracy: 0.7771 - loss: 0.5072 - val_accuracy: 0.8045 - val_loss: 0.4272\n",
      "x3otgeyixs-algo-1-788gd  | Epoch 62/300\n",
      "x3otgeyixs-algo-1-788gd  | \u001b[1m 1/23\u001b[0m \u001b[37m━━━━━━━━━━━━━━━━━━━━\u001b[0m \u001b[1m0s\u001b[0m 22ms/step - accuracy: 0.7500 - loss: 0.4742\n",
      "\u001b[1m23/23\u001b[0m \u001b[32m━━━━━━━━━━━━━━━━━━━━\u001b[0m\u001b[37m\u001b[0m \u001b[1m0s\u001b[0m 3ms/step - accuracy: 0.7603 - loss: 0.5180 - val_accuracy: 0.8045 - val_loss: 0.4271\n",
      "x3otgeyixs-algo-1-788gd  | Epoch 63/300\n",
      "x3otgeyixs-algo-1-788gd  | \u001b[1m 1/23\u001b[0m \u001b[37m━━━━━━━━━━━━━━━━━━━━\u001b[0m \u001b[1m0s\u001b[0m 22ms/step - accuracy: 0.7500 - loss: 0.5666\n",
      "\u001b[1m23/23\u001b[0m \u001b[32m━━━━━━━━━━━━━━━━━━━━\u001b[0m\u001b[37m\u001b[0m \u001b[1m0s\u001b[0m 4ms/step - accuracy: 0.7566 - loss: 0.5219 - val_accuracy: 0.7989 - val_loss: 0.4268\n",
      "x3otgeyixs-algo-1-788gd  | \u001b[1m1/6\u001b[0m \u001b[32m━━━\u001b[0m\u001b[37m━━━━━━━━━━━━━━━━━\u001b[0m \u001b[1m0s\u001b[0m 21ms/step - accuracy: 0.8438 - loss: 0.4072\n",
      "x3otgeyixs-algo-1-788gd  | \u001b[1m3/6\u001b[0m \u001b[32m━━━━━━━━━━\u001b[0m\u001b[37m━━━━━━━━━━\u001b[0m \u001b[1m0s\u001b[0m 2ms/step - accuracy: 0.8403 - loss: 0.3990\n",
      "x3otgeyixs-algo-1-788gd  | \u001b[1m2/6\u001b[0m \u001b[32m━━━━━━\u001b[0m\u001b[37m━━━━━━━━━━━━━━\u001b[0m \u001b[1m0s\u001b[0m 2ms/step - accuracy: 0.8438 - loss: 0.3990\n",
      "\u001b[1m6/6\u001b[0m \u001b[32m━━━━━━━━━━━━━━━━━━━━\u001b[0m\u001b[37m\u001b[0m \u001b[1m0s\u001b[0m 2ms/step - accuracy: 0.8212 - loss: 0.4152\n",
      "x3otgeyixs-algo-1-788gd  | Test loss: 0.4267\n",
      "x3otgeyixs-algo-1-788gd  | Test accuracy: 0.8045\n",
      "x3otgeyixs-algo-1-788gd  | WARNING:absl:You are saving your model as an HDF5 file via `model.save()` or `keras.saving.save_model(model)`. This file format is considered legacy. We recommend using instead the native Keras format, e.g. `model.save('my_model.keras')` or `keras.saving.save_model(model, 'my_model.keras')`.\n",
      "x3otgeyixs-algo-1-788gd  | Model saved to /opt/ml/model\n",
      "x3otgeyixs-algo-1-788gd  | 2024-11-04 14:20:33,828 sagemaker-training-toolkit INFO     Waiting for the process to finish and give a return code.\n",
      "x3otgeyixs-algo-1-788gd  | 2024-11-04 14:20:33,828 sagemaker-training-toolkit INFO     Done waiting for a return code. Received 0 from exiting process.\n",
      "x3otgeyixs-algo-1-788gd  | 2024-11-04 14:20:33,828 sagemaker_tensorflow_container.training WARNING  Your model will NOT be servable with SageMaker TensorFlow Serving container. The model artifact was not saved in the TensorFlow SavedModel directory structure:\n",
      "x3otgeyixs-algo-1-788gd  | https://www.tensorflow.org/guide/saved_model#structure_of_a_savedmodel_directory\n",
      "x3otgeyixs-algo-1-788gd  | 2024-11-04 14:20:33,829 sagemaker-training-toolkit INFO     Reporting training SUCCESS\n"
     ]
    },
    {
     "name": "stderr",
     "output_type": "stream",
     "text": [
      "INFO:sagemaker.local.image:===== Job Complete =====\n"
     ]
    },
    {
     "name": "stdout",
     "output_type": "stream",
     "text": [
      "x3otgeyixs-algo-1-788gd exited with code 0\n",
      "Aborting on container exit...\n",
      " Container x3otgeyixs-algo-1-788gd  Stopping\n",
      " Container x3otgeyixs-algo-1-788gd  Stopped\n",
      "##### ESTIMATOR FIT COMPLETED\n"
     ]
    }
   ],
   "source": [
    "# training \n",
    "\n",
    "from sagemaker import get_execution_role\n",
    "from sagemaker.estimator import Estimator\n",
    "import os\n",
    "\n",
    "role = get_execution_role()\n",
    "\n",
    "hyperparameters = {'epochs': 1}\n",
    "\n",
    "estimator = Estimator(\n",
    "    image_uri='975050125079.dkr.ecr.us-east-1.amazonaws.com/tensorflow-training',\n",
    "    role=role,\n",
    "    instance_count=1,\n",
    "    instance_type = 'local',\n",
    "    #instance_type='ml.m5.large',\n",
    "    hyperparameters=hyperparameters,\n",
    "    output_path=f's3://bucket-prova3/output'\n",
    "    #output_path='file://{}/data/output'.format(os.getcwd())\n",
    ")\n",
    "\n",
    "print('##### ESTIMATOR FIT STARTED')\n",
    "#estimator.fit('file://{}/data/input/train.csv'.format(os.getcwd()))\n",
    "estimator.fit(f's3://bucket-prova3/Input/train.csv')\n",
    "print('##### ESTIMATOR FIT COMPLETED')\n"
   ]
  },
  {
   "cell_type": "code",
   "execution_count": null,
   "id": "849a0a06",
   "metadata": {},
   "outputs": [],
   "source": [
    "# compressione dei file nelle cartelle zippate"
   ]
  },
  {
   "cell_type": "code",
   "execution_count": null,
   "id": "7a563e93",
   "metadata": {},
   "outputs": [],
   "source": [
    "!tar -xzf data/output/output.tar.gz"
   ]
  },
  {
   "cell_type": "code",
   "execution_count": null,
   "id": "1ac6a2e6",
   "metadata": {},
   "outputs": [],
   "source": [
    "!tar -xzf ./data/output/model.tar.gz"
   ]
  },
  {
   "cell_type": "code",
   "execution_count": null,
   "id": "4081de20",
   "metadata": {},
   "outputs": [],
   "source": [
    "!pip install tensorflow==2.12.0"
   ]
  },
  {
   "cell_type": "code",
   "execution_count": null,
   "id": "be98cd1e",
   "metadata": {},
   "outputs": [],
   "source": [
    "os.getcwd()"
   ]
  },
  {
   "cell_type": "code",
   "execution_count": 68,
   "id": "97d8664a",
   "metadata": {},
   "outputs": [
    {
     "name": "stdout",
     "output_type": "stream",
     "text": [
      "image_name: tensorflow-training ######################\n",
      "account: 975050125079 ######################\n",
      "region: us-east-1 ######################\n",
      "fullname: 975050125079.dkr.ecr.us-east-1.amazonaws.com/tensorflow-training:latest ######################\n",
      "Repository 'tensorflow-training' already exists.\n"
     ]
    }
   ],
   "source": [
    "%%bash\n",
    "\n",
    "image_name=\"tensorflow-training\"\n",
    "echo \"image_name: ${image_name} ######################\"\n",
    "\n",
    "account=$(aws sts get-caller-identity --query Account --output text)\n",
    "if [ $? -ne 0 ]; then\n",
    "    echo \"Error getting account ID. Please check your AWS credentials.\"\n",
    "    exit 1\n",
    "fi\n",
    "echo \"account: ${account} ######################\"\n",
    "\n",
    "region=$(aws configure get region)\n",
    "if [ -z \"$region\" ]; then\n",
    "    region=\"us-west-2\"\n",
    "fi\n",
    "echo \"region: ${region} ######################\"\n",
    "\n",
    "fullname=\"${account}.dkr.ecr.${region}.amazonaws.com/${image_name}:latest\"\n",
    "echo \"fullname: ${fullname} ######################\"\n",
    "\n",
    "if aws ecr describe-repositories --repository-names \"${image_name}\" >/dev/null 2>&1; then\n",
    "    echo \"Repository '${image_name}' already exists.\"\n",
    "else\n",
    "    if aws ecr create-repository --repository-name \"${image_name}\"; then\n",
    "        echo \"Repository '${image_name}' created.\"\n",
    "    else\n",
    "        echo \"Failed to create repository '${image_name}'.\"\n",
    "        exit 1\n",
    "    fi\n",
    "fi"
   ]
  },
  {
   "cell_type": "code",
   "execution_count": 69,
   "id": "8c68361e",
   "metadata": {},
   "outputs": [
    {
     "name": "stdout",
     "output_type": "stream",
     "text": [
      "REPOSITORY                                                                  TAG          IMAGE ID       CREATED             SIZE\n",
      "<none>                                                                      <none>       d00c4cc2ae1c   3 minutes ago       8.73GB\n",
      "975050125079.dkr.ecr.us-east-1.amazonaws.com/tensorflow-training            latest       17e3fceab647   3 minutes ago       8.73GB\n",
      "<none>                                                                      <none>       4c7b50f1dad5   11 minutes ago      8.73GB\n",
      "<none>                                                                      <none>       04fdbd8f5812   23 minutes ago      9.16GB\n",
      "975050125079.dkr.ecr.us-east-1.amazonaws.com/tensorflow-training            <none>       d0dd47e10cef   About an hour ago   9.16GB\n",
      "975050125079.dkr.ecr.us-east-1.amazonaws.com/tensorflow-training            <none>       d98b2e3af086   5 hours ago         9.16GB\n",
      "520713654638.dkr.ecr.us-east-1.amazonaws.com/sagemaker-tensorflow-serving   1.12.0-cpu   27aee10a9f6a   5 years ago         377MB\n"
     ]
    }
   ],
   "source": [
    "!docker images"
   ]
  },
  {
   "cell_type": "code",
   "execution_count": 70,
   "id": "6c24dfc8",
   "metadata": {},
   "outputs": [
    {
     "name": "stdout",
     "output_type": "stream",
     "text": [
      "WARNING! Your password will be stored unencrypted in /home/ec2-user/.docker/config.json.\n",
      "Configure a credential helper to remove this warning. See\n",
      "https://docs.docker.com/engine/reference/commandline/login/#credentials-store\n",
      "\n",
      "Login Succeeded\n"
     ]
    }
   ],
   "source": [
    "!aws ecr get-login-password --region us-east-1 | docker login --username AWS --password-stdin 975050125079.dkr.ecr.us-east-1.amazonaws.com"
   ]
  },
  {
   "cell_type": "code",
   "execution_count": 44,
   "id": "f38f4bd4",
   "metadata": {},
   "outputs": [],
   "source": [
    "# Push del container sistemato"
   ]
  },
  {
   "cell_type": "code",
   "execution_count": 71,
   "id": "c9396c69",
   "metadata": {},
   "outputs": [
    {
     "name": "stdout",
     "output_type": "stream",
     "text": [
      "The push refers to repository [975050125079.dkr.ecr.us-east-1.amazonaws.com/tensorflow-training]\n",
      "\n",
      "\u001b[1Bbbcf6d32: Preparing \n",
      "\u001b[1B374531b7: Preparing \n",
      "\u001b[1B06a865c2: Preparing \n",
      "\u001b[1B22878ecf: Preparing \n",
      "\u001b[1Bdb4f6696: Preparing \n",
      "\u001b[1Bf529ae49: Preparing \n",
      "\u001b[1B75f13e59: Preparing \n",
      "\u001b[1B0c6c24f9: Preparing \n",
      "\u001b[1Ba1e64371: Preparing \n",
      "\u001b[1B29631b13: Preparing \n",
      "\u001b[1B3f03efd0: Preparing \n",
      "\u001b[1B9b75d5ee: Preparing \n",
      "\u001b[1B370de786: Preparing \n",
      "\u001b[1Ba16f1a7a: Preparing \n",
      "\u001b[1Bfc8740d1: Preparing \n",
      "\u001b[1B292691fc: Preparing \n",
      "\u001b[1B6672bf9d: Preparing \n",
      "\u001b[1B607be3da: Preparing \n",
      "\u001b[1Bafc9b360: Preparing \n",
      "\u001b[1Bf934e4df: Preparing \n",
      "\u001b[1B80a2a6eb: Preparing \n",
      "\u001b[1Ba0538fa4: Preparing \n",
      "\u001b[1B6d109c54: Preparing \n",
      "\u001b[1Bf0a068df: Preparing \n",
      "\u001b[1B443b7673: Preparing \n",
      "\u001b[1B37a36861: Preparing \n",
      "\u001b[1Becb4bd81: Preparing \n",
      "\u001b[1B34b60c81: Preparing \n",
      "\u001b[1B07d5d0ab: Preparing \n",
      "\u001b[1Be6c8e003: Preparing \n",
      "\u001b[1Bab822c1c: Preparing \n",
      "\u001b[1B3609315f: Preparing \n",
      "\u001b[32B74531b7: Pushed   2.616GB/2.593GB9A\u001b[2K\u001b[27A\u001b[2K\u001b[25A\u001b[2K\u001b[23A\u001b[2K\u001b[22A\u001b[2K\u001b[19A\u001b[2K\u001b[18A\u001b[2K\u001b[20A\u001b[2K\u001b[32A\u001b[2K\u001b[13A\u001b[2K\u001b[31A\u001b[2K\u001b[8A\u001b[2K\u001b[5A\u001b[2K\u001b[1A\u001b[2K\u001b[32A\u001b[2K\u001b[32A\u001b[2K\u001b[32A\u001b[2K\u001b[32A\u001b[2K\u001b[32A\u001b[2K\u001b[32A\u001b[2K\u001b[32A\u001b[2K\u001b[32A\u001b[2K\u001b[32A\u001b[2K\u001b[32A\u001b[2K\u001b[32A\u001b[2K\u001b[32A\u001b[2K\u001b[32A\u001b[2K\u001b[32A\u001b[2K\u001b[32A\u001b[2K\u001b[32A\u001b[2K\u001b[32A\u001b[2K\u001b[32A\u001b[2K\u001b[32A\u001b[2K\u001b[32A\u001b[2K\u001b[32A\u001b[2K\u001b[32A\u001b[2K\u001b[32A\u001b[2K\u001b[32A\u001b[2K\u001b[32A\u001b[2K\u001b[32A\u001b[2K\u001b[32A\u001b[2K\u001b[32A\u001b[2K\u001b[32A\u001b[2K\u001b[32A\u001b[2K\u001b[32A\u001b[2K\u001b[32A\u001b[2K\u001b[32A\u001b[2K\u001b[32A\u001b[2K\u001b[32A\u001b[2K\u001b[32A\u001b[2K\u001b[32A\u001b[2K\u001b[32A\u001b[2K\u001b[32A\u001b[2K\u001b[32A\u001b[2K\u001b[32A\u001b[2K\u001b[32A\u001b[2K\u001b[32A\u001b[2K\u001b[32A\u001b[2K\u001b[32A\u001b[2K\u001b[32A\u001b[2K\u001b[32A\u001b[2K\u001b[32A\u001b[2K\u001b[32A\u001b[2K\u001b[32A\u001b[2K\u001b[32A\u001b[2K\u001b[32A\u001b[2K\u001b[32A\u001b[2K\u001b[32A\u001b[2K\u001b[32A\u001b[2K\u001b[32A\u001b[2K\u001b[32A\u001b[2K\u001b[32A\u001b[2K\u001b[32A\u001b[2K\u001b[32A\u001b[2K\u001b[32A\u001b[2K\u001b[32A\u001b[2K\u001b[32A\u001b[2K\u001b[32A\u001b[2K\u001b[32A\u001b[2K\u001b[32A\u001b[2K\u001b[32A\u001b[2K\u001b[32A\u001b[2K\u001b[32A\u001b[2K\u001b[32A\u001b[2K\u001b[32A\u001b[2K\u001b[32A\u001b[2K\u001b[32A\u001b[2K\u001b[32A\u001b[2K\u001b[32A\u001b[2K\u001b[32A\u001b[2K\u001b[32A\u001b[2K\u001b[32A\u001b[2K\u001b[32A\u001b[2K\u001b[32A\u001b[2K\u001b[32A\u001b[2K\u001b[32A\u001b[2K\u001b[32A\u001b[2K\u001b[32A\u001b[2K\u001b[32A\u001b[2K\u001b[32A\u001b[2K\u001b[32A\u001b[2K\u001b[32A\u001b[2K\u001b[32A\u001b[2K\u001b[32A\u001b[2K\u001b[32A\u001b[2K\u001b[32A\u001b[2K\u001b[32A\u001b[2K\u001b[32A\u001b[2K\u001b[32A\u001b[2K\u001b[32A\u001b[2K\u001b[32A\u001b[2K\u001b[32A\u001b[2K\u001b[32A\u001b[2K\u001b[32A\u001b[2K\u001b[32A\u001b[2K\u001b[32A\u001b[2K\u001b[32A\u001b[2K\u001b[32A\u001b[2K\u001b[32A\u001b[2K\u001b[32A\u001b[2K\u001b[32A\u001b[2K\u001b[32A\u001b[2K\u001b[32A\u001b[2K\u001b[32A\u001b[2K\u001b[32A\u001b[2K\u001b[32A\u001b[2K\u001b[32A\u001b[2K\u001b[32A\u001b[2K\u001b[32A\u001b[2K\u001b[32A\u001b[2K\u001b[32A\u001b[2K\u001b[32A\u001b[2K\u001b[32A\u001b[2K\u001b[32A\u001b[2K\u001b[32A\u001b[2K\u001b[32A\u001b[2K\u001b[32A\u001b[2K\u001b[32A\u001b[2K\u001b[32A\u001b[2K\u001b[32A\u001b[2K\u001b[32A\u001b[2K\u001b[32A\u001b[2K\u001b[32A\u001b[2K\u001b[32A\u001b[2K\u001b[32A\u001b[2K\u001b[32A\u001b[2K\u001b[32A\u001b[2K\u001b[32A\u001b[2K\u001b[32A\u001b[2K\u001b[32A\u001b[2K\u001b[32A\u001b[2K\u001b[32A\u001b[2K\u001b[32A\u001b[2K\u001b[32A\u001b[2K\u001b[32A\u001b[2K\u001b[32A\u001b[2K\u001b[32A\u001b[2K\u001b[32A\u001b[2K\u001b[32A\u001b[2K\u001b[32A\u001b[2K\u001b[32A\u001b[2K\u001b[32A\u001b[2K\u001b[32A\u001b[2K\u001b[32A\u001b[2K\u001b[32A\u001b[2K\u001b[32A\u001b[2K\u001b[32A\u001b[2K\u001b[32A\u001b[2K\u001b[32A\u001b[2K\u001b[32A\u001b[2K\u001b[32A\u001b[2K\u001b[32A\u001b[2K\u001b[32A\u001b[2K\u001b[32A\u001b[2K\u001b[32A\u001b[2K\u001b[32A\u001b[2K\u001b[32A\u001b[2K\u001b[32A\u001b[2K\u001b[32A\u001b[2K\u001b[32A\u001b[2K\u001b[32A\u001b[2K\u001b[32A\u001b[2K\u001b[32A\u001b[2K\u001b[32A\u001b[2K\u001b[32A\u001b[2K\u001b[32A\u001b[2K\u001b[32A\u001b[2K\u001b[32A\u001b[2K\u001b[32A\u001b[2K\u001b[32A\u001b[2K\u001b[32A\u001b[2K\u001b[32A\u001b[2K\u001b[32A\u001b[2K\u001b[32A\u001b[2K\u001b[32A\u001b[2K\u001b[32A\u001b[2K\u001b[32A\u001b[2K\u001b[32A\u001b[2K\u001b[32A\u001b[2K\u001b[32A\u001b[2K\u001b[32A\u001b[2K\u001b[32A\u001b[2K\u001b[32A\u001b[2K\u001b[32A\u001b[2K\u001b[32A\u001b[2K\u001b[32A\u001b[2K\u001b[32A\u001b[2K\u001b[32A\u001b[2K\u001b[32A\u001b[2K\u001b[32A\u001b[2K\u001b[32A\u001b[2K\u001b[32A\u001b[2K\u001b[32A\u001b[2K\u001b[32A\u001b[2K\u001b[32A\u001b[2K\u001b[32A\u001b[2K\u001b[32A\u001b[2K\u001b[32A\u001b[2K\u001b[32A\u001b[2K\u001b[32A\u001b[2K\u001b[32A\u001b[2K\u001b[32A\u001b[2K\u001b[32A\u001b[2K\u001b[32A\u001b[2K\u001b[32A\u001b[2K\u001b[32A\u001b[2K\u001b[32A\u001b[2K\u001b[32A\u001b[2K\u001b[32A\u001b[2K\u001b[32A\u001b[2K\u001b[32A\u001b[2K\u001b[32A\u001b[2K\u001b[32A\u001b[2K\u001b[32A\u001b[2K\u001b[32A\u001b[2K\u001b[32A\u001b[2K\u001b[32A\u001b[2K\u001b[32A\u001b[2K\u001b[32A\u001b[2K\u001b[32A\u001b[2K\u001b[32A\u001b[2K\u001b[32A\u001b[2K\u001b[32A\u001b[2K\u001b[32A\u001b[2K\u001b[32A\u001b[2K\u001b[32A\u001b[2K\u001b[32A\u001b[2K\u001b[32A\u001b[2K\u001b[32A\u001b[2K\u001b[32A\u001b[2K\u001b[32A\u001b[2K\u001b[32A\u001b[2K\u001b[32A\u001b[2K\u001b[32A\u001b[2K\u001b[32A\u001b[2K\u001b[32A\u001b[2K\u001b[32A\u001b[2K\u001b[32A\u001b[2K\u001b[32A\u001b[2K\u001b[32A\u001b[2K\u001b[32A\u001b[2K\u001b[32A\u001b[2K\u001b[32A\u001b[2K\u001b[32A\u001b[2K\u001b[32A\u001b[2K\u001b[32A\u001b[2K\u001b[32A\u001b[2K\u001b[32A\u001b[2K\u001b[32A\u001b[2K\u001b[32A\u001b[2K\u001b[32A\u001b[2K\u001b[32A\u001b[2K\u001b[32A\u001b[2K\u001b[32A\u001b[2K\u001b[32A\u001b[2K\u001b[32A\u001b[2K\u001b[32A\u001b[2K\u001b[32A\u001b[2K\u001b[32A\u001b[2K\u001b[32A\u001b[2K\u001b[32A\u001b[2K\u001b[32A\u001b[2K\u001b[32A\u001b[2K\u001b[32A\u001b[2K\u001b[32A\u001b[2K\u001b[32A\u001b[2K\u001b[32A\u001b[2K\u001b[32A\u001b[2K\u001b[32A\u001b[2K\u001b[32A\u001b[2K\u001b[32A\u001b[2K\u001b[32A\u001b[2K\u001b[32A\u001b[2K\u001b[32A\u001b[2K\u001b[32A\u001b[2K\u001b[32A\u001b[2K\u001b[32A\u001b[2K\u001b[32A\u001b[2K\u001b[32A\u001b[2K\u001b[32A\u001b[2K\u001b[32A\u001b[2K\u001b[32A\u001b[2K\u001b[32A\u001b[2K\u001b[32A\u001b[2K\u001b[32A\u001b[2K\u001b[32A\u001b[2K\u001b[32A\u001b[2K\u001b[32A\u001b[2K\u001b[32A\u001b[2K\u001b[32A\u001b[2K\u001b[32A\u001b[2K\u001b[32A\u001b[2K\u001b[32A\u001b[2K\u001b[32A\u001b[2K\u001b[32A\u001b[2K\u001b[32A\u001b[2K\u001b[32A\u001b[2K\u001b[32A\u001b[2K\u001b[32A\u001b[2K\u001b[32A\u001b[2K\u001b[32A\u001b[2K\u001b[32A\u001b[2K\u001b[32A\u001b[2K\u001b[32A\u001b[2K\u001b[32A\u001b[2K\u001b[32A\u001b[2K\u001b[32A\u001b[2K\u001b[32A\u001b[2K\u001b[32A\u001b[2K\u001b[32A\u001b[2K\u001b[32A\u001b[2KPushing  847.7MB/2.593GB\u001b[32A\u001b[2K\u001b[32A\u001b[2K\u001b[32A\u001b[2K\u001b[32A\u001b[2K\u001b[32A\u001b[2K\u001b[32A\u001b[2K\u001b[32A\u001b[2K\u001b[32A\u001b[2K\u001b[32A\u001b[2K\u001b[32A\u001b[2K\u001b[32A\u001b[2K\u001b[32A\u001b[2K\u001b[32A\u001b[2K\u001b[32A\u001b[2K\u001b[32A\u001b[2K\u001b[32A\u001b[2K\u001b[32A\u001b[2K\u001b[32A\u001b[2K\u001b[32A\u001b[2K\u001b[32A\u001b[2K\u001b[32A\u001b[2K\u001b[32A\u001b[2K\u001b[32A\u001b[2K\u001b[32A\u001b[2K\u001b[32A\u001b[2K\u001b[32A\u001b[2K\u001b[32A\u001b[2K\u001b[32A\u001b[2K\u001b[32A\u001b[2K\u001b[32A\u001b[2K\u001b[32A\u001b[2K\u001b[32A\u001b[2K\u001b[32A\u001b[2K\u001b[32A\u001b[2K\u001b[32A\u001b[2K\u001b[32A\u001b[2K\u001b[32A\u001b[2K\u001b[32A\u001b[2K\u001b[32A\u001b[2K\u001b[32A\u001b[2K\u001b[32A\u001b[2K\u001b[32A\u001b[2K\u001b[32A\u001b[2K\u001b[32A\u001b[2K\u001b[32A\u001b[2K\u001b[32A\u001b[2K\u001b[32A\u001b[2K\u001b[32A\u001b[2K\u001b[32A\u001b[2K\u001b[32A\u001b[2K\u001b[32A\u001b[2K\u001b[32A\u001b[2K\u001b[32A\u001b[2K\u001b[32A\u001b[2K\u001b[32A\u001b[2K\u001b[32A\u001b[2K\u001b[32A\u001b[2K\u001b[32A\u001b[2K\u001b[32A\u001b[2K\u001b[32A\u001b[2K\u001b[32A\u001b[2K\u001b[32A\u001b[2K\u001b[32A\u001b[2K\u001b[32A\u001b[2K\u001b[32A\u001b[2K\u001b[32A\u001b[2K\u001b[32A\u001b[2K\u001b[32A\u001b[2K\u001b[32A\u001b[2K\u001b[32A\u001b[2K\u001b[32A\u001b[2K\u001b[32A\u001b[2K\u001b[32A\u001b[2K\u001b[32A\u001b[2K\u001b[32A\u001b[2K\u001b[32A\u001b[2K\u001b[32A\u001b[2K\u001b[32A\u001b[2K\u001b[32A\u001b[2K\u001b[32A\u001b[2K\u001b[32A\u001b[2K\u001b[32A\u001b[2K\u001b[32A\u001b[2K\u001b[32A\u001b[2K\u001b[32A\u001b[2K\u001b[32A\u001b[2K\u001b[32A\u001b[2K\u001b[32A\u001b[2K\u001b[32A\u001b[2K\u001b[32A\u001b[2K\u001b[32A\u001b[2K\u001b[32A\u001b[2K\u001b[32A\u001b[2K\u001b[32A\u001b[2K\u001b[32A\u001b[2K\u001b[32A\u001b[2K\u001b[32A\u001b[2K\u001b[32A\u001b[2K\u001b[32A\u001b[2K\u001b[32A\u001b[2K\u001b[32A\u001b[2K\u001b[32A\u001b[2K\u001b[32A\u001b[2K\u001b[32A\u001b[2K\u001b[32A\u001b[2K\u001b[32A\u001b[2K\u001b[32A\u001b[2K\u001b[32A\u001b[2K\u001b[32A\u001b[2K\u001b[32A\u001b[2K\u001b[32A\u001b[2K\u001b[32A\u001b[2K\u001b[32A\u001b[2K\u001b[32A\u001b[2K\u001b[32A\u001b[2K\u001b[32A\u001b[2K\u001b[32A\u001b[2K\u001b[32A\u001b[2K\u001b[32A\u001b[2K\u001b[32A\u001b[2K\u001b[32A\u001b[2K\u001b[32A\u001b[2K\u001b[32A\u001b[2K\u001b[32A\u001b[2K\u001b[32A\u001b[2K\u001b[32A\u001b[2K\u001b[32A\u001b[2K\u001b[32A\u001b[2K\u001b[32A\u001b[2K\u001b[32A\u001b[2K\u001b[32A\u001b[2K\u001b[32A\u001b[2K\u001b[32A\u001b[2K\u001b[32A\u001b[2K\u001b[32A\u001b[2K\u001b[32A\u001b[2K\u001b[32A\u001b[2K\u001b[32A\u001b[2K\u001b[32A\u001b[2K\u001b[32A\u001b[2K\u001b[32A\u001b[2K\u001b[32A\u001b[2K\u001b[32A\u001b[2K\u001b[32A\u001b[2K\u001b[32A\u001b[2K\u001b[32A\u001b[2K\u001b[32A\u001b[2K\u001b[32A\u001b[2K\u001b[32A\u001b[2K\u001b[32A\u001b[2K\u001b[32A\u001b[2K\u001b[32A\u001b[2K\u001b[32A\u001b[2K\u001b[32A\u001b[2K\u001b[32A\u001b[2K\u001b[32A\u001b[2K\u001b[32A\u001b[2K\u001b[32A\u001b[2K\u001b[32A\u001b[2K\u001b[32A\u001b[2K\u001b[32A\u001b[2K\u001b[32A\u001b[2K\u001b[32A\u001b[2K\u001b[32A\u001b[2K\u001b[32A\u001b[2K\u001b[32A\u001b[2K\u001b[32A\u001b[2K\u001b[32A\u001b[2K\u001b[32A\u001b[2K\u001b[32A\u001b[2K\u001b[32A\u001b[2K\u001b[32A\u001b[2K\u001b[32A\u001b[2K\u001b[32A\u001b[2K\u001b[32A\u001b[2K\u001b[32A\u001b[2K\u001b[32A\u001b[2K\u001b[32A\u001b[2K\u001b[32A\u001b[2K\u001b[32A\u001b[2K\u001b[32A\u001b[2K\u001b[32A\u001b[2K\u001b[32A\u001b[2K\u001b[32A\u001b[2K\u001b[32A\u001b[2K\u001b[32A\u001b[2K\u001b[32A\u001b[2K\u001b[32A\u001b[2K\u001b[32A\u001b[2K\u001b[32A\u001b[2K\u001b[32A\u001b[2K\u001b[32A\u001b[2K\u001b[32A\u001b[2K\u001b[32A\u001b[2K\u001b[32A\u001b[2K\u001b[32A\u001b[2K\u001b[32A\u001b[2K\u001b[32A\u001b[2K\u001b[32A\u001b[2K\u001b[32A\u001b[2K\u001b[32A\u001b[2K\u001b[32A\u001b[2K\u001b[32A\u001b[2K\u001b[32A\u001b[2K\u001b[32A\u001b[2K\u001b[32A\u001b[2K\u001b[32A\u001b[2K\u001b[32A\u001b[2K\u001b[32A\u001b[2K\u001b[32A\u001b[2K\u001b[32A\u001b[2K\u001b[32A\u001b[2K\u001b[32A\u001b[2K\u001b[32A\u001b[2K\u001b[32A\u001b[2K\u001b[32A\u001b[2K\u001b[32A\u001b[2K\u001b[32A\u001b[2K\u001b[32A\u001b[2K\u001b[32A\u001b[2K\u001b[32A\u001b[2K\u001b[32A\u001b[2K\u001b[32A\u001b[2K\u001b[32A\u001b[2K\u001b[32A\u001b[2K\u001b[32A\u001b[2K\u001b[32A\u001b[2K\u001b[32A\u001b[2K\u001b[32A\u001b[2K\u001b[32A\u001b[2K\u001b[32A\u001b[2K\u001b[32A\u001b[2K\u001b[32A\u001b[2K\u001b[32A\u001b[2K\u001b[32A\u001b[2K\u001b[32A\u001b[2K\u001b[32A\u001b[2K\u001b[32A\u001b[2K\u001b[32A\u001b[2K\u001b[32A\u001b[2K\u001b[32A\u001b[2K\u001b[32A\u001b[2K\u001b[32A\u001b[2K\u001b[32A\u001b[2K\u001b[32A\u001b[2K\u001b[32A\u001b[2K\u001b[32A\u001b[2K\u001b[32A\u001b[2K\u001b[32A\u001b[2K\u001b[32A\u001b[2K\u001b[32A\u001b[2K\u001b[32A\u001b[2K\u001b[32A\u001b[2K\u001b[32A\u001b[2K\u001b[32A\u001b[2K\u001b[32A\u001b[2K\u001b[32A\u001b[2K\u001b[32A\u001b[2K\u001b[32A\u001b[2K\u001b[32A\u001b[2K\u001b[32A\u001b[2K\u001b[32A\u001b[2K\u001b[32A\u001b[2K\u001b[32A\u001b[2K\u001b[32A\u001b[2K\u001b[32A\u001b[2K\u001b[32A\u001b[2K\u001b[32A\u001b[2K\u001b[32A\u001b[2K\u001b[32A\u001b[2K\u001b[32A\u001b[2K\u001b[32A\u001b[2K\u001b[32A\u001b[2K\u001b[32A\u001b[2K\u001b[32A\u001b[2K\u001b[32A\u001b[2K\u001b[32A\u001b[2K\u001b[32A\u001b[2K\u001b[32A\u001b[2K\u001b[32A\u001b[2K\u001b[32A\u001b[2K\u001b[32A\u001b[2K\u001b[32A\u001b[2K\u001b[32A\u001b[2K\u001b[32A\u001b[2K\u001b[32A\u001b[2K\u001b[32A\u001b[2K\u001b[32A\u001b[2K\u001b[32A\u001b[2K\u001b[32A\u001b[2K\u001b[32A\u001b[2K\u001b[32A\u001b[2K\u001b[32A\u001b[2K\u001b[32A\u001b[2K\u001b[32A\u001b[2K\u001b[32A\u001b[2K\u001b[32A\u001b[2K\u001b[32A\u001b[2K\u001b[32A\u001b[2K\u001b[32A\u001b[2K\u001b[32A\u001b[2K\u001b[32A\u001b[2K\u001b[32A\u001b[2K\u001b[32A\u001b[2K\u001b[32A\u001b[2K\u001b[32A\u001b[2K\u001b[32A\u001b[2K\u001b[32A\u001b[2K\u001b[32A\u001b[2K\u001b[32A\u001b[2K\u001b[32A\u001b[2K\u001b[32A\u001b[2K\u001b[32A\u001b[2K\u001b[32A\u001b[2K\u001b[32A\u001b[2K\u001b[32A\u001b[2K\u001b[32A\u001b[2K\u001b[32A\u001b[2K\u001b[32A\u001b[2K\u001b[32A\u001b[2K\u001b[32A\u001b[2K\u001b[32A\u001b[2K\u001b[32A\u001b[2K\u001b[32A\u001b[2K\u001b[32A\u001b[2K\u001b[32A\u001b[2K\u001b[32A\u001b[2K\u001b[32A\u001b[2K\u001b[32A\u001b[2K\u001b[32A\u001b[2K\u001b[32A\u001b[2K\u001b[32A\u001b[2K\u001b[32A\u001b[2K\u001b[32A\u001b[2K\u001b[32A\u001b[2K\u001b[32A\u001b[2K\u001b[32A\u001b[2K\u001b[32A\u001b[2K\u001b[32A\u001b[2K\u001b[32A\u001b[2K\u001b[32A\u001b[2K\u001b[32A\u001b[2K\u001b[32A\u001b[2K\u001b[32A\u001b[2K\u001b[32A\u001b[2K\u001b[32A\u001b[2K\u001b[32A\u001b[2K\u001b[32A\u001b[2K\u001b[32A\u001b[2K\u001b[32A\u001b[2K\u001b[32A\u001b[2K\u001b[32A\u001b[2K\u001b[32A\u001b[2K\u001b[32A\u001b[2K\u001b[32A\u001b[2K\u001b[32A\u001b[2K\u001b[32A\u001b[2K\u001b[32A\u001b[2K\u001b[32A\u001b[2K\u001b[32A\u001b[2K\u001b[32A\u001b[2K\u001b[32A\u001b[2K\u001b[32A\u001b[2K\u001b[32A\u001b[2K\u001b[32A\u001b[2K\u001b[32A\u001b[2K\u001b[32A\u001b[2K\u001b[32A\u001b[2K\u001b[32A\u001b[2K\u001b[32A\u001b[2K\u001b[32A\u001b[2K\u001b[32A\u001b[2K\u001b[32A\u001b[2K\u001b[32A\u001b[2K\u001b[32A\u001b[2K\u001b[32A\u001b[2K\u001b[32A\u001b[2K\u001b[32A\u001b[2K\u001b[32A\u001b[2K\u001b[32A\u001b[2K\u001b[32A\u001b[2K\u001b[32A\u001b[2K\u001b[32A\u001b[2K\u001b[32A\u001b[2K\u001b[32A\u001b[2K\u001b[32A\u001b[2K\u001b[32A\u001b[2K\u001b[32A\u001b[2K\u001b[32A\u001b[2K\u001b[32A\u001b[2K\u001b[32A\u001b[2K\u001b[32A\u001b[2K\u001b[32A\u001b[2K\u001b[32A\u001b[2K\u001b[32A\u001b[2K\u001b[32A\u001b[2K\u001b[32A\u001b[2K\u001b[32A\u001b[2K\u001b[32A\u001b[2K\u001b[32A\u001b[2K\u001b[32A\u001b[2K\u001b[32A\u001b[2K\u001b[32A\u001b[2K\u001b[32A\u001b[2K\u001b[32A\u001b[2K\u001b[32A\u001b[2K\u001b[32A\u001b[2K\u001b[32A\u001b[2K\u001b[32A\u001b[2K\u001b[32A\u001b[2K\u001b[32A\u001b[2K\u001b[32A\u001b[2K\u001b[32A\u001b[2K\u001b[32A\u001b[2K\u001b[32A\u001b[2K\u001b[32A\u001b[2K\u001b[32A\u001b[2K\u001b[32A\u001b[2K\u001b[32A\u001b[2K\u001b[32A\u001b[2K\u001b[32A\u001b[2K\u001b[32A\u001b[2K\u001b[32A\u001b[2K\u001b[32A\u001b[2K\u001b[32A\u001b[2K\u001b[32A\u001b[2K\u001b[32A\u001b[2K\u001b[32A\u001b[2K\u001b[32A\u001b[2K\u001b[32A\u001b[2K\u001b[32A\u001b[2K\u001b[32A\u001b[2K\u001b[32A\u001b[2K\u001b[32A\u001b[2K\u001b[32A\u001b[2K\u001b[32A\u001b[2K\u001b[32A\u001b[2K\u001b[32A\u001b[2K\u001b[32A\u001b[2K\u001b[32A\u001b[2K\u001b[32A\u001b[2K\u001b[32A\u001b[2K\u001b[32A\u001b[2K\u001b[32A\u001b[2K\u001b[32A\u001b[2K\u001b[32A\u001b[2K\u001b[32A\u001b[2K\u001b[32A\u001b[2K\u001b[32A\u001b[2K\u001b[32A\u001b[2K\u001b[32A\u001b[2K\u001b[32A\u001b[2K\u001b[32A\u001b[2K\u001b[32A\u001b[2K\u001b[32A\u001b[2K\u001b[32A\u001b[2K\u001b[32A\u001b[2K\u001b[32A\u001b[2K\u001b[32A\u001b[2K\u001b[32A\u001b[2K\u001b[32A\u001b[2K\u001b[32A\u001b[2K\u001b[32A\u001b[2K\u001b[32A\u001b[2K\u001b[32A\u001b[2K\u001b[32A\u001b[2K\u001b[32A\u001b[2K\u001b[32A\u001b[2K\u001b[32A\u001b[2K\u001b[32A\u001b[2K\u001b[32A\u001b[2K\u001b[32A\u001b[2K\u001b[32A\u001b[2K\u001b[32A\u001b[2K\u001b[32A\u001b[2K\u001b[32A\u001b[2K\u001b[32A\u001b[2K\u001b[32A\u001b[2K\u001b[32A\u001b[2K\u001b[32A\u001b[2K\u001b[32A\u001b[2K\u001b[32A\u001b[2K\u001b[32A\u001b[2K\u001b[32A\u001b[2K\u001b[32A\u001b[2K\u001b[32A\u001b[2K\u001b[32A\u001b[2K\u001b[32A\u001b[2K\u001b[32A\u001b[2K\u001b[32A\u001b[2K\u001b[32A\u001b[2K\u001b[32A\u001b[2K\u001b[32A\u001b[2K\u001b[32A\u001b[2K\u001b[32A\u001b[2K\u001b[32A\u001b[2K\u001b[32A\u001b[2K\u001b[32A\u001b[2K\u001b[32A\u001b[2K\u001b[32A\u001b[2K\u001b[32A\u001b[2K\u001b[32A\u001b[2K\u001b[32A\u001b[2K\u001b[32A\u001b[2K\u001b[32A\u001b[2K\u001b[32A\u001b[2K\u001b[32A\u001b[2K\u001b[32A\u001b[2K\u001b[32A\u001b[2K\u001b[32A\u001b[2K\u001b[32A\u001b[2K\u001b[32A\u001b[2K\u001b[32A\u001b[2K\u001b[32A\u001b[2K\u001b[32A\u001b[2K\u001b[32A\u001b[2K\u001b[32A\u001b[2K\u001b[32A\u001b[2K\u001b[32A\u001b[2K\u001b[32A\u001b[2K\u001b[32A\u001b[2K\u001b[32A\u001b[2K\u001b[32A\u001b[2K\u001b[32A\u001b[2K\u001b[32A\u001b[2K\u001b[32A\u001b[2K\u001b[32A\u001b[2K\u001b[32A\u001b[2K\u001b[32A\u001b[2K\u001b[32A\u001b[2K\u001b[32A\u001b[2K\u001b[32A\u001b[2K\u001b[32A\u001b[2K\u001b[32A\u001b[2K\u001b[32A\u001b[2K\u001b[32A\u001b[2K\u001b[32A\u001b[2K\u001b[32A\u001b[2K\u001b[32A\u001b[2K\u001b[32A\u001b[2K\u001b[32A\u001b[2K\u001b[32A\u001b[2K\u001b[32A\u001b[2K\u001b[32A\u001b[2K\u001b[32A\u001b[2K\u001b[32A\u001b[2K\u001b[32A\u001b[2K\u001b[32A\u001b[2K\u001b[32A\u001b[2K\u001b[32A\u001b[2K\u001b[32A\u001b[2K\u001b[32A\u001b[2K\u001b[32A\u001b[2K\u001b[32A\u001b[2K\u001b[32A\u001b[2K\u001b[32A\u001b[2K\u001b[32A\u001b[2K\u001b[32A\u001b[2K\u001b[32A\u001b[2K\u001b[32A\u001b[2K\u001b[32A\u001b[2K\u001b[32A\u001b[2K\u001b[32A\u001b[2K\u001b[32A\u001b[2K\u001b[32A\u001b[2K\u001b[32A\u001b[2K\u001b[32A\u001b[2K\u001b[32A\u001b[2K\u001b[32A\u001b[2K\u001b[32A\u001b[2K\u001b[32A\u001b[2K\u001b[32A\u001b[2K\u001b[32A\u001b[2K\u001b[32A\u001b[2K\u001b[32A\u001b[2K\u001b[32A\u001b[2K\u001b[32A\u001b[2K\u001b[32A\u001b[2K\u001b[32A\u001b[2K\u001b[32A\u001b[2K\u001b[32A\u001b[2K\u001b[32A\u001b[2K\u001b[32A\u001b[2K\u001b[32A\u001b[2K\u001b[32A\u001b[2K\u001b[32A\u001b[2K\u001b[32A\u001b[2K\u001b[32A\u001b[2K\u001b[32A\u001b[2K\u001b[32A\u001b[2K\u001b[32A\u001b[2K\u001b[32A\u001b[2K\u001b[32A\u001b[2K\u001b[32A\u001b[2K\u001b[32A\u001b[2K\u001b[32A\u001b[2K\u001b[32A\u001b[2K\u001b[32A\u001b[2K\u001b[32A\u001b[2K\u001b[32A\u001b[2K\u001b[32A\u001b[2K\u001b[32A\u001b[2K\u001b[32A\u001b[2K\u001b[32A\u001b[2K\u001b[32A\u001b[2K\u001b[32A\u001b[2K\u001b[32A\u001b[2K\u001b[32A\u001b[2K\u001b[32A\u001b[2K\u001b[32A\u001b[2K\u001b[32A\u001b[2K\u001b[32A\u001b[2K\u001b[32A\u001b[2K\u001b[32A\u001b[2K\u001b[32A\u001b[2K\u001b[32A\u001b[2K\u001b[32A\u001b[2K\u001b[32A\u001b[2K\u001b[32A\u001b[2K\u001b[32A\u001b[2K\u001b[32A\u001b[2K\u001b[32A\u001b[2K\u001b[32A\u001b[2K\u001b[32A\u001b[2K\u001b[32A\u001b[2K\u001b[32A\u001b[2K\u001b[32A\u001b[2K\u001b[32A\u001b[2K\u001b[32A\u001b[2K\u001b[32A\u001b[2K\u001b[32A\u001b[2K\u001b[32A\u001b[2K\u001b[32A\u001b[2K\u001b[32A\u001b[2K\u001b[32A\u001b[2K\u001b[32A\u001b[2K\u001b[32A\u001b[2K\u001b[32A\u001b[2K\u001b[32A\u001b[2K\u001b[32A\u001b[2K\u001b[32A\u001b[2K\u001b[32A\u001b[2K\u001b[32A\u001b[2K\u001b[32A\u001b[2K\u001b[32A\u001b[2K\u001b[32A\u001b[2K\u001b[32A\u001b[2K\u001b[32A\u001b[2K\u001b[32A\u001b[2K\u001b[32A\u001b[2K\u001b[32A\u001b[2K\u001b[32A\u001b[2K\u001b[32A\u001b[2K\u001b[32A\u001b[2K\u001b[32A\u001b[2K\u001b[32A\u001b[2K\u001b[32A\u001b[2K\u001b[32A\u001b[2K\u001b[32A\u001b[2Klatest: digest: sha256:0d149e3914af4c8996786650125a394830c5c5d068efef84afa96926e1c03fef size: 7253\n"
     ]
    }
   ],
   "source": [
    "!docker push  975050125079.dkr.ecr.us-east-1.amazonaws.com/tensorflow-training:latest"
   ]
  },
  {
   "cell_type": "code",
   "execution_count": null,
   "id": "2e10bf74",
   "metadata": {},
   "outputs": [],
   "source": []
  }
 ],
 "metadata": {
  "kernelspec": {
   "display_name": "conda_python3",
   "language": "python",
   "name": "conda_python3"
  },
  "language_info": {
   "codemirror_mode": {
    "name": "ipython",
    "version": 3
   },
   "file_extension": ".py",
   "mimetype": "text/x-python",
   "name": "python",
   "nbconvert_exporter": "python",
   "pygments_lexer": "ipython3",
   "version": "3.10.15"
  }
 },
 "nbformat": 4,
 "nbformat_minor": 5
}
