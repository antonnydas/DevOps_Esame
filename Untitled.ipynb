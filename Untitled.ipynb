{
 "cells": [
  {
   "cell_type": "markdown",
   "id": "41e1a535",
   "metadata": {},
   "source": [
    "# caricamento immagine per inferenza"
   ]
  },
  {
   "cell_type": "code",
   "execution_count": 103,
   "id": "214dd3f0",
   "metadata": {},
   "outputs": [
    {
     "data": {
      "text/plain": [
       "'763104351884.dkr.ecr.us-east-1.amazonaws.com/tensorflow-inference:2.12.1-cpu'"
      ]
     },
     "execution_count": 103,
     "metadata": {},
     "output_type": "execute_result"
    }
   ],
   "source": [
    "import scipy.sparse\n",
    "from sagemaker import image_uris\n",
    "image_uris.retrieve(framework='tensorflow',region='us-east-1',version='2.12.1',image_scope='inference',instance_type='ml.p2.xlarge')\n",
    "    "
   ]
  },
  {
   "cell_type": "code",
   "execution_count": 18,
   "id": "449d3747",
   "metadata": {},
   "outputs": [],
   "source": [
    "# login all' elastic container registry con Entrambi i container"
   ]
  },
  {
   "cell_type": "code",
   "execution_count": 104,
   "id": "f1eb658f",
   "metadata": {},
   "outputs": [
    {
     "name": "stdout",
     "output_type": "stream",
     "text": [
      "WARNING! Your password will be stored unencrypted in /home/ec2-user/.docker/config.json.\n",
      "Configure a credential helper to remove this warning. See\n",
      "https://docs.docker.com/engine/reference/commandline/login/#credentials-store\n",
      "\n",
      "Login Succeeded\n"
     ]
    }
   ],
   "source": [
    "!aws ecr get-login-password --region us-east-1 | docker login --username AWS --password-stdin 763104351884.dkr.ecr.us-east-1.amazonaws.com/tensorflow-inference:2.12.1-cpu"
   ]
  },
  {
   "cell_type": "code",
   "execution_count": 105,
   "id": "6a74fe43",
   "metadata": {},
   "outputs": [
    {
     "name": "stdout",
     "output_type": "stream",
     "text": [
      "2.12.1-cpu: Pulling from tensorflow-inference\n",
      "Digest: sha256:b02640eda26a58fded218cb7bd7a5e1e54d81feacb4754ea0c6af02b4b81a633\n",
      "Status: Image is up to date for 763104351884.dkr.ecr.us-east-1.amazonaws.com/tensorflow-inference:2.12.1-cpu\n",
      "763104351884.dkr.ecr.us-east-1.amazonaws.com/tensorflow-inference:2.12.1-cpu\n"
     ]
    }
   ],
   "source": [
    "!docker pull 763104351884.dkr.ecr.us-east-1.amazonaws.com/tensorflow-inference:2.12.1-cpu"
   ]
  },
  {
   "cell_type": "markdown",
   "id": "fccff690",
   "metadata": {},
   "source": [
    "# caricamento immagine per il training"
   ]
  },
  {
   "cell_type": "code",
   "execution_count": 31,
   "id": "a09e309f",
   "metadata": {},
   "outputs": [
    {
     "data": {
      "text/html": [
       "<pre style=\"white-space:pre;overflow-x:auto;line-height:normal;font-family:Menlo,'DejaVu Sans Mono',consolas,'Courier New',monospace\"><span style=\"color: #7fbfbf; text-decoration-color: #7fbfbf\">[11/21/24 15:44:40] </span><span style=\"color: #0069ff; text-decoration-color: #0069ff; font-weight: bold\">INFO    </span> Defaulting to only available Python version: py310                   <a href=\"file:///home/ec2-user/anaconda3/envs/python3/lib/python3.10/site-packages/sagemaker/image_uris.py\" target=\"_blank\"><span style=\"color: #7f7f7f; text-decoration-color: #7f7f7f\">image_uris.py</span></a><span style=\"color: #7f7f7f; text-decoration-color: #7f7f7f\">:</span><a href=\"file:///home/ec2-user/anaconda3/envs/python3/lib/python3.10/site-packages/sagemaker/image_uris.py#603\" target=\"_blank\"><span style=\"color: #7f7f7f; text-decoration-color: #7f7f7f\">603</span></a>\n",
       "</pre>\n"
      ],
      "text/plain": [
       "\u001b[2;36m[11/21/24 15:44:40]\u001b[0m\u001b[2;36m \u001b[0m\u001b[1;38;2;0;105;255mINFO    \u001b[0m Defaulting to only available Python version: py310                   \u001b]8;id=803429;file:///home/ec2-user/anaconda3/envs/python3/lib/python3.10/site-packages/sagemaker/image_uris.py\u001b\\\u001b[2mimage_uris.py\u001b[0m\u001b]8;;\u001b\\\u001b[2m:\u001b[0m\u001b]8;id=221815;file:///home/ec2-user/anaconda3/envs/python3/lib/python3.10/site-packages/sagemaker/image_uris.py#603\u001b\\\u001b[2m603\u001b[0m\u001b]8;;\u001b\\\n"
      ]
     },
     "metadata": {},
     "output_type": "display_data"
    },
    {
     "data": {
      "text/plain": [
       "'763104351884.dkr.ecr.us-east-1.amazonaws.com/tensorflow-training:2.12.0-cpu-py310'"
      ]
     },
     "execution_count": 31,
     "metadata": {},
     "output_type": "execute_result"
    }
   ],
   "source": [
    "import scipy.sparse\n",
    "from sagemaker import image_uris\n",
    "image_uris.retrieve(framework='tensorflow',region='us-east-1',version='2.12.0',image_scope='training',instance_type='ml.c5.4xlarge')\n"
   ]
  },
  {
   "cell_type": "code",
   "execution_count": 32,
   "id": "ce789bfe",
   "metadata": {},
   "outputs": [
    {
     "name": "stdout",
     "output_type": "stream",
     "text": [
      "WARNING! Your password will be stored unencrypted in /home/ec2-user/.docker/config.json.\n",
      "Configure a credential helper to remove this warning. See\n",
      "https://docs.docker.com/engine/reference/commandline/login/#credentials-store\n",
      "\n",
      "Login Succeeded\n"
     ]
    }
   ],
   "source": [
    "!aws ecr get-login-password --region us-east-1 | docker login --username AWS --password-stdin  763104351884.dkr.ecr.us-east-1.amazonaws.com/tensorflow-training:2.12.0-cpu-py310"
   ]
  },
  {
   "cell_type": "markdown",
   "id": "cad151ab",
   "metadata": {},
   "source": [
    "# Build dell'immagine training\n",
    "#### ricorda di mettere l'ID utente "
   ]
  },
  {
   "cell_type": "code",
   "execution_count": null,
   "id": "0c8b4d40",
   "metadata": {},
   "outputs": [],
   "source": [
    "!docker build -t 975050125079.dkr.ecr.us-east-1.amazonaws.com/tensorflow-training:2.12.0-cpu-py310  -f Dockerfile.train . "
   ]
  },
  {
   "cell_type": "code",
   "execution_count": 40,
   "id": "db1c6afd",
   "metadata": {},
   "outputs": [
    {
     "name": "stdout",
     "output_type": "stream",
     "text": [
      "image_name: tensorflow-training ######################\n",
      "account: 975050125079 ######################\n",
      "region: us-east-1 ######################\n",
      "fullname: 975050125079.dkr.ecr.us-east-1.amazonaws.com/tensorflow-training:latest ######################\n",
      "Repository 'tensorflow-training' already exists.\n"
     ]
    }
   ],
   "source": [
    "%%bash\n",
    "\n",
    "image_name=\"tensorflow-training\"\n",
    "echo \"image_name: ${image_name} ######################\"\n",
    "\n",
    "account=$(aws sts get-caller-identity --query Account --output text)\n",
    "if [ $? -ne 0 ]; then\n",
    "    echo \"Error getting account ID. Please check your AWS credentials.\"\n",
    "    exit 1\n",
    "fi\n",
    "echo \"account: ${account} ######################\"\n",
    "\n",
    "region=$(aws configure get region)\n",
    "if [ -z \"$region\" ]; then\n",
    "    region=\"us-west-2\"\n",
    "fi\n",
    "echo \"region: ${region} ######################\"\n",
    "\n",
    "fullname=\"${account}.dkr.ecr.${region}.amazonaws.com/${image_name}:latest\"\n",
    "echo \"fullname: ${fullname} ######################\"\n",
    "\n",
    "if aws ecr describe-repositories --repository-names \"${image_name}\" >/dev/null 2>&1; then\n",
    "    echo \"Repository '${image_name}' already exists.\"\n",
    "else\n",
    "    if aws ecr create-repository --repository-name \"${image_name}\"; then\n",
    "        echo \"Repository '${image_name}' created.\"\n",
    "    else\n",
    "        echo \"Failed to create repository '${image_name}'.\"\n",
    "        exit 1\n",
    "    fi\n",
    "fi"
   ]
  },
  {
   "cell_type": "code",
   "execution_count": 41,
   "id": "cc91317c",
   "metadata": {},
   "outputs": [
    {
     "name": "stdout",
     "output_type": "stream",
     "text": [
      "WARNING! Your password will be stored unencrypted in /home/ec2-user/.docker/config.json.\n",
      "Configure a credential helper to remove this warning. See\n",
      "https://docs.docker.com/engine/reference/commandline/login/#credentials-store\n",
      "\n",
      "Login Succeeded\n"
     ]
    }
   ],
   "source": [
    "!aws ecr get-login-password --region us-east-1 | docker login --username AWS --password-stdin 975050125079.dkr.ecr.us-east-1.amazonaws.com/tensorflow-training:latest"
   ]
  },
  {
   "cell_type": "code",
   "execution_count": 42,
   "id": "83038d67",
   "metadata": {},
   "outputs": [
    {
     "name": "stdout",
     "output_type": "stream",
     "text": [
      "REPOSITORY                                                          TAG                IMAGE ID       CREATED          SIZE\n",
      "975050125079.dkr.ecr.us-east-1.amazonaws.com/tensorflow-training    2.12.0-cpu-py310   b3d33bdcdaec   25 seconds ago   8.73GB\n",
      "719055683367.dkr.ecr.us-east-1.amazonaws.com/tensorflow-training    latest             4e30becc1c9a   11 minutes ago   8.73GB\n",
      "763104351884.dkr.ecr.us-east-1.amazonaws.com/tensorflow-training    2.12.0-cpu-py310   4e30becc1c9a   11 minutes ago   8.73GB\n",
      "975050125079.dkr.ecr.us-east-1.amazonaws.com/tensorflow-training    latest             4e30becc1c9a   11 minutes ago   8.73GB\n",
      "763104351884.dkr.ecr.us-east-1.amazonaws.com/tensorflow-inference   2.12.1-cpu         4d18a9b9a924   10 months ago    1.91GB\n"
     ]
    }
   ],
   "source": [
    "!docker images"
   ]
  },
  {
   "cell_type": "code",
   "execution_count": 43,
   "id": "4d40da2d",
   "metadata": {},
   "outputs": [
    {
     "name": "stdout",
     "output_type": "stream",
     "text": [
      "Using default tag: latest\n",
      "The push refers to repository [975050125079.dkr.ecr.us-east-1.amazonaws.com/tensorflow-training]\n",
      "\n",
      "\u001b[1B6fccb787: Preparing \n",
      "\u001b[1B33320ca4: Preparing \n",
      "\u001b[1B22c48a2c: Preparing \n",
      "\u001b[1B22878ecf: Preparing \n",
      "\u001b[1Bdb4f6696: Preparing \n",
      "\u001b[1Bf529ae49: Preparing \n",
      "\u001b[1B75f13e59: Preparing \n",
      "\u001b[1B0c6c24f9: Preparing \n",
      "\u001b[1Ba1e64371: Preparing \n",
      "\u001b[1B29631b13: Preparing \n",
      "\u001b[1B3f03efd0: Preparing \n",
      "\u001b[1B9b75d5ee: Preparing \n",
      "\u001b[1B370de786: Preparing \n",
      "\u001b[1Ba16f1a7a: Preparing \n",
      "\u001b[1Bfc8740d1: Preparing \n",
      "\u001b[1B292691fc: Preparing \n",
      "\u001b[1B6672bf9d: Preparing \n",
      "\u001b[1B607be3da: Preparing \n",
      "\u001b[1Bafc9b360: Preparing \n",
      "\u001b[1Bf934e4df: Preparing \n",
      "\u001b[1B80a2a6eb: Preparing \n",
      "\u001b[1Ba0538fa4: Preparing \n",
      "\u001b[1B6d109c54: Preparing \n",
      "\u001b[1Bf0a068df: Preparing \n",
      "\u001b[1B443b7673: Preparing \n",
      "\u001b[1B37a36861: Preparing \n",
      "\u001b[17Bf03efd0: Waiting g \n",
      "\u001b[17Bb75d5ee: Waiting g \n",
      "\u001b[1B07d5d0ab: Preparing \n",
      "\u001b[1Be6c8e003: Preparing \n",
      "\u001b[1Bab822c1c: Preparing \n",
      "\u001b[1B3609315f: Preparing \n",
      "\u001b[32B3320ca4: Pushed   2.616GB/2.593GB\u001b[32A\u001b[2K\u001b[32A\u001b[2K\u001b[32A\u001b[2K\u001b[31A\u001b[2K\u001b[32A\u001b[2K\u001b[29A\u001b[2K\u001b[28A\u001b[2K\u001b[27A\u001b[2K\u001b[32A\u001b[2K\u001b[26A\u001b[2K\u001b[32A\u001b[2K\u001b[29A\u001b[2K\u001b[32A\u001b[2K\u001b[27A\u001b[2K\u001b[25A\u001b[2K\u001b[32A\u001b[2K\u001b[25A\u001b[2K\u001b[24A\u001b[2K\u001b[32A\u001b[2K\u001b[26A\u001b[2K\u001b[32A\u001b[2K\u001b[24A\u001b[2K\u001b[32A\u001b[2K\u001b[24A\u001b[2K\u001b[25A\u001b[2K\u001b[23A\u001b[2K\u001b[32A\u001b[2K\u001b[23A\u001b[2K\u001b[32A\u001b[2K\u001b[23A\u001b[2K\u001b[22A\u001b[2K\u001b[23A\u001b[2K\u001b[22A\u001b[2K\u001b[24A\u001b[2K\u001b[32A\u001b[2K\u001b[32A\u001b[2K\u001b[24A\u001b[2K\u001b[32A\u001b[2K\u001b[23A\u001b[2K\u001b[32A\u001b[2K\u001b[22A\u001b[2K\u001b[21A\u001b[2K\u001b[32A\u001b[2K\u001b[32A\u001b[2K\u001b[23A\u001b[2K\u001b[24A\u001b[2K\u001b[24A\u001b[2K\u001b[22A\u001b[2K\u001b[24A\u001b[2K\u001b[32A\u001b[2K\u001b[24A\u001b[2KPushing  24.69MB/288.1MB\u001b[22A\u001b[2K\u001b[21A\u001b[2K\u001b[32A\u001b[2K\u001b[24A\u001b[2K\u001b[21A\u001b[2K\u001b[32A\u001b[2K\u001b[23A\u001b[2K\u001b[32A\u001b[2K\u001b[22A\u001b[2K\u001b[23A\u001b[2K\u001b[22A\u001b[2K\u001b[21A\u001b[2K\u001b[24A\u001b[2K\u001b[24A\u001b[2K\u001b[32A\u001b[2K\u001b[24A\u001b[2K\u001b[21A\u001b[2K\u001b[24A\u001b[2K\u001b[22A\u001b[2K\u001b[24A\u001b[2K\u001b[21A\u001b[2K\u001b[32A\u001b[2K\u001b[21A\u001b[2K\u001b[22A\u001b[2K\u001b[32A\u001b[2K\u001b[22A\u001b[2K\u001b[32A\u001b[2K\u001b[22A\u001b[2K\u001b[32A\u001b[2K\u001b[24A\u001b[2K\u001b[21A\u001b[2K\u001b[24A\u001b[2K\u001b[32A\u001b[2K\u001b[22A\u001b[2K\u001b[23A\u001b[2K\u001b[32A\u001b[2K\u001b[24A\u001b[2K\u001b[32A\u001b[2K\u001b[22A\u001b[2K\u001b[23A\u001b[2K\u001b[22A\u001b[2K\u001b[23A\u001b[2K\u001b[32A\u001b[2K\u001b[24A\u001b[2K\u001b[21A\u001b[2K\u001b[32A\u001b[2K\u001b[23A\u001b[2K\u001b[32A\u001b[2K\u001b[23A\u001b[2K\u001b[32A\u001b[2K\u001b[24A\u001b[2K\u001b[22A\u001b[2K\u001b[23A\u001b[2K\u001b[22A\u001b[2K\u001b[24A\u001b[2K\u001b[23A\u001b[2K\u001b[32A\u001b[2K\u001b[24A\u001b[2K\u001b[22A\u001b[2K\u001b[23A\u001b[2K\u001b[22A\u001b[2K\u001b[32A\u001b[2K\u001b[24A\u001b[2K\u001b[23A\u001b[2K\u001b[21A\u001b[2K\u001b[23A\u001b[2K\u001b[32A\u001b[2K\u001b[22A\u001b[2K\u001b[23A\u001b[2K\u001b[22A\u001b[2K\u001b[21A\u001b[2K\u001b[32A\u001b[2K\u001b[24A\u001b[2K\u001b[32A\u001b[2K\u001b[24A\u001b[2K\u001b[32A\u001b[2K\u001b[21A\u001b[2K\u001b[32A\u001b[2K\u001b[21A\u001b[2K\u001b[24A\u001b[2K\u001b[21A\u001b[2K\u001b[24A\u001b[2K\u001b[32A\u001b[2K\u001b[24A\u001b[2K\u001b[32A\u001b[2K\u001b[23A\u001b[2K\u001b[32A\u001b[2K\u001b[24A\u001b[2K\u001b[32A\u001b[2K\u001b[24A\u001b[2K\u001b[24A\u001b[2K\u001b[32A\u001b[2K\u001b[24A\u001b[2K\u001b[20A\u001b[2K\u001b[24A\u001b[2K\u001b[32A\u001b[2K\u001b[23A\u001b[2K\u001b[24A\u001b[2K\u001b[20A\u001b[2K\u001b[32A\u001b[2K\u001b[20A\u001b[2K\u001b[23A\u001b[2K\u001b[32A\u001b[2K\u001b[20A\u001b[2K\u001b[20A\u001b[2K\u001b[21A\u001b[2K\u001b[24A\u001b[2K\u001b[32A\u001b[2K\u001b[24A\u001b[2K\u001b[20A\u001b[2K\u001b[23A\u001b[2K\u001b[21A\u001b[2K\u001b[23A\u001b[2K\u001b[21A\u001b[2K\u001b[32A\u001b[2K\u001b[23A\u001b[2K\u001b[21A\u001b[2K\u001b[21A\u001b[2K\u001b[32A\u001b[2K\u001b[24A\u001b[2K\u001b[23A\u001b[2K\u001b[24A\u001b[2K\u001b[21A\u001b[2K\u001b[32A\u001b[2K\u001b[24A\u001b[2K\u001b[23A\u001b[2K\u001b[21A\u001b[2K\u001b[23A\u001b[2K\u001b[32A\u001b[2K\u001b[24A\u001b[2K\u001b[32A\u001b[2K\u001b[21A\u001b[2K\u001b[20A\u001b[2K\u001b[32A\u001b[2K\u001b[23A\u001b[2K\u001b[20A\u001b[2K\u001b[23A\u001b[2K\u001b[24A\u001b[2K\u001b[21A\u001b[2K\u001b[24A\u001b[2K\u001b[21A\u001b[2K\u001b[32A\u001b[2K\u001b[23A\u001b[2K\u001b[32A\u001b[2K\u001b[20A\u001b[2K\u001b[21A\u001b[2K\u001b[20A\u001b[2K\u001b[23A\u001b[2K\u001b[32A\u001b[2K\u001b[23A\u001b[2K\u001b[32A\u001b[2K\u001b[20A\u001b[2K\u001b[32A\u001b[2K\u001b[23A\u001b[2K\u001b[21A\u001b[2K\u001b[32A\u001b[2K\u001b[23A\u001b[2K\u001b[32A\u001b[2K\u001b[23A\u001b[2K\u001b[20A\u001b[2K\u001b[23A\u001b[2K\u001b[20A\u001b[2K\u001b[32A\u001b[2K\u001b[32A\u001b[2K\u001b[21A\u001b[2K\u001b[32A\u001b[2K\u001b[21A\u001b[2K\u001b[32A\u001b[2K\u001b[20A\u001b[2K\u001b[21A\u001b[2K\u001b[24A\u001b[2K\u001b[21A\u001b[2K\u001b[32A\u001b[2K\u001b[20A\u001b[2K\u001b[24A\u001b[2K\u001b[20A\u001b[2K\u001b[20A\u001b[2K\u001b[23A\u001b[2K\u001b[21A\u001b[2K\u001b[23A\u001b[2K\u001b[20A\u001b[2K\u001b[32A\u001b[2K\u001b[20A\u001b[2K\u001b[24A\u001b[2K\u001b[32A\u001b[2K\u001b[23A\u001b[2K\u001b[24A\u001b[2K\u001b[23A\u001b[2K\u001b[24A\u001b[2K\u001b[32A\u001b[2K\u001b[20A\u001b[2K\u001b[24A\u001b[2K\u001b[23A\u001b[2K\u001b[32A\u001b[2K\u001b[23A\u001b[2K\u001b[20A\u001b[2K\u001b[24A\u001b[2K\u001b[20A\u001b[2K\u001b[24A\u001b[2K\u001b[32A\u001b[2K\u001b[24A\u001b[2K\u001b[32A\u001b[2K\u001b[20A\u001b[2K\u001b[24A\u001b[2K\u001b[21A\u001b[2K\u001b[20A\u001b[2K\u001b[32A\u001b[2K\u001b[23A\u001b[2K\u001b[24A\u001b[2K\u001b[21A\u001b[2K\u001b[32A\u001b[2K\u001b[20A\u001b[2K\u001b[24A\u001b[2K\u001b[23A\u001b[2K\u001b[24A\u001b[2K\u001b[23A\u001b[2K\u001b[20A\u001b[2K\u001b[23A\u001b[2K\u001b[20A\u001b[2K\u001b[23A\u001b[2K\u001b[20A\u001b[2K\u001b[32A\u001b[2K\u001b[21A\u001b[2K\u001b[20A\u001b[2K\u001b[24A\u001b[2K\u001b[21A\u001b[2K\u001b[32A\u001b[2K\u001b[21A\u001b[2K\u001b[24A\u001b[2K\u001b[32A\u001b[2K\u001b[20A\u001b[2K\u001b[32A\u001b[2K\u001b[21A\u001b[2K\u001b[24A\u001b[2K\u001b[21A\u001b[2K\u001b[20A\u001b[2K\u001b[21A\u001b[2K\u001b[23A\u001b[2K\u001b[24A\u001b[2K\u001b[20A\u001b[2K\u001b[23A\u001b[2K\u001b[20A\u001b[2K\u001b[21A\u001b[2K\u001b[20A\u001b[2K\u001b[32A\u001b[2K\u001b[24A\u001b[2K\u001b[23A\u001b[2K\u001b[24A\u001b[2K\u001b[23A\u001b[2K\u001b[32A\u001b[2K\u001b[21A\u001b[2K\u001b[32A\u001b[2K\u001b[21A\u001b[2K\u001b[20A\u001b[2K\u001b[24A\u001b[2K\u001b[21A\u001b[2K\u001b[20A\u001b[2K\u001b[21A\u001b[2K\u001b[20A\u001b[2K\u001b[32A\u001b[2K\u001b[24A\u001b[2K\u001b[23A\u001b[2K\u001b[21A\u001b[2K\u001b[32A\u001b[2K\u001b[21A\u001b[2K\u001b[20A\u001b[2K\u001b[23A\u001b[2K\u001b[21A\u001b[2K\u001b[32A\u001b[2K\u001b[23A\u001b[2K\u001b[24A\u001b[2K\u001b[21A\u001b[2K\u001b[24A\u001b[2K\u001b[21A\u001b[2K\u001b[32A\u001b[2K\u001b[20A\u001b[2K\u001b[32A\u001b[2K\u001b[21A\u001b[2K\u001b[23A\u001b[2K\u001b[32A\u001b[2K\u001b[20A\u001b[2K\u001b[20A\u001b[2K\u001b[24A\u001b[2K\u001b[32A\u001b[2K\u001b[21A\u001b[2K\u001b[24A\u001b[2K\u001b[21A\u001b[2K\u001b[24A\u001b[2K\u001b[21A\u001b[2K\u001b[20A\u001b[2K\u001b[21A\u001b[2K\u001b[32A\u001b[2K\u001b[23A\u001b[2K\u001b[32A\u001b[2K\u001b[21A\u001b[2K\u001b[20A\u001b[2K\u001b[24A\u001b[2K\u001b[21A\u001b[2K\u001b[20A\u001b[2K\u001b[21A\u001b[2K\u001b[20A\u001b[2K\u001b[24A\u001b[2K\u001b[20A\u001b[2K\u001b[32A\u001b[2K\u001b[32A\u001b[2K\u001b[21A\u001b[2K\u001b[32A\u001b[2K\u001b[24A\u001b[2K\u001b[21A\u001b[2K\u001b[23A\u001b[2K\u001b[32A\u001b[2K\u001b[23A\u001b[2K\u001b[20A\u001b[2K\u001b[24A\u001b[2K\u001b[23A\u001b[2K\u001b[24A\u001b[2K\u001b[23A\u001b[2K\u001b[32A\u001b[2K\u001b[24A\u001b[2K\u001b[23A\u001b[2K\u001b[24A\u001b[2K\u001b[20A\u001b[2K\u001b[21A\u001b[2K\u001b[20A\u001b[2K\u001b[32A\u001b[2K\u001b[21A\u001b[2K\u001b[23A\u001b[2K\u001b[20A\u001b[2K\u001b[21A\u001b[2K\u001b[20A\u001b[2K\u001b[20A\u001b[2K\u001b[24A\u001b[2K\u001b[20A\u001b[2K\u001b[23A\u001b[2K\u001b[32A\u001b[2K\u001b[23A\u001b[2K\u001b[24A\u001b[2K\u001b[23A\u001b[2K\u001b[32A\u001b[2K\u001b[23A\u001b[2K\u001b[24A\u001b[2K\u001b[23A\u001b[2K\u001b[24A\u001b[2K\u001b[23A\u001b[2K\u001b[21A\u001b[2K\u001b[32A\u001b[2K\u001b[20A\u001b[2K\u001b[23A\u001b[2K\u001b[20A\u001b[2K\u001b[32A\u001b[2K\u001b[20A\u001b[2K\u001b[32A\u001b[2K\u001b[24A\u001b[2K\u001b[32A\u001b[2K\u001b[23A\u001b[2K\u001b[32A\u001b[2K\u001b[23A\u001b[2K\u001b[32A\u001b[2K\u001b[21A\u001b[2K\u001b[20A\u001b[2K\u001b[24A\u001b[2K\u001b[23A\u001b[2K\u001b[21A\u001b[2K\u001b[24A\u001b[2K\u001b[32A\u001b[2K\u001b[24A\u001b[2K\u001b[32A\u001b[2K\u001b[24A\u001b[2K\u001b[20A\u001b[2K\u001b[24A\u001b[2K\u001b[23A\u001b[2K\u001b[23A\u001b[2K\u001b[23A\u001b[2K\u001b[23A\u001b[2K\u001b[23A\u001b[2K\u001b[21A\u001b[2K\u001b[20A\u001b[2K\u001b[23A\u001b[2K\u001b[20A\u001b[2K\u001b[32A\u001b[2K\u001b[20A\u001b[2K\u001b[32A\u001b[2K\u001b[20A\u001b[2K\u001b[23A\u001b[2K\u001b[32A\u001b[2K\u001b[21A\u001b[2K\u001b[24A\u001b[2K\u001b[21A\u001b[2K\u001b[20A\u001b[2K\u001b[32A\u001b[2K\u001b[21A\u001b[2K\u001b[20A\u001b[2K\u001b[21A\u001b[2K\u001b[20A\u001b[2K\u001b[24A\u001b[2K\u001b[32A\u001b[2K\u001b[21A\u001b[2K\u001b[32A\u001b[2K\u001b[24A\u001b[2K\u001b[32A\u001b[2K\u001b[20A\u001b[2K\u001b[24A\u001b[2K\u001b[20A\u001b[2K\u001b[32A\u001b[2K\u001b[23A\u001b[2K\u001b[32A\u001b[2K\u001b[21A\u001b[2K\u001b[32A\u001b[2K\u001b[21A\u001b[2K\u001b[20A\u001b[2K\u001b[32A\u001b[2K\u001b[21A\u001b[2K\u001b[32A\u001b[2K\u001b[21A\u001b[2K\u001b[32A\u001b[2K\u001b[21A\u001b[2K\u001b[20A\u001b[2K\u001b[32A\u001b[2K\u001b[23A\u001b[2K\u001b[32A\u001b[2K\u001b[24A\u001b[2K\u001b[32A\u001b[2K\u001b[20A\u001b[2K\u001b[24A\u001b[2K\u001b[20A\u001b[2K\u001b[21A\u001b[2K\u001b[20A\u001b[2K\u001b[32A\u001b[2K\u001b[23A\u001b[2K\u001b[32A\u001b[2K\u001b[20A\u001b[2K\u001b[23A\u001b[2K\u001b[20A\u001b[2K\u001b[21A\u001b[2K\u001b[32A\u001b[2K\u001b[24A\u001b[2K\u001b[21A\u001b[2K\u001b[24A\u001b[2K\u001b[32A\u001b[2K\u001b[21A\u001b[2K\u001b[24A\u001b[2K\u001b[32A\u001b[2K\u001b[24A\u001b[2K\u001b[32A\u001b[2K\u001b[20A\u001b[2K\u001b[32A\u001b[2K\u001b[21A\u001b[2K\u001b[32A\u001b[2K\u001b[21A\u001b[2K\u001b[32A\u001b[2K\u001b[24A\u001b[2K\u001b[21A\u001b[2K\u001b[32A\u001b[2K\u001b[32A\u001b[2K\u001b[20A\u001b[2K\u001b[21A\u001b[2K\u001b[23A\u001b[2K\u001b[21A\u001b[2K\u001b[20A\u001b[2K\u001b[21A\u001b[2K\u001b[23A\u001b[2K\u001b[24A\u001b[2K\u001b[23A\u001b[2K\u001b[20A\u001b[2K\u001b[24A\u001b[2K\u001b[20A\u001b[2K\u001b[32A\u001b[2K\u001b[24A\u001b[2K\u001b[21A\u001b[2K\u001b[21A\u001b[2K\u001b[23A\u001b[2K\u001b[21A\u001b[2K\u001b[23A\u001b[2K\u001b[21A\u001b[2K\u001b[20A\u001b[2K\u001b[21A\u001b[2K\u001b[20A\u001b[2K\u001b[21A\u001b[2K\u001b[20A\u001b[2K\u001b[32A\u001b[2K\u001b[20A\u001b[2K\u001b[20A\u001b[2K\u001b[20A\u001b[2K\u001b[20A\u001b[2K\u001b[24A\u001b[2K\u001b[20A\u001b[2K\u001b[32A\u001b[2K\u001b[20A\u001b[2K\u001b[23A\u001b[2K\u001b[20A\u001b[2K\u001b[32A\u001b[2K\u001b[20A\u001b[2K\u001b[32A\u001b[2K\u001b[20A\u001b[2K\u001b[20A\u001b[2K\u001b[21A\u001b[2K\u001b[20A\u001b[2K\u001b[21A\u001b[2K\u001b[24A\u001b[2K\u001b[21A\u001b[2K\u001b[20A\u001b[2K\u001b[20A\u001b[2K\u001b[24A\u001b[2K\u001b[20A\u001b[2K\u001b[20A\u001b[2K\u001b[21A\u001b[2K\u001b[32A\u001b[2K\u001b[24A\u001b[2K\u001b[32A\u001b[2K\u001b[24A\u001b[2K\u001b[32A\u001b[2K\u001b[20A\u001b[2K\u001b[32A\u001b[2K\u001b[24A\u001b[2K\u001b[32A\u001b[2K\u001b[21A\u001b[2K\u001b[32A\u001b[2K\u001b[20A\u001b[2K\u001b[24A\u001b[2K\u001b[32A\u001b[2K\u001b[20A\u001b[2K\u001b[21A\u001b[2K\u001b[24A\u001b[2K\u001b[21A\u001b[2K\u001b[32A\u001b[2K\u001b[24A\u001b[2K\u001b[32A\u001b[2K\u001b[24A\u001b[2K\u001b[20A\u001b[2K\u001b[32A\u001b[2K\u001b[20A\u001b[2K\u001b[24A\u001b[2K\u001b[21A\u001b[2K\u001b[32A\u001b[2K\u001b[20A\u001b[2K\u001b[24A\u001b[2K\u001b[21A\u001b[2K\u001b[20A\u001b[2K\u001b[24A\u001b[2K\u001b[21A\u001b[2K\u001b[20A\u001b[2K\u001b[21A\u001b[2K\u001b[32A\u001b[2K\u001b[21A\u001b[2K\u001b[20A\u001b[2K\u001b[21A\u001b[2K\u001b[20A\u001b[2K\u001b[32A\u001b[2K\u001b[21A\u001b[2K\u001b[20A\u001b[2K\u001b[21A\u001b[2K\u001b[20A\u001b[2K\u001b[24A\u001b[2K\u001b[20A\u001b[2K\u001b[21A\u001b[2K\u001b[24A\u001b[2K\u001b[21A\u001b[2K\u001b[24A\u001b[2K\u001b[21A\u001b[2K\u001b[20A\u001b[2K\u001b[21A\u001b[2K\u001b[24A\u001b[2K\u001b[32A\u001b[2K\u001b[24A\u001b[2K\u001b[21A\u001b[2K\u001b[24A\u001b[2K\u001b[32A\u001b[2K\u001b[24A\u001b[2K\u001b[20A\u001b[2K\u001b[23A\u001b[2K\u001b[20A\u001b[2K\u001b[32A\u001b[2K\u001b[24A\u001b[2K\u001b[20A\u001b[2K\u001b[24A\u001b[2K\u001b[20A\u001b[2K\u001b[21A\u001b[2K\u001b[20A\u001b[2K\u001b[21A\u001b[2K\u001b[20A\u001b[2K\u001b[24A\u001b[2K\u001b[32A\u001b[2K\u001b[24A\u001b[2K\u001b[21A\u001b[2K\u001b[21A\u001b[2K\u001b[20A\u001b[2K\u001b[24A\u001b[2K\u001b[21A\u001b[2K\u001b[24A\u001b[2K\u001b[21A\u001b[2K\u001b[32A\u001b[2K\u001b[21A\u001b[2K\u001b[32A\u001b[2K\u001b[21A\u001b[2K\u001b[20A\u001b[2K\u001b[24A\u001b[2K\u001b[20A\u001b[2K\u001b[32A\u001b[2K\u001b[21A\u001b[2K\u001b[20A\u001b[2K\u001b[21A\u001b[2K\u001b[32A\u001b[2K\u001b[24A\u001b[2K\u001b[24A\u001b[2K\u001b[20A\u001b[2K\u001b[32A\u001b[2K\u001b[20A\u001b[2K\u001b[32A\u001b[2K\u001b[23A\u001b[2K\u001b[32A\u001b[2K\u001b[24A\u001b[2K\u001b[32A\u001b[2K\u001b[20A\u001b[2K\u001b[21A\u001b[2K\u001b[32A\u001b[2K\u001b[24A\u001b[2K\u001b[32A\u001b[2K\u001b[20A\u001b[2K\u001b[32A\u001b[2K\u001b[20A\u001b[2K\u001b[24A\u001b[2K\u001b[24A\u001b[2K\u001b[32A\u001b[2K\u001b[23A\u001b[2K\u001b[24A\u001b[2K\u001b[21A\u001b[2KPushing  361.3MB/443.1MB\u001b[23A\u001b[2K\u001b[24A\u001b[2K\u001b[20A\u001b[2K\u001b[32A\u001b[2K\u001b[24A\u001b[2K\u001b[32A\u001b[2K\u001b[20A\u001b[2K\u001b[32A\u001b[2K\u001b[20A\u001b[2K\u001b[32A\u001b[2K\u001b[23A\u001b[2K\u001b[20A\u001b[2K\u001b[32A\u001b[2K\u001b[20A\u001b[2K\u001b[32A\u001b[2K\u001b[24A\u001b[2K\u001b[20A\u001b[2K\u001b[32A\u001b[2K\u001b[20A\u001b[2K\u001b[21A\u001b[2K\u001b[20A\u001b[2K\u001b[23A\u001b[2K\u001b[21A\u001b[2K\u001b[23A\u001b[2K\u001b[21A\u001b[2K\u001b[24A\u001b[2K\u001b[20A\u001b[2K\u001b[23A\u001b[2K\u001b[32A\u001b[2K\u001b[21A\u001b[2K\u001b[32A\u001b[2K\u001b[20A\u001b[2K\u001b[32A\u001b[2K\u001b[20A\u001b[2K\u001b[21A\u001b[2K\u001b[32A\u001b[2K\u001b[21A\u001b[2K\u001b[32A\u001b[2K\u001b[20A\u001b[2K\u001b[32A\u001b[2K\u001b[21A\u001b[2K\u001b[24A\u001b[2K\u001b[21A\u001b[2K\u001b[32A\u001b[2K\u001b[21A\u001b[2K\u001b[24A\u001b[2K\u001b[21A\u001b[2K\u001b[24A\u001b[2K\u001b[21A\u001b[2K\u001b[20A\u001b[2K\u001b[21A\u001b[2K\u001b[32A\u001b[2K\u001b[21A\u001b[2K\u001b[20A\u001b[2K\u001b[21A\u001b[2K\u001b[20A\u001b[2K\u001b[21A\u001b[2K\u001b[20A\u001b[2K\u001b[32A\u001b[2K\u001b[21A\u001b[2K\u001b[20A\u001b[2K\u001b[21A\u001b[2K\u001b[32A\u001b[2K\u001b[24A\u001b[2K\u001b[20A\u001b[2K\u001b[19A\u001b[2K\u001b[21A\u001b[2K\u001b[32A\u001b[2K\u001b[21A\u001b[2K\u001b[32A\u001b[2K\u001b[20A\u001b[2K\u001b[32A\u001b[2K\u001b[19A\u001b[2K\u001b[32A\u001b[2K\u001b[24A\u001b[2K\u001b[19A\u001b[2K\u001b[24A\u001b[2K\u001b[19A\u001b[2K\u001b[21A\u001b[2K\u001b[24A\u001b[2K\u001b[19A\u001b[2K\u001b[24A\u001b[2K\u001b[19A\u001b[2K\u001b[21A\u001b[2K\u001b[19A\u001b[2K\u001b[21A\u001b[2K\u001b[24A\u001b[2K\u001b[32A\u001b[2K\u001b[24A\u001b[2K\u001b[19A\u001b[2K\u001b[20A\u001b[2K\u001b[24A\u001b[2K\u001b[21A\u001b[2K\u001b[24A\u001b[2K\u001b[20A\u001b[2K\u001b[19A\u001b[2K\u001b[32A\u001b[2K\u001b[24A\u001b[2K\u001b[32A\u001b[2K\u001b[20A\u001b[2K\u001b[21A\u001b[2K\u001b[32A\u001b[2K\u001b[21A\u001b[2K\u001b[24A\u001b[2K\u001b[32A\u001b[2K\u001b[24A\u001b[2K\u001b[19A\u001b[2K\u001b[32A\u001b[2K\u001b[24A\u001b[2K\u001b[21A\u001b[2K\u001b[24A\u001b[2K\u001b[21A\u001b[2K\u001b[32A\u001b[2K\u001b[21A\u001b[2K\u001b[24A\u001b[2K\u001b[20A\u001b[2K\u001b[21A\u001b[2K\u001b[32A\u001b[2K\u001b[21A\u001b[2K\u001b[24A\u001b[2K\u001b[21A\u001b[2K\u001b[24A\u001b[2K\u001b[21A\u001b[2K\u001b[20A\u001b[2K\u001b[21A\u001b[2K\u001b[18A\u001b[2K\u001b[20A\u001b[2K\u001b[32A\u001b[2K\u001b[24A\u001b[2K\u001b[20A\u001b[2K\u001b[24A\u001b[2K\u001b[20A\u001b[2K\u001b[32A\u001b[2K\u001b[20A\u001b[2K\u001b[32A\u001b[2K\u001b[20A\u001b[2K\u001b[21A\u001b[2K\u001b[24A\u001b[2K\u001b[21A\u001b[2K\u001b[32A\u001b[2K\u001b[24A\u001b[2K\u001b[32A\u001b[2K\u001b[20A\u001b[2K\u001b[21A\u001b[2K\u001b[20A\u001b[2K\u001b[24A\u001b[2K\u001b[32A\u001b[2K\u001b[20A\u001b[2K\u001b[21A\u001b[2K\u001b[20A\u001b[2K\u001b[21A\u001b[2K\u001b[32A\u001b[2K\u001b[21A\u001b[2K\u001b[20A\u001b[2K\u001b[21A\u001b[2K\u001b[24A\u001b[2K\u001b[21A\u001b[2K\u001b[24A\u001b[2K\u001b[32A\u001b[2K\u001b[32A\u001b[2K\u001b[20A\u001b[2K\u001b[32A\u001b[2K\u001b[17A\u001b[2K\u001b[21A\u001b[2K\u001b[20A\u001b[2K\u001b[16A\u001b[2K\u001b[32A\u001b[2K\u001b[20A\u001b[2K\u001b[32A\u001b[2K\u001b[20A\u001b[2K\u001b[21A\u001b[2K\u001b[20A\u001b[2K\u001b[16A\u001b[2K\u001b[20A\u001b[2K\u001b[21A\u001b[2K\u001b[32A\u001b[2K\u001b[21A\u001b[2K\u001b[32A\u001b[2K\u001b[15A\u001b[2K\u001b[32A\u001b[2K\u001b[20A\u001b[2K\u001b[32A\u001b[2K\u001b[21A\u001b[2K\u001b[32A\u001b[2K\u001b[14A\u001b[2K\u001b[21A\u001b[2K\u001b[15A\u001b[2K\u001b[21A\u001b[2K\u001b[32A\u001b[2K\u001b[14A\u001b[2K\u001b[21A\u001b[2K\u001b[15A\u001b[2K\u001b[32A\u001b[2K\u001b[14A\u001b[2K\u001b[15A\u001b[2K\u001b[32A\u001b[2K\u001b[20A\u001b[2K\u001b[32A\u001b[2K\u001b[20A\u001b[2K\u001b[14A\u001b[2K\u001b[21A\u001b[2K\u001b[14A\u001b[2K\u001b[32A\u001b[2K\u001b[21A\u001b[2K\u001b[32A\u001b[2K\u001b[21A\u001b[2K\u001b[32A\u001b[2K\u001b[14A\u001b[2K\u001b[32A\u001b[2K\u001b[21A\u001b[2K\u001b[32A\u001b[2K\u001b[21A\u001b[2K\u001b[14A\u001b[2K\u001b[21A\u001b[2K\u001b[14A\u001b[2K\u001b[21A\u001b[2K\u001b[20A\u001b[2K\u001b[32A\u001b[2K\u001b[21A\u001b[2K\u001b[32A\u001b[2K\u001b[14A\u001b[2K\u001b[20A\u001b[2K\u001b[21A\u001b[2K\u001b[32A\u001b[2K\u001b[21A\u001b[2K\u001b[20A\u001b[2K\u001b[21A\u001b[2K\u001b[14A\u001b[2K\u001b[21A\u001b[2K\u001b[20A\u001b[2K\u001b[21A\u001b[2K\u001b[32A\u001b[2K\u001b[21A\u001b[2K\u001b[32A\u001b[2K\u001b[15A\u001b[2K\u001b[20A\u001b[2K\u001b[32A\u001b[2K\u001b[14A\u001b[2K\u001b[14A\u001b[2K\u001b[14A\u001b[2K\u001b[32A\u001b[2K\u001b[14A\u001b[2K\u001b[14A\u001b[2K\u001b[21A\u001b[2K\u001b[20A\u001b[2K\u001b[14A\u001b[2K\u001b[32A\u001b[2K\u001b[21A\u001b[2K\u001b[14A\u001b[2K\u001b[21A\u001b[2K\u001b[14A\u001b[2K\u001b[21A\u001b[2K\u001b[32A\u001b[2K\u001b[14A\u001b[2K\u001b[20A\u001b[2K\u001b[32A\u001b[2K\u001b[20A\u001b[2K\u001b[32A\u001b[2K\u001b[21A\u001b[2K\u001b[14A\u001b[2K\u001b[32A\u001b[2K\u001b[14A\u001b[2K\u001b[14A\u001b[2K\u001b[20A\u001b[2K\u001b[14A\u001b[2K\u001b[20A\u001b[2K\u001b[14A\u001b[2K\u001b[32A\u001b[2K\u001b[14A\u001b[2K\u001b[20A\u001b[2K\u001b[21A\u001b[2K\u001b[20A\u001b[2K\u001b[21A\u001b[2K\u001b[14A\u001b[2K\u001b[21A\u001b[2K\u001b[15A\u001b[2K\u001b[20A\u001b[2K\u001b[32A\u001b[2K\u001b[14A\u001b[2K\u001b[20A\u001b[2K\u001b[21A\u001b[2K\u001b[32A\u001b[2K\u001b[21A\u001b[2K\u001b[14A\u001b[2K\u001b[21A\u001b[2K\u001b[20A\u001b[2K\u001b[32A\u001b[2K\u001b[21A\u001b[2K\u001b[15A\u001b[2K\u001b[21A\u001b[2K\u001b[15A\u001b[2K\u001b[21A\u001b[2K\u001b[20A\u001b[2K\u001b[14A\u001b[2K\u001b[32A\u001b[2K\u001b[20A\u001b[2K\u001b[32A\u001b[2K\u001b[21A\u001b[2K\u001b[20A\u001b[2K\u001b[32A\u001b[2K\u001b[15A\u001b[2K\u001b[21A\u001b[2K\u001b[32A\u001b[2K\u001b[14A\u001b[2K\u001b[32A\u001b[2K\u001b[14A\u001b[2K\u001b[15A\u001b[2K\u001b[32A\u001b[2K\u001b[21A\u001b[2K\u001b[20A\u001b[2K\u001b[21A\u001b[2K\u001b[14A\u001b[2K\u001b[20A\u001b[2K\u001b[14A\u001b[2K\u001b[32A\u001b[2K\u001b[21A\u001b[2K\u001b[32A\u001b[2K\u001b[14A\u001b[2K\u001b[32A\u001b[2K\u001b[21A\u001b[2K\u001b[20A\u001b[2K\u001b[21A\u001b[2K\u001b[15A\u001b[2K\u001b[21A\u001b[2K\u001b[14A\u001b[2K\u001b[32A\u001b[2K\u001b[21A\u001b[2K\u001b[14A\u001b[2K\u001b[32A\u001b[2K\u001b[14A\u001b[2K\u001b[21A\u001b[2K\u001b[32A\u001b[2K\u001b[14A\u001b[2K\u001b[32A\u001b[2K\u001b[21A\u001b[2K\u001b[20A\u001b[2K\u001b[32A\u001b[2K\u001b[21A\u001b[2K\u001b[20A\u001b[2K\u001b[15A\u001b[2K\u001b[20A\u001b[2K\u001b[14A\u001b[2K\u001b[21A\u001b[2K\u001b[32A\u001b[2K\u001b[15A\u001b[2K\u001b[32A\u001b[2K\u001b[14A\u001b[2K\u001b[15A\u001b[2K\u001b[32A\u001b[2K\u001b[20A\u001b[2K\u001b[32A\u001b[2K\u001b[20A\u001b[2K\u001b[32A\u001b[2K\u001b[21A\u001b[2K\u001b[14A\u001b[2K\u001b[20A\u001b[2K\u001b[14A\u001b[2K\u001b[32A\u001b[2K\u001b[20A\u001b[2K\u001b[32A\u001b[2K\u001b[20A\u001b[2K\u001b[14A\u001b[2K\u001b[20A\u001b[2K\u001b[15A\u001b[2K\u001b[21A\u001b[2K\u001b[21A\u001b[2K\u001b[14A\u001b[2K\u001b[21A\u001b[2K\u001b[32A\u001b[2K\u001b[14A\u001b[2K\u001b[20A\u001b[2K\u001b[14A\u001b[2K\u001b[20A\u001b[2K\u001b[32A\u001b[2K\u001b[14A\u001b[2K\u001b[20A\u001b[2K\u001b[21A\u001b[2K\u001b[20A\u001b[2K\u001b[32A\u001b[2K\u001b[14A\u001b[2K\u001b[20A\u001b[2K\u001b[32A\u001b[2K\u001b[21A\u001b[2K\u001b[14A\u001b[2K\u001b[21A\u001b[2K\u001b[14A\u001b[2K\u001b[14A\u001b[2K\u001b[32A\u001b[2K\u001b[14A\u001b[2K\u001b[20A\u001b[2K\u001b[21A\u001b[2K\u001b[20A\u001b[2K\u001b[32A\u001b[2K\u001b[20A\u001b[2K\u001b[15A\u001b[2K\u001b[14A\u001b[2K\u001b[20A\u001b[2K\u001b[14A\u001b[2K\u001b[14A\u001b[2K\u001b[32A\u001b[2K\u001b[20A\u001b[2K\u001b[14A\u001b[2K\u001b[32A\u001b[2K\u001b[20A\u001b[2K\u001b[32A\u001b[2K\u001b[20A\u001b[2K\u001b[14A\u001b[2K\u001b[32A\u001b[2K\u001b[20A\u001b[2K\u001b[21A\u001b[2K\u001b[14A\u001b[2K\u001b[21A\u001b[2K\u001b[32A\u001b[2K\u001b[20A\u001b[2K\u001b[14A\u001b[2K\u001b[20A\u001b[2K\u001b[21A\u001b[2K\u001b[32A\u001b[2K\u001b[20A\u001b[2K\u001b[32A\u001b[2K\u001b[15A\u001b[2K\u001b[32A\u001b[2K\u001b[21A\u001b[2K\u001b[32A\u001b[2K\u001b[14A\u001b[2K\u001b[15A\u001b[2K\u001b[20A\u001b[2K\u001b[15A\u001b[2K\u001b[14A\u001b[2K\u001b[21A\u001b[2K\u001b[15A\u001b[2K\u001b[21A\u001b[2K\u001b[14A\u001b[2K\u001b[21A\u001b[2K\u001b[32A\u001b[2K\u001b[21A\u001b[2K\u001b[14A\u001b[2K\u001b[21A\u001b[2K\u001b[14A\u001b[2K\u001b[32A\u001b[2K\u001b[21A\u001b[2K\u001b[14A\u001b[2K\u001b[20A\u001b[2K\u001b[14A\u001b[2K\u001b[32A\u001b[2K\u001b[14A\u001b[2K\u001b[21A\u001b[2K\u001b[14A\u001b[2K\u001b[15A\u001b[2K\u001b[32A\u001b[2K\u001b[15A\u001b[2K\u001b[21A\u001b[2KPushing    162MB/502.1MB\u001b[21A\u001b[2K\u001b[20A\u001b[2K\u001b[15A\u001b[2K\u001b[21A\u001b[2K\u001b[20A\u001b[2K\u001b[21A\u001b[2K\u001b[15A\u001b[2K\u001b[21A\u001b[2K\u001b[14A\u001b[2K\u001b[21A\u001b[2K\u001b[20A\u001b[2K\u001b[20A\u001b[2K\u001b[21A\u001b[2K\u001b[14A\u001b[2K\u001b[20A\u001b[2K\u001b[20A\u001b[2K\u001b[21A\u001b[2K\u001b[20A\u001b[2K\u001b[21A\u001b[2K\u001b[20A\u001b[2K\u001b[14A\u001b[2K\u001b[32A\u001b[2K\u001b[20A\u001b[2K\u001b[21A\u001b[2K\u001b[32A\u001b[2K\u001b[14A\u001b[2K\u001b[15A\u001b[2K\u001b[32A\u001b[2K\u001b[32A\u001b[2K\u001b[21A\u001b[2K\u001b[20A\u001b[2K\u001b[14A\u001b[2K\u001b[20A\u001b[2K\u001b[14A\u001b[2K\u001b[32A\u001b[2K\u001b[20A\u001b[2K\u001b[32A\u001b[2K\u001b[21A\u001b[2K\u001b[14A\u001b[2K\u001b[32A\u001b[2K\u001b[14A\u001b[2K\u001b[20A\u001b[2K\u001b[14A\u001b[2K\u001b[13A\u001b[2K\u001b[20A\u001b[2K\u001b[32A\u001b[2K\u001b[13A\u001b[2K\u001b[14A\u001b[2K\u001b[32A\u001b[2K\u001b[21A\u001b[2K\u001b[32A\u001b[2K\u001b[13A\u001b[2K\u001b[14A\u001b[2K\u001b[13A\u001b[2K\u001b[32A\u001b[2K\u001b[21A\u001b[2K\u001b[20A\u001b[2K\u001b[21A\u001b[2K\u001b[13A\u001b[2K\u001b[20A\u001b[2K\u001b[13A\u001b[2K\u001b[20A\u001b[2K\u001b[14A\u001b[2K\u001b[21A\u001b[2K\u001b[20A\u001b[2K\u001b[32A\u001b[2K\u001b[20A\u001b[2K\u001b[13A\u001b[2K\u001b[32A\u001b[2K\u001b[14A\u001b[2K\u001b[14A\u001b[2K\u001b[13A\u001b[2K\u001b[32A\u001b[2K\u001b[21A\u001b[2K\u001b[13A\u001b[2K\u001b[21A\u001b[2K\u001b[20A\u001b[2K\u001b[21A\u001b[2K\u001b[20A\u001b[2K\u001b[21A\u001b[2K\u001b[13A\u001b[2K\u001b[21A\u001b[2K\u001b[32A\u001b[2K\u001b[21A\u001b[2K\u001b[13A\u001b[2K\u001b[21A\u001b[2K\u001b[14A\u001b[2K\u001b[20A\u001b[2K\u001b[21A\u001b[2K\u001b[32A\u001b[2K\u001b[20A\u001b[2K\u001b[14A\u001b[2K\u001b[13A\u001b[2K\u001b[20A\u001b[2K\u001b[32A\u001b[2K\u001b[21A\u001b[2K\u001b[32A\u001b[2K\u001b[14A\u001b[2K\u001b[20A\u001b[2K\u001b[32A\u001b[2K\u001b[20A\u001b[2K\u001b[32A\u001b[2K\u001b[21A\u001b[2K\u001b[14A\u001b[2K\u001b[32A\u001b[2K\u001b[20A\u001b[2K\u001b[32A\u001b[2K\u001b[14A\u001b[2K\u001b[32A\u001b[2K\u001b[21A\u001b[2K\u001b[20A\u001b[2K\u001b[13A\u001b[2K\u001b[21A\u001b[2K\u001b[13A\u001b[2K\u001b[21A\u001b[2K\u001b[13A\u001b[2K\u001b[14A\u001b[2K\u001b[20A\u001b[2K\u001b[13A\u001b[2K\u001b[20A\u001b[2K\u001b[13A\u001b[2K\u001b[20A\u001b[2K\u001b[21A\u001b[2K\u001b[13A\u001b[2K\u001b[32A\u001b[2K\u001b[21A\u001b[2K\u001b[13A\u001b[2K\u001b[21A\u001b[2K\u001b[21A\u001b[2K\u001b[20A\u001b[2K\u001b[21A\u001b[2K\u001b[20A\u001b[2K\u001b[32A\u001b[2K\u001b[21A\u001b[2K\u001b[20A\u001b[2K\u001b[13A\u001b[2K\u001b[14A\u001b[2K\u001b[13A\u001b[2K\u001b[20A\u001b[2K\u001b[32A\u001b[2K\u001b[13A\u001b[2K\u001b[20A\u001b[2K\u001b[21A\u001b[2K\u001b[14A\u001b[2K\u001b[21A\u001b[2K\u001b[14A\u001b[2K\u001b[21A\u001b[2K\u001b[13A\u001b[2K\u001b[20A\u001b[2K\u001b[14A\u001b[2K\u001b[20A\u001b[2K\u001b[32A\u001b[2K\u001b[21A\u001b[2K\u001b[32A\u001b[2K\u001b[13A\u001b[2K\u001b[20A\u001b[2K\u001b[21A\u001b[2K\u001b[13A\u001b[2K\u001b[20A\u001b[2K\u001b[13A\u001b[2K\u001b[20A\u001b[2K\u001b[13A\u001b[2K\u001b[20A\u001b[2K\u001b[32A\u001b[2K\u001b[20A\u001b[2K\u001b[13A\u001b[2K\u001b[20A\u001b[2K\u001b[13A\u001b[2K\u001b[20A\u001b[2K\u001b[13A\u001b[2K\u001b[14A\u001b[2K\u001b[13A\u001b[2K\u001b[21A\u001b[2K\u001b[13A\u001b[2K\u001b[21A\u001b[2K\u001b[13A\u001b[2K\u001b[20A\u001b[2K\u001b[14A\u001b[2K\u001b[20A\u001b[2K\u001b[14A\u001b[2K\u001b[13A\u001b[2K\u001b[32A\u001b[2K\u001b[13A\u001b[2K\u001b[14A\u001b[2K\u001b[21A\u001b[2K\u001b[20A\u001b[2K\u001b[32A\u001b[2K\u001b[21A\u001b[2K\u001b[20A\u001b[2K\u001b[21A\u001b[2K\u001b[14A\u001b[2K\u001b[21A\u001b[2K\u001b[32A\u001b[2K\u001b[14A\u001b[2K\u001b[32A\u001b[2K\u001b[21A\u001b[2K\u001b[20A\u001b[2K\u001b[21A\u001b[2K\u001b[14A\u001b[2K\u001b[32A\u001b[2K\u001b[14A\u001b[2K\u001b[14A\u001b[2K\u001b[14A\u001b[2K\u001b[21A\u001b[2K\u001b[12A\u001b[2K\u001b[20A\u001b[2K\u001b[21A\u001b[2K\u001b[14A\u001b[2K\u001b[21A\u001b[2K\u001b[14A\u001b[2K\u001b[21A\u001b[2K\u001b[14A\u001b[2K\u001b[20A\u001b[2K\u001b[14A\u001b[2K\u001b[20A\u001b[2K\u001b[21A\u001b[2K\u001b[20A\u001b[2K\u001b[21A\u001b[2K\u001b[14A\u001b[2K\u001b[32A\u001b[2K\u001b[14A\u001b[2K\u001b[32A\u001b[2K\u001b[14A\u001b[2K\u001b[21A\u001b[2K\u001b[14A\u001b[2K\u001b[32A\u001b[2K\u001b[14A\u001b[2K\u001b[32A\u001b[2K\u001b[14A\u001b[2K\u001b[32A\u001b[2K\u001b[11A\u001b[2K\u001b[32A\u001b[2K\u001b[20A\u001b[2K\u001b[32A\u001b[2K\u001b[20A\u001b[2K\u001b[11A\u001b[2K\u001b[21A\u001b[2K\u001b[14A\u001b[2K\u001b[21A\u001b[2K\u001b[20A\u001b[2K\u001b[14A\u001b[2K\u001b[21A\u001b[2K\u001b[32A\u001b[2K\u001b[21A\u001b[2K\u001b[20A\u001b[2K\u001b[21A\u001b[2K\u001b[14A\u001b[2K\u001b[11A\u001b[2K\u001b[14A\u001b[2K\u001b[11A\u001b[2K\u001b[32A\u001b[2K\u001b[20A\u001b[2K\u001b[32A\u001b[2K\u001b[11A\u001b[2K\u001b[20A\u001b[2K\u001b[11A\u001b[2K\u001b[20A\u001b[2K\u001b[11A\u001b[2K\u001b[20A\u001b[2K\u001b[14A\u001b[2K\u001b[20A\u001b[2K\u001b[32A\u001b[2K\u001b[14A\u001b[2K\u001b[32A\u001b[2K\u001b[14A\u001b[2K\u001b[32A\u001b[2K\u001b[11A\u001b[2K\u001b[20A\u001b[2K\u001b[32A\u001b[2K\u001b[20A\u001b[2K\u001b[21A\u001b[2K\u001b[20A\u001b[2K\u001b[14A\u001b[2K\u001b[20A\u001b[2K\u001b[11A\u001b[2K\u001b[14A\u001b[2K\u001b[14A\u001b[2K\u001b[11A\u001b[2K\u001b[20A\u001b[2K\u001b[14A\u001b[2K\u001b[20A\u001b[2K\u001b[32A\u001b[2K\u001b[14A\u001b[2K\u001b[32A\u001b[2K\u001b[11A\u001b[2K\u001b[21A\u001b[2K\u001b[11A\u001b[2K\u001b[14A\u001b[2K\u001b[11A\u001b[2K\u001b[14A\u001b[2K\u001b[11A\u001b[2K\u001b[14A\u001b[2K\u001b[32A\u001b[2K\u001b[14A\u001b[2K\u001b[32A\u001b[2K\u001b[21A\u001b[2K\u001b[32A\u001b[2K\u001b[21A\u001b[2K\u001b[14A\u001b[2K\u001b[21A\u001b[2K\u001b[14A\u001b[2K\u001b[32A\u001b[2K\u001b[21A\u001b[2K\u001b[11A\u001b[2K\u001b[14A\u001b[2K\u001b[14A\u001b[2K\u001b[32A\u001b[2K\u001b[14A\u001b[2K\u001b[32A\u001b[2K\u001b[14A\u001b[2K\u001b[14A\u001b[2K\u001b[21A\u001b[2K\u001b[14A\u001b[2K\u001b[20A\u001b[2K\u001b[21A\u001b[2K\u001b[32A\u001b[2K\u001b[20A\u001b[2K\u001b[32A\u001b[2K\u001b[20A\u001b[2K\u001b[32A\u001b[2K\u001b[21A\u001b[2K\u001b[20A\u001b[2K\u001b[21A\u001b[2K\u001b[14A\u001b[2K\u001b[32A\u001b[2K\u001b[21A\u001b[2K\u001b[14A\u001b[2K\u001b[21A\u001b[2K\u001b[10A\u001b[2K\u001b[20A\u001b[2K\u001b[32A\u001b[2K\u001b[20A\u001b[2K\u001b[14A\u001b[2K\u001b[32A\u001b[2K\u001b[14A\u001b[2K\u001b[21A\u001b[2K\u001b[14A\u001b[2K\u001b[10A\u001b[2K\u001b[20A\u001b[2K\u001b[10A\u001b[2K\u001b[21A\u001b[2K\u001b[14A\u001b[2K\u001b[10A\u001b[2K\u001b[14A\u001b[2K\u001b[20A\u001b[2K\u001b[14A\u001b[2K\u001b[20A\u001b[2K\u001b[14A\u001b[2K\u001b[32A\u001b[2K\u001b[20A\u001b[2K\u001b[20A\u001b[2K\u001b[21A\u001b[2K\u001b[32A\u001b[2K\u001b[14A\u001b[2K\u001b[14A\u001b[2K\u001b[32A\u001b[2K\u001b[14A\u001b[2K\u001b[10A\u001b[2K\u001b[14A\u001b[2K\u001b[10A\u001b[2K\u001b[20A\u001b[2K\u001b[14A\u001b[2K\u001b[10A\u001b[2K\u001b[21A\u001b[2K\u001b[14A\u001b[2K\u001b[20A\u001b[2K\u001b[21A\u001b[2K\u001b[10A\u001b[2K\u001b[21A\u001b[2K\u001b[32A\u001b[2K\u001b[10A\u001b[2K\u001b[21A\u001b[2K\u001b[20A\u001b[2K\u001b[10A\u001b[2K\u001b[20A\u001b[2K\u001b[14A\u001b[2K\u001b[20A\u001b[2K\u001b[10A\u001b[2K\u001b[20A\u001b[2K\u001b[10A\u001b[2K\u001b[20A\u001b[2K\u001b[21A\u001b[2K\u001b[10A\u001b[2K\u001b[21A\u001b[2K\u001b[20A\u001b[2K\u001b[21A\u001b[2K\u001b[20A\u001b[2K\u001b[14A\u001b[2K\u001b[20A\u001b[2K\u001b[14A\u001b[2K\u001b[20A\u001b[2K\u001b[14A\u001b[2K\u001b[10A\u001b[2K\u001b[20A\u001b[2K\u001b[21A\u001b[2K\u001b[20A\u001b[2K\u001b[32A\u001b[2K\u001b[10A\u001b[2K\u001b[14A\u001b[2K\u001b[14A\u001b[2K\u001b[20A\u001b[2K\u001b[14A\u001b[2K\u001b[21A\u001b[2K\u001b[10A\u001b[2K\u001b[32A\u001b[2K\u001b[20A\u001b[2K\u001b[14A\u001b[2K\u001b[20A\u001b[2K\u001b[21A\u001b[2K\u001b[20A\u001b[2K\u001b[21A\u001b[2K\u001b[20A\u001b[2K\u001b[32A\u001b[2K\u001b[20A\u001b[2K\u001b[14A\u001b[2K\u001b[21A\u001b[2K\u001b[14A\u001b[2K\u001b[20A\u001b[2K\u001b[32A\u001b[2K\u001b[20A\u001b[2K\u001b[10A\u001b[2K\u001b[20A\u001b[2K\u001b[10A\u001b[2K\u001b[21A\u001b[2K\u001b[20A\u001b[2K\u001b[10A\u001b[2K\u001b[14A\u001b[2K\u001b[20A\u001b[2K\u001b[14A\u001b[2K\u001b[10A\u001b[2K\u001b[21A\u001b[2K\u001b[14A\u001b[2K\u001b[20A\u001b[2K\u001b[14A\u001b[2K\u001b[20A\u001b[2K\u001b[21A\u001b[2K\u001b[32A\u001b[2K\u001b[10A\u001b[2K\u001b[21A\u001b[2K\u001b[10A\u001b[2K\u001b[21A\u001b[2K\u001b[10A\u001b[2K\u001b[21A\u001b[2K\u001b[10A\u001b[2K\u001b[20A\u001b[2K\u001b[10A\u001b[2K\u001b[20A\u001b[2K\u001b[32A\u001b[2K\u001b[14A\u001b[2K\u001b[21A\u001b[2K\u001b[32A\u001b[2K\u001b[14A\u001b[2K\u001b[10A\u001b[2K\u001b[14A\u001b[2K\u001b[32A\u001b[2K\u001b[20A\u001b[2K\u001b[21A\u001b[2K\u001b[10A\u001b[2K\u001b[21A\u001b[2K\u001b[32A\u001b[2K\u001b[21A\u001b[2K\u001b[20A\u001b[2K\u001b[32A\u001b[2K\u001b[20A\u001b[2K\u001b[14A\u001b[2K\u001b[20A\u001b[2K\u001b[21A\u001b[2K\u001b[10A\u001b[2K\u001b[14A\u001b[2K\u001b[10A\u001b[2K\u001b[20A\u001b[2K\u001b[14A\u001b[2K\u001b[20A\u001b[2K\u001b[14A\u001b[2K\u001b[10A\u001b[2K\u001b[21A\u001b[2K\u001b[10A\u001b[2K\u001b[21A\u001b[2K\u001b[32A\u001b[2K\u001b[14A\u001b[2K\u001b[10A\u001b[2K\u001b[14A\u001b[2K\u001b[10A\u001b[2K\u001b[32A\u001b[2K\u001b[20A\u001b[2K\u001b[14A\u001b[2K\u001b[20A\u001b[2K\u001b[10A\u001b[2K\u001b[20A\u001b[2K\u001b[10A\u001b[2K\u001b[32A\u001b[2K\u001b[21A\u001b[2K\u001b[14A\u001b[2K\u001b[20A\u001b[2K\u001b[21A\u001b[2K\u001b[14A\u001b[2K\u001b[21A\u001b[2K\u001b[14A\u001b[2K\u001b[21A\u001b[2K\u001b[14A\u001b[2K\u001b[21A\u001b[2K\u001b[14A\u001b[2K\u001b[21A\u001b[2K\u001b[10A\u001b[2K\u001b[14A\u001b[2K\u001b[21A\u001b[2K\u001b[14A\u001b[2K\u001b[20A\u001b[2K\u001b[10A\u001b[2K\u001b[14A\u001b[2K\u001b[32A\u001b[2K\u001b[20A\u001b[2K\u001b[14A\u001b[2K\u001b[10A\u001b[2K\u001b[14A\u001b[2K\u001b[20A\u001b[2K\u001b[14A\u001b[2K\u001b[21A\u001b[2K\u001b[20A\u001b[2K\u001b[21A\u001b[2K\u001b[20A\u001b[2K\u001b[21A\u001b[2K\u001b[10A\u001b[2K\u001b[32A\u001b[2K\u001b[21A\u001b[2K\u001b[10A\u001b[2K\u001b[21A\u001b[2K\u001b[10A\u001b[2K\u001b[20A\u001b[2K\u001b[10A\u001b[2K\u001b[20A\u001b[2K\u001b[21A\u001b[2K\u001b[20A\u001b[2K\u001b[21A\u001b[2K\u001b[10A\u001b[2K\u001b[21A\u001b[2K\u001b[10A\u001b[2K\u001b[32A\u001b[2K\u001b[14A\u001b[2K\u001b[20A\u001b[2K\u001b[21A\u001b[2K\u001b[20A\u001b[2K\u001b[21A\u001b[2K\u001b[20A\u001b[2K\u001b[21A\u001b[2K\u001b[20A\u001b[2K\u001b[10A\u001b[2K\u001b[20A\u001b[2K\u001b[10A\u001b[2K\u001b[20A\u001b[2K\u001b[10A\u001b[2K\u001b[20A\u001b[2K\u001b[14A\u001b[2K\u001b[20A\u001b[2K\u001b[32A\u001b[2K\u001b[10A\u001b[2K\u001b[20A\u001b[2K\u001b[10A\u001b[2K\u001b[21A\u001b[2K\u001b[32A\u001b[2K\u001b[20A\u001b[2K\u001b[32A\u001b[2K\u001b[10A\u001b[2K\u001b[20A\u001b[2K\u001b[10A\u001b[2K\u001b[20A\u001b[2K\u001b[10A\u001b[2K\u001b[21A\u001b[2K\u001b[21A\u001b[2K\u001b[32A\u001b[2K\u001b[10A\u001b[2K\u001b[20A\u001b[2K\u001b[14A\u001b[2K\u001b[20A\u001b[2K\u001b[14A\u001b[2K\u001b[20A\u001b[2K\u001b[14A\u001b[2K\u001b[20A\u001b[2K\u001b[32A\u001b[2K\u001b[20A\u001b[2K\u001b[21A\u001b[2K\u001b[10A\u001b[2K\u001b[21A\u001b[2K\u001b[14A\u001b[2K\u001b[20A\u001b[2K\u001b[32A\u001b[2K\u001b[20A\u001b[2K\u001b[14A\u001b[2K\u001b[10A\u001b[2K\u001b[14A\u001b[2K\u001b[10A\u001b[2K\u001b[20A\u001b[2K\u001b[14A\u001b[2K\u001b[20A\u001b[2K\u001b[14A\u001b[2K\u001b[10A\u001b[2K\u001b[14A\u001b[2K\u001b[14A\u001b[2K\u001b[10A\u001b[2K\u001b[14A\u001b[2K\u001b[32A\u001b[2K\u001b[20A\u001b[2K\u001b[14A\u001b[2K\u001b[32A\u001b[2K\u001b[21A\u001b[2K\u001b[32A\u001b[2K\u001b[20A\u001b[2K\u001b[14A\u001b[2K\u001b[20A\u001b[2K\u001b[14A\u001b[2K\u001b[32A\u001b[2K\u001b[14A\u001b[2K\u001b[9A\u001b[2K\u001b[20A\u001b[2K\u001b[10A\u001b[2K\u001b[9A\u001b[2K\u001b[14A\u001b[2K\u001b[9A\u001b[2K\u001b[20A\u001b[2K\u001b[14A\u001b[2K\u001b[9A\u001b[2K\u001b[14A\u001b[2K\u001b[10A\u001b[2K\u001b[9A\u001b[2K\u001b[10A\u001b[2K\u001b[9A\u001b[2K\u001b[10A\u001b[2K\u001b[20A\u001b[2K\u001b[9A\u001b[2K\u001b[10A\u001b[2K\u001b[9A\u001b[2K\u001b[10A\u001b[2K\u001b[14A\u001b[2K\u001b[10A\u001b[2K\u001b[20A\u001b[2K\u001b[9A\u001b[2K\u001b[10A\u001b[2K\u001b[20A\u001b[2K\u001b[10A\u001b[2K\u001b[20A\u001b[2K\u001b[9A\u001b[2K\u001b[10A\u001b[2K\u001b[32A\u001b[2K\u001b[9A\u001b[2K\u001b[20A\u001b[2K\u001b[32A\u001b[2K\u001b[20A\u001b[2K\u001b[10A\u001b[2K\u001b[9A\u001b[2K\u001b[10A\u001b[2K\u001b[32A\u001b[2K\u001b[14A\u001b[2K\u001b[14A\u001b[2K\u001b[9A\u001b[2K\u001b[14A\u001b[2K\u001b[20A\u001b[2K\u001b[20A\u001b[2K\u001b[9A\u001b[2K\u001b[20A\u001b[2K\u001b[9A\u001b[2K\u001b[10A\u001b[2K\u001b[20A\u001b[2K\u001b[9A\u001b[2K\u001b[32A\u001b[2K\u001b[9A\u001b[2K\u001b[32A\u001b[2K\u001b[20A\u001b[2K\u001b[32A\u001b[2K\u001b[9A\u001b[2K\u001b[32A\u001b[2K\u001b[9A\u001b[2K\u001b[20A\u001b[2K\u001b[32A\u001b[2K\u001b[10A\u001b[2K\u001b[32A\u001b[2K\u001b[10A\u001b[2K\u001b[32A\u001b[2K\u001b[10A\u001b[2K\u001b[32A\u001b[2K\u001b[10A\u001b[2K\u001b[32A\u001b[2K\u001b[8A\u001b[2K\u001b[32A\u001b[2K\u001b[10A\u001b[2K\u001b[9A\u001b[2K\u001b[20A\u001b[2K\u001b[9A\u001b[2K\u001b[20A\u001b[2K\u001b[10A\u001b[2K\u001b[9A\u001b[2K\u001b[10A\u001b[2K\u001b[9A\u001b[2K\u001b[32A\u001b[2K\u001b[9A\u001b[2K\u001b[20A\u001b[2K\u001b[10A\u001b[2K\u001b[32A\u001b[2K\u001b[10A\u001b[2K\u001b[32A\u001b[2K\u001b[20A\u001b[2K\u001b[10A\u001b[2K\u001b[20A\u001b[2K\u001b[10A\u001b[2K\u001b[9A\u001b[2K\u001b[10A\u001b[2K\u001b[9A\u001b[2K\u001b[20A\u001b[2K\u001b[32A\u001b[2K\u001b[20A\u001b[2K\u001b[10A\u001b[2K\u001b[32A\u001b[2K\u001b[9A\u001b[2K\u001b[10A\u001b[2K\u001b[32A\u001b[2K\u001b[10A\u001b[2K\u001b[9A\u001b[2K\u001b[20A\u001b[2K\u001b[9A\u001b[2K\u001b[10A\u001b[2K\u001b[9A\u001b[2K\u001b[32A\u001b[2K\u001b[9A\u001b[2K\u001b[20A\u001b[2K\u001b[10A\u001b[2K\u001b[20A\u001b[2K\u001b[10A\u001b[2K\u001b[32A\u001b[2K\u001b[20A\u001b[2K\u001b[10A\u001b[2K\u001b[32A\u001b[2K\u001b[10A\u001b[2K\u001b[20A\u001b[2K\u001b[9A\u001b[2K\u001b[10A\u001b[2K\u001b[20A\u001b[2K\u001b[9A\u001b[2K\u001b[32A\u001b[2K\u001b[9A\u001b[2K\u001b[20A\u001b[2K\u001b[32A\u001b[2K\u001b[10A\u001b[2K\u001b[20A\u001b[2K\u001b[10A\u001b[2K\u001b[20A\u001b[2K\u001b[9A\u001b[2K\u001b[20A\u001b[2K\u001b[9A\u001b[2K\u001b[20A\u001b[2K\u001b[5A\u001b[2K\u001b[20A\u001b[2K\u001b[10A\u001b[2K\u001b[20A\u001b[2K\u001b[32A\u001b[2K\u001b[9A\u001b[2K\u001b[10A\u001b[2K\u001b[9A\u001b[2K\u001b[10A\u001b[2K\u001b[32A\u001b[2K\u001b[10A\u001b[2K\u001b[9A\u001b[2K\u001b[32A\u001b[2K\u001b[20A\u001b[2K\u001b[32A\u001b[2K\u001b[9A\u001b[2K\u001b[32A\u001b[2K\u001b[10A\u001b[2K\u001b[20A\u001b[2K\u001b[4A\u001b[2K\u001b[32A\u001b[2K\u001b[9A\u001b[2K\u001b[32A\u001b[2K\u001b[10A\u001b[2K\u001b[32A\u001b[2K\u001b[9A\u001b[2K\u001b[32A\u001b[2K\u001b[10A\u001b[2K\u001b[9A\u001b[2K\u001b[4A\u001b[2K\u001b[10A\u001b[2K\u001b[32A\u001b[2K\u001b[9A\u001b[2K\u001b[9A\u001b[2K\u001b[20A\u001b[2K\u001b[32A\u001b[2K\u001b[20A\u001b[2K\u001b[9A\u001b[2K\u001b[4A\u001b[2K\u001b[20A\u001b[2K\u001b[4A\u001b[2K\u001b[4A\u001b[2K\u001b[32A\u001b[2K\u001b[4A\u001b[2K\u001b[20A\u001b[2K\u001b[9A\u001b[2K\u001b[32A\u001b[2K\u001b[9A\u001b[2K\u001b[32A\u001b[2K\u001b[3A\u001b[2K\u001b[32A\u001b[2K\u001b[3A\u001b[2K\u001b[9A\u001b[2K\u001b[3A\u001b[2K\u001b[9A\u001b[2K\u001b[20A\u001b[2K\u001b[3A\u001b[2K\u001b[20A\u001b[2K\u001b[32A\u001b[2K\u001b[3A\u001b[2K\u001b[32A\u001b[2K\u001b[3A\u001b[2K\u001b[4A\u001b[2K\u001b[3A\u001b[2K\u001b[9A\u001b[2K\u001b[20A\u001b[2K\u001b[32A\u001b[2K\u001b[20A\u001b[2K\u001b[32A\u001b[2K\u001b[9A\u001b[2K\u001b[32A\u001b[2K\u001b[3A\u001b[2K\u001b[32A\u001b[2K\u001b[20A\u001b[2K\u001b[3A\u001b[2K\u001b[9A\u001b[2K\u001b[20A\u001b[2K\u001b[9A\u001b[2K\u001b[20A\u001b[2K\u001b[9A\u001b[2K\u001b[3A\u001b[2K\u001b[9A\u001b[2K\u001b[20A\u001b[2K\u001b[3A\u001b[2K\u001b[32A\u001b[2K\u001b[20A\u001b[2K\u001b[32A\u001b[2K\u001b[20A\u001b[2K\u001b[9A\u001b[2K\u001b[32A\u001b[2K\u001b[9A\u001b[2K\u001b[32A\u001b[2K\u001b[9A\u001b[2K\u001b[32A\u001b[2K\u001b[9A\u001b[2K\u001b[3A\u001b[2K\u001b[20A\u001b[2K\u001b[9A\u001b[2K\u001b[3A\u001b[2K\u001b[2A\u001b[2K\u001b[3A\u001b[2K\u001b[20A\u001b[2K\u001b[32A\u001b[2K\u001b[9A\u001b[2K\u001b[3A\u001b[2K\u001b[9A\u001b[2K\u001b[9A\u001b[2K\u001b[20A\u001b[2K\u001b[32A\u001b[2K\u001b[9A\u001b[2K\u001b[3A\u001b[2K\u001b[32A\u001b[2K\u001b[3A\u001b[2K\u001b[32A\u001b[2K\u001b[9A\u001b[2K\u001b[32A\u001b[2K\u001b[9A\u001b[2K\u001b[32A\u001b[2K\u001b[20A\u001b[2K\u001b[3A\u001b[2K\u001b[20A\u001b[2K\u001b[9A\u001b[2K\u001b[20A\u001b[2K\u001b[32A\u001b[2K\u001b[9A\u001b[2K\u001b[32A\u001b[2K\u001b[3A\u001b[2K\u001b[20A\u001b[2K\u001b[3A\u001b[2K\u001b[32A\u001b[2KPushing  1.251GB/2.217GB\u001b[32A\u001b[2K\u001b[9A\u001b[2K\u001b[32A\u001b[2K\u001b[9A\u001b[2K\u001b[3A\u001b[2K\u001b[9A\u001b[2K\u001b[1A\u001b[2K\u001b[9A\u001b[2K\u001b[1A\u001b[2K\u001b[3A\u001b[2K\u001b[9A\u001b[2K\u001b[1A\u001b[2K\u001b[3A\u001b[2K\u001b[20A\u001b[2K\u001b[9A\u001b[2K\u001b[20A\u001b[2K\u001b[1A\u001b[2K\u001b[3A\u001b[2K\u001b[20A\u001b[2K\u001b[9A\u001b[2K\u001b[20A\u001b[2K\u001b[32A\u001b[2K\u001b[20A\u001b[2K\u001b[32A\u001b[2K\u001b[20A\u001b[2K\u001b[9A\u001b[2K\u001b[20A\u001b[2K\u001b[9A\u001b[2K\u001b[32A\u001b[2K\u001b[3A\u001b[2K\u001b[32A\u001b[2K\u001b[1A\u001b[2K\u001b[9A\u001b[2K\u001b[32A\u001b[2K\u001b[9A\u001b[2K\u001b[20A\u001b[2K\u001b[32A\u001b[2K\u001b[20A\u001b[2K\u001b[9A\u001b[2K\u001b[20A\u001b[2K\u001b[32A\u001b[2K\u001b[20A\u001b[2K\u001b[32A\u001b[2K\u001b[20A\u001b[2K\u001b[9A\u001b[2K\u001b[3A\u001b[2K\u001b[20A\u001b[2K\u001b[32A\u001b[2K\u001b[3A\u001b[2K\u001b[20A\u001b[2K\u001b[3A\u001b[2K\u001b[1A\u001b[2K\u001b[32A\u001b[2K\u001b[3A\u001b[2K\u001b[9A\u001b[2K\u001b[32A\u001b[2K\u001b[9A\u001b[2K\u001b[32A\u001b[2K\u001b[1A\u001b[2K\u001b[1A\u001b[2K\u001b[1A\u001b[2K\u001b[32A\u001b[2K\u001b[9A\u001b[2K\u001b[1A\u001b[2K\u001b[9A\u001b[2K\u001b[1A\u001b[2K\u001b[32A\u001b[2K\u001b[9A\u001b[2K\u001b[1A\u001b[2K\u001b[9A\u001b[2K\u001b[20A\u001b[2K\u001b[32A\u001b[2K\u001b[9A\u001b[2K\u001b[32A\u001b[2K\u001b[9A\u001b[2K\u001b[32A\u001b[2K\u001b[9A\u001b[2K\u001b[32A\u001b[2K\u001b[9A\u001b[2K\u001b[3A\u001b[2K\u001b[1A\u001b[2K\u001b[3A\u001b[2K\u001b[32A\u001b[2K\u001b[20A\u001b[2K\u001b[1A\u001b[2K\u001b[3A\u001b[2K\u001b[1A\u001b[2K\u001b[20A\u001b[2K\u001b[9A\u001b[2K\u001b[32A\u001b[2K\u001b[1A\u001b[2K\u001b[20A\u001b[2K\u001b[1A\u001b[2K\u001b[9A\u001b[2K\u001b[32A\u001b[2K\u001b[1A\u001b[2K\u001b[9A\u001b[2K\u001b[1A\u001b[2K\u001b[20A\u001b[2K\u001b[32A\u001b[2K\u001b[1A\u001b[2K\u001b[32A\u001b[2K\u001b[20A\u001b[2K\u001b[1A\u001b[2K\u001b[9A\u001b[2K\u001b[32A\u001b[2K\u001b[9A\u001b[2K\u001b[3A\u001b[2K\u001b[32A\u001b[2K\u001b[1A\u001b[2K\u001b[3A\u001b[2K\u001b[9A\u001b[2K\u001b[20A\u001b[2K\u001b[3A\u001b[2K\u001b[20A\u001b[2K\u001b[3A\u001b[2K\u001b[20A\u001b[2K\u001b[1A\u001b[2K\u001b[3A\u001b[2K\u001b[1A\u001b[2K\u001b[20A\u001b[2K\u001b[32A\u001b[2K\u001b[20A\u001b[2K\u001b[1A\u001b[2K\u001b[20A\u001b[2K\u001b[1A\u001b[2K\u001b[9A\u001b[2K\u001b[3A\u001b[2K\u001b[1A\u001b[2K\u001b[20A\u001b[2K\u001b[1A\u001b[2K\u001b[9A\u001b[2K\u001b[32A\u001b[2K\u001b[9A\u001b[2K\u001b[20A\u001b[2K\u001b[32A\u001b[2K\u001b[9A\u001b[2K\u001b[20A\u001b[2K\u001b[9A\u001b[2K\u001b[3A\u001b[2K\u001b[32A\u001b[2K\u001b[9A\u001b[2K\u001b[20A\u001b[2K\u001b[9A\u001b[2K\u001b[20A\u001b[2K\u001b[3A\u001b[2K\u001b[20A\u001b[2K\u001b[1A\u001b[2K\u001b[9A\u001b[2K\u001b[1A\u001b[2K\u001b[3A\u001b[2K\u001b[9A\u001b[2K\u001b[32A\u001b[2K\u001b[1A\u001b[2K\u001b[9A\u001b[2K\u001b[1A\u001b[2K\u001b[20A\u001b[2K\u001b[32A\u001b[2K\u001b[20A\u001b[2K\u001b[3A\u001b[2K\u001b[1A\u001b[2K\u001b[9A\u001b[2K\u001b[32A\u001b[2K\u001b[20A\u001b[2K\u001b[32A\u001b[2K\u001b[3A\u001b[2K\u001b[20A\u001b[2K\u001b[3A\u001b[2K\u001b[20A\u001b[2K\u001b[32A\u001b[2K\u001b[20A\u001b[2K\u001b[32A\u001b[2K\u001b[1A\u001b[2K\u001b[32A\u001b[2K\u001b[3A\u001b[2K\u001b[20A\u001b[2K\u001b[3A\u001b[2K\u001b[32A\u001b[2K\u001b[32A\u001b[2K\u001b[32A\u001b[2K\u001b[3A\u001b[2K\u001b[32A\u001b[2K\u001b[3A\u001b[2K\u001b[32A\u001b[2K\u001b[20A\u001b[2K\u001b[32A\u001b[2K\u001b[20A\u001b[2K\u001b[32A\u001b[2K\u001b[20A\u001b[2K\u001b[3A\u001b[2K\u001b[32A\u001b[2K\u001b[3A\u001b[2K\u001b[32A\u001b[2K\u001b[20A\u001b[2K\u001b[32A\u001b[2K\u001b[20A\u001b[2K\u001b[32A\u001b[2K\u001b[20A\u001b[2K\u001b[32A\u001b[2K\u001b[3A\u001b[2K\u001b[20A\u001b[2K\u001b[3A\u001b[2K\u001b[20A\u001b[2K\u001b[32A\u001b[2K\u001b[20A\u001b[2K\u001b[32A\u001b[2K\u001b[20A\u001b[2K\u001b[32A\u001b[2K\u001b[3A\u001b[2K\u001b[20A\u001b[2K\u001b[20A\u001b[2K\u001b[20A\u001b[2K\u001b[20A\u001b[2K\u001b[3A\u001b[2K\u001b[32A\u001b[2K\u001b[3A\u001b[2K\u001b[32A\u001b[2K\u001b[20A\u001b[2K\u001b[3A\u001b[2K\u001b[20A\u001b[2K\u001b[3A\u001b[2K\u001b[32A\u001b[2K\u001b[3A\u001b[2K\u001b[32A\u001b[2K\u001b[3A\u001b[2K\u001b[20A\u001b[2K\u001b[3A\u001b[2K\u001b[20A\u001b[2K\u001b[3A\u001b[2K\u001b[20A\u001b[2K\u001b[32A\u001b[2K\u001b[3A\u001b[2K\u001b[32A\u001b[2K\u001b[20A\u001b[2K\u001b[32A\u001b[2K\u001b[20A\u001b[2K\u001b[32A\u001b[2K\u001b[20A\u001b[2K\u001b[32A\u001b[2K\u001b[20A\u001b[2K\u001b[3A\u001b[2K\u001b[20A\u001b[2K\u001b[3A\u001b[2K\u001b[20A\u001b[2K\u001b[20A\u001b[2K\u001b[20A\u001b[2K\u001b[3A\u001b[2K\u001b[20A\u001b[2K\u001b[32A\u001b[2K\u001b[3A\u001b[2K\u001b[32A\u001b[2K\u001b[3A\u001b[2K\u001b[32A\u001b[2K\u001b[3A\u001b[2K\u001b[20A\u001b[2K\u001b[3A\u001b[2K\u001b[32A\u001b[2K\u001b[3A\u001b[2K\u001b[20A\u001b[2K\u001b[32A\u001b[2K\u001b[3A\u001b[2K\u001b[32A\u001b[2K\u001b[20A\u001b[2K\u001b[3A\u001b[2K\u001b[20A\u001b[2K\u001b[3A\u001b[2K\u001b[32A\u001b[2K\u001b[20A\u001b[2K\u001b[3A\u001b[2K\u001b[20A\u001b[2K\u001b[3A\u001b[2K\u001b[32A\u001b[2K\u001b[3A\u001b[2K\u001b[32A\u001b[2K\u001b[3A\u001b[2K\u001b[20A\u001b[2K\u001b[32A\u001b[2K\u001b[3A\u001b[2K\u001b[32A\u001b[2K\u001b[3A\u001b[2K\u001b[20A\u001b[2K\u001b[32A\u001b[2K\u001b[3A\u001b[2K\u001b[32A\u001b[2K\u001b[20A\u001b[2K\u001b[32A\u001b[2K\u001b[3A\u001b[2K\u001b[32A\u001b[2K\u001b[3A\u001b[2K\u001b[20A\u001b[2K\u001b[3A\u001b[2K\u001b[3A\u001b[2K\u001b[3A\u001b[2K\u001b[32A\u001b[2K\u001b[3A\u001b[2K\u001b[20A\u001b[2K\u001b[3A\u001b[2K\u001b[20A\u001b[2K\u001b[3A\u001b[2K\u001b[32A\u001b[2K\u001b[3A\u001b[2K\u001b[32A\u001b[2K\u001b[3A\u001b[2K\u001b[32A\u001b[2K\u001b[3A\u001b[2K\u001b[20A\u001b[2K\u001b[20A\u001b[2K\u001b[3A\u001b[2K\u001b[32A\u001b[2K\u001b[3A\u001b[2K\u001b[32A\u001b[2K\u001b[20A\u001b[2K\u001b[20A\u001b[2K\u001b[20A\u001b[2K\u001b[32A\u001b[2K\u001b[20A\u001b[2K\u001b[32A\u001b[2K\u001b[20A\u001b[2K\u001b[3A\u001b[2K\u001b[20A\u001b[2K\u001b[3A\u001b[2K\u001b[20A\u001b[2K\u001b[32A\u001b[2K\u001b[20A\u001b[2K\u001b[32A\u001b[2K\u001b[3A\u001b[2K\u001b[32A\u001b[2K\u001b[20A\u001b[2K\u001b[32A\u001b[2K\u001b[3A\u001b[2K\u001b[32A\u001b[2K\u001b[20A\u001b[2K\u001b[32A\u001b[2K\u001b[20A\u001b[2K\u001b[3A\u001b[2K\u001b[32A\u001b[2K\u001b[3A\u001b[2K\u001b[32A\u001b[2K\u001b[3A\u001b[2K\u001b[32A\u001b[2K\u001b[20A\u001b[2K\u001b[3A\u001b[2K\u001b[32A\u001b[2K\u001b[3A\u001b[2K\u001b[32A\u001b[2K\u001b[3A\u001b[2K\u001b[20A\u001b[2K\u001b[3A\u001b[2K\u001b[32A\u001b[2K\u001b[20A\u001b[2K\u001b[3A\u001b[2K\u001b[32A\u001b[2K\u001b[3A\u001b[2K\u001b[32A\u001b[2K\u001b[3A\u001b[2K\u001b[3A\u001b[2K\u001b[32A\u001b[2K\u001b[3A\u001b[2K\u001b[32A\u001b[2K\u001b[20A\u001b[2K\u001b[32A\u001b[2K\u001b[3A\u001b[2K\u001b[32A\u001b[2K\u001b[3A\u001b[2K\u001b[20A\u001b[2K\u001b[32A\u001b[2K\u001b[3A\u001b[2K\u001b[32A\u001b[2K\u001b[3A\u001b[2K\u001b[32A\u001b[2K\u001b[3A\u001b[2K\u001b[20A\u001b[2K\u001b[32A\u001b[2K\u001b[20A\u001b[2K\u001b[32A\u001b[2K\u001b[20A\u001b[2K\u001b[32A\u001b[2K\u001b[3A\u001b[2K\u001b[20A\u001b[2K\u001b[3A\u001b[2K\u001b[20A\u001b[2K\u001b[32A\u001b[2K\u001b[20A\u001b[2K\u001b[32A\u001b[2K\u001b[3A\u001b[2K\u001b[32A\u001b[2K\u001b[20A\u001b[2K\u001b[32A\u001b[2K\u001b[20A\u001b[2K\u001b[3A\u001b[2K\u001b[32A\u001b[2K\u001b[20A\u001b[2K\u001b[32A\u001b[2K\u001b[20A\u001b[2K\u001b[3A\u001b[2K\u001b[20A\u001b[2K\u001b[3A\u001b[2K\u001b[20A\u001b[2K\u001b[32A\u001b[2K\u001b[20A\u001b[2K\u001b[32A\u001b[2K\u001b[20A\u001b[2K\u001b[32A\u001b[2K\u001b[3A\u001b[2K\u001b[20A\u001b[2K\u001b[3A\u001b[2K\u001b[20A\u001b[2K\u001b[3A\u001b[2K\u001b[20A\u001b[2K\u001b[3A\u001b[2K\u001b[20A\u001b[2K\u001b[32A\u001b[2K\u001b[20A\u001b[2K\u001b[3A\u001b[2K\u001b[20A\u001b[2K\u001b[3A\u001b[2K\u001b[20A\u001b[2K\u001b[3A\u001b[2K\u001b[32A\u001b[2K\u001b[3A\u001b[2K\u001b[32A\u001b[2K\u001b[3A\u001b[2K\u001b[20A\u001b[2K\u001b[20A\u001b[2K\u001b[20A\u001b[2K\u001b[32A\u001b[2K\u001b[20A\u001b[2K\u001b[3A\u001b[2K\u001b[20A\u001b[2K\u001b[3A\u001b[2K\u001b[3A\u001b[2K\u001b[3A\u001b[2K\u001b[20A\u001b[2K\u001b[3A\u001b[2K\u001b[20A\u001b[2K\u001b[20A\u001b[2K\u001b[3A\u001b[2K\u001b[20A\u001b[2K\u001b[3A\u001b[2K\u001b[32A\u001b[2K\u001b[20A\u001b[2K\u001b[32A\u001b[2K\u001b[3A\u001b[2K\u001b[32A\u001b[2K\u001b[3A\u001b[2K\u001b[32A\u001b[2K\u001b[32A\u001b[2K\u001b[32A\u001b[2K\u001b[20A\u001b[2K\u001b[32A\u001b[2K\u001b[20A\u001b[2K\u001b[20A\u001b[2K\u001b[32A\u001b[2K\u001b[20A\u001b[2K\u001b[32A\u001b[2K\u001b[20A\u001b[2K\u001b[32A\u001b[2K\u001b[20A\u001b[2K\u001b[3A\u001b[2K\u001b[20A\u001b[2K\u001b[32A\u001b[2K\u001b[20A\u001b[2K\u001b[32A\u001b[2K\u001b[32A\u001b[2K\u001b[32A\u001b[2K\u001b[32A\u001b[2K\u001b[20A\u001b[2K\u001b[32A\u001b[2K\u001b[3A\u001b[2K\u001b[32A\u001b[2K\u001b[20A\u001b[2K\u001b[20A\u001b[2K\u001b[32A\u001b[2K\u001b[20A\u001b[2K\u001b[20A\u001b[2K\u001b[32A\u001b[2K\u001b[20A\u001b[2K\u001b[32A\u001b[2K\u001b[20A\u001b[2K\u001b[3A\u001b[2K\u001b[20A\u001b[2K\u001b[32A\u001b[2K\u001b[32A\u001b[2K\u001b[20A\u001b[2K\u001b[32A\u001b[2K\u001b[20A\u001b[2K\u001b[32A\u001b[2K\u001b[32A\u001b[2K\u001b[32A\u001b[2K\u001b[20A\u001b[2K\u001b[3A\u001b[2K\u001b[20A\u001b[2K\u001b[3A\u001b[2K\u001b[32A\u001b[2K\u001b[3A\u001b[2K\u001b[32A\u001b[2K\u001b[3A\u001b[2K\u001b[20A\u001b[2K\u001b[32A\u001b[2K\u001b[20A\u001b[2K\u001b[32A\u001b[2K\u001b[20A\u001b[2K\u001b[32A\u001b[2K\u001b[3A\u001b[2K\u001b[32A\u001b[2K\u001b[20A\u001b[2K\u001b[3A\u001b[2K\u001b[3A\u001b[2K\u001b[3A\u001b[2K\u001b[32A\u001b[2K\u001b[20A\u001b[2K\u001b[20A\u001b[2K\u001b[20A\u001b[2K\u001b[32A\u001b[2K\u001b[20A\u001b[2K\u001b[3A\u001b[2K\u001b[20A\u001b[2K\u001b[3A\u001b[2K\u001b[20A\u001b[2K\u001b[20A\u001b[2K\u001b[32A\u001b[2K\u001b[20A\u001b[2K\u001b[3A\u001b[2K\u001b[20A\u001b[2K\u001b[3A\u001b[2K\u001b[20A\u001b[2K\u001b[3A\u001b[2K\u001b[32A\u001b[2K\u001b[3A\u001b[2K\u001b[32A\u001b[2K\u001b[20A\u001b[2K\u001b[32A\u001b[2K\u001b[20A\u001b[2K\u001b[3A\u001b[2K\u001b[20A\u001b[2K\u001b[32A\u001b[2K\u001b[32A\u001b[2K\u001b[20A\u001b[2K\u001b[32A\u001b[2K\u001b[20A\u001b[2K\u001b[32A\u001b[2K\u001b[20A\u001b[2K\u001b[32A\u001b[2K\u001b[20A\u001b[2K\u001b[32A\u001b[2K\u001b[3A\u001b[2K\u001b[20A\u001b[2K\u001b[32A\u001b[2K\u001b[3A\u001b[2K\u001b[32A\u001b[2K\u001b[3A\u001b[2K\u001b[32A\u001b[2K\u001b[3A\u001b[2K\u001b[32A\u001b[2K\u001b[20A\u001b[2K\u001b[32A\u001b[2K\u001b[20A\u001b[2K\u001b[32A\u001b[2K\u001b[20A\u001b[2K\u001b[32A\u001b[2K\u001b[20A\u001b[2K\u001b[3A\u001b[2K\u001b[20A\u001b[2K\u001b[32A\u001b[2K\u001b[20A\u001b[2K\u001b[32A\u001b[2K\u001b[20A\u001b[2K\u001b[32A\u001b[2K\u001b[20A\u001b[2K\u001b[32A\u001b[2K\u001b[20A\u001b[2K\u001b[32A\u001b[2K\u001b[20A\u001b[2K\u001b[32A\u001b[2K\u001b[20A\u001b[2K\u001b[32A\u001b[2K\u001b[20A\u001b[2K\u001b[3A\u001b[2K\u001b[20A\u001b[2K\u001b[3A\u001b[2K\u001b[32A\u001b[2K\u001b[20A\u001b[2K\u001b[32A\u001b[2K\u001b[20A\u001b[2K\u001b[3A\u001b[2K\u001b[20A\u001b[2K\u001b[3A\u001b[2K\u001b[32A\u001b[2K\u001b[3A\u001b[2K\u001b[20A\u001b[2K\u001b[32A\u001b[2K\u001b[20A\u001b[2K\u001b[32A\u001b[2K\u001b[20A\u001b[2K\u001b[32A\u001b[2K\u001b[20A\u001b[2K\u001b[32A\u001b[2K\u001b[20A\u001b[2K\u001b[3A\u001b[2K\u001b[32A\u001b[2K\u001b[20A\u001b[2K\u001b[32A\u001b[2K\u001b[20A\u001b[2K\u001b[3A\u001b[2K\u001b[20A\u001b[2K\u001b[3A\u001b[2K\u001b[32A\u001b[2K\u001b[20A\u001b[2K\u001b[32A\u001b[2K\u001b[20A\u001b[2K\u001b[32A\u001b[2K\u001b[3A\u001b[2K\u001b[32A\u001b[2K\u001b[20A\u001b[2K\u001b[32A\u001b[2K\u001b[20A\u001b[2K\u001b[32A\u001b[2K\u001b[3A\u001b[2K\u001b[32A\u001b[2K\u001b[3A\u001b[2K\u001b[20A\u001b[2K\u001b[3A\u001b[2K\u001b[32A\u001b[2K\u001b[3A\u001b[2K\u001b[32A\u001b[2K\u001b[3A\u001b[2K\u001b[20A\u001b[2K\u001b[32A\u001b[2K\u001b[32A\u001b[2K\u001b[20A\u001b[2K\u001b[32A\u001b[2K\u001b[3A\u001b[2K\u001b[32A\u001b[2K\u001b[20A\u001b[2K\u001b[3A\u001b[2K\u001b[32A\u001b[2K\u001b[20A\u001b[2K\u001b[3A\u001b[2K\u001b[32A\u001b[2K\u001b[3A\u001b[2K\u001b[20A\u001b[2K\u001b[32A\u001b[2K\u001b[32A\u001b[2K\u001b[32A\u001b[2K\u001b[3A\u001b[2K\u001b[20A\u001b[2K\u001b[3A\u001b[2K\u001b[20A\u001b[2K\u001b[32A\u001b[2K\u001b[32A\u001b[2K\u001b[20A\u001b[2K\u001b[32A\u001b[2K\u001b[20A\u001b[2K\u001b[32A\u001b[2K\u001b[20A\u001b[2K\u001b[3A\u001b[2K\u001b[20A\u001b[2K\u001b[3A\u001b[2K\u001b[20A\u001b[2K\u001b[3A\u001b[2K\u001b[20A\u001b[2K\u001b[3A\u001b[2K\u001b[32A\u001b[2K\u001b[3A\u001b[2K\u001b[32A\u001b[2K\u001b[3A\u001b[2K\u001b[20A\u001b[2K\u001b[3A\u001b[2K\u001b[32A\u001b[2K\u001b[20A\u001b[2K\u001b[3A\u001b[2K\u001b[32A\u001b[2K\u001b[3A\u001b[2K\u001b[32A\u001b[2K\u001b[3A\u001b[2K\u001b[32A\u001b[2K\u001b[3A\u001b[2K\u001b[32A\u001b[2K\u001b[20A\u001b[2K\u001b[32A\u001b[2K\u001b[20A\u001b[2K\u001b[3A\u001b[2K\u001b[20A\u001b[2K\u001b[3A\u001b[2K\u001b[32A\u001b[2K\u001b[3A\u001b[2K\u001b[32A\u001b[2K\u001b[3A\u001b[2K\u001b[32A\u001b[2K\u001b[3A\u001b[2K\u001b[32A\u001b[2K\u001b[3A\u001b[2K\u001b[32A\u001b[2K\u001b[20A\u001b[2K\u001b[3A\u001b[2K\u001b[32A\u001b[2K\u001b[3A\u001b[2K\u001b[20A\u001b[2K\u001b[32A\u001b[2K\u001b[3A\u001b[2K\u001b[32A\u001b[2K\u001b[20A\u001b[2K\u001b[32A\u001b[2K\u001b[20A\u001b[2K\u001b[3A\u001b[2K\u001b[32A\u001b[2K\u001b[3A\u001b[2K\u001b[32A\u001b[2K\u001b[3A\u001b[2K\u001b[32A\u001b[2K\u001b[3A\u001b[2K\u001b[20A\u001b[2K\u001b[3A\u001b[2K\u001b[20A\u001b[2K\u001b[3A\u001b[2K\u001b[32A\u001b[2K\u001b[3A\u001b[2K\u001b[20A\u001b[2K\u001b[32A\u001b[2K\u001b[20A\u001b[2K\u001b[32A\u001b[2K\u001b[3A\u001b[2K\u001b[32A\u001b[2K\u001b[3A\u001b[2K\u001b[32A\u001b[2K\u001b[3A\u001b[2K\u001b[20A\u001b[2K\u001b[3A\u001b[2K\u001b[20A\u001b[2K\u001b[3A\u001b[2K\u001b[3A\u001b[2K\u001b[32A\u001b[2K\u001b[3A\u001b[2K\u001b[20A\u001b[2K\u001b[3A\u001b[2K\u001b[32A\u001b[2K\u001b[3A\u001b[2K\u001b[32A\u001b[2K\u001b[20A\u001b[2K\u001b[32A\u001b[2K\u001b[3A\u001b[2K\u001b[32A\u001b[2K\u001b[3A\u001b[2K\u001b[32A\u001b[2K\u001b[32A\u001b[2K\u001b[3A\u001b[2K\u001b[20A\u001b[2K\u001b[32A\u001b[2K\u001b[20A\u001b[2K\u001b[3A\u001b[2K\u001b[32A\u001b[2K\u001b[32A\u001b[2K\u001b[20A\u001b[2K\u001b[32A\u001b[2K\u001b[20A\u001b[2K\u001b[32A\u001b[2K\u001b[20A\u001b[2K\u001b[3A\u001b[2K\u001b[32A\u001b[2K\u001b[20A\u001b[2K\u001b[32A\u001b[2K\u001b[20A\u001b[2K\u001b[32A\u001b[2K\u001b[3A\u001b[2K\u001b[32A\u001b[2K\u001b[3A\u001b[2K\u001b[32A\u001b[2K\u001b[3A\u001b[2K\u001b[20A\u001b[2K\u001b[3A\u001b[2K\u001b[32A\u001b[2K\u001b[20A\u001b[2K\u001b[20A\u001b[2K\u001b[3A\u001b[2K\u001b[20A\u001b[2K\u001b[32A\u001b[2K\u001b[20A\u001b[2K\u001b[32A\u001b[2K\u001b[3A\u001b[2K\u001b[32A\u001b[2K\u001b[3A\u001b[2K\u001b[20A\u001b[2K\u001b[32A\u001b[2K\u001b[3A\u001b[2K\u001b[32A\u001b[2K\u001b[3A\u001b[2K\u001b[20A\u001b[2K\u001b[3A\u001b[2K\u001b[20A\u001b[2K\u001b[32A\u001b[2K\u001b[3A\u001b[2K\u001b[20A\u001b[2K\u001b[3A\u001b[2K\u001b[20A\u001b[2K\u001b[32A\u001b[2K\u001b[20A\u001b[2K\u001b[3A\u001b[2K\u001b[20A\u001b[2K\u001b[3A\u001b[2K\u001b[20A\u001b[2K\u001b[32A\u001b[2K\u001b[20A\u001b[2K\u001b[32A\u001b[2K\u001b[3A\u001b[2K\u001b[20A\u001b[2K\u001b[3A\u001b[2K\u001b[32A\u001b[2K\u001b[3A\u001b[2K\u001b[32A\u001b[2K\u001b[3A\u001b[2K\u001b[32A\u001b[2K\u001b[3A\u001b[2K\u001b[32A\u001b[2K\u001b[3A\u001b[2K\u001b[3A\u001b[2K\u001b[32A\u001b[2K\u001b[20A\u001b[2K\u001b[3A\u001b[2K\u001b[20A\u001b[2K\u001b[32A\u001b[2K\u001b[20A\u001b[2K\u001b[3A\u001b[2K\u001b[20A\u001b[2K\u001b[32A\u001b[2K\u001b[20A\u001b[2K\u001b[3A\u001b[2K\u001b[20A\u001b[2K\u001b[3A\u001b[2K\u001b[32A\u001b[2K\u001b[20A\u001b[2K\u001b[3A\u001b[2K\u001b[20A\u001b[2K\u001b[3A\u001b[2K\u001b[32A\u001b[2K\u001b[20A\u001b[2K\u001b[32A\u001b[2K\u001b[3A\u001b[2K\u001b[3A\u001b[2K\u001b[20A\u001b[2K\u001b[3A\u001b[2K\u001b[20A\u001b[2K\u001b[32A\u001b[2K\u001b[20A\u001b[2K\u001b[32A\u001b[2K\u001b[20A\u001b[2K\u001b[32A\u001b[2K\u001b[32A\u001b[2K\u001b[32A\u001b[2K\u001b[3A\u001b[2K\u001b[32A\u001b[2K\u001b[20A\u001b[2K\u001b[32A\u001b[2K\u001b[20A\u001b[2K\u001b[3A\u001b[2K\u001b[20A\u001b[2K\u001b[20A\u001b[2K\u001b[3A\u001b[2K\u001b[20A\u001b[2K\u001b[32A\u001b[2K\u001b[20A\u001b[2K\u001b[32A\u001b[2K\u001b[3A\u001b[2K\u001b[32A\u001b[2K\u001b[3A\u001b[2K\u001b[32A\u001b[2K\u001b[3A\u001b[2K\u001b[32A\u001b[2K\u001b[3A\u001b[2K\u001b[20A\u001b[2K\u001b[3A\u001b[2K\u001b[32A\u001b[2K\u001b[32A\u001b[2K\u001b[20A\u001b[2K\u001b[32A\u001b[2K\u001b[3A\u001b[2K\u001b[32A\u001b[2K\u001b[3A\u001b[2K\u001b[32A\u001b[2K\u001b[20A\u001b[2K\u001b[32A\u001b[2K\u001b[20A\u001b[2K\u001b[32A\u001b[2K\u001b[3A\u001b[2K\u001b[20A\u001b[2K\u001b[3A\u001b[2K\u001b[32A\u001b[2K\u001b[20A\u001b[2K\u001b[32A\u001b[2K\u001b[3A\u001b[2K\u001b[32A\u001b[2K\u001b[3A\u001b[2K\u001b[32A\u001b[2K\u001b[3A\u001b[2K\u001b[20A\u001b[2K\u001b[3A\u001b[2K\u001b[32A\u001b[2K\u001b[20A\u001b[2K\u001b[32A\u001b[2K\u001b[20A\u001b[2K\u001b[32A\u001b[2K\u001b[32A\u001b[2K\u001b[3A\u001b[2K\u001b[20A\u001b[2K\u001b[3A\u001b[2K\u001b[20A\u001b[2K\u001b[3A\u001b[2K\u001b[20A\u001b[2K\u001b[3A\u001b[2K\u001b[32A\u001b[2K\u001b[20A\u001b[2K\u001b[32A\u001b[2K\u001b[20A\u001b[2K\u001b[20A\u001b[2K\u001b[3A\u001b[2K\u001b[20A\u001b[2K\u001b[32A\u001b[2K\u001b[3A\u001b[2K\u001b[32A\u001b[2K\u001b[3A\u001b[2K\u001b[32A\u001b[2K\u001b[20A\u001b[2K\u001b[32A\u001b[2K\u001b[3A\u001b[2K\u001b[20A\u001b[2K\u001b[3A\u001b[2K\u001b[20A\u001b[2K\u001b[32A\u001b[2K\u001b[20A\u001b[2K\u001b[3A\u001b[2K\u001b[20A\u001b[2K\u001b[3A\u001b[2K\u001b[32A\u001b[2K\u001b[32A\u001b[2K\u001b[20A\u001b[2K\u001b[3A\u001b[2K\u001b[20A\u001b[2K\u001b[32A\u001b[2K\u001b[20A\u001b[2K\u001b[3A\u001b[2K\u001b[32A\u001b[2K\u001b[3A\u001b[2K\u001b[32A\u001b[2K\u001b[3A\u001b[2K\u001b[20A\u001b[2K\u001b[3A\u001b[2K\u001b[20A\u001b[2K\u001b[32A\u001b[2K\u001b[3A\u001b[2K\u001b[32A\u001b[2K\u001b[3A\u001b[2K\u001b[20A\u001b[2K\u001b[32A\u001b[2K\u001b[32A\u001b[2K\u001b[3A\u001b[2K\u001b[32A\u001b[2K\u001b[20A\u001b[2K\u001b[32A\u001b[2K\u001b[20A\u001b[2K\u001b[20A\u001b[2K\u001b[32A\u001b[2K\u001b[20A\u001b[2K\u001b[3A\u001b[2K\u001b[20A\u001b[2K\u001b[20A\u001b[2K\u001b[32A\u001b[2K\u001b[3A\u001b[2K\u001b[20A\u001b[2K\u001b[20A\u001b[2K\u001b[32A\u001b[2K\u001b[20A\u001b[2K\u001b[32A\u001b[2K\u001b[20A\u001b[2K\u001b[20A\u001b[2K\u001b[20A\u001b[2K\u001b[32A\u001b[2K\u001b[32A\u001b[2K\u001b[20A\u001b[2K\u001b[32A\u001b[2K\u001b[32A\u001b[2K\u001b[20A\u001b[2K\u001b[32A\u001b[2K\u001b[20A\u001b[2K\u001b[32A\u001b[2K\u001b[20A\u001b[2K\u001b[32A\u001b[2K\u001b[20A\u001b[2K\u001b[20A\u001b[2K\u001b[32A\u001b[2K\u001b[20A\u001b[2K\u001b[32A\u001b[2K\u001b[20A\u001b[2K\u001b[32A\u001b[2K\u001b[20A\u001b[2K\u001b[32A\u001b[2K\u001b[20A\u001b[2K\u001b[32A\u001b[2K\u001b[20A\u001b[2K\u001b[20A\u001b[2K\u001b[32A\u001b[2K\u001b[20A\u001b[2K\u001b[32A\u001b[2K\u001b[20A\u001b[2K\u001b[32A\u001b[2K\u001b[20A\u001b[2K\u001b[20A\u001b[2K\u001b[32A\u001b[2K\u001b[20A\u001b[2K\u001b[32A\u001b[2K\u001b[20A\u001b[2K\u001b[32A\u001b[2K\u001b[20A\u001b[2K\u001b[32A\u001b[2K\u001b[32A\u001b[2K\u001b[20A\u001b[2K\u001b[32A\u001b[2K\u001b[20A\u001b[2K\u001b[32A\u001b[2K\u001b[20A\u001b[2K\u001b[32A\u001b[2K\u001b[20A\u001b[2K\u001b[32A\u001b[2K\u001b[32A\u001b[2K\u001b[20A\u001b[2K\u001b[32A\u001b[2K\u001b[32A\u001b[2K\u001b[32A\u001b[2K\u001b[20A\u001b[2K\u001b[32A\u001b[2K\u001b[20A\u001b[2K\u001b[32A\u001b[2K\u001b[32A\u001b[2K\u001b[20A\u001b[2K\u001b[20A\u001b[2K\u001b[20A\u001b[2K\u001b[32A\u001b[2K\u001b[20A\u001b[2K\u001b[32A\u001b[2K\u001b[32A\u001b[2K\u001b[20A\u001b[2K\u001b[20A\u001b[2K\u001b[32A\u001b[2K\u001b[20A\u001b[2K\u001b[32A\u001b[2K\u001b[20A\u001b[2K\u001b[32A\u001b[2K\u001b[20A\u001b[2K\u001b[20A\u001b[2K\u001b[32A\u001b[2K\u001b[32A\u001b[2K\u001b[32A\u001b[2K\u001b[20A\u001b[2K\u001b[32A\u001b[2K\u001b[20A\u001b[2K\u001b[32A\u001b[2K\u001b[20A\u001b[2K\u001b[32A\u001b[2K\u001b[32A\u001b[2K\u001b[20A\u001b[2K\u001b[32A\u001b[2K\u001b[32A\u001b[2K\u001b[20A\u001b[2K\u001b[32A\u001b[2K\u001b[20A\u001b[2K\u001b[32A\u001b[2K\u001b[20A\u001b[2K\u001b[32A\u001b[2K\u001b[20A\u001b[2K\u001b[32A\u001b[2K\u001b[20A\u001b[2K\u001b[32A\u001b[2K\u001b[20A\u001b[2K\u001b[20A\u001b[2K\u001b[32A\u001b[2K\u001b[20A\u001b[2K\u001b[32A\u001b[2K\u001b[20A\u001b[2K\u001b[20A\u001b[2K\u001b[32A\u001b[2K\u001b[20A\u001b[2K\u001b[32A\u001b[2K\u001b[20A\u001b[2K\u001b[32A\u001b[2K\u001b[32A\u001b[2K\u001b[32A\u001b[2K\u001b[32A\u001b[2K\u001b[32A\u001b[2K\u001b[20A\u001b[2K\u001b[32A\u001b[2K\u001b[32A\u001b[2K\u001b[20A\u001b[2K\u001b[32A\u001b[2K\u001b[32A\u001b[2K\u001b[32A\u001b[2K\u001b[32A\u001b[2K\u001b[20A\u001b[2K\u001b[32A\u001b[2K\u001b[32A\u001b[2K\u001b[32A\u001b[2K\u001b[32A\u001b[2K\u001b[32A\u001b[2K\u001b[32A\u001b[2K\u001b[32A\u001b[2K\u001b[32A\u001b[2K\u001b[32A\u001b[2K\u001b[32A\u001b[2K\u001b[32A\u001b[2K\u001b[32A\u001b[2K\u001b[32A\u001b[2K\u001b[32A\u001b[2K\u001b[32A\u001b[2K\u001b[32A\u001b[2K\u001b[32A\u001b[2K\u001b[32A\u001b[2K\u001b[32A\u001b[2K\u001b[32A\u001b[2K\u001b[32A\u001b[2K\u001b[32A\u001b[2K\u001b[32A\u001b[2K\u001b[32A\u001b[2K\u001b[32A\u001b[2K\u001b[32A\u001b[2K\u001b[32A\u001b[2K\u001b[32A\u001b[2K\u001b[32A\u001b[2Klatest: digest: sha256:1ed1eff4555722b45c96d09ccadc306defb57799bb5bebb20026a7574521b9d1 size: 7253\n"
     ]
    }
   ],
   "source": [
    "!docker push 975050125079.dkr.ecr.us-east-1.amazonaws.com/tensorflow-training "
   ]
  },
  {
   "cell_type": "code",
   "execution_count": 46,
   "id": "c06f9182",
   "metadata": {},
   "outputs": [],
   "source": [
    "bucket = \"bucket-prova333\""
   ]
  },
  {
   "cell_type": "code",
   "execution_count": null,
   "id": "058e5d02",
   "metadata": {},
   "outputs": [],
   "source": [
    "# training \n",
    "\n",
    "from sagemaker import get_execution_role\n",
    "from sagemaker.estimator import Estimator\n",
    "import os\n",
    "\n",
    "role = get_execution_role()\n",
    "\n",
    "hyperparameters = {'epochs': 1}\n",
    "\n",
    "estimator = Estimator(\n",
    "    image_uri= '975050125079.dkr.ecr.us-east-1.amazonaws.com/tensorflow-training',\n",
    "    role=role,\n",
    "    instance_count=1,\n",
    "    #instance_type = 'local'\n",
    "    instance_type='ml.m5.large',\n",
    "    hyperparameters=hyperparameters,\n",
    "    output_path=f's3://bucket-prova333/output/'\n",
    "    #output_path='file://{}/data/output'.format(os.getcwd())\n",
    ")\n",
    "\n",
    "print('##### ESTIMATOR FIT STARTED')\n",
    "#estimator.fit('file://{}/data/input/train.csv'.format(os.getcwd()))\n",
    "estimator.fit(f's3://bucket-prova333/Input/train.csv')\n",
    "print('##### ESTIMATOR FIT COMPLETED')\n"
   ]
  },
  {
   "cell_type": "markdown",
   "id": "b7279a58",
   "metadata": {},
   "source": [
    "# caricamento e inferenza"
   ]
  },
  {
   "cell_type": "code",
   "execution_count": 54,
   "id": "825c7755",
   "metadata": {},
   "outputs": [
    {
     "name": "stdout",
     "output_type": "stream",
     "text": [
      "Requirement already satisfied: keras in /home/ec2-user/anaconda3/envs/python3/lib/python3.10/site-packages (3.6.0)\n",
      "Requirement already satisfied: tensorflow in /home/ec2-user/anaconda3/envs/python3/lib/python3.10/site-packages (2.18.0)\n",
      "Requirement already satisfied: absl-py in /home/ec2-user/anaconda3/envs/python3/lib/python3.10/site-packages (from keras) (2.1.0)\n",
      "Requirement already satisfied: numpy in /home/ec2-user/anaconda3/envs/python3/lib/python3.10/site-packages (from keras) (1.26.4)\n",
      "Requirement already satisfied: rich in /home/ec2-user/anaconda3/envs/python3/lib/python3.10/site-packages (from keras) (13.9.3)\n",
      "Requirement already satisfied: namex in /home/ec2-user/anaconda3/envs/python3/lib/python3.10/site-packages (from keras) (0.0.8)\n",
      "Requirement already satisfied: h5py in /home/ec2-user/anaconda3/envs/python3/lib/python3.10/site-packages (from keras) (3.12.1)\n",
      "Requirement already satisfied: optree in /home/ec2-user/anaconda3/envs/python3/lib/python3.10/site-packages (from keras) (0.13.1)\n",
      "Requirement already satisfied: ml-dtypes in /home/ec2-user/anaconda3/envs/python3/lib/python3.10/site-packages (from keras) (0.4.1)\n",
      "Requirement already satisfied: packaging in /home/ec2-user/anaconda3/envs/python3/lib/python3.10/site-packages (from keras) (21.3)\n",
      "Requirement already satisfied: astunparse>=1.6.0 in /home/ec2-user/anaconda3/envs/python3/lib/python3.10/site-packages (from tensorflow) (1.6.3)\n",
      "Requirement already satisfied: flatbuffers>=24.3.25 in /home/ec2-user/anaconda3/envs/python3/lib/python3.10/site-packages (from tensorflow) (24.3.25)\n",
      "Requirement already satisfied: gast!=0.5.0,!=0.5.1,!=0.5.2,>=0.2.1 in /home/ec2-user/anaconda3/envs/python3/lib/python3.10/site-packages (from tensorflow) (0.6.0)\n",
      "Requirement already satisfied: google-pasta>=0.1.1 in /home/ec2-user/anaconda3/envs/python3/lib/python3.10/site-packages (from tensorflow) (0.2.0)\n",
      "Requirement already satisfied: libclang>=13.0.0 in /home/ec2-user/anaconda3/envs/python3/lib/python3.10/site-packages (from tensorflow) (18.1.1)\n",
      "Requirement already satisfied: opt-einsum>=2.3.2 in /home/ec2-user/anaconda3/envs/python3/lib/python3.10/site-packages (from tensorflow) (3.4.0)\n",
      "Requirement already satisfied: protobuf!=4.21.0,!=4.21.1,!=4.21.2,!=4.21.3,!=4.21.4,!=4.21.5,<6.0.0dev,>=3.20.3 in /home/ec2-user/anaconda3/envs/python3/lib/python3.10/site-packages (from tensorflow) (4.25.5)\n",
      "Requirement already satisfied: requests<3,>=2.21.0 in /home/ec2-user/anaconda3/envs/python3/lib/python3.10/site-packages (from tensorflow) (2.32.3)\n",
      "Requirement already satisfied: setuptools in /home/ec2-user/anaconda3/envs/python3/lib/python3.10/site-packages (from tensorflow) (75.1.0)\n",
      "Requirement already satisfied: six>=1.12.0 in /home/ec2-user/anaconda3/envs/python3/lib/python3.10/site-packages (from tensorflow) (1.16.0)\n",
      "Requirement already satisfied: termcolor>=1.1.0 in /home/ec2-user/anaconda3/envs/python3/lib/python3.10/site-packages (from tensorflow) (2.5.0)\n",
      "Requirement already satisfied: typing-extensions>=3.6.6 in /home/ec2-user/anaconda3/envs/python3/lib/python3.10/site-packages (from tensorflow) (4.12.2)\n",
      "Requirement already satisfied: wrapt>=1.11.0 in /home/ec2-user/anaconda3/envs/python3/lib/python3.10/site-packages (from tensorflow) (1.16.0)\n",
      "Requirement already satisfied: grpcio<2.0,>=1.24.3 in /home/ec2-user/anaconda3/envs/python3/lib/python3.10/site-packages (from tensorflow) (1.68.0)\n",
      "Requirement already satisfied: tensorboard<2.19,>=2.18 in /home/ec2-user/anaconda3/envs/python3/lib/python3.10/site-packages (from tensorflow) (2.18.0)\n",
      "Requirement already satisfied: tensorflow-io-gcs-filesystem>=0.23.1 in /home/ec2-user/anaconda3/envs/python3/lib/python3.10/site-packages (from tensorflow) (0.37.1)\n",
      "Requirement already satisfied: wheel<1.0,>=0.23.0 in /home/ec2-user/anaconda3/envs/python3/lib/python3.10/site-packages (from astunparse>=1.6.0->tensorflow) (0.44.0)\n",
      "Requirement already satisfied: charset-normalizer<4,>=2 in /home/ec2-user/anaconda3/envs/python3/lib/python3.10/site-packages (from requests<3,>=2.21.0->tensorflow) (3.4.0)\n",
      "Requirement already satisfied: idna<4,>=2.5 in /home/ec2-user/anaconda3/envs/python3/lib/python3.10/site-packages (from requests<3,>=2.21.0->tensorflow) (3.10)\n",
      "Requirement already satisfied: urllib3<3,>=1.21.1 in /home/ec2-user/anaconda3/envs/python3/lib/python3.10/site-packages (from requests<3,>=2.21.0->tensorflow) (2.2.3)\n",
      "Requirement already satisfied: certifi>=2017.4.17 in /home/ec2-user/anaconda3/envs/python3/lib/python3.10/site-packages (from requests<3,>=2.21.0->tensorflow) (2024.8.30)\n",
      "Requirement already satisfied: markdown>=2.6.8 in /home/ec2-user/anaconda3/envs/python3/lib/python3.10/site-packages (from tensorboard<2.19,>=2.18->tensorflow) (3.7)\n",
      "Requirement already satisfied: tensorboard-data-server<0.8.0,>=0.7.0 in /home/ec2-user/anaconda3/envs/python3/lib/python3.10/site-packages (from tensorboard<2.19,>=2.18->tensorflow) (0.7.2)\n",
      "Requirement already satisfied: werkzeug>=1.0.1 in /home/ec2-user/anaconda3/envs/python3/lib/python3.10/site-packages (from tensorboard<2.19,>=2.18->tensorflow) (3.0.4)\n",
      "Requirement already satisfied: pyparsing!=3.0.5,>=2.0.2 in /home/ec2-user/anaconda3/envs/python3/lib/python3.10/site-packages (from packaging->keras) (3.2.0)\n",
      "Requirement already satisfied: markdown-it-py>=2.2.0 in /home/ec2-user/anaconda3/envs/python3/lib/python3.10/site-packages (from rich->keras) (3.0.0)\n",
      "Requirement already satisfied: pygments<3.0.0,>=2.13.0 in /home/ec2-user/anaconda3/envs/python3/lib/python3.10/site-packages (from rich->keras) (2.18.0)\n",
      "Requirement already satisfied: mdurl~=0.1 in /home/ec2-user/anaconda3/envs/python3/lib/python3.10/site-packages (from markdown-it-py>=2.2.0->rich->keras) (0.1.2)\n",
      "Requirement already satisfied: MarkupSafe>=2.1.1 in /home/ec2-user/anaconda3/envs/python3/lib/python3.10/site-packages (from werkzeug>=1.0.1->tensorboard<2.19,>=2.18->tensorflow) (3.0.2)\n"
     ]
    }
   ],
   "source": [
    "!pip install keras tensorflow"
   ]
  },
  {
   "cell_type": "code",
   "execution_count": 55,
   "id": "c02d0486",
   "metadata": {},
   "outputs": [
    {
     "name": "stderr",
     "output_type": "stream",
     "text": [
      "2024-11-21 16:26:27.422750: E external/local_xla/xla/stream_executor/cuda/cuda_fft.cc:477] Unable to register cuFFT factory: Attempting to register factory for plugin cuFFT when one has already been registered\n",
      "WARNING: All log messages before absl::InitializeLog() is called are written to STDERR\n",
      "E0000 00:00:1732206387.445795   20933 cuda_dnn.cc:8310] Unable to register cuDNN factory: Attempting to register factory for plugin cuDNN when one has already been registered\n",
      "E0000 00:00:1732206387.452924   20933 cuda_blas.cc:1418] Unable to register cuBLAS factory: Attempting to register factory for plugin cuBLAS when one has already been registered\n",
      "2024-11-21 16:26:27.477367: I tensorflow/core/platform/cpu_feature_guard.cc:210] This TensorFlow binary is optimized to use available CPU instructions in performance-critical operations.\n",
      "To enable the following instructions: AVX2 FMA, in other operations, rebuild TensorFlow with the appropriate compiler flags.\n"
     ]
    }
   ],
   "source": [
    "from keras.models import load_model"
   ]
  },
  {
   "cell_type": "code",
   "execution_count": 56,
   "id": "769461f4",
   "metadata": {},
   "outputs": [
    {
     "name": "stdout",
     "output_type": "stream",
     "text": [
      "tar: Ignoring unknown extended header keyword `LIBARCHIVE.creationtime'\n"
     ]
    }
   ],
   "source": [
    "!tar -xzf model.tar.gz"
   ]
  },
  {
   "cell_type": "code",
   "execution_count": 57,
   "id": "e1d94436",
   "metadata": {},
   "outputs": [
    {
     "name": "stderr",
     "output_type": "stream",
     "text": [
      "2024-11-21 16:26:39.096579: E external/local_xla/xla/stream_executor/cuda/cuda_driver.cc:152] failed call to cuInit: INTERNAL: CUDA error: Failed call to cuInit: CUDA_ERROR_NO_DEVICE: no CUDA-capable device is detected\n"
     ]
    },
    {
     "data": {
      "text/html": [
       "<pre style=\"white-space:pre;overflow-x:auto;line-height:normal;font-family:Menlo,'DejaVu Sans Mono',consolas,'Courier New',monospace\"><span style=\"color: #7fbfbf; text-decoration-color: #7fbfbf\">[11/21/24 16:26:39] </span><span style=\"color: #d7af00; text-decoration-color: #d7af00; font-weight: bold\">WARNING </span> Compiled the loaded model, but the compiled metrics have yet to be <a href=\"file:///home/ec2-user/anaconda3/envs/python3/lib/python3.10/site-packages/keras/src/legacy/saving/saving_utils.py\" target=\"_blank\"><span style=\"color: #7f7f7f; text-decoration-color: #7f7f7f\">saving_utils.py</span></a><span style=\"color: #7f7f7f; text-decoration-color: #7f7f7f\">:</span><a href=\"file:///home/ec2-user/anaconda3/envs/python3/lib/python3.10/site-packages/keras/src/legacy/saving/saving_utils.py#256\" target=\"_blank\"><span style=\"color: #7f7f7f; text-decoration-color: #7f7f7f\">256</span></a>\n",
       "<span style=\"color: #7fbfbf; text-decoration-color: #7fbfbf\">                    </span>         built. `model.compile_metrics` will be empty until you train or    <span style=\"color: #7f7f7f; text-decoration-color: #7f7f7f\">                   </span>\n",
       "<span style=\"color: #7fbfbf; text-decoration-color: #7fbfbf\">                    </span>         evaluate the model.                                                <span style=\"color: #7f7f7f; text-decoration-color: #7f7f7f\">                   </span>\n",
       "</pre>\n"
      ],
      "text/plain": [
       "\u001b[2;36m[11/21/24 16:26:39]\u001b[0m\u001b[2;36m \u001b[0m\u001b[1;38;2;215;175;0mWARNING \u001b[0m Compiled the loaded model, but the compiled metrics have yet to be \u001b]8;id=478092;file:///home/ec2-user/anaconda3/envs/python3/lib/python3.10/site-packages/keras/src/legacy/saving/saving_utils.py\u001b\\\u001b[2msaving_utils.py\u001b[0m\u001b]8;;\u001b\\\u001b[2m:\u001b[0m\u001b]8;id=365955;file:///home/ec2-user/anaconda3/envs/python3/lib/python3.10/site-packages/keras/src/legacy/saving/saving_utils.py#256\u001b\\\u001b[2m256\u001b[0m\u001b]8;;\u001b\\\n",
       "\u001b[2;36m                    \u001b[0m         built. `model.compile_metrics` will be empty until you train or    \u001b[2m                   \u001b[0m\n",
       "\u001b[2;36m                    \u001b[0m         evaluate the model.                                                \u001b[2m                   \u001b[0m\n"
      ]
     },
     "metadata": {},
     "output_type": "display_data"
    },
    {
     "data": {
      "text/plain": [
       "keras.src.models.sequential.Sequential"
      ]
     },
     "execution_count": 57,
     "metadata": {},
     "output_type": "execute_result"
    }
   ],
   "source": [
    "model = load_model(\"Titanic_2_la_vendetta.h5\")\n",
    "\n",
    "type(model)\n"
   ]
  },
  {
   "cell_type": "code",
   "execution_count": 59,
   "id": "4a1e2736",
   "metadata": {},
   "outputs": [],
   "source": [
    "import numpy as np\n",
    "import pandas as pd\n",
    "from sklearn.preprocessing import LabelEncoder, StandardScaler\n",
    "\n",
    "predict_input = np.array([\n",
    "    [0.475,0.37,0.125,0.5095,0.2165,0.1125,0.165,9]])"
   ]
  },
  {
   "cell_type": "code",
   "execution_count": 60,
   "id": "0c698d2d",
   "metadata": {},
   "outputs": [
    {
     "name": "stdout",
     "output_type": "stream",
     "text": [
      "\u001b[1m1/1\u001b[0m \u001b[32m━━━━━━━━━━━━━━━━━━━━\u001b[0m\u001b[37m\u001b[0m \u001b[1m0s\u001b[0m 71ms/step\n"
     ]
    }
   ],
   "source": [
    "predict_result = model.predict(predict_input)"
   ]
  },
  {
   "cell_type": "code",
   "execution_count": 61,
   "id": "64128c09",
   "metadata": {},
   "outputs": [
    {
     "data": {
      "text/plain": [
       "'{\"predict_result\": [[0.0004175565263722092]]}'"
      ]
     },
     "execution_count": 61,
     "metadata": {},
     "output_type": "execute_result"
    }
   ],
   "source": [
    "import json \n",
    "json.dumps({\"predict_result\": predict_result.tolist()})\n"
   ]
  },
  {
   "cell_type": "markdown",
   "id": "1bc7d756",
   "metadata": {},
   "source": [
    "# creazione della directory per l'inferenza "
   ]
  },
  {
   "cell_type": "code",
   "execution_count": 106,
   "id": "269f0d1b",
   "metadata": {},
   "outputs": [
    {
     "name": "stdout",
     "output_type": "stream",
     "text": [
      "image_name: tensorflow-inference ######################\n",
      "account: 975050125079 ######################\n",
      "region: us-east-1 ######################\n",
      "fullname: 975050125079.dkr.ecr.us-east-1.amazonaws.com/tensorflow-inference ######################\n",
      "{\n",
      "    \"repositories\": [\n",
      "        {\n",
      "            \"repositoryArn\": \"arn:aws:ecr:us-east-1:975050125079:repository/tensorflow-inference\",\n",
      "            \"registryId\": \"975050125079\",\n",
      "            \"repositoryName\": \"tensorflow-inference\",\n",
      "            \"repositoryUri\": \"975050125079.dkr.ecr.us-east-1.amazonaws.com/tensorflow-inference\",\n",
      "            \"createdAt\": 1732206428.988,\n",
      "            \"imageTagMutability\": \"MUTABLE\",\n",
      "            \"imageScanningConfiguration\": {\n",
      "                \"scanOnPush\": false\n",
      "            },\n",
      "            \"encryptionConfiguration\": {\n",
      "                \"encryptionType\": \"AES256\"\n",
      "            }\n",
      "        }\n",
      "    ]\n",
      "}\n"
     ]
    }
   ],
   "source": [
    "%%sh\n",
    "# Specify an image name\n",
    "image_name=tensorflow-inference\n",
    "echo \"image_name: ${image_name} ######################\"\n",
    "\n",
    "account=$(aws sts get-caller-identity --query Account --output text)\n",
    "echo \"account: ${account} ######################\"\n",
    "\n",
    "# Get the region defined in the current configuration (default to us-west-2 if none defined)\n",
    "region=$(aws configure get region)\n",
    "echo \"region: ${region} ######################\"\n",
    "\n",
    "fullname=\"${account}.dkr.ecr.${region}.amazonaws.com/${image_name}:2.12.0-cpu-py310-pluto-2\"\n",
    "echo \"fullname: ${fullname} ######################\"\n",
    "\n",
    "aws ecr describe-repositories --repository-names \"${image_name}\"\n",
    "if [ $? -ne 0 ]\n",
    "then\n",
    "aws ecr create-repository --repository-name \"${image_name}\"\n",
    "fi"
   ]
  },
  {
   "cell_type": "code",
   "execution_count": 107,
   "id": "8d21e8a3",
   "metadata": {},
   "outputs": [
    {
     "name": "stdout",
     "output_type": "stream",
     "text": [
      "WARNING! Your password will be stored unencrypted in /home/ec2-user/.docker/config.json.\n",
      "Configure a credential helper to remove this warning. See\n",
      "https://docs.docker.com/engine/reference/commandline/login/#credentials-store\n",
      "\n",
      "Login Succeeded\n"
     ]
    }
   ],
   "source": [
    "!aws ecr get-login-password --region us-east-1 | docker login --username AWS --password-stdin 975050125079.dkr.ecr.us-east-1.amazonaws.com/tensorflow-inferenc"
   ]
  },
  {
   "cell_type": "code",
   "execution_count": 108,
   "id": "ee72cce4",
   "metadata": {},
   "outputs": [
    {
     "name": "stdout",
     "output_type": "stream",
     "text": [
      "\u001b[1A\u001b[1B\u001b[0G\u001b[?25l[+] Building 0.0s (0/1)                                          docker:default\n",
      "\u001b[?25h\u001b[1A\u001b[0G\u001b[?25l[+] Building 0.1s (10/10) FINISHED                               docker:default\n",
      "\u001b[34m => [internal] load build definition from Dockerfile.inference             0.0s\n",
      "\u001b[0m\u001b[34m => => transferring dockerfile: 650B                                       0.0s\n",
      "\u001b[0m\u001b[34m => [internal] load metadata for 763104351884.dkr.ecr.us-east-1.amazonaws  0.0s\n",
      "\u001b[0m\u001b[34m => [internal] load .dockerignore                                          0.0s\n",
      "\u001b[0m\u001b[34m => => transferring context: 2B                                            0.0s\n",
      "\u001b[0m\u001b[34m => [1/5] FROM 763104351884.dkr.ecr.us-east-1.amazonaws.com/tensorflow-in  0.0s\n",
      "\u001b[0m\u001b[34m => [internal] load build context                                          0.0s\n",
      "\u001b[0m\u001b[34m => => transferring context: 79B                                           0.0s\n",
      "\u001b[0m\u001b[34m => CACHED [2/5] RUN pip install --upgrade pip &&     pip install awscli   0.0s\n",
      "\u001b[0m\u001b[34m => CACHED [3/5] ADD ./requirements.inference.txt /opt/ml/code/requiremen  0.0s\n",
      "\u001b[0m\u001b[34m => CACHED [4/5] RUN pip install -r /opt/ml/code/requirements.inference.t  0.0s\n",
      "\u001b[0m\u001b[34m => CACHED [5/5] ADD ./inference.py /opt/ml/code/inference.py              0.0s\n",
      "\u001b[0m\u001b[34m => exporting to image                                                     0.0s\n",
      "\u001b[0m\u001b[34m => => exporting layers                                                    0.0s\n",
      "\u001b[0m\u001b[34m => => writing image sha256:0d5240c5aa6892f81d979d538b455db03f44f50f6c88c  0.0s\n",
      "\u001b[0m\u001b[34m => => naming to 975050125079.dkr.ecr.us-east-1.amazonaws.com/tensorflow-  0.0s\n",
      "\u001b[0m\u001b[?25h"
     ]
    }
   ],
   "source": [
    "!docker build -t 975050125079.dkr.ecr.us-east-1.amazonaws.com/tensorflow-inferenc  -f Dockerfile.inference . "
   ]
  },
  {
   "cell_type": "code",
   "execution_count": 109,
   "id": "1e52cc3b",
   "metadata": {},
   "outputs": [
    {
     "name": "stdout",
     "output_type": "stream",
     "text": [
      "REPOSITORY                                                          TAG                        IMAGE ID       CREATED             SIZE\n",
      "975050125079.dkr.ecr.us-east-1.amazonaws.com/tensorflow-inference   <none>                     89045dc897c8   14 minutes ago      4.54GB\n",
      "975050125079.dkr.ecr.us-east-1.amazonaws.com/tensorflow-inferenc    latest                     0d5240c5aa68   14 minutes ago      4.54GB\n",
      "975050125079.dkr.ecr.us-east-1.amazonaws.com/tensorflow-inference   2.12.0-cpu-py310-pluto-2   0d5240c5aa68   14 minutes ago      4.54GB\n",
      "975050125079.dkr.ecr.us-east-1.amazonaws.com/tensorflow-inference   <none>                     e6235472fced   16 minutes ago      4.54GB\n",
      "975050125079.dkr.ecr.us-east-1.amazonaws.com/tensorflow-inference   <none>                     0b8fc6071ff3   20 minutes ago      4.54GB\n",
      "975050125079.dkr.ecr.us-east-1.amazonaws.com/tensorflow-inference   <none>                     f2a96de0a0bd   22 minutes ago      4.54GB\n",
      "975050125079.dkr.ecr.us-east-1.amazonaws.com/tensorflow-inference   <none>                     404291014c2b   36 minutes ago      4.54GB\n",
      "975050125079.dkr.ecr.us-east-1.amazonaws.com/tensorflow-training    2.12.0-cpu-py310           b3d33bdcdaec   About an hour ago   8.73GB\n",
      "719055683367.dkr.ecr.us-east-1.amazonaws.com/tensorflow-training    latest                     4e30becc1c9a   2 hours ago         8.73GB\n",
      "763104351884.dkr.ecr.us-east-1.amazonaws.com/tensorflow-training    2.12.0-cpu-py310           4e30becc1c9a   2 hours ago         8.73GB\n",
      "975050125079.dkr.ecr.us-east-1.amazonaws.com/tensorflow-training    latest                     4e30becc1c9a   2 hours ago         8.73GB\n",
      "763104351884.dkr.ecr.us-east-1.amazonaws.com/tensorflow-inference   2.12.1-cpu                 4d18a9b9a924   10 months ago       1.91GB\n"
     ]
    }
   ],
   "source": [
    "!docker images"
   ]
  },
  {
   "cell_type": "code",
   "execution_count": 111,
   "id": "3b9ae309",
   "metadata": {},
   "outputs": [
    {
     "name": "stdout",
     "output_type": "stream",
     "text": [
      "The push refers to repository [975050125079.dkr.ecr.us-east-1.amazonaws.com/tensorflow-inferenc]\n",
      "\n",
      "\u001b[1Bc6274522: Preparing \n",
      "\u001b[1B71d9089a: Preparing \n",
      "\u001b[1B349b342a: Preparing \n",
      "\u001b[1B44167f91: Preparing \n",
      "\u001b[1B37bf1d61: Preparing \n",
      "\u001b[1B8df97c44: Preparing \n",
      "\u001b[1B764747b4: Preparing \n",
      "\u001b[1B1a68f579: Preparing \n",
      "\u001b[1B2eef5eea: Preparing \n",
      "\u001b[1Bb5bcc575: Preparing \n",
      "\u001b[1B5e5ce62f: Preparing \n",
      "\u001b[1B757a305d: Preparing \n",
      "\u001b[1Bc7cf6f28: Preparing \n",
      "\u001b[1B30092134: Preparing \n",
      "\u001b[1Bfb153852: Preparing \n",
      "\u001b[1B0903db8c: Preparing \n",
      "\u001b[1B19dec72a: Preparing \n",
      "\u001b[1Bdf04f233: Preparing \n",
      "\u001b[1Bf2dbc490: Preparing \n",
      "\u001b[1Bba0431f9: Preparing \n",
      "\u001b[1B71536788: Preparing \n",
      "\u001b[1B994107ae: Preparing \n",
      "\u001b[1B3a4f83e7: Preparing \n",
      "\u001b[1Bd6748243: Preparing \n",
      "\u001b[1Bf2c1e372: Preparing \n",
      "\u001b[1Bcd2b5d6d: Preparing \n",
      "\u001b[15B7cf6f28: Waiting g name unknown: The repository with name 'tensorflow-inferenc' does not exist in the registry with id '975050125079'\n"
     ]
    }
   ],
   "source": [
    "!docker push 975050125079.dkr.ecr.us-east-1.amazonaws.com/tensorflow-inferenc:latest \n",
    "    "
   ]
  },
  {
   "cell_type": "code",
   "execution_count": 152,
   "id": "285a2b7f",
   "metadata": {},
   "outputs": [
    {
     "ename": "SyntaxError",
     "evalue": "invalid decimal literal (1178054203.py, line 2)",
     "output_type": "error",
     "traceback": [
      "\u001b[0;36m  Cell \u001b[0;32mIn[152], line 2\u001b[0;36m\u001b[0m\n\u001b[0;31m    docker run -ti --rm <IDPROFILO>.dkr.ecr.us-east-1.amazonaws.com/tensorflow-inference:<TAG>\u001b[0m\n\u001b[0m                                                     ^\u001b[0m\n\u001b[0;31mSyntaxError\u001b[0m\u001b[0;31m:\u001b[0m invalid decimal literal\n"
     ]
    }
   ],
   "source": [
    "#scrivi nel terminale il seguente comando: \n",
    "docker run -ti --rm <IDPROFILO>.dkr.ecr.us-east-1.amazonaws.com/tensorflow-inference:<TAG>\n",
    "    \n",
    "#comando corretto\n",
    "docker run -ti --rm 975050125079.dkr.ecr.us-east-1.amazonaws.com/tensorflow-inference:2.12.0-cpu-py310-pluto-2\n",
    "#mi raccomando, togli i < > \n",
    "\n",
    "curl --silent 'http://172.17.0.2:8080/ping?Pclass=0.5&Sex=0.3'"
   ]
  },
  {
   "cell_type": "code",
   "execution_count": 126,
   "id": "12b9b6e1",
   "metadata": {},
   "outputs": [],
   "source": [
    "from sagemaker import get_execution_role\n",
    "import boto3\n",
    "import datetime\n",
    "from time import gmtime, strftime\n",
    "\n",
    "# https://docs.aws.amazon.com/sagemaker/latest/dg/realtime-endpoints-deployment.html\n",
    "\n",
    "my_session = boto3.session.Session()\n",
    "aws_region = my_session.region_name\n",
    "\n",
    "sagemaker_client = boto3.client('sagemaker', region_name=aws_region)\n",
    "\n",
    "sagemaker_role = get_execution_role()\n",
    "\n",
    "model_name = 'amoreodio'\n",
    "\n",
    "# Create model\n",
    "create_model_response = sagemaker_client.create_model(\n",
    "    ModelName = model_name,\n",
    "    ExecutionRoleArn = sagemaker_role,\n",
    "    PrimaryContainer = {\n",
    "        'Image': '975050125079.dkr.ecr.us-east-1.amazonaws.com/tensorflow-inference:2.12.0-cpu-py310-pluto-2',\n",
    "        'ModelDataUrl': 's3://bucket-prova333/output/tensorflow-training-2024-11-21-16-04-55-448/output/model.tar.gz',\n",
    "    })\n",
    "\n"
   ]
  },
  {
   "cell_type": "markdown",
   "id": "e584d997",
   "metadata": {},
   "source": [
    "#### l'output del modello da ricreare è il seguente: s3://bucket-prova333/output/tensorflow-training-2024-11-21-16-04-55-448/output/model.tar.gz\n",
    "\n",
    "#### l'instance type qui sotto può essere: ml.p2.xlarge oppure 'ml.t2.medium'"
   ]
  },
  {
   "cell_type": "code",
   "execution_count": 127,
   "id": "b69e2958",
   "metadata": {},
   "outputs": [
    {
     "name": "stdout",
     "output_type": "stream",
     "text": [
      "Created EndpointConfig: arn:aws:sagemaker:us-east-1:975050125079:endpoint-config/amoreodio-config\n"
     ]
    },
    {
     "data": {
      "text/html": [
       "<pre style=\"white-space:pre;overflow-x:auto;line-height:normal;font-family:Menlo,'DejaVu Sans Mono',consolas,'Courier New',monospace\"><span style=\"color: #ff0000; text-decoration-color: #ff0000\">╭─────────────────────────────── </span><span style=\"color: #ff0000; text-decoration-color: #ff0000; font-weight: bold\">Traceback </span><span style=\"color: #ff7f7f; text-decoration-color: #ff7f7f; font-weight: bold\">(most recent call last)</span><span style=\"color: #ff0000; text-decoration-color: #ff0000\"> ────────────────────────────────╮</span>\n",
       "<span style=\"color: #ff0000; text-decoration-color: #ff0000\">│</span> in <span style=\"color: #00ff00; text-decoration-color: #00ff00\">&lt;module&gt;</span>:<span style=\"color: #0000ff; text-decoration-color: #0000ff\">29</span>                                                                                   <span style=\"color: #ff0000; text-decoration-color: #ff0000\">│</span>\n",
       "<span style=\"color: #ff0000; text-decoration-color: #ff0000\">│</span>                                                                                                  <span style=\"color: #ff0000; text-decoration-color: #ff0000\">│</span>\n",
       "<span style=\"color: #ff0000; text-decoration-color: #ff0000\">│</span>   <span style=\"color: #7f7f7f; text-decoration-color: #7f7f7f\">26 </span>create_endpoint_response = sagemaker_client.create_endpoint(                                <span style=\"color: #ff0000; text-decoration-color: #ff0000\">│</span>\n",
       "<span style=\"color: #ff0000; text-decoration-color: #ff0000\">│</span>   <span style=\"color: #7f7f7f; text-decoration-color: #7f7f7f\">27 </span><span style=\"color: #7f7f7f; text-decoration-color: #7f7f7f\">│   │   │   │   │   │   │   │   │   │   │   </span>EndpointName=endpoint_name,                     <span style=\"color: #ff0000; text-decoration-color: #ff0000\">│</span>\n",
       "<span style=\"color: #ff0000; text-decoration-color: #ff0000\">│</span>   <span style=\"color: #7f7f7f; text-decoration-color: #7f7f7f\">28 </span><span style=\"color: #7f7f7f; text-decoration-color: #7f7f7f\">│   │   │   │   │   │   │   │   │   │   │   </span>EndpointConfigName=endpoint_config_name)        <span style=\"color: #ff0000; text-decoration-color: #ff0000\">│</span>\n",
       "<span style=\"color: #ff0000; text-decoration-color: #ff0000\">│</span> <span style=\"color: #800000; text-decoration-color: #800000\">❱ </span>29 create_endpoint_response = sagemaker_client.create_endpoint(                                <span style=\"color: #ff0000; text-decoration-color: #ff0000\">│</span>\n",
       "<span style=\"color: #ff0000; text-decoration-color: #ff0000\">│</span>   <span style=\"color: #7f7f7f; text-decoration-color: #7f7f7f\">30 </span><span style=\"color: #7f7f7f; text-decoration-color: #7f7f7f\">│   </span>EndpointName=endpoint_name,                                                             <span style=\"color: #ff0000; text-decoration-color: #ff0000\">│</span>\n",
       "<span style=\"color: #ff0000; text-decoration-color: #ff0000\">│</span>   <span style=\"color: #7f7f7f; text-decoration-color: #7f7f7f\">31 </span><span style=\"color: #7f7f7f; text-decoration-color: #7f7f7f\">│   </span>EndpointConfigName=endpoint_config_name                                                 <span style=\"color: #ff0000; text-decoration-color: #ff0000\">│</span>\n",
       "<span style=\"color: #ff0000; text-decoration-color: #ff0000\">│</span>   <span style=\"color: #7f7f7f; text-decoration-color: #7f7f7f\">32 </span>)                                                                                           <span style=\"color: #ff0000; text-decoration-color: #ff0000\">│</span>\n",
       "<span style=\"color: #ff0000; text-decoration-color: #ff0000\">│</span>                                                                                                  <span style=\"color: #ff0000; text-decoration-color: #ff0000\">│</span>\n",
       "<span style=\"color: #ff0000; text-decoration-color: #ff0000\">│</span> <span style=\"color: #bfbf7f; text-decoration-color: #bfbf7f\">/home/ec2-user/anaconda3/envs/python3/lib/python3.10/site-packages/botocore/</span><span style=\"color: #808000; text-decoration-color: #808000; font-weight: bold\">client.py</span>:<span style=\"color: #0000ff; text-decoration-color: #0000ff\">569</span> in     <span style=\"color: #ff0000; text-decoration-color: #ff0000\">│</span>\n",
       "<span style=\"color: #ff0000; text-decoration-color: #ff0000\">│</span> <span style=\"color: #00ff00; text-decoration-color: #00ff00\">_api_call</span>                                                                                        <span style=\"color: #ff0000; text-decoration-color: #ff0000\">│</span>\n",
       "<span style=\"color: #ff0000; text-decoration-color: #ff0000\">│</span>                                                                                                  <span style=\"color: #ff0000; text-decoration-color: #ff0000\">│</span>\n",
       "<span style=\"color: #ff0000; text-decoration-color: #ff0000\">│</span>   <span style=\"color: #7f7f7f; text-decoration-color: #7f7f7f\"> 566 </span><span style=\"color: #7f7f7f; text-decoration-color: #7f7f7f\">│   │   │   │   │   </span><span style=\"color: #808000; text-decoration-color: #808000\">f\"{</span>py_operation_name<span style=\"color: #808000; text-decoration-color: #808000\">}() only accepts keyword arguments.\"</span>              <span style=\"color: #ff0000; text-decoration-color: #ff0000\">│</span>\n",
       "<span style=\"color: #ff0000; text-decoration-color: #ff0000\">│</span>   <span style=\"color: #7f7f7f; text-decoration-color: #7f7f7f\"> 567 </span><span style=\"color: #7f7f7f; text-decoration-color: #7f7f7f\">│   │   │   │   </span>)                                                                         <span style=\"color: #ff0000; text-decoration-color: #ff0000\">│</span>\n",
       "<span style=\"color: #ff0000; text-decoration-color: #ff0000\">│</span>   <span style=\"color: #7f7f7f; text-decoration-color: #7f7f7f\"> 568 </span><span style=\"color: #7f7f7f; text-decoration-color: #7f7f7f\">│   │   │   </span><span style=\"color: #7f7f7f; text-decoration-color: #7f7f7f\"># The \"self\" in this scope is referring to the BaseClient.</span>                    <span style=\"color: #ff0000; text-decoration-color: #ff0000\">│</span>\n",
       "<span style=\"color: #ff0000; text-decoration-color: #ff0000\">│</span> <span style=\"color: #800000; text-decoration-color: #800000\">❱ </span> 569 <span style=\"color: #7f7f7f; text-decoration-color: #7f7f7f\">│   │   │   </span><span style=\"color: #0000ff; text-decoration-color: #0000ff\">return</span> <span style=\"color: #00ffff; text-decoration-color: #00ffff\">self</span>._make_api_call(operation_name, kwargs)                            <span style=\"color: #ff0000; text-decoration-color: #ff0000\">│</span>\n",
       "<span style=\"color: #ff0000; text-decoration-color: #ff0000\">│</span>   <span style=\"color: #7f7f7f; text-decoration-color: #7f7f7f\"> 570 </span><span style=\"color: #7f7f7f; text-decoration-color: #7f7f7f\">│   │   </span>                                                                                  <span style=\"color: #ff0000; text-decoration-color: #ff0000\">│</span>\n",
       "<span style=\"color: #ff0000; text-decoration-color: #ff0000\">│</span>   <span style=\"color: #7f7f7f; text-decoration-color: #7f7f7f\"> 571 </span><span style=\"color: #7f7f7f; text-decoration-color: #7f7f7f\">│   │   </span>_api_call.<span style=\"color: #ff0000; text-decoration-color: #ff0000\">__name__</span> = <span style=\"color: #00ffff; text-decoration-color: #00ffff\">str</span>(py_operation_name)                                       <span style=\"color: #ff0000; text-decoration-color: #ff0000\">│</span>\n",
       "<span style=\"color: #ff0000; text-decoration-color: #ff0000\">│</span>   <span style=\"color: #7f7f7f; text-decoration-color: #7f7f7f\"> 572 </span>                                                                                          <span style=\"color: #ff0000; text-decoration-color: #ff0000\">│</span>\n",
       "<span style=\"color: #ff0000; text-decoration-color: #ff0000\">│</span>                                                                                                  <span style=\"color: #ff0000; text-decoration-color: #ff0000\">│</span>\n",
       "<span style=\"color: #ff0000; text-decoration-color: #ff0000\">│</span> <span style=\"color: #bfbf7f; text-decoration-color: #bfbf7f\">/home/ec2-user/anaconda3/envs/python3/lib/python3.10/site-packages/botocore/</span><span style=\"color: #808000; text-decoration-color: #808000; font-weight: bold\">client.py</span>:<span style=\"color: #0000ff; text-decoration-color: #0000ff\">1023</span> in    <span style=\"color: #ff0000; text-decoration-color: #ff0000\">│</span>\n",
       "<span style=\"color: #ff0000; text-decoration-color: #ff0000\">│</span> <span style=\"color: #00ff00; text-decoration-color: #00ff00\">_make_api_call</span>                                                                                   <span style=\"color: #ff0000; text-decoration-color: #ff0000\">│</span>\n",
       "<span style=\"color: #ff0000; text-decoration-color: #ff0000\">│</span>                                                                                                  <span style=\"color: #ff0000; text-decoration-color: #ff0000\">│</span>\n",
       "<span style=\"color: #ff0000; text-decoration-color: #ff0000\">│</span>   <span style=\"color: #7f7f7f; text-decoration-color: #7f7f7f\">1020 </span><span style=\"color: #7f7f7f; text-decoration-color: #7f7f7f\">│   │   │   │   </span><span style=\"color: #808000; text-decoration-color: #808000\">\"Code\"</span>                                                                    <span style=\"color: #ff0000; text-decoration-color: #ff0000\">│</span>\n",
       "<span style=\"color: #ff0000; text-decoration-color: #ff0000\">│</span>   <span style=\"color: #7f7f7f; text-decoration-color: #7f7f7f\">1021 </span><span style=\"color: #7f7f7f; text-decoration-color: #7f7f7f\">│   │   │   </span>)                                                                             <span style=\"color: #ff0000; text-decoration-color: #ff0000\">│</span>\n",
       "<span style=\"color: #ff0000; text-decoration-color: #ff0000\">│</span>   <span style=\"color: #7f7f7f; text-decoration-color: #7f7f7f\">1022 </span><span style=\"color: #7f7f7f; text-decoration-color: #7f7f7f\">│   │   │   </span>error_class = <span style=\"color: #00ffff; text-decoration-color: #00ffff\">self</span>.exceptions.from_code(error_code)                           <span style=\"color: #ff0000; text-decoration-color: #ff0000\">│</span>\n",
       "<span style=\"color: #ff0000; text-decoration-color: #ff0000\">│</span> <span style=\"color: #800000; text-decoration-color: #800000\">❱ </span>1023 <span style=\"color: #7f7f7f; text-decoration-color: #7f7f7f\">│   │   │   </span><span style=\"color: #0000ff; text-decoration-color: #0000ff\">raise</span> error_class(parsed_response, operation_name)                            <span style=\"color: #ff0000; text-decoration-color: #ff0000\">│</span>\n",
       "<span style=\"color: #ff0000; text-decoration-color: #ff0000\">│</span>   <span style=\"color: #7f7f7f; text-decoration-color: #7f7f7f\">1024 </span><span style=\"color: #7f7f7f; text-decoration-color: #7f7f7f\">│   │   </span><span style=\"color: #0000ff; text-decoration-color: #0000ff\">else</span>:                                                                             <span style=\"color: #ff0000; text-decoration-color: #ff0000\">│</span>\n",
       "<span style=\"color: #ff0000; text-decoration-color: #ff0000\">│</span>   <span style=\"color: #7f7f7f; text-decoration-color: #7f7f7f\">1025 </span><span style=\"color: #7f7f7f; text-decoration-color: #7f7f7f\">│   │   │   </span><span style=\"color: #0000ff; text-decoration-color: #0000ff\">return</span> parsed_response                                                        <span style=\"color: #ff0000; text-decoration-color: #ff0000\">│</span>\n",
       "<span style=\"color: #ff0000; text-decoration-color: #ff0000\">│</span>   <span style=\"color: #7f7f7f; text-decoration-color: #7f7f7f\">1026 </span>                                                                                          <span style=\"color: #ff0000; text-decoration-color: #ff0000\">│</span>\n",
       "<span style=\"color: #ff0000; text-decoration-color: #ff0000\">╰──────────────────────────────────────────────────────────────────────────────────────────────────╯</span>\n",
       "<span style=\"color: #ff0000; text-decoration-color: #ff0000; font-weight: bold\">ClientError: </span>An error occurred <span style=\"font-weight: bold\">(</span>ValidationException<span style=\"font-weight: bold\">)</span> when calling the CreateEndpoint operation: Cannot create \n",
       "already existing endpoint <span style=\"color: #008700; text-decoration-color: #008700\">\"arn:aws:sagemaker:us-east-1:975050125079:endpoint/amoreodio\"</span>.\n",
       "</pre>\n"
      ],
      "text/plain": [
       "\u001b[38;2;255;0;0m╭─\u001b[0m\u001b[38;2;255;0;0m──────────────────────────────\u001b[0m\u001b[38;2;255;0;0m \u001b[0m\u001b[1;38;2;255;0;0mTraceback \u001b[0m\u001b[1;2;38;2;255;0;0m(most recent call last)\u001b[0m\u001b[38;2;255;0;0m \u001b[0m\u001b[38;2;255;0;0m───────────────────────────────\u001b[0m\u001b[38;2;255;0;0m─╮\u001b[0m\n",
       "\u001b[38;2;255;0;0m│\u001b[0m in \u001b[92m<module>\u001b[0m:\u001b[94m29\u001b[0m                                                                                   \u001b[38;2;255;0;0m│\u001b[0m\n",
       "\u001b[38;2;255;0;0m│\u001b[0m                                                                                                  \u001b[38;2;255;0;0m│\u001b[0m\n",
       "\u001b[38;2;255;0;0m│\u001b[0m   \u001b[2m26 \u001b[0mcreate_endpoint_response = sagemaker_client.create_endpoint(                                \u001b[38;2;255;0;0m│\u001b[0m\n",
       "\u001b[38;2;255;0;0m│\u001b[0m   \u001b[2m27 \u001b[0m\u001b[2m│   │   │   │   │   │   │   │   │   │   │   \u001b[0mEndpointName=endpoint_name,                     \u001b[38;2;255;0;0m│\u001b[0m\n",
       "\u001b[38;2;255;0;0m│\u001b[0m   \u001b[2m28 \u001b[0m\u001b[2m│   │   │   │   │   │   │   │   │   │   │   \u001b[0mEndpointConfigName=endpoint_config_name)        \u001b[38;2;255;0;0m│\u001b[0m\n",
       "\u001b[38;2;255;0;0m│\u001b[0m \u001b[31m❱ \u001b[0m29 create_endpoint_response = sagemaker_client.create_endpoint(                                \u001b[38;2;255;0;0m│\u001b[0m\n",
       "\u001b[38;2;255;0;0m│\u001b[0m   \u001b[2m30 \u001b[0m\u001b[2m│   \u001b[0mEndpointName=endpoint_name,                                                             \u001b[38;2;255;0;0m│\u001b[0m\n",
       "\u001b[38;2;255;0;0m│\u001b[0m   \u001b[2m31 \u001b[0m\u001b[2m│   \u001b[0mEndpointConfigName=endpoint_config_name                                                 \u001b[38;2;255;0;0m│\u001b[0m\n",
       "\u001b[38;2;255;0;0m│\u001b[0m   \u001b[2m32 \u001b[0m)                                                                                           \u001b[38;2;255;0;0m│\u001b[0m\n",
       "\u001b[38;2;255;0;0m│\u001b[0m                                                                                                  \u001b[38;2;255;0;0m│\u001b[0m\n",
       "\u001b[38;2;255;0;0m│\u001b[0m \u001b[2;33m/home/ec2-user/anaconda3/envs/python3/lib/python3.10/site-packages/botocore/\u001b[0m\u001b[1;33mclient.py\u001b[0m:\u001b[94m569\u001b[0m in     \u001b[38;2;255;0;0m│\u001b[0m\n",
       "\u001b[38;2;255;0;0m│\u001b[0m \u001b[92m_api_call\u001b[0m                                                                                        \u001b[38;2;255;0;0m│\u001b[0m\n",
       "\u001b[38;2;255;0;0m│\u001b[0m                                                                                                  \u001b[38;2;255;0;0m│\u001b[0m\n",
       "\u001b[38;2;255;0;0m│\u001b[0m   \u001b[2m 566 \u001b[0m\u001b[2m│   │   │   │   │   \u001b[0m\u001b[33mf\u001b[0m\u001b[33m\"\u001b[0m\u001b[33m{\u001b[0mpy_operation_name\u001b[33m}\u001b[0m\u001b[33m() only accepts keyword arguments.\u001b[0m\u001b[33m\"\u001b[0m              \u001b[38;2;255;0;0m│\u001b[0m\n",
       "\u001b[38;2;255;0;0m│\u001b[0m   \u001b[2m 567 \u001b[0m\u001b[2m│   │   │   │   \u001b[0m)                                                                         \u001b[38;2;255;0;0m│\u001b[0m\n",
       "\u001b[38;2;255;0;0m│\u001b[0m   \u001b[2m 568 \u001b[0m\u001b[2m│   │   │   \u001b[0m\u001b[2m# The \"self\" in this scope is referring to the BaseClient.\u001b[0m                    \u001b[38;2;255;0;0m│\u001b[0m\n",
       "\u001b[38;2;255;0;0m│\u001b[0m \u001b[31m❱ \u001b[0m 569 \u001b[2m│   │   │   \u001b[0m\u001b[94mreturn\u001b[0m \u001b[96mself\u001b[0m._make_api_call(operation_name, kwargs)                            \u001b[38;2;255;0;0m│\u001b[0m\n",
       "\u001b[38;2;255;0;0m│\u001b[0m   \u001b[2m 570 \u001b[0m\u001b[2m│   │   \u001b[0m                                                                                  \u001b[38;2;255;0;0m│\u001b[0m\n",
       "\u001b[38;2;255;0;0m│\u001b[0m   \u001b[2m 571 \u001b[0m\u001b[2m│   │   \u001b[0m_api_call.\u001b[91m__name__\u001b[0m = \u001b[96mstr\u001b[0m(py_operation_name)                                       \u001b[38;2;255;0;0m│\u001b[0m\n",
       "\u001b[38;2;255;0;0m│\u001b[0m   \u001b[2m 572 \u001b[0m                                                                                          \u001b[38;2;255;0;0m│\u001b[0m\n",
       "\u001b[38;2;255;0;0m│\u001b[0m                                                                                                  \u001b[38;2;255;0;0m│\u001b[0m\n",
       "\u001b[38;2;255;0;0m│\u001b[0m \u001b[2;33m/home/ec2-user/anaconda3/envs/python3/lib/python3.10/site-packages/botocore/\u001b[0m\u001b[1;33mclient.py\u001b[0m:\u001b[94m1023\u001b[0m in    \u001b[38;2;255;0;0m│\u001b[0m\n",
       "\u001b[38;2;255;0;0m│\u001b[0m \u001b[92m_make_api_call\u001b[0m                                                                                   \u001b[38;2;255;0;0m│\u001b[0m\n",
       "\u001b[38;2;255;0;0m│\u001b[0m                                                                                                  \u001b[38;2;255;0;0m│\u001b[0m\n",
       "\u001b[38;2;255;0;0m│\u001b[0m   \u001b[2m1020 \u001b[0m\u001b[2m│   │   │   │   \u001b[0m\u001b[33m\"\u001b[0m\u001b[33mCode\u001b[0m\u001b[33m\"\u001b[0m                                                                    \u001b[38;2;255;0;0m│\u001b[0m\n",
       "\u001b[38;2;255;0;0m│\u001b[0m   \u001b[2m1021 \u001b[0m\u001b[2m│   │   │   \u001b[0m)                                                                             \u001b[38;2;255;0;0m│\u001b[0m\n",
       "\u001b[38;2;255;0;0m│\u001b[0m   \u001b[2m1022 \u001b[0m\u001b[2m│   │   │   \u001b[0merror_class = \u001b[96mself\u001b[0m.exceptions.from_code(error_code)                           \u001b[38;2;255;0;0m│\u001b[0m\n",
       "\u001b[38;2;255;0;0m│\u001b[0m \u001b[31m❱ \u001b[0m1023 \u001b[2m│   │   │   \u001b[0m\u001b[94mraise\u001b[0m error_class(parsed_response, operation_name)                            \u001b[38;2;255;0;0m│\u001b[0m\n",
       "\u001b[38;2;255;0;0m│\u001b[0m   \u001b[2m1024 \u001b[0m\u001b[2m│   │   \u001b[0m\u001b[94melse\u001b[0m:                                                                             \u001b[38;2;255;0;0m│\u001b[0m\n",
       "\u001b[38;2;255;0;0m│\u001b[0m   \u001b[2m1025 \u001b[0m\u001b[2m│   │   │   \u001b[0m\u001b[94mreturn\u001b[0m parsed_response                                                        \u001b[38;2;255;0;0m│\u001b[0m\n",
       "\u001b[38;2;255;0;0m│\u001b[0m   \u001b[2m1026 \u001b[0m                                                                                          \u001b[38;2;255;0;0m│\u001b[0m\n",
       "\u001b[38;2;255;0;0m╰──────────────────────────────────────────────────────────────────────────────────────────────────╯\u001b[0m\n",
       "\u001b[1;91mClientError: \u001b[0mAn error occurred \u001b[1m(\u001b[0mValidationException\u001b[1m)\u001b[0m when calling the CreateEndpoint operation: Cannot create \n",
       "already existing endpoint \u001b[38;2;0;135;0m\"arn:aws:sagemaker:us-east-1:975050125079:endpoint/amoreodio\"\u001b[0m.\n"
      ]
     },
     "metadata": {},
     "output_type": "display_data"
    }
   ],
   "source": [
    "\n",
    "# Create an endpoint config name. Here we create one based on the date  \n",
    "# so it we can search endpoints based on creation time.\n",
    "endpoint_config_name = 'amoreodio-config'\n",
    "\n",
    "instance_type = 'ml.t2.medium'\n",
    "\n",
    "endpoint_config_response = sagemaker_client.create_endpoint_config(\n",
    "    EndpointConfigName=endpoint_config_name,\n",
    "    # You will specify this name in a CreateEndpoint request.\n",
    "    # List of ProductionVariant objects, one for each model that you want to host at this endpoint.\n",
    "    ProductionVariants=[\n",
    "        {\n",
    "            \"VariantName\": \"variant1\", # The name of the production variant.\n",
    "            \"ModelName\": model_name,\n",
    "            \"InstanceType\": instance_type, # Specify the compute instance type.\n",
    "            \"InitialInstanceCount\": 1 # Numero di istanze da aggiungere come minimo .\n",
    "        }\n",
    "    ]\n",
    ")\n",
    "\n",
    "print(f\"Created EndpointConfig: {endpoint_config_response['EndpointConfigArn']}\")\n",
    "\n",
    "# The name of the endpoint. The name must be unique within an AWS Region in your AWS account.\n",
    "endpoint_name = 'amoreodio'\n",
    "\n",
    "create_endpoint_response = sagemaker_client.create_endpoint(\n",
    "                                            EndpointName=endpoint_name, \n",
    "                                            EndpointConfigName=endpoint_config_name)\n",
    "create_endpoint_response = sagemaker_client.create_endpoint(\n",
    "    EndpointName=endpoint_name, \n",
    "    EndpointConfigName=endpoint_config_name\n",
    ")"
   ]
  },
  {
   "cell_type": "code",
   "execution_count": 132,
   "id": "5dd8d44c",
   "metadata": {},
   "outputs": [
    {
     "name": "stdout",
     "output_type": "stream",
     "text": [
      "Created EndpointConfig: arn:aws:sagemaker:us-east-1:975050125079:endpoint-config/abercrombie-config\n",
      "Creating Endpoint: arn:aws:sagemaker:us-east-1:975050125079:endpoint/abercrombie\n"
     ]
    }
   ],
   "source": [
    "from sagemaker import get_execution_role\n",
    "import boto3\n",
    "\n",
    "# Initialize session and clients\n",
    "my_session = boto3.session.Session()\n",
    "aws_region = my_session.region_name\n",
    "sagemaker_client = boto3.client('sagemaker', region_name=aws_region)\n",
    "\n",
    "# Define the SageMaker execution role\n",
    "sagemaker_role = get_execution_role()\n",
    "\n",
    "# Model details\n",
    "model_name = 'prismaelettrolitico'\n",
    "\n",
    "# Create the model\n",
    "create_model_response = sagemaker_client.create_model(\n",
    "    ModelName=model_name,\n",
    "    ExecutionRoleArn=sagemaker_role,\n",
    "    PrimaryContainer={\n",
    "        \n",
    "        ### correggi la Image e la ModelDataUrl\n",
    "        'Image': '975050125079.dkr.ecr.us-east-1.amazonaws.com/tensorflow-inference:2.12.0-cpu-py310-pluto-2',\n",
    "        'ModelDataUrl': 's3://bucket-prova333/output/tensorflow-training-2024-11-21-16-04-55-448/output/model.tar.gz',\n",
    "    }\n",
    ")\n",
    "\n",
    "# Create endpoint config\n",
    "endpoint_config_name = 'prismaelettrolitico-config'\n",
    "instance_type = 'ml.m5.large'  # Adjusted instance type for better performance\n",
    "\n",
    "endpoint_config_response = sagemaker_client.create_endpoint_config(\n",
    "    EndpointConfigName=endpoint_config_name,\n",
    "    ProductionVariants=[\n",
    "        {\n",
    "            \"VariantName\": \"variant1\",\n",
    "            \"ModelName\": model_name,\n",
    "            \"InstanceType\": instance_type,\n",
    "            \"InitialInstanceCount\": 1\n",
    "        }\n",
    "    ]\n",
    ")\n",
    "print(f\"Created EndpointConfig: {endpoint_config_response['EndpointConfigArn']}\")\n",
    "\n",
    "# Create the endpoint\n",
    "endpoint_name = 'prismaelettrolitico'\n",
    "create_endpoint_response = sagemaker_client.create_endpoint(\n",
    "    EndpointName=endpoint_name, \n",
    "    EndpointConfigName=endpoint_config_name\n",
    ")\n",
    "\n",
    "# Print status\n",
    "print(f\"Creating Endpoint: {create_endpoint_response['EndpointArn']}\")\n"
   ]
  },
  {
   "cell_type": "code",
   "execution_count": 138,
   "id": "691d8e7c",
   "metadata": {},
   "outputs": [
    {
     "name": "stdout",
     "output_type": "stream",
     "text": [
      "Creating\n"
     ]
    }
   ],
   "source": [
    "describe_response = sagemaker_client.describe_endpoint(EndpointName=endpoint_name)\n",
    "print(describe_response['EndpointStatus'])\n"
   ]
  },
  {
   "cell_type": "code",
   "execution_count": null,
   "id": "1f9ccd50",
   "metadata": {},
   "outputs": [],
   "source": []
  }
 ],
 "metadata": {
  "kernelspec": {
   "display_name": "conda_python3",
   "language": "python",
   "name": "conda_python3"
  },
  "language_info": {
   "codemirror_mode": {
    "name": "ipython",
    "version": 3
   },
   "file_extension": ".py",
   "mimetype": "text/x-python",
   "name": "python",
   "nbconvert_exporter": "python",
   "pygments_lexer": "ipython3",
   "version": "3.10.15"
  }
 },
 "nbformat": 4,
 "nbformat_minor": 5
}
