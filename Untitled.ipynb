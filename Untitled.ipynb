{
 "cells": [
  {
   "cell_type": "markdown",
   "id": "28044c43",
   "metadata": {},
   "source": [
    "# caricamento immagine per inferenza"
   ]
  },
  {
   "cell_type": "code",
   "execution_count": null,
   "id": "f8d77c86",
   "metadata": {},
   "outputs": [],
   "source": [
    "import scipy.sparse\n",
    "from sagemaker import image_uris\n",
    "image_uris.retrieve(framework='tensorflow',region='us-east-1',version='2.12.1',image_scope='inference',instance_type='ml.p2.xlarge')\n",
    "    "
   ]
  },
  {
   "cell_type": "code",
   "execution_count": null,
   "id": "7cfbd5d2",
   "metadata": {},
   "outputs": [],
   "source": [
    "# login all' elastic container registry con Entrambi i container"
   ]
  },
  {
   "cell_type": "code",
   "execution_count": null,
   "id": "862b93a2",
   "metadata": {},
   "outputs": [],
   "source": [
    "!aws ecr get-login-password --region us-east-1 | docker login --username AWS --password-stdin 763104351884.dkr.ecr.us-east-1.amazonaws.com/tensorflow-inference:2.12.1-cpu"
   ]
  },
  {
   "cell_type": "code",
   "execution_count": null,
   "id": "60c650a3",
   "metadata": {},
   "outputs": [],
   "source": [
    "!docker pull 763104351884.dkr.ecr.us-east-1.amazonaws.com/tensorflow-inference:2.12.1-cpu"
   ]
  },
  {
   "cell_type": "markdown",
   "id": "f679030a",
   "metadata": {},
   "source": [
    "# caricamento immagine per il training"
   ]
  },
  {
   "cell_type": "code",
   "execution_count": null,
   "id": "b5ea3e75",
   "metadata": {},
   "outputs": [],
   "source": [
    "import scipy.sparse\n",
    "from sagemaker import image_uris\n",
    "image_uris.retrieve(framework='tensorflow',region='us-east-1',version='2.12.0',image_scope='training',instance_type='ml.c5.4xlarge')\n"
   ]
  },
  {
   "cell_type": "code",
   "execution_count": null,
   "id": "da090fbe",
   "metadata": {},
   "outputs": [],
   "source": [
    "!aws ecr get-login-password --region us-east-1 | docker login --username AWS --password-stdin  763104351884.dkr.ecr.us-east-1.amazonaws.com/tensorflow-training:2.12.0-cpu-py310"
   ]
  },
  {
   "cell_type": "markdown",
   "id": "861d1b30",
   "metadata": {},
   "source": [
    "# Build dell'immagine training\n",
    "#### ricorda di mettere l'ID utente "
   ]
  },
  {
   "cell_type": "code",
   "execution_count": null,
   "id": "0c292721",
   "metadata": {},
   "outputs": [],
   "source": [
    "!docker build -t 975050125079.dkr.ecr.us-east-1.amazonaws.com/tensorflow-training:2.12.0-cpu-py310  -f Dockerfile.train . "
   ]
  },
  {
   "cell_type": "code",
   "execution_count": null,
   "id": "4eb8fe5d",
   "metadata": {},
   "outputs": [],
   "source": [
    "%%bash\n",
    "\n",
    "image_name=\"tensorflow-training\"\n",
    "echo \"image_name: ${image_name} ######################\"\n",
    "\n",
    "account=$(aws sts get-caller-identity --query Account --output text)\n",
    "if [ $? -ne 0 ]; then\n",
    "    echo \"Error getting account ID. Please check your AWS credentials.\"\n",
    "    exit 1\n",
    "fi\n",
    "echo \"account: ${account} ######################\"\n",
    "\n",
    "region=$(aws configure get region)\n",
    "if [ -z \"$region\" ]; then\n",
    "    region=\"us-west-2\"\n",
    "fi\n",
    "echo \"region: ${region} ######################\"\n",
    "\n",
    "fullname=\"${account}.dkr.ecr.${region}.amazonaws.com/${image_name}:latest\"\n",
    "echo \"fullname: ${fullname} ######################\"\n",
    "\n",
    "if aws ecr describe-repositories --repository-names \"${image_name}\" >/dev/null 2>&1; then\n",
    "    echo \"Repository '${image_name}' already exists.\"\n",
    "else\n",
    "    if aws ecr create-repository --repository-name \"${image_name}\"; then\n",
    "        echo \"Repository '${image_name}' created.\"\n",
    "    else\n",
    "        echo \"Failed to create repository '${image_name}'.\"\n",
    "        exit 1\n",
    "    fi\n",
    "fi"
   ]
  },
  {
   "cell_type": "code",
   "execution_count": null,
   "id": "5ccbe205",
   "metadata": {},
   "outputs": [],
   "source": [
    "!aws ecr get-login-password --region us-east-1 | docker login --username AWS --password-stdin 975050125079.dkr.ecr.us-east-1.amazonaws.com/tensorflow-training:latest"
   ]
  },
  {
   "cell_type": "code",
   "execution_count": null,
   "id": "a71ad4c0",
   "metadata": {},
   "outputs": [],
   "source": [
    "!docker images"
   ]
  },
  {
   "cell_type": "code",
   "execution_count": null,
   "id": "06ae4f9f",
   "metadata": {},
   "outputs": [],
   "source": [
    "!docker push 975050125079.dkr.ecr.us-east-1.amazonaws.com/tensorflow-training "
   ]
  },
  {
   "cell_type": "code",
   "execution_count": null,
   "id": "8532f3be",
   "metadata": {},
   "outputs": [],
   "source": [
    "bucket = \"bucket-prova333\""
   ]
  },
  {
   "cell_type": "code",
   "execution_count": null,
   "id": "24125254",
   "metadata": {},
   "outputs": [],
   "source": [
    "# training \n",
    "\n",
    "from sagemaker import get_execution_role\n",
    "from sagemaker.estimator import Estimator\n",
    "import os\n",
    "\n",
    "role = get_execution_role()\n",
    "\n",
    "hyperparameters = {'epochs': 1}\n",
    "\n",
    "estimator = Estimator(\n",
    "    image_uri= '975050125079.dkr.ecr.us-east-1.amazonaws.com/tensorflow-training',\n",
    "    role=role,\n",
    "    instance_count=1,\n",
    "    #instance_type = 'local'\n",
    "    instance_type='ml.m5.large',\n",
    "    hyperparameters=hyperparameters,\n",
    "    output_path=f's3://bucket-prova333/output/'\n",
    "    #output_path='file://{}/data/output'.format(os.getcwd())\n",
    ")\n",
    "\n",
    "print('##### ESTIMATOR FIT STARTED')\n",
    "#estimator.fit('file://{}/data/input/train.csv'.format(os.getcwd()))\n",
    "estimator.fit(f's3://bucket-prova333/Input/train.csv')\n",
    "print('##### ESTIMATOR FIT COMPLETED')\n"
   ]
  },
  {
   "cell_type": "markdown",
   "id": "ad268cc5",
   "metadata": {},
   "source": [
    "# caricamento e inferenza"
   ]
  },
  {
   "cell_type": "code",
   "execution_count": null,
   "id": "3534cafc",
   "metadata": {},
   "outputs": [],
   "source": [
    "!pip install keras tensorflow"
   ]
  },
  {
   "cell_type": "code",
   "execution_count": null,
   "id": "1f14106a",
   "metadata": {},
   "outputs": [],
   "source": [
    "from keras.models import load_model"
   ]
  },
  {
   "cell_type": "code",
   "execution_count": null,
   "id": "0e175177",
   "metadata": {},
   "outputs": [],
   "source": [
    "!tar -xzf model.tar.gz"
   ]
  },
  {
   "cell_type": "code",
   "execution_count": null,
   "id": "bccd9144",
   "metadata": {},
   "outputs": [],
   "source": [
    "model = load_model(\"Titanic_2_la_vendetta.h5\")\n",
    "\n",
    "type(model)\n"
   ]
  },
  {
   "cell_type": "code",
   "execution_count": null,
   "id": "4a32b8f8",
   "metadata": {},
   "outputs": [],
   "source": [
    "import numpy as np\n",
    "import pandas as pd\n",
    "from sklearn.preprocessing import LabelEncoder, StandardScaler\n",
    "\n",
    "predict_input = np.array([\n",
    "    [0.475,0.37,0.125,0.5095,0.2165,0.1125,0.165,9]])"
   ]
  },
  {
   "cell_type": "code",
   "execution_count": null,
   "id": "67e809d6",
   "metadata": {},
   "outputs": [],
   "source": [
    "predict_result = model.predict(predict_input)"
   ]
  },
  {
   "cell_type": "code",
   "execution_count": null,
   "id": "f5ce9fc6",
   "metadata": {},
   "outputs": [],
   "source": [
    "import json \n",
    "json.dumps({\"predict_result\": predict_result.tolist()})\n"
   ]
  },
  {
   "cell_type": "markdown",
   "id": "57f348c8",
   "metadata": {},
   "source": [
    "# creazione della directory per l'inferenza "
   ]
  },
  {
   "cell_type": "code",
   "execution_count": null,
   "id": "73176a3d",
   "metadata": {},
   "outputs": [],
   "source": [
    "%%sh\n",
    "# Specify an image name\n",
    "image_name=tensorflow-inference\n",
    "echo \"image_name: ${image_name} ######################\"\n",
    "\n",
    "account=$(aws sts get-caller-identity --query Account --output text)\n",
    "echo \"account: ${account} ######################\"\n",
    "\n",
    "# Get the region defined in the current configuration (default to us-west-2 if none defined)\n",
    "region=$(aws configure get region)\n",
    "echo \"region: ${region} ######################\"\n",
    "\n",
    "fullname=\"${account}.dkr.ecr.${region}.amazonaws.com/${image_name}:2.12.0-cpu-py310-pluto-2\"\n",
    "echo \"fullname: ${fullname} ######################\"\n",
    "\n",
    "aws ecr describe-repositories --repository-names \"${image_name}\"\n",
    "if [ $? -ne 0 ]\n",
    "then\n",
    "aws ecr create-repository --repository-name \"${image_name}\"\n",
    "fi"
   ]
  },
  {
   "cell_type": "code",
   "execution_count": null,
   "id": "c2bfb32a",
   "metadata": {},
   "outputs": [],
   "source": [
    "!aws ecr get-login-password --region us-east-1 | docker login --username AWS --password-stdin 975050125079.dkr.ecr.us-east-1.amazonaws.com/tensorflow-inferenc"
   ]
  },
  {
   "cell_type": "code",
   "execution_count": null,
   "id": "27712a55",
   "metadata": {},
   "outputs": [],
   "source": [
    "!docker build -t 975050125079.dkr.ecr.us-east-1.amazonaws.com/tensorflow-inferenc  -f Dockerfile.inference . "
   ]
  },
  {
   "cell_type": "code",
   "execution_count": null,
   "id": "3d454eac",
   "metadata": {},
   "outputs": [],
   "source": [
    "!docker images"
   ]
  },
  {
   "cell_type": "code",
   "execution_count": null,
   "id": "1155a122",
   "metadata": {},
   "outputs": [],
   "source": [
    "!docker push 975050125079.dkr.ecr.us-east-1.amazonaws.com/tensorflow-inferenc:latest \n",
    "    "
   ]
  },
  {
   "cell_type": "code",
   "execution_count": null,
   "id": "6a28e0c0",
   "metadata": {},
   "outputs": [],
   "source": [
    "#scrivi nel terminale il seguente comando: \n",
    "docker run -ti --rm <IDPROFILO>.dkr.ecr.us-east-1.amazonaws.com/tensorflow-inference:<TAG>\n",
    "    \n",
    "#comando corretto\n",
    "docker run -ti --rm 975050125079.dkr.ecr.us-east-1.amazonaws.com/tensorflow-inference:2.12.0-cpu-py310-pluto-2\n",
    "#mi raccomando, togli i < > \n",
    "\n",
    "curl --silent 'http://172.17.0.2:8080/ping?Pclass=0.5&Sex=0.3'"
   ]
  },
  {
   "cell_type": "code",
   "execution_count": null,
   "id": "1d4fef60",
   "metadata": {},
   "outputs": [],
   "source": [
    "from sagemaker import get_execution_role\n",
    "import boto3\n",
    "import datetime\n",
    "from time import gmtime, strftime\n",
    "\n",
    "# https://docs.aws.amazon.com/sagemaker/latest/dg/realtime-endpoints-deployment.html\n",
    "\n",
    "my_session = boto3.session.Session()\n",
    "aws_region = my_session.region_name\n",
    "\n",
    "sagemaker_client = boto3.client('sagemaker', region_name=aws_region)\n",
    "\n",
    "sagemaker_role = get_execution_role()\n",
    "\n",
    "model_name = 'amoreodio'\n",
    "\n",
    "# Create model\n",
    "create_model_response = sagemaker_client.create_model(\n",
    "    ModelName = model_name,\n",
    "    ExecutionRoleArn = sagemaker_role,\n",
    "    PrimaryContainer = {\n",
    "        'Image': '975050125079.dkr.ecr.us-east-1.amazonaws.com/tensorflow-inference:2.12.0-cpu-py310-pluto-2',\n",
    "        'ModelDataUrl': 's3://bucket-prova333/output/tensorflow-training-2024-11-21-16-04-55-448/output/model.tar.gz',\n",
    "    })\n",
    "\n"
   ]
  },
  {
   "cell_type": "markdown",
   "id": "657bafd8",
   "metadata": {},
   "source": [
    "#### l'output del modello da ricreare è il seguente: s3://bucket-prova333/output/tensorflow-training-2024-11-21-16-04-55-448/output/model.tar.gz\n",
    "\n",
    "#### l'instance type qui sotto può essere: ml.p2.xlarge oppure 'ml.t2.medium'"
   ]
  },
  {
   "cell_type": "code",
   "execution_count": null,
   "id": "a71659b0",
   "metadata": {},
   "outputs": [],
   "source": [
    "\n",
    "# Create an endpoint config name. Here we create one based on the date  \n",
    "# so it we can search endpoints based on creation time.\n",
    "endpoint_config_name = 'amoreodio-config'\n",
    "\n",
    "instance_type = 'ml.t2.medium'\n",
    "\n",
    "endpoint_config_response = sagemaker_client.create_endpoint_config(\n",
    "    EndpointConfigName=endpoint_config_name,\n",
    "    # You will specify this name in a CreateEndpoint request.\n",
    "    # List of ProductionVariant objects, one for each model that you want to host at this endpoint.\n",
    "    ProductionVariants=[\n",
    "        {\n",
    "            \"VariantName\": \"variant1\", # The name of the production variant.\n",
    "            \"ModelName\": model_name,\n",
    "            \"InstanceType\": instance_type, # Specify the compute instance type.\n",
    "            \"InitialInstanceCount\": 1 # Numero di istanze da aggiungere come minimo .\n",
    "        }\n",
    "    ]\n",
    ")\n",
    "\n",
    "print(f\"Created EndpointConfig: {endpoint_config_response['EndpointConfigArn']}\")\n",
    "\n",
    "# The name of the endpoint. The name must be unique within an AWS Region in your AWS account.\n",
    "endpoint_name = 'amoreodio'\n",
    "\n",
    "create_endpoint_response = sagemaker_client.create_endpoint(\n",
    "                                            EndpointName=endpoint_name, \n",
    "                                            EndpointConfigName=endpoint_config_name)\n",
    "create_endpoint_response = sagemaker_client.create_endpoint(\n",
    "    EndpointName=endpoint_name, \n",
    "    EndpointConfigName=endpoint_config_name\n",
    ")"
   ]
  },
  {
   "cell_type": "code",
   "execution_count": null,
   "id": "e69e51a3",
   "metadata": {},
   "outputs": [],
   "source": [
    "from sagemaker import get_execution_role\n",
    "import boto3\n",
    "\n",
    "# Initialize session and clients\n",
    "my_session = boto3.session.Session()\n",
    "aws_region = my_session.region_name\n",
    "sagemaker_client = boto3.client('sagemaker', region_name=aws_region)\n",
    "\n",
    "# Define the SageMaker execution role\n",
    "sagemaker_role = get_execution_role()\n",
    "\n",
    "# Model details\n",
    "model_name = 'prismaelettrolitico'\n",
    "\n",
    "# Create the model\n",
    "create_model_response = sagemaker_client.create_model(\n",
    "    ModelName=model_name,\n",
    "    ExecutionRoleArn=sagemaker_role,\n",
    "    PrimaryContainer={\n",
    "        \n",
    "        ### correggi la Image e la ModelDataUrl\n",
    "        'Image': '975050125079.dkr.ecr.us-east-1.amazonaws.com/tensorflow-inference:2.12.0-cpu-py310-pluto-2',\n",
    "        'ModelDataUrl': 's3://bucket-prova333/output/tensorflow-training-2024-11-21-16-04-55-448/output/model.tar.gz',\n",
    "    }\n",
    ")\n",
    "\n",
    "# Create endpoint config\n",
    "endpoint_config_name = 'prismaelettrolitico-config'\n",
    "instance_type = 'ml.m5.large'  # Adjusted instance type for better performance\n",
    "\n",
    "endpoint_config_response = sagemaker_client.create_endpoint_config(\n",
    "    EndpointConfigName=endpoint_config_name,\n",
    "    ProductionVariants=[\n",
    "        {\n",
    "            \"VariantName\": \"variant1\",\n",
    "            \"ModelName\": model_name,\n",
    "            \"InstanceType\": instance_type,\n",
    "            \"InitialInstanceCount\": 1\n",
    "        }\n",
    "    ]\n",
    ")\n",
    "print(f\"Created EndpointConfig: {endpoint_config_response['EndpointConfigArn']}\")\n",
    "\n",
    "# Create the endpoint\n",
    "endpoint_name = 'prismaelettrolitico'\n",
    "create_endpoint_response = sagemaker_client.create_endpoint(\n",
    "    EndpointName=endpoint_name, \n",
    "    EndpointConfigName=endpoint_config_name\n",
    ")\n",
    "\n",
    "# Print status\n",
    "print(f\"Creating Endpoint: {create_endpoint_response['EndpointArn']}\")\n"
   ]
  },
  {
   "cell_type": "code",
   "execution_count": null,
   "id": "b133cee2",
   "metadata": {},
   "outputs": [],
   "source": [
    "describe_response = sagemaker_client.describe_endpoint(EndpointName=endpoint_name)\n",
    "print(describe_response['EndpointStatus'])\n"
   ]
  },
  {
   "cell_type": "code",
   "execution_count": null,
   "id": "f9613e40",
   "metadata": {},
   "outputs": [],
   "source": []
  }
 ],
 "metadata": {
  "kernelspec": {
   "display_name": "conda_python3",
   "language": "python",
   "name": "conda_python3"
  },
  "language_info": {
   "codemirror_mode": {
    "name": "ipython",
    "version": 3
   },
   "file_extension": ".py",
   "mimetype": "text/x-python",
   "name": "python",
   "nbconvert_exporter": "python",
   "pygments_lexer": "ipython3",
   "version": "3.10.15"
  }
 },
 "nbformat": 4,
 "nbformat_minor": 5
}
