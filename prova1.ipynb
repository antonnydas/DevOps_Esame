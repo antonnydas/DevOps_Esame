{
 "cells": [
  {
   "metadata": {
    "ExecuteTime": {
     "end_time": "2024-11-02T14:43:59.115626Z",
     "start_time": "2024-11-02T14:43:59.112700Z"
    }
   },
   "cell_type": "code",
   "source": [
    "import pandas as pd\n",
    "import numpy as np\n",
    "from sklearn.model_selection import train_test_split\n",
    "from sklearn.preprocessing import StandardScaler, LabelEncoder\n",
    "from tensorflow.keras.models import Sequential\n",
    "from tensorflow.keras.layers import Dense, Dropout\n"
   ],
   "id": "5ac066e6fc2d1e45",
   "outputs": [],
   "execution_count": 76
  },
  {
   "metadata": {
    "collapsed": true,
    "ExecuteTime": {
     "end_time": "2024-11-02T14:43:59.123250Z",
     "start_time": "2024-11-02T14:43:59.118948Z"
    }
   },
   "cell_type": "code",
   "source": [
    "path = \"/Users/eleonoragonzaga/.cache/kagglehub/datasets/harunshimanto/titanic-solution-for-beginners-guide/versions/1\"\n",
    "data = pd.read_csv(f\"{path}/train.csv\")"
   ],
   "id": "initial_id",
   "outputs": [],
   "execution_count": 77
  },
  {
   "metadata": {},
   "cell_type": "markdown",
   "source": "# Data Preprocessing",
   "id": "e8f1681bf9dfc904"
  },
  {
   "metadata": {
    "ExecuteTime": {
     "end_time": "2024-11-02T14:43:59.138760Z",
     "start_time": "2024-11-02T14:43:59.132968Z"
    }
   },
   "cell_type": "code",
   "source": [
    "test = pd.read_csv(f\"{path}/test.csv\")\n",
    "print(test.columns)\n",
    "# Check for missing columns and fill missing values\n",
    "if 'Embarked' in data.columns:\n",
    "    data['Embarked'] = data['Embarked'].fillna(data['Embarked'].mode()[0])\n",
    "if 'Embarked' in test.columns:\n",
    "    test['Embarked'] = test['Embarked'].fillna(test['Embarked'].mode()[0])\n"
   ],
   "id": "5a965952fa37a68a",
   "outputs": [
    {
     "name": "stdout",
     "output_type": "stream",
     "text": [
      "Index(['PassengerId', 'Pclass', 'Name', 'Sex', 'Age', 'SibSp', 'Parch',\n",
      "       'Ticket', 'Fare', 'Cabin', 'Embarked'],\n",
      "      dtype='object')\n"
     ]
    }
   ],
   "execution_count": 78
  },
  {
   "metadata": {
    "ExecuteTime": {
     "end_time": "2024-11-02T14:43:59.149635Z",
     "start_time": "2024-11-02T14:43:59.146429Z"
    }
   },
   "cell_type": "code",
   "source": [
    "test = test.drop(columns=['Ticket', \"Cabin\",  \"PassengerId\", \"Name\"])\n",
    "data = data.drop(columns=['Ticket', \"Cabin\",  \"PassengerId\", \"Name\"])"
   ],
   "id": "7ae2983b64ba8f94",
   "outputs": [],
   "execution_count": 79
  },
  {
   "metadata": {
    "ExecuteTime": {
     "end_time": "2024-11-02T14:43:59.157887Z",
     "start_time": "2024-11-02T14:43:59.156286Z"
    }
   },
   "cell_type": "code",
   "source": [
    "label_encoder = LabelEncoder()\n",
    "test[\"Sex\"] = label_encoder.fit_transform(test[\"Sex\"])"
   ],
   "id": "7cc298a37b39c07f",
   "outputs": [],
   "execution_count": 80
  },
  {
   "metadata": {
    "ExecuteTime": {
     "end_time": "2024-11-02T14:43:59.165292Z",
     "start_time": "2024-11-02T14:43:59.163718Z"
    }
   },
   "cell_type": "code",
   "source": [
    "X = data.drop(columns=['Survived'])\n",
    "y = data['Survived']\n"
   ],
   "id": "e4d398d4faf19e57",
   "outputs": [],
   "execution_count": 81
  },
  {
   "metadata": {
    "ExecuteTime": {
     "end_time": "2024-11-02T14:43:59.175659Z",
     "start_time": "2024-11-02T14:43:59.171069Z"
    }
   },
   "cell_type": "code",
   "source": [
    "# 3. Encoding delle variabili categoriche\n",
    "# Usare Label Encoding per la colonna 'Sex'\n",
    "\n",
    "data['Sex'] = label_encoder.fit_transform(data['Sex'])\n",
    "\n",
    "test['Sex'] = label_encoder.fit_transform(test['Sex'])\n",
    "# Usare One-Hot Encoding per la colonna 'Embarked'\n",
    "\n",
    "# Encode 'Embarked' only if it exists in both DataFrames\n",
    "if 'Embarked' in data.columns:\n",
    "    # Fill missing values if necessary\n",
    "    data['Embarked'] = data['Embarked'].fillna(data['Embarked'].mode()[0])\n",
    "    data = pd.get_dummies(data, columns=[\"Embarked\"], drop_first=True)\n",
    "else:\n",
    "    print(\"Warning: 'Embarked' column not found in the data DataFrame.\")\n",
    "\n",
    "if 'Embarked' in test.columns:\n",
    "    # Fill missing values if necessary\n",
    "    test['Embarked'] = test['Embarked'].fillna(test['Embarked'].mode()[0])\n",
    "    test = pd.get_dummies(test, columns=[\"Embarked\"], drop_first=True)\n",
    "else:\n",
    "    print(\"Warning: 'Embarked' column not found in the test DataFrame.\")\n"
   ],
   "id": "45186f6e082499e1",
   "outputs": [],
   "execution_count": 82
  },
  {
   "metadata": {
    "ExecuteTime": {
     "end_time": "2024-11-02T14:43:59.185201Z",
     "start_time": "2024-11-02T14:43:59.182803Z"
    }
   },
   "cell_type": "code",
   "source": [
    "# Ensure test set has the same columns as data (align columns)\n",
    "missing_cols = set(data.columns) - set(test.columns)\n",
    "for col in missing_cols:\n",
    "    test[col] = 0  # Add missing columns with default values (e.g., 0)\n",
    "test = test[data.columns.drop('Survived')]"
   ],
   "id": "669830be23597983",
   "outputs": [],
   "execution_count": 83
  },
  {
   "metadata": {
    "ExecuteTime": {
     "end_time": "2024-11-02T14:43:59.213965Z",
     "start_time": "2024-11-02T14:43:59.192431Z"
    }
   },
   "cell_type": "code",
   "source": [
    "# Separate features and target\n",
    "X = data.drop(columns=['Survived'])\n",
    "y = data['Survived']\n"
   ],
   "id": "742f39db1183f67c",
   "outputs": [
    {
     "ename": "KeyError",
     "evalue": "\"['Survived'] not found in axis\"",
     "output_type": "error",
     "traceback": [
      "\u001B[0;31m---------------------------------------------------------------------------\u001B[0m",
      "\u001B[0;31mKeyError\u001B[0m                                  Traceback (most recent call last)",
      "Cell \u001B[0;32mIn[84], line 4\u001B[0m\n\u001B[1;32m      2\u001B[0m X \u001B[38;5;241m=\u001B[39m data\u001B[38;5;241m.\u001B[39mdrop(columns\u001B[38;5;241m=\u001B[39m[\u001B[38;5;124m'\u001B[39m\u001B[38;5;124mSurvived\u001B[39m\u001B[38;5;124m'\u001B[39m])\n\u001B[1;32m      3\u001B[0m y \u001B[38;5;241m=\u001B[39m data[\u001B[38;5;124m'\u001B[39m\u001B[38;5;124mSurvived\u001B[39m\u001B[38;5;124m'\u001B[39m]\n\u001B[0;32m----> 4\u001B[0m X_test \u001B[38;5;241m=\u001B[39m test\u001B[38;5;241m.\u001B[39mdrop(columns\u001B[38;5;241m=\u001B[39m[\u001B[38;5;124m'\u001B[39m\u001B[38;5;124mSurvived\u001B[39m\u001B[38;5;124m'\u001B[39m])\n\u001B[1;32m      5\u001B[0m y_test \u001B[38;5;241m=\u001B[39m test[\u001B[38;5;124m'\u001B[39m\u001B[38;5;124mSurvived\u001B[39m\u001B[38;5;124m'\u001B[39m]\n",
      "File \u001B[0;32m~/miniconda3/envs/devops/lib/python3.12/site-packages/pandas/core/frame.py:5581\u001B[0m, in \u001B[0;36mDataFrame.drop\u001B[0;34m(self, labels, axis, index, columns, level, inplace, errors)\u001B[0m\n\u001B[1;32m   5433\u001B[0m \u001B[38;5;28;01mdef\u001B[39;00m \u001B[38;5;21mdrop\u001B[39m(\n\u001B[1;32m   5434\u001B[0m     \u001B[38;5;28mself\u001B[39m,\n\u001B[1;32m   5435\u001B[0m     labels: IndexLabel \u001B[38;5;241m|\u001B[39m \u001B[38;5;28;01mNone\u001B[39;00m \u001B[38;5;241m=\u001B[39m \u001B[38;5;28;01mNone\u001B[39;00m,\n\u001B[0;32m   (...)\u001B[0m\n\u001B[1;32m   5442\u001B[0m     errors: IgnoreRaise \u001B[38;5;241m=\u001B[39m \u001B[38;5;124m\"\u001B[39m\u001B[38;5;124mraise\u001B[39m\u001B[38;5;124m\"\u001B[39m,\n\u001B[1;32m   5443\u001B[0m ) \u001B[38;5;241m-\u001B[39m\u001B[38;5;241m>\u001B[39m DataFrame \u001B[38;5;241m|\u001B[39m \u001B[38;5;28;01mNone\u001B[39;00m:\n\u001B[1;32m   5444\u001B[0m \u001B[38;5;250m    \u001B[39m\u001B[38;5;124;03m\"\"\"\u001B[39;00m\n\u001B[1;32m   5445\u001B[0m \u001B[38;5;124;03m    Drop specified labels from rows or columns.\u001B[39;00m\n\u001B[1;32m   5446\u001B[0m \n\u001B[0;32m   (...)\u001B[0m\n\u001B[1;32m   5579\u001B[0m \u001B[38;5;124;03m            weight  1.0     0.8\u001B[39;00m\n\u001B[1;32m   5580\u001B[0m \u001B[38;5;124;03m    \"\"\"\u001B[39;00m\n\u001B[0;32m-> 5581\u001B[0m     \u001B[38;5;28;01mreturn\u001B[39;00m \u001B[38;5;28msuper\u001B[39m()\u001B[38;5;241m.\u001B[39mdrop(\n\u001B[1;32m   5582\u001B[0m         labels\u001B[38;5;241m=\u001B[39mlabels,\n\u001B[1;32m   5583\u001B[0m         axis\u001B[38;5;241m=\u001B[39maxis,\n\u001B[1;32m   5584\u001B[0m         index\u001B[38;5;241m=\u001B[39mindex,\n\u001B[1;32m   5585\u001B[0m         columns\u001B[38;5;241m=\u001B[39mcolumns,\n\u001B[1;32m   5586\u001B[0m         level\u001B[38;5;241m=\u001B[39mlevel,\n\u001B[1;32m   5587\u001B[0m         inplace\u001B[38;5;241m=\u001B[39minplace,\n\u001B[1;32m   5588\u001B[0m         errors\u001B[38;5;241m=\u001B[39merrors,\n\u001B[1;32m   5589\u001B[0m     )\n",
      "File \u001B[0;32m~/miniconda3/envs/devops/lib/python3.12/site-packages/pandas/core/generic.py:4788\u001B[0m, in \u001B[0;36mNDFrame.drop\u001B[0;34m(self, labels, axis, index, columns, level, inplace, errors)\u001B[0m\n\u001B[1;32m   4786\u001B[0m \u001B[38;5;28;01mfor\u001B[39;00m axis, labels \u001B[38;5;129;01min\u001B[39;00m axes\u001B[38;5;241m.\u001B[39mitems():\n\u001B[1;32m   4787\u001B[0m     \u001B[38;5;28;01mif\u001B[39;00m labels \u001B[38;5;129;01mis\u001B[39;00m \u001B[38;5;129;01mnot\u001B[39;00m \u001B[38;5;28;01mNone\u001B[39;00m:\n\u001B[0;32m-> 4788\u001B[0m         obj \u001B[38;5;241m=\u001B[39m obj\u001B[38;5;241m.\u001B[39m_drop_axis(labels, axis, level\u001B[38;5;241m=\u001B[39mlevel, errors\u001B[38;5;241m=\u001B[39merrors)\n\u001B[1;32m   4790\u001B[0m \u001B[38;5;28;01mif\u001B[39;00m inplace:\n\u001B[1;32m   4791\u001B[0m     \u001B[38;5;28mself\u001B[39m\u001B[38;5;241m.\u001B[39m_update_inplace(obj)\n",
      "File \u001B[0;32m~/miniconda3/envs/devops/lib/python3.12/site-packages/pandas/core/generic.py:4830\u001B[0m, in \u001B[0;36mNDFrame._drop_axis\u001B[0;34m(self, labels, axis, level, errors, only_slice)\u001B[0m\n\u001B[1;32m   4828\u001B[0m         new_axis \u001B[38;5;241m=\u001B[39m axis\u001B[38;5;241m.\u001B[39mdrop(labels, level\u001B[38;5;241m=\u001B[39mlevel, errors\u001B[38;5;241m=\u001B[39merrors)\n\u001B[1;32m   4829\u001B[0m     \u001B[38;5;28;01melse\u001B[39;00m:\n\u001B[0;32m-> 4830\u001B[0m         new_axis \u001B[38;5;241m=\u001B[39m axis\u001B[38;5;241m.\u001B[39mdrop(labels, errors\u001B[38;5;241m=\u001B[39merrors)\n\u001B[1;32m   4831\u001B[0m     indexer \u001B[38;5;241m=\u001B[39m axis\u001B[38;5;241m.\u001B[39mget_indexer(new_axis)\n\u001B[1;32m   4833\u001B[0m \u001B[38;5;66;03m# Case for non-unique axis\u001B[39;00m\n\u001B[1;32m   4834\u001B[0m \u001B[38;5;28;01melse\u001B[39;00m:\n",
      "File \u001B[0;32m~/miniconda3/envs/devops/lib/python3.12/site-packages/pandas/core/indexes/base.py:7070\u001B[0m, in \u001B[0;36mIndex.drop\u001B[0;34m(self, labels, errors)\u001B[0m\n\u001B[1;32m   7068\u001B[0m \u001B[38;5;28;01mif\u001B[39;00m mask\u001B[38;5;241m.\u001B[39many():\n\u001B[1;32m   7069\u001B[0m     \u001B[38;5;28;01mif\u001B[39;00m errors \u001B[38;5;241m!=\u001B[39m \u001B[38;5;124m\"\u001B[39m\u001B[38;5;124mignore\u001B[39m\u001B[38;5;124m\"\u001B[39m:\n\u001B[0;32m-> 7070\u001B[0m         \u001B[38;5;28;01mraise\u001B[39;00m \u001B[38;5;167;01mKeyError\u001B[39;00m(\u001B[38;5;124mf\u001B[39m\u001B[38;5;124m\"\u001B[39m\u001B[38;5;132;01m{\u001B[39;00mlabels[mask]\u001B[38;5;241m.\u001B[39mtolist()\u001B[38;5;132;01m}\u001B[39;00m\u001B[38;5;124m not found in axis\u001B[39m\u001B[38;5;124m\"\u001B[39m)\n\u001B[1;32m   7071\u001B[0m     indexer \u001B[38;5;241m=\u001B[39m indexer[\u001B[38;5;241m~\u001B[39mmask]\n\u001B[1;32m   7072\u001B[0m \u001B[38;5;28;01mreturn\u001B[39;00m \u001B[38;5;28mself\u001B[39m\u001B[38;5;241m.\u001B[39mdelete(indexer)\n",
      "\u001B[0;31mKeyError\u001B[0m: \"['Survived'] not found in axis\""
     ]
    }
   ],
   "execution_count": 84
  },
  {
   "metadata": {
    "ExecuteTime": {
     "end_time": "2024-11-02T14:44:47.336768Z",
     "start_time": "2024-11-02T14:44:47.311611Z"
    }
   },
   "cell_type": "code",
   "source": [
    "X_train, X_test, y_train, y_test = train_test_split(X, y, test_size=0.2, random_state=42)\n",
    "\n",
    "# Feature scaling\n",
    "scaler = StandardScaler()\n",
    "X_train = scaler.fit_transform(X_train)\n",
    "X_test = scaler.transform(X_test)"
   ],
   "id": "54371680e991c2fb",
   "outputs": [],
   "execution_count": 85
  },
  {
   "metadata": {},
   "cell_type": "markdown",
   "source": "# modello",
   "id": "b3b57a9d5c1ffc7a"
  },
  {
   "metadata": {
    "ExecuteTime": {
     "end_time": "2024-11-02T14:51:07.762855Z",
     "start_time": "2024-11-02T14:51:07.702792Z"
    }
   },
   "cell_type": "code",
   "source": [
    "\n",
    "# Creazione del modello di rete neurale\n",
    "model = Sequential([\n",
    "    Dense(64, activation='relu', input_shape=(X_train.shape[1],)),\n",
    "    Dropout(0.5),\n",
    "    Dense(32, activation='relu'),\n",
    "    Dropout(0.5),\n",
    "    Dense(1, activation='sigmoid')\n",
    "])\n"
   ],
   "id": "7eceae31855e8310",
   "outputs": [
    {
     "name": "stderr",
     "output_type": "stream",
     "text": [
      "/Users/eleonoragonzaga/miniconda3/envs/devops/lib/python3.12/site-packages/keras/src/layers/core/dense.py:87: UserWarning: Do not pass an `input_shape`/`input_dim` argument to a layer. When using Sequential models, prefer using an `Input(shape)` object as the first layer in the model instead.\n",
      "  super().__init__(activity_regularizer=activity_regularizer, **kwargs)\n"
     ]
    }
   ],
   "execution_count": 121
  },
  {
   "metadata": {},
   "cell_type": "markdown",
   "source": "# Addestramento e valutazione del modello",
   "id": "10e7f80e2cc29651"
  },
  {
   "metadata": {
    "ExecuteTime": {
     "end_time": "2024-11-02T14:51:08.967565Z",
     "start_time": "2024-11-02T14:51:08.953637Z"
    }
   },
   "cell_type": "code",
   "source": [
    "# Compilazione del modello\n",
    "model.compile(optimizer='adam', loss='binary_crossentropy', metrics=['accuracy'])\n"
   ],
   "id": "509f1157580fadd2",
   "outputs": [],
   "execution_count": 122
  },
  {
   "metadata": {
    "ExecuteTime": {
     "end_time": "2024-11-02T14:51:11.784377Z",
     "start_time": "2024-11-02T14:51:09.912824Z"
    }
   },
   "cell_type": "code",
   "source": [
    "# Addestramento del modello\n",
    "history = model.fit(X, y, epochs=50, batch_size=64, validation_split=0.2)\n"
   ],
   "id": "6b2bb5a91618186e",
   "outputs": [
    {
     "name": "stdout",
     "output_type": "stream",
     "text": [
      "Epoch 1/50\n",
      "\u001B[1m12/12\u001B[0m \u001B[32m━━━━━━━━━━━━━━━━━━━━\u001B[0m\u001B[37m\u001B[0m \u001B[1m1s\u001B[0m 30ms/step - accuracy: 0.6405 - loss: nan - val_accuracy: 0.6425 - val_loss: nan\n",
      "Epoch 2/50\n",
      "\u001B[1m12/12\u001B[0m \u001B[32m━━━━━━━━━━━━━━━━━━━━\u001B[0m\u001B[37m\u001B[0m \u001B[1m0s\u001B[0m 2ms/step - accuracy: 0.6193 - loss: nan - val_accuracy: 0.6425 - val_loss: nan\n",
      "Epoch 3/50\n",
      "\u001B[1m12/12\u001B[0m \u001B[32m━━━━━━━━━━━━━━━━━━━━\u001B[0m\u001B[37m\u001B[0m \u001B[1m0s\u001B[0m 1ms/step - accuracy: 0.5846 - loss: nan - val_accuracy: 0.6425 - val_loss: nan\n",
      "Epoch 4/50\n",
      "\u001B[1m12/12\u001B[0m \u001B[32m━━━━━━━━━━━━━━━━━━━━\u001B[0m\u001B[37m\u001B[0m \u001B[1m0s\u001B[0m 2ms/step - accuracy: 0.6074 - loss: nan - val_accuracy: 0.6425 - val_loss: nan\n",
      "Epoch 5/50\n",
      "\u001B[1m12/12\u001B[0m \u001B[32m━━━━━━━━━━━━━━━━━━━━\u001B[0m\u001B[37m\u001B[0m \u001B[1m0s\u001B[0m 1ms/step - accuracy: 0.5922 - loss: nan - val_accuracy: 0.6425 - val_loss: nan\n",
      "Epoch 6/50\n",
      "\u001B[1m12/12\u001B[0m \u001B[32m━━━━━━━━━━━━━━━━━━━━\u001B[0m\u001B[37m\u001B[0m \u001B[1m0s\u001B[0m 1ms/step - accuracy: 0.5958 - loss: nan - val_accuracy: 0.6425 - val_loss: nan\n",
      "Epoch 7/50\n",
      "\u001B[1m12/12\u001B[0m \u001B[32m━━━━━━━━━━━━━━━━━━━━\u001B[0m\u001B[37m\u001B[0m \u001B[1m0s\u001B[0m 1ms/step - accuracy: 0.6089 - loss: nan - val_accuracy: 0.6425 - val_loss: nan\n",
      "Epoch 8/50\n",
      "\u001B[1m12/12\u001B[0m \u001B[32m━━━━━━━━━━━━━━━━━━━━\u001B[0m\u001B[37m\u001B[0m \u001B[1m0s\u001B[0m 1ms/step - accuracy: 0.6025 - loss: nan - val_accuracy: 0.6425 - val_loss: nan\n",
      "Epoch 9/50\n",
      "\u001B[1m12/12\u001B[0m \u001B[32m━━━━━━━━━━━━━━━━━━━━\u001B[0m\u001B[37m\u001B[0m \u001B[1m0s\u001B[0m 1ms/step - accuracy: 0.5967 - loss: nan - val_accuracy: 0.6425 - val_loss: nan\n",
      "Epoch 10/50\n",
      "\u001B[1m12/12\u001B[0m \u001B[32m━━━━━━━━━━━━━━━━━━━━\u001B[0m\u001B[37m\u001B[0m \u001B[1m0s\u001B[0m 1ms/step - accuracy: 0.5994 - loss: nan - val_accuracy: 0.6425 - val_loss: nan\n",
      "Epoch 11/50\n",
      "\u001B[1m12/12\u001B[0m \u001B[32m━━━━━━━━━━━━━━━━━━━━\u001B[0m\u001B[37m\u001B[0m \u001B[1m0s\u001B[0m 1ms/step - accuracy: 0.5870 - loss: nan - val_accuracy: 0.6425 - val_loss: nan\n",
      "Epoch 12/50\n",
      "\u001B[1m12/12\u001B[0m \u001B[32m━━━━━━━━━━━━━━━━━━━━\u001B[0m\u001B[37m\u001B[0m \u001B[1m0s\u001B[0m 1ms/step - accuracy: 0.6158 - loss: nan - val_accuracy: 0.6425 - val_loss: nan\n",
      "Epoch 13/50\n",
      "\u001B[1m12/12\u001B[0m \u001B[32m━━━━━━━━━━━━━━━━━━━━\u001B[0m\u001B[37m\u001B[0m \u001B[1m0s\u001B[0m 1ms/step - accuracy: 0.6008 - loss: nan - val_accuracy: 0.6425 - val_loss: nan\n",
      "Epoch 14/50\n",
      "\u001B[1m12/12\u001B[0m \u001B[32m━━━━━━━━━━━━━━━━━━━━\u001B[0m\u001B[37m\u001B[0m \u001B[1m0s\u001B[0m 1ms/step - accuracy: 0.6008 - loss: nan - val_accuracy: 0.6425 - val_loss: nan\n",
      "Epoch 15/50\n",
      "\u001B[1m12/12\u001B[0m \u001B[32m━━━━━━━━━━━━━━━━━━━━\u001B[0m\u001B[37m\u001B[0m \u001B[1m0s\u001B[0m 1ms/step - accuracy: 0.6300 - loss: nan - val_accuracy: 0.6425 - val_loss: nan\n",
      "Epoch 16/50\n",
      "\u001B[1m12/12\u001B[0m \u001B[32m━━━━━━━━━━━━━━━━━━━━\u001B[0m\u001B[37m\u001B[0m \u001B[1m0s\u001B[0m 1ms/step - accuracy: 0.6291 - loss: nan - val_accuracy: 0.6425 - val_loss: nan\n",
      "Epoch 17/50\n",
      "\u001B[1m12/12\u001B[0m \u001B[32m━━━━━━━━━━━━━━━━━━━━\u001B[0m\u001B[37m\u001B[0m \u001B[1m0s\u001B[0m 1ms/step - accuracy: 0.5970 - loss: nan - val_accuracy: 0.6425 - val_loss: nan\n",
      "Epoch 18/50\n",
      "\u001B[1m12/12\u001B[0m \u001B[32m━━━━━━━━━━━━━━━━━━━━\u001B[0m\u001B[37m\u001B[0m \u001B[1m0s\u001B[0m 1ms/step - accuracy: 0.5973 - loss: nan - val_accuracy: 0.6425 - val_loss: nan\n",
      "Epoch 19/50\n",
      "\u001B[1m12/12\u001B[0m \u001B[32m━━━━━━━━━━━━━━━━━━━━\u001B[0m\u001B[37m\u001B[0m \u001B[1m0s\u001B[0m 1ms/step - accuracy: 0.5978 - loss: nan - val_accuracy: 0.6425 - val_loss: nan\n",
      "Epoch 20/50\n",
      "\u001B[1m12/12\u001B[0m \u001B[32m━━━━━━━━━━━━━━━━━━━━\u001B[0m\u001B[37m\u001B[0m \u001B[1m0s\u001B[0m 1ms/step - accuracy: 0.6076 - loss: nan - val_accuracy: 0.6425 - val_loss: nan\n",
      "Epoch 21/50\n",
      "\u001B[1m12/12\u001B[0m \u001B[32m━━━━━━━━━━━━━━━━━━━━\u001B[0m\u001B[37m\u001B[0m \u001B[1m0s\u001B[0m 1ms/step - accuracy: 0.6081 - loss: nan - val_accuracy: 0.6425 - val_loss: nan\n",
      "Epoch 22/50\n",
      "\u001B[1m12/12\u001B[0m \u001B[32m━━━━━━━━━━━━━━━━━━━━\u001B[0m\u001B[37m\u001B[0m \u001B[1m0s\u001B[0m 1ms/step - accuracy: 0.5904 - loss: nan - val_accuracy: 0.6425 - val_loss: nan\n",
      "Epoch 23/50\n",
      "\u001B[1m12/12\u001B[0m \u001B[32m━━━━━━━━━━━━━━━━━━━━\u001B[0m\u001B[37m\u001B[0m \u001B[1m0s\u001B[0m 1ms/step - accuracy: 0.6255 - loss: nan - val_accuracy: 0.6425 - val_loss: nan\n",
      "Epoch 24/50\n",
      "\u001B[1m12/12\u001B[0m \u001B[32m━━━━━━━━━━━━━━━━━━━━\u001B[0m\u001B[37m\u001B[0m \u001B[1m0s\u001B[0m 1ms/step - accuracy: 0.6154 - loss: nan - val_accuracy: 0.6425 - val_loss: nan\n",
      "Epoch 25/50\n",
      "\u001B[1m12/12\u001B[0m \u001B[32m━━━━━━━━━━━━━━━━━━━━\u001B[0m\u001B[37m\u001B[0m \u001B[1m0s\u001B[0m 1ms/step - accuracy: 0.6009 - loss: nan - val_accuracy: 0.6425 - val_loss: nan\n",
      "Epoch 26/50\n",
      "\u001B[1m12/12\u001B[0m \u001B[32m━━━━━━━━━━━━━━━━━━━━\u001B[0m\u001B[37m\u001B[0m \u001B[1m0s\u001B[0m 1ms/step - accuracy: 0.6165 - loss: nan - val_accuracy: 0.6425 - val_loss: nan\n",
      "Epoch 27/50\n",
      "\u001B[1m12/12\u001B[0m \u001B[32m━━━━━━━━━━━━━━━━━━━━\u001B[0m\u001B[37m\u001B[0m \u001B[1m0s\u001B[0m 1ms/step - accuracy: 0.5953 - loss: nan - val_accuracy: 0.6425 - val_loss: nan\n",
      "Epoch 28/50\n",
      "\u001B[1m12/12\u001B[0m \u001B[32m━━━━━━━━━━━━━━━━━━━━\u001B[0m\u001B[37m\u001B[0m \u001B[1m0s\u001B[0m 1ms/step - accuracy: 0.5996 - loss: nan - val_accuracy: 0.6425 - val_loss: nan\n",
      "Epoch 29/50\n",
      "\u001B[1m12/12\u001B[0m \u001B[32m━━━━━━━━━━━━━━━━━━━━\u001B[0m\u001B[37m\u001B[0m \u001B[1m0s\u001B[0m 991us/step - accuracy: 0.6088 - loss: nan - val_accuracy: 0.6425 - val_loss: nan\n",
      "Epoch 30/50\n",
      "\u001B[1m12/12\u001B[0m \u001B[32m━━━━━━━━━━━━━━━━━━━━\u001B[0m\u001B[37m\u001B[0m \u001B[1m0s\u001B[0m 1ms/step - accuracy: 0.6114 - loss: nan - val_accuracy: 0.6425 - val_loss: nan\n",
      "Epoch 31/50\n",
      "\u001B[1m12/12\u001B[0m \u001B[32m━━━━━━━━━━━━━━━━━━━━\u001B[0m\u001B[37m\u001B[0m \u001B[1m0s\u001B[0m 1ms/step - accuracy: 0.5857 - loss: nan - val_accuracy: 0.6425 - val_loss: nan\n",
      "Epoch 32/50\n",
      "\u001B[1m12/12\u001B[0m \u001B[32m━━━━━━━━━━━━━━━━━━━━\u001B[0m\u001B[37m\u001B[0m \u001B[1m0s\u001B[0m 1ms/step - accuracy: 0.6203 - loss: nan - val_accuracy: 0.6425 - val_loss: nan\n",
      "Epoch 33/50\n",
      "\u001B[1m12/12\u001B[0m \u001B[32m━━━━━━━━━━━━━━━━━━━━\u001B[0m\u001B[37m\u001B[0m \u001B[1m0s\u001B[0m 3ms/step - accuracy: 0.6118 - loss: nan - val_accuracy: 0.6425 - val_loss: nan\n",
      "Epoch 34/50\n",
      "\u001B[1m12/12\u001B[0m \u001B[32m━━━━━━━━━━━━━━━━━━━━\u001B[0m\u001B[37m\u001B[0m \u001B[1m0s\u001B[0m 1ms/step - accuracy: 0.6372 - loss: nan - val_accuracy: 0.6425 - val_loss: nan\n",
      "Epoch 35/50\n",
      "\u001B[1m12/12\u001B[0m \u001B[32m━━━━━━━━━━━━━━━━━━━━\u001B[0m\u001B[37m\u001B[0m \u001B[1m0s\u001B[0m 988us/step - accuracy: 0.6072 - loss: nan - val_accuracy: 0.6425 - val_loss: nan\n",
      "Epoch 36/50\n",
      "\u001B[1m12/12\u001B[0m \u001B[32m━━━━━━━━━━━━━━━━━━━━\u001B[0m\u001B[37m\u001B[0m \u001B[1m0s\u001B[0m 1ms/step - accuracy: 0.5969 - loss: nan - val_accuracy: 0.6425 - val_loss: nan\n",
      "Epoch 37/50\n",
      "\u001B[1m12/12\u001B[0m \u001B[32m━━━━━━━━━━━━━━━━━━━━\u001B[0m\u001B[37m\u001B[0m \u001B[1m0s\u001B[0m 986us/step - accuracy: 0.6169 - loss: nan - val_accuracy: 0.6425 - val_loss: nan\n",
      "Epoch 38/50\n",
      "\u001B[1m12/12\u001B[0m \u001B[32m━━━━━━━━━━━━━━━━━━━━\u001B[0m\u001B[37m\u001B[0m \u001B[1m0s\u001B[0m 1ms/step - accuracy: 0.6174 - loss: nan - val_accuracy: 0.6425 - val_loss: nan\n",
      "Epoch 39/50\n",
      "\u001B[1m12/12\u001B[0m \u001B[32m━━━━━━━━━━━━━━━━━━━━\u001B[0m\u001B[37m\u001B[0m \u001B[1m0s\u001B[0m 1ms/step - accuracy: 0.5859 - loss: nan - val_accuracy: 0.6425 - val_loss: nan\n",
      "Epoch 40/50\n",
      "\u001B[1m12/12\u001B[0m \u001B[32m━━━━━━━━━━━━━━━━━━━━\u001B[0m\u001B[37m\u001B[0m \u001B[1m0s\u001B[0m 1ms/step - accuracy: 0.6030 - loss: nan - val_accuracy: 0.6425 - val_loss: nan\n",
      "Epoch 41/50\n",
      "\u001B[1m12/12\u001B[0m \u001B[32m━━━━━━━━━━━━━━━━━━━━\u001B[0m\u001B[37m\u001B[0m \u001B[1m0s\u001B[0m 1ms/step - accuracy: 0.5998 - loss: nan - val_accuracy: 0.6425 - val_loss: nan\n",
      "Epoch 42/50\n",
      "\u001B[1m12/12\u001B[0m \u001B[32m━━━━━━━━━━━━━━━━━━━━\u001B[0m\u001B[37m\u001B[0m \u001B[1m0s\u001B[0m 999us/step - accuracy: 0.5988 - loss: nan - val_accuracy: 0.6425 - val_loss: nan\n",
      "Epoch 43/50\n",
      "\u001B[1m12/12\u001B[0m \u001B[32m━━━━━━━━━━━━━━━━━━━━\u001B[0m\u001B[37m\u001B[0m \u001B[1m0s\u001B[0m 963us/step - accuracy: 0.6173 - loss: nan - val_accuracy: 0.6425 - val_loss: nan\n",
      "Epoch 44/50\n",
      "\u001B[1m12/12\u001B[0m \u001B[32m━━━━━━━━━━━━━━━━━━━━\u001B[0m\u001B[37m\u001B[0m \u001B[1m0s\u001B[0m 977us/step - accuracy: 0.6021 - loss: nan - val_accuracy: 0.6425 - val_loss: nan\n",
      "Epoch 45/50\n",
      "\u001B[1m12/12\u001B[0m \u001B[32m━━━━━━━━━━━━━━━━━━━━\u001B[0m\u001B[37m\u001B[0m \u001B[1m0s\u001B[0m 1ms/step - accuracy: 0.5857 - loss: nan - val_accuracy: 0.6425 - val_loss: nan\n",
      "Epoch 46/50\n",
      "\u001B[1m12/12\u001B[0m \u001B[32m━━━━━━━━━━━━━━━━━━━━\u001B[0m\u001B[37m\u001B[0m \u001B[1m0s\u001B[0m 1ms/step - accuracy: 0.6127 - loss: nan - val_accuracy: 0.6425 - val_loss: nan\n",
      "Epoch 47/50\n",
      "\u001B[1m12/12\u001B[0m \u001B[32m━━━━━━━━━━━━━━━━━━━━\u001B[0m\u001B[37m\u001B[0m \u001B[1m0s\u001B[0m 991us/step - accuracy: 0.6105 - loss: nan - val_accuracy: 0.6425 - val_loss: nan\n",
      "Epoch 48/50\n",
      "\u001B[1m12/12\u001B[0m \u001B[32m━━━━━━━━━━━━━━━━━━━━\u001B[0m\u001B[37m\u001B[0m \u001B[1m0s\u001B[0m 1ms/step - accuracy: 0.6083 - loss: nan - val_accuracy: 0.6425 - val_loss: nan\n",
      "Epoch 49/50\n",
      "\u001B[1m12/12\u001B[0m \u001B[32m━━━━━━━━━━━━━━━━━━━━\u001B[0m\u001B[37m\u001B[0m \u001B[1m0s\u001B[0m 1ms/step - accuracy: 0.6154 - loss: nan - val_accuracy: 0.6425 - val_loss: nan\n",
      "Epoch 50/50\n",
      "\u001B[1m12/12\u001B[0m \u001B[32m━━━━━━━━━━━━━━━━━━━━\u001B[0m\u001B[37m\u001B[0m \u001B[1m0s\u001B[0m 1ms/step - accuracy: 0.6226 - loss: nan - val_accuracy: 0.6425 - val_loss: nan\n"
     ]
    }
   ],
   "execution_count": 123
  },
  {
   "metadata": {
    "ExecuteTime": {
     "end_time": "2024-11-02T14:51:12.848077Z",
     "start_time": "2024-11-02T14:51:12.814890Z"
    }
   },
   "cell_type": "code",
   "source": "loss, accuracy = model.evaluate(X_test, y_test)",
   "id": "f0f6d3546e2e2b7c",
   "outputs": [
    {
     "name": "stdout",
     "output_type": "stream",
     "text": [
      "\u001B[1m6/6\u001B[0m \u001B[32m━━━━━━━━━━━━━━━━━━━━\u001B[0m\u001B[37m\u001B[0m \u001B[1m0s\u001B[0m 690us/step - accuracy: 0.5869 - loss: nan\n"
     ]
    }
   ],
   "execution_count": 124
  },
  {
   "metadata": {
    "ExecuteTime": {
     "end_time": "2024-11-02T14:51:13.819448Z",
     "start_time": "2024-11-02T14:51:13.816947Z"
    }
   },
   "cell_type": "code",
   "source": "import matplotlib.pyplot as plt",
   "id": "5e587b787cc0f734",
   "outputs": [],
   "execution_count": 125
  },
  {
   "metadata": {
    "ExecuteTime": {
     "end_time": "2024-11-02T14:51:15.158497Z",
     "start_time": "2024-11-02T14:51:15.098176Z"
    }
   },
   "cell_type": "code",
   "source": [
    "\n",
    "# Plot training & validation accuracy values\n",
    "plt.plot(history.history['accuracy'])\n",
    "plt.plot(history.history['val_accuracy'])\n",
    "plt.title('Model accuracy')\n",
    "plt.ylabel('Accuracy')\n",
    "plt.xlabel('Epoch')\n",
    "plt.legend(['Train', 'Validation'], loc='upper left')\n",
    "plt.show()"
   ],
   "id": "6625d6059946960",
   "outputs": [
    {
     "data": {
      "text/plain": [
       "<Figure size 640x480 with 1 Axes>"
      ],
      "image/png": "[encoded data removed]"
     },
     "metadata": {},
     "output_type": "display_data"
    }
   ],
   "execution_count": 126
  },
  {
   "metadata": {
    "ExecuteTime": {
     "end_time": "2024-11-02T14:51:16.574694Z",
     "start_time": "2024-11-02T14:51:16.522088Z"
    }
   },
   "cell_type": "code",
   "source": [
    "#plot training & validation loss values\n",
    "plt.plot(history.history['loss'])\n",
    "plt.plot(history.history['val_loss'])\n",
    "plt.title('Model loss')\n",
    "plt.ylabel('Loss')\n",
    "plt.xlabel('Epoch')\n",
    "plt.legend(['Train', 'Validation'], loc='upper left')\n",
    "plt.show()"
   ],
   "id": "d23d038b1bc47232",
   "outputs": [
    {
     "data": {
      "text/plain": [
       "<Figure size 640x480 with 1 Axes>"
      ],
      "image/png": "[encoded data removed]"
     },
     "metadata": {},
     "output_type": "display_data"
    }
   ],
   "execution_count": 127
  },
  {
   "metadata": {},
   "cell_type": "code",
   "outputs": [],
   "execution_count": null,
   "source": "",
   "id": "31b5d395eb6d9738"
  }
 ],
 "metadata": {
  "kernelspec": {
   "display_name": "Python 3",
   "language": "python",
   "name": "python3"
  },
  "language_info": {
   "codemirror_mode": {
    "name": "ipython",
    "version": 2
   },
   "file_extension": ".py",
   "mimetype": "text/x-python",
   "name": "python",
   "nbconvert_exporter": "python",
   "pygments_lexer": "ipython2",
   "version": "2.7.6"
  }
 },
 "nbformat": 4,
 "nbformat_minor": 5
}
